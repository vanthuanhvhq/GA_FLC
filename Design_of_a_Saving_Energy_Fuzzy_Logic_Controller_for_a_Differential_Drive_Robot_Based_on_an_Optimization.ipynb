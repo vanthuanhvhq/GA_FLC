{
  "cells": [
    {
      "cell_type": "markdown",
      "metadata": {
        "id": "view-in-github",
        "colab_type": "text"
      },
      "source": [
        "<a href=\"https://colab.research.google.com/github/vanthuanhvhq/GA_FLC/blob/main/Design_of_a_Saving_Energy_Fuzzy_Logic_Controller_for_a_Differential_Drive_Robot_Based_on_an_Optimization.ipynb\" target=\"_parent\"><img src=\"https://colab.research.google.com/assets/colab-badge.svg\" alt=\"Open In Colab\"/></a>"
      ]
    },
    {
      "cell_type": "markdown",
      "metadata": {
        "id": "uvJRbyp9Pypn"
      },
      "source": [
        "# Design of a Saving-Energy Fuzzy Logic Controller for a Differential Drive Robot Based on an Optimization"
      ]
    },
    {
      "cell_type": "markdown",
      "source": [
        "## Select ```True``` for running optimization by GA, ```False``` for simulation only."
      ],
      "metadata": {
        "id": "uwH1P2rSTXAU"
      }
    },
    {
      "cell_type": "code",
      "source": [
        "RunOptimization = False"
      ],
      "metadata": {
        "id": "5Jd4g1uQk3Dm"
      },
      "execution_count": null,
      "outputs": []
    },
    {
      "cell_type": "markdown",
      "metadata": {
        "id": "98kHeWojVeXU"
      },
      "source": [
        "## Cluster Query"
      ]
    },
    {
      "cell_type": "markdown",
      "metadata": {
        "id": "xNNfnobNWKVH"
      },
      "source": [
        "This task uses for its solution a computer cluster. As it is optional, use it only when you are running it. In this case you must set the option ```useCluster``` to ```True``` and set proper value in ```url``` variable."
      ]
    },
    {
      "cell_type": "code",
      "execution_count": null,
      "metadata": {
        "id": "PuzSUxD3VlbQ"
      },
      "outputs": [],
      "source": [
        "useCluster = False\n",
        "url = 'http://192.168.1.100:4000/api/evaluator/FFFF'"
      ]
    },
    {
      "cell_type": "markdown",
      "metadata": {
        "id": "NKH_8OedzP-6"
      },
      "source": [
        "## Inevitable Imports"
      ]
    },
    {
      "cell_type": "markdown",
      "metadata": {
        "id": "MsF9sv2tzP-6"
      },
      "source": [
        "Fuzzy operations are computed with use of [scikit-fuzzy library](https://github.com/scikit-fuzzy/scikit-fuzzy)."
      ]
    },
    {
      "cell_type": "code",
      "execution_count": null,
      "metadata": {
        "id": "mASMUWRdPdPe"
      },
      "outputs": [],
      "source": [
        "!pip install scikit-fuzzy"
      ]
    },
    {
      "cell_type": "code",
      "execution_count": null,
      "metadata": {
        "id": "pIacmIg4P74F"
      },
      "outputs": [],
      "source": [
        "import numpy as np\n",
        "import math\n",
        "import random\n",
        "from math import *\n",
        "import scipy.integrate as integrate\n",
        "import matplotlib.pyplot as plt\n",
        "import pandas as pd\n",
        "import skfuzzy as fuzz"
      ]
    },
    {
      "cell_type": "code",
      "execution_count": null,
      "metadata": {
        "id": "84jg6KqczP-7"
      },
      "outputs": [],
      "source": [
        "%matplotlib inline"
      ]
    },
    {
      "cell_type": "markdown",
      "metadata": {
        "id": "orZ9dmbLI8XT"
      },
      "source": [
        "With the ```%matplotlib inline```, the output of plotting commands is displayed inline, directly below the code cell that produced it. The resulting plots will then also be stored in the notebook document."
      ]
    },
    {
      "cell_type": "markdown",
      "metadata": {
        "id": "JIjdIInIQAom"
      },
      "source": [
        "## Robot parameters"
      ]
    },
    {
      "cell_type": "code",
      "execution_count": null,
      "metadata": {
        "id": "_XbYHJqSQC0G"
      },
      "outputs": [],
      "source": [
        "robotState0 = {\n",
        "    'x': 0,\n",
        "    'y': 0,\n",
        "    'theta': 0\n",
        "}\n",
        "\n",
        "robotParams = {\n",
        "    'r': 0.0425,    # m\n",
        "    'b': 0.2,       # m\n",
        "    'm': 1.733,     # kg\n",
        "    'I': 0.08,      # kg.m2\n",
        "}"
      ]
    },
    {
      "cell_type": "markdown",
      "metadata": {
        "id": "cohw6gngQsed"
      },
      "source": [
        "## Robot models"
      ]
    },
    {
      "cell_type": "markdown",
      "metadata": {
        "id": "2yRYd1GMQfiV"
      },
      "source": [
        "### Kinematic model"
      ]
    },
    {
      "cell_type": "code",
      "execution_count": null,
      "metadata": {
        "id": "HBiby1TwQhSW"
      },
      "outputs": [],
      "source": [
        "from math import sin, cos\n",
        "\n",
        "def createRobot(params):\n",
        "    m = params['m'] # The mass of the robot\n",
        "    I = params['I'] # The moment of inertia of the robot\n",
        "\n",
        "    def robot(t, currentState, controller):\n",
        "        # ask controller for velocity and omega\n",
        "        velocity, omega = controller(t, currentState)\n",
        "\n",
        "        currentTheta = currentState[2]\n",
        "        cosTheta = cos(currentTheta)\n",
        "        sinTheta = sin(currentTheta)\n",
        "\n",
        "        x_dot = velocity * cosTheta\n",
        "        y_dot = velocity * sinTheta\n",
        "        theta_dot = omega\n",
        "\n",
        "        E = 0.5 * (m * velocity * velocity + I * omega * omega)\n",
        "\n",
        "        return [x_dot, y_dot, theta_dot, velocity, omega, E] # velocity, omega, E are returned for easy evaluation they are not needed for computation\n",
        "    return robot\n",
        "\n",
        "robot = createRobot(robotParams)"
      ]
    },
    {
      "cell_type": "markdown",
      "metadata": {
        "id": "LcttHseUQnsV"
      },
      "source": [
        "### Dynamic Model"
      ]
    },
    {
      "cell_type": "markdown",
      "metadata": {
        "id": "RTSVOZrXVGur"
      },
      "source": [
        "The dynamic model extends the kinematic model with differential equations describing the motors."
      ]
    },
    {
      "cell_type": "code",
      "execution_count": null,
      "metadata": {
        "id": "hTApKdxhQxCd"
      },
      "outputs": [],
      "source": [
        "motorParams = {\n",
        "    'J': 0.037,       # kg.m2/s2\n",
        "    'B': 0.004,       # Nms\n",
        "    'Kt': 0.001,      # Nm/A\n",
        "    'Ke': 0.03,       # Nm/A\n",
        "    'Ra': 0.7,        # Ohm\n",
        "    'La': 0.01        # H\n",
        "}\n",
        "\n",
        "def createFilter2ndOrder(b1, b0, a1, a0):\n",
        "    def filter2ndOrder(t, u, currentState):\n",
        "        x0 = currentState[0]\n",
        "        x1 = currentState[1]\n",
        "        dx0 = b0 * u + a0 * x0 + x1\n",
        "        dx1 = b1 * u + a1 * x0\n",
        "        return [dx0, dx1]\n",
        "    return filter2ndOrder\n",
        "\n",
        "def createMotorModel(motorParams=None):\n",
        "    if motorParams is None:\n",
        "        return None\n",
        "\n",
        "    Kt = motorParams['Kt']\n",
        "    Ke = motorParams['Ke']\n",
        "    J = motorParams['J']\n",
        "    La = motorParams['La']\n",
        "    Ra = motorParams['Ra']\n",
        "    B = motorParams['B']\n",
        "    # Including the Motor + Chassis Dynamics (according the real robot)\n",
        "    b1 = 9396\n",
        "    b0 = 0\n",
        "    a1 = -9449\n",
        "    a0 = -689.6\n",
        "    return createFilter2ndOrder(b1, b0, a1, a0)\n",
        "\n",
        "def createRobotModelWithDynamic(params, motorModel = None): # This function returns standard ODE model usable in many libraries (scipy)\n",
        "\n",
        "    m = params['m']\n",
        "    I = params['I']\n",
        "    b = params['b']\n",
        "\n",
        "    motorAsFilter = motorModel\n",
        "    def robotWithDynamic(t, currentState, controller): # ask controller for velocity and omega\n",
        "\n",
        "        velocity, omega = controller(t, currentState)\n",
        "\n",
        "        delta = omega * b / 2\n",
        "        vL = velocity - delta\n",
        "        vR = velocity + delta\n",
        "        vLState = currentState[6:8]\n",
        "        vRState = currentState[8:10]\n",
        "        vLStateD = motorAsFilter(t, vL, vLState)\n",
        "        vRStateD = motorAsFilter(t, vR, vRState)\n",
        "        vLFiltered = vLState[0]\n",
        "        vRFiltered = vRState[0]\n",
        "\n",
        "        velocity = (vRFiltered + vLFiltered) / 2\n",
        "        delta = (vRFiltered - vLFiltered) / 2\n",
        "        omega = 2 * delta / b\n",
        "\n",
        "        currentTheta = currentState[2]\n",
        "        cosTheta = cos(currentTheta)\n",
        "        sinTheta = sin(currentTheta)\n",
        "\n",
        "        x_dot = velocity * cosTheta\n",
        "        y_dot = velocity * sinTheta\n",
        "        theta_dot = omega\n",
        "\n",
        "        E = 0.5*(m*(velocity)*(velocity) + I*(omega)*(omega))\n",
        "\n",
        "        return [x_dot, y_dot, theta_dot, velocity, omega, E, *vLStateD, *vRStateD] #velocity, omega, E are returned for easy evaluation they are not needed for computation\n",
        "\n",
        "    def robot(t, currentState, controller): # This closure is result of parent function\n",
        "        # ask controller for velocity and omega\n",
        "        velocity, omega = controller(t, currentState)\n",
        "\n",
        "        currentTheta = currentState[2]\n",
        "        cosTheta = cos(currentTheta)\n",
        "        sinTheta = sin(currentTheta)\n",
        "\n",
        "        x_dot = velocity * cosTheta\n",
        "        y_dot = velocity * sinTheta\n",
        "        theta_dot = omega\n",
        "\n",
        "        E = 0.5 * (m * velocity * velocity + I * omega * omega)\n",
        "\n",
        "        return [x_dot, y_dot, theta_dot, velocity, omega, E] #velocity, omega, E are returned for easy evaluation they are not needed for computation\n",
        "\n",
        "    if motorModel is None:\n",
        "        return robot\n",
        "    else:\n",
        "        return robotWithDynamic\n",
        "    pass\n",
        "\n",
        "motorModel = createMotorModel(motorParams)\n",
        "robotWithDynamic = createRobotModelWithDynamic(robotParams, motorModel)\n",
        "robot = robotWithDynamic # If you delete this line, only the Kinematic model is taken into account."
      ]
    },
    {
      "cell_type": "markdown",
      "metadata": {
        "id": "qeDuH06YQ72V"
      },
      "source": [
        "## Solver"
      ]
    },
    {
      "cell_type": "markdown",
      "metadata": {
        "id": "oFe3wpX0zP--"
      },
      "source": [
        "### Selectors"
      ]
    },
    {
      "cell_type": "markdown",
      "metadata": {
        "id": "uhizOZjEzP--"
      },
      "source": [
        "Selectors are named functions which have been designed for selecting appropriate part of simulation results. They can simplify a data capture or a data analysis in or after simulation."
      ]
    },
    {
      "cell_type": "code",
      "execution_count": null,
      "metadata": {
        "id": "zS1KbpA1Q9Iz"
      },
      "outputs": [],
      "source": [
        "# selectors are defined for extration of data from results computed by ODE solver\n",
        "selectx = lambda item: item['y'][0]       # x position\n",
        "selecty = lambda item: item['y'][1]       # y position\n",
        "selectt = lambda item: item['time']       # time\n",
        "selectv = lambda item: item['dy'][3]      # velocity\n",
        "selectomega = lambda item: item['dy'][2]  # omega = theta_dot\n",
        "selecte = lambda item: item['TotalEnergy']# total energy\n",
        "selects = lambda item: item['y'][3]       # displacement\n",
        "selectors = {\n",
        "    'time': selectt,\n",
        "    'x': selectx,\n",
        "    'y': selecty,\n",
        "    'd': selects,\n",
        "    'v': selectv,\n",
        "    'omega': selectomega,\n",
        "    'E': selecte}"
      ]
    },
    {
      "cell_type": "markdown",
      "metadata": {
        "id": "Syn81S3gzP--"
      },
      "source": [
        "### Solver Function"
      ]
    },
    {
      "cell_type": "markdown",
      "metadata": {
        "id": "RmiTfJzhzP-_"
      },
      "source": [
        "The next function is designed as a generator and thus it performs one simulation step and returns a single simulation state when it is asked. Such design allows to have infinite loop inside this function. Theory about generators could be studied [here](https://wiki.python.org/moin/Generators)."
      ]
    },
    {
      "cell_type": "code",
      "execution_count": null,
      "metadata": {
        "id": "xG-PkZjPzP-_"
      },
      "outputs": [],
      "source": [
        "def compute(model, state0, t0 = 0.0, t_bound = 10, max_step = 0.01):\n",
        "    \"\"\"\n",
        "    This function returns a generator containing the sequence of resuls.\n",
        "    In this particular case it will return a sequence of robot states.\n",
        "    \"\"\"\n",
        "    solver = integrate.RK45(fun = model, t0 = t0, y0 = state0, t_bound = t_bound, max_step = max_step)\n",
        "    cnt = 0\n",
        "    lastEnergy = 0\n",
        "    totalEnergy = 0\n",
        "\n",
        "    while True:\n",
        "        message = solver.step()\n",
        "        currentItem = {'time': solver.t, 'y': solver.y, 'dy': model(solver.t, solver.y)}\n",
        "\n",
        "        ###################################################\n",
        "        # Energy calculation / energy sumation\n",
        "        currentEnergy = currentItem['dy'][5]\n",
        "        deltaEnergy = currentEnergy - lastEnergy\n",
        "\n",
        "        if deltaEnergy > 0:\n",
        "            totalEnergy = totalEnergy + deltaEnergy\n",
        "        lastEnergy = currentEnergy\n",
        "        currentItem['TotalEnergy'] = totalEnergy\n",
        "        ###################################################\n",
        "\n",
        "        yield currentItem\n",
        "        if (not(solver.status == 'running')):\n",
        "            break\n",
        "    return"
      ]
    },
    {
      "cell_type": "markdown",
      "metadata": {
        "id": "gflyq5JpRDFz"
      },
      "source": [
        "## Path Controller"
      ]
    },
    {
      "cell_type": "markdown",
      "metadata": {
        "id": "KOPFQ_KXWjsO"
      },
      "source": [
        "Path Controller transforms a controller navigating robot towards a fixed distance to the controller able switch the destination immediately after reaching point defined by a given path."
      ]
    },
    {
      "cell_type": "code",
      "execution_count": null,
      "metadata": {
        "id": "F5UAQCG2RGED"
      },
      "outputs": [],
      "source": [
        "\n",
        "def controllerForPath(controller, path, distanceEps = 0.01):\n",
        "    destinationX, destinationY, destinationOrietation = next(path)\n",
        "    destinationState = [destinationX, destinationY, destinationOrietation]\n",
        "    lastReached = False\n",
        "    #print('Destination set to', destinationState)\n",
        "    def result(t, currentState):\n",
        "        \"\"\"\n",
        "        This closure is result of parent function and acts as a controller - mediator,\n",
        "        which commands the given controller.\n",
        "        \"\"\"\n",
        "        nonlocal destinationX # use parent variable\n",
        "        nonlocal destinationY # use parent variable\n",
        "        nonlocal destinationState # use parent variable\n",
        "        nonlocal lastReached # use parent variable\n",
        "\n",
        "        currentX = currentState[0]\n",
        "        currentY = currentState[1]\n",
        "        deltaX = destinationX - currentX\n",
        "        deltaY = destinationY - currentY\n",
        "        if (lastReached == False):\n",
        "          # last point in path was not reached\n",
        "          if (deltaX * deltaX + deltaY * deltaY < distanceEps):\n",
        "            # robot is close enought to currentDestination\n",
        "            try:\n",
        "                # try to get another point on path\n",
        "                destinationX, destinationY, destinationOrietation = next(path)\n",
        "                destinationState = [destinationX, destinationY, destinationOrietation]\n",
        "                #print('Destination set to', destinationState, 'while in state', currentState)\n",
        "            except StopIteration:\n",
        "              # there are no other points\n",
        "              lastReached = True\n",
        "        if (lastReached):\n",
        "            return (0, 0)\n",
        "        else:\n",
        "            return controller(t, currentState, destinationState)\n",
        "    return result\n"
      ]
    },
    {
      "cell_type": "markdown",
      "metadata": {
        "id": "u54IFUmmRa4t"
      },
      "source": [
        "## Model Creator"
      ]
    },
    {
      "cell_type": "markdown",
      "metadata": {
        "id": "TLcXw1FGXUjG"
      },
      "source": [
        "Model creator is function which packs all subsystems into one described by standard ODE function. Standard methods for ODE problems could be applied on such result / function. Standard use are granted by the signature\n",
        "```python\n",
        "def func(time, state)\n",
        "```\n",
        "Such signature has a function returned by ```robotModelCreator```."
      ]
    },
    {
      "cell_type": "code",
      "execution_count": null,
      "metadata": {
        "id": "9u5kFlvsscte"
      },
      "outputs": [],
      "source": [
        "def robotModelCreator(controllerCreator, path, **kwargs):\n",
        "    controller_ = controllerCreator(**kwargs)\n",
        "    savedController = controllerForPath(controller_, path)\n",
        "    def resultRMC(t, currentState):\n",
        "        return robot(t, currentState, savedController)\n",
        "    return resultRMC"
      ]
    },
    {
      "cell_type": "markdown",
      "metadata": {
        "id": "ynlf_rVJ0GSN"
      },
      "source": [
        "## Computation"
      ]
    },
    {
      "cell_type": "markdown",
      "metadata": {
        "id": "1lnJrDYEXxzL"
      },
      "source": [
        "Simple compute allows to fully define parameters at first and then use it on model. Such approach is usefull in case when different models (controllers) are used for same task. In this case this function simplify comparison of different controllers."
      ]
    },
    {
      "cell_type": "code",
      "execution_count": null,
      "metadata": {
        "id": "LMkk08sURfBd"
      },
      "outputs": [],
      "source": [
        "def simpleCompute(computefunc, state0, t0 = 0, t_bound = 200, max_step = 0.01):\n",
        "    def resultSC(model):\n",
        "        return computefunc(\n",
        "          model, state0 = state0, t0 = t0, t_bound = t_bound, max_step = max_step)\n",
        "    return resultSC"
      ]
    },
    {
      "cell_type": "markdown",
      "metadata": {
        "id": "zza31ciKii6l"
      },
      "source": [
        "## Controllers"
      ]
    },
    {
      "cell_type": "markdown",
      "metadata": {
        "id": "nI8SHWQxWeed"
      },
      "source": [
        "All controllers have to have same signature (parameter list)\n",
        "\n",
        "```python\n",
        "def controller(t, currentState, destinationState)\n",
        "```\n",
        "\n",
        "thus a creator taking special controller parameters must be defined. Such a creator should accept all special parameters and return controller with standard signature."
      ]
    },
    {
      "cell_type": "markdown",
      "metadata": {
        "id": "Z_y4r-tii6ZJ"
      },
      "source": [
        "### Fuzzy Logic Controller"
      ]
    },
    {
      "cell_type": "markdown",
      "metadata": {
        "id": "MZiMYFyMzP_F"
      },
      "source": [
        "A brief of the FLC is described below:\n",
        "\n",
        "A structure of a fuzzy logic controller is shown in figure below:\n",
        "\n",
        "![Picture1.png](data:image/png;base64,iVBORw0KGgoAAAANSUhEUgAAAhMAAAE4CAMAAADW/oF+AAAAAXNSR0IArs4c6QAAAARnQU1BAACxjwv8YQUAAAEFUExURQAAAAAAAAAAAAAAAAAAAAAAAAAAAAAAAAAAAAAAAAAAAAAAAAAAAAAAAAAAAAAAAAAAAAAAAAAAAAAAAAAAAAAAAAAAAAAAAAAAAAAAAAAAAAAAAAAAAAAAAAAAAAAAAAAAAAAAAAAAAAAAAAAAAAAAAAAAAAAAAAAAAAAAAAAAAAAAAAAAAAAAAAAAAAAAAAAAAAAAAAAAAAAAAAAAAAAAAAAAAAAAAAAAAAAAAAAAAAAAAAAAAAAAAAAAAAAAAAAAAAAAAAAAAAAAAAAAAAAAAAAAAAAAAAAAAAAAAAAAAAAAAAAAAAAAAAAAAAAAAAAAAAAAAAAAAAAAAAAAAAAAAAAAADxFFqkAAABWdFJOUwAGBw8QEhMWGh8gIicsLzAyMzk6PD0/QEFHSlBSWFlgYmdoamtwdXZ5fX+AgYWJiouPlp+oq62ur7Gztri5u7/Ax8jLz9HT1Nvc3d/h5Ofp7u/x9fr79/izQAAAAAlwSFlzAAAXEQAAFxEByibzPwAAJK9JREFUeF7tnQ1j3DSTxxcIgXYf0qP4IfTFlMD1zDVNIU6gPc7XPDS5oyZ9SnLX6vt/lJsZjb2WLHlt7652UuvXJpFfdmVr/pZkSSPN+vDibHZyNnt8cfvR9e0H1w9uXz7YuTicnR3GA8IOBOTixezwcucxXsD+/vX+zvXhzuXh7OIkHhB2ICD7dzgQkQxkH+G4vuRARDKQfYTjziMORCLM7dsckILS7ENwRwexdLutg3ixd3RwB4L7Ogih2QMKXWPwEQUp/3tMwQsMHlKQsuBjCtKTd0JBKq1fUPAYg2cUpO8VwmHICsWltLJDm0OCJoLW9ZdwEdJMjx5zQAqiHk854CMQipBx9SJqwsXjkI/uBWW3gnjwgAORBkHNFFSAkdGEfBUQV3aI4YKqpkIImnu+iG1WHkRVbIKWHcchG8huFKI0cWfSXRBiTCFKE0G7pYJ2rvQhasJF0G6poJ0rfYiacDHtbikxphD1lh60Wypo50of+miCuiNK3iAy2JFw+EMkaLdU0M6VPvTKJ1KlUg4SmcozlfHGh0jYbilpjVb72CO6DFsTuco59IES1Eo3s22bNJFAeQEByB5KXZTkCqUBG0mmCiphEtpXKDXXH6K85CYWM0HbrMT1gfVC5xNQichBGGBvyicKlSRg9DnszcpiDirJ4RhKJEeJYOECJ1f7lyJqZEnYR1faOKte1JrAzII1kWBWAT+oCTglBwmk8FPCFmlCZxb1/qWIehcNWnaI65re6XP7hiagIEBNYNEAoCawaIACA8hZEyWLZ7F/KaI0EbRbSlzZ0csUHk3QsVoT2u4NTVAtotq/FFGaCNotJa5zZbQmKqOzJlAHSKUJ+GIqMKr9SxGliaCI8/kZpYkCKwwlWpvqE6gJOJDNkkXZAb+g8CigGqr3L0WUJqbt89PHFFQlKMG6imoHYHd6F8U/9KJRiQKUAkqgk0AEGIQDev9yHknqYpi2z4+ox3OaCPT54UCkwbR9fvpUeiH3XxX+ppvCtH1++sB2XQX+phtDyEYraV1gcriW1HIzbZ8fMYjKS4KaSVy/qJhKr6zyZdI+P2JMIUoT0/b5iZpwEbTsEOfzEzXhIvr8iEDUKILo89Pms+9+/eOKmxbWytUfv373GUcimOjzY/PJM7bghnj2CUcklmn7/DjeRe/9pdRvB198yptr5dMvDn5T6q97vCmVafv8tPkeFHGXwxvhLqjiew4LZdo+Py3uKfUTBzcGlE2tnELUe8e0fX5sPvlLPePgBvlJ/WXXKURpIqiVxLVt22/iz9RvHNoov7WUJ0oTQduspI/b/kypjdYlKu4qZb2SitLEtH1+LFN8FyabwIziOw4x0y07xPn8WKb4VR1waMMcqF85xIjSRPT5afCH+oJDG+YL9QeHmF4O7qGIPj8NrtRGmqrafKquODR5pPv8hMvBRZUVNtP2+bF8iKMmiLjOT4PtaaKXg/sHiTifH4vtaUJUvjFtnx+LPpZBR1Cgp7+4D9GamLbPj/UK2Msyc5pupOe8Ej5EayJoo5W4QtMyxQBNrIhoTUzb52esJpIMypBihjPeZVSUzOk3UMxoqqtliNZEUDOJ6xcdpwkgg9IDp7cDTeAkEyn+KXDOIjihT7EiWhPR56dBT03MZ/OFJgA9T1GGHy5yOrYUOyZRLbzR56dBb00gtSYKEkbC89XMsj7VjV4xbYugZYd0n59RmqD8AT6rs4cy6/VGIloT0/b5sRikiQyqklCnTDF/yGclqANLjRTnQ1uOaE1M2+fHoo+lsM1KZwVY1Sz4hUO3ZGFW0c/YdkyiWnin7fNjsY6nt19jlh2TqHxj2j4/FmuwTIY1zeWI1sS0fX6st66VLaOLjx6I1kRc56dBOMuI1sS0fX6iJlwEtdIH0ba9FkRrImib1QfRB7YW7JhEvYtGn58G29OEKIKWHeJ8fqypSqMmiGn7/Fj0t1S6ok1Fa2LaPj8WPkvxGMxFh2dinMmLg1H3aE/smKbb7STO58fC+/RSv1fZEIWVT5QpnjNg3K4dkzfmbTBtnx+Lbk1QDyjj0MQsa2hmGaI1MW2fH2vJpW5NYD6AS4OV8EOagCKFe7xIE9hdjqMzQTlQzmTN4y1EayIo4nx+LFN0aAKgXACHR4ACUBN5Cvv1aAlcFkz3lM9x2FWe4BCbxvEWojUxbZ+f/pqYZ7rkaGgCdcAZAeUT/OkMNEHVzcbxFqI1MW2fnwGamJVUhWxqYlG9IE3MdU6B7x8gBuN4C9GaCNpodWPHbaMm5vTMNzWBQmjkE3hCqXgsNyiocbyFHZMoH+Lo89OgUxOgAzBwiYvSq5TqE7AzRbuzJkqVoH9HVqRQn5iXzeMtvDFJIKiZxPWLWhUcn6V4DGYB9UgQRF6CJPBU2KZsgNussKyAymap8hyOwEZ13IFoTUzb58cinKVEa2LaPj8W29OEqDnOgpYd4nx+LLanCVH5RvT5aRA1QUzb58eq9EZNEHGdnwZRE8S0fX6iJlxM2+dniCbyjqZqAtuxGsy7xtiI1kT0+WnQZZkipZ5wMjT2iLfGSphjr4C0Y4yNKA3YRJ+fBh2WyjIwMvxQy6S7ddLKJ2CHrxVTuCaCWklc2/bFBQc0fkvN8Qj2XeCsE6m7FGlpYlZ6ixvRmgjaZiV93LZ/Xv569pkUCo9yMfJSTzyRgI0TrQnsE8Ez5pSf+DIK2fPyT9vnx8K/fkeBQyMQrGnOZzn1g6PtQSJz7O9iTRQJTmyVpbMS5YACctJav0OU50vQskOcz4+Ff52fShP0+ANVOYHaaGhCz1qTYQGDeGuZcZ2fGullh389sEoT9YNf6veOlib07lK/l3g1IXs9sGn7/BweckDjXzcw15oo6jdQtnZLE1i04LkFGtmnCeHrBgZF+jo//vVF9YA6qC3MEqpJQI2BoHoF/Mqgkkn1CfjJsD5Bc5356pjC1xedts+PbYpP/vIsTU3volRZUNg4VU1RBCEwPwgiQ0ngt0GpkYGCaL/vXfSZ8HWIp+3z0zLFPeVZnBrbrIbiabP6ybFeueXgPiGk+/wA3yv1m7NOUb+N9iZx1ibu/qbU9xwWSvT5sbj3F6ji4It249XSPjALRx/Yp18cgCL+auUSwpi2z8+Zozb1yTOsNWyOZ3ZdQh4hG62kj9tmPvvu1z+u2IJr5eqPX7+zXkIlMm2fn1Esf0c4M7vWemA5uG+XoGYS1y86iqWa2FdqaEPMcp2FJPr8DGWp/c6UGppRiNLEtH1+jo85MIRl9oNsYnBGIUoTQcsO6ev89GPZhyCbGJxRiNLEtH1+NqEJyiaGZhSiNDFtn59NaIKyiaEZhajWvOjzM5juD3E2MfzVQw7R52cw3R86U9ePlXp0PfjVQw7T9vl5MTDjomdfa+KOO+H21dltPGPn5OZmFNP2+RnKCb67oiZ2jj3yfoHNcqSaR9IqT72Zts/PUG6rizto8TsXyj2JyA7lHjonGXKzolp4g1rp5rdtnyh1DP+vVWehozUxhOGf2CBB26xufh/YbX6p8GQTzA3XxLR9fk4GV3oho0C666Y3XBNByw5xPj/DTcEZRfeUZDdcE9P2+RlhCsoolrzC3nBNTNvnZ4QpKKNYMnPh8K+1HNwnhHifnz5ARrHsORL11A8n+vwMBTKKZROc3nBNTNvnp+u948snz1+9eY8lxeq8f/Pq+ZMv+YsjTcT5/Hj5/Pg1m3ONvD7+nL9eNtP2+fHw8dN3Sr3JH9699RHvWZGPbt19mL9R6t3Tj3mPheXgvl2m7fPj5t5bpU6/4o018tWpUm/dTmCyaiAhG61uRhfYD0q9/IbDa+abl0r9wGEDUZqYts+Pa/zEzz7X8rXwTKmfOdhElCZcZjq+0C9be8lAt9lliOsXdZgCcgnfpFZr4cCZU8gqOxyvAicK3xnv46KZV2tNH3FlR9sU9zYsCRJFu04hShOubinSRLXIlW+KxzGI8/lpmeLjt5ssODTP1NvW24fLwX1ruMoO1MTulVJFUUBecZ/3rgH5Pj9P1UsObZCX6imHZOLqlkJNHKijXQwnV775/D4EbE18/k5t6I2jyTfqnejGK1e3FGri9JQ3kvYM9KMR5/Nj+4seq+q2N8qpGuOnGgxXtxRqoqiLDP9E4oMR5/Nj81ptoKmqzVfqNYdE4uqWIk3USij2ODCKG+WP+qV6w6EN80ZZHWKjHNw3hatbCjVxxJOC1jPGjgS/q0acz4/Fk7W+ZXWQqyccYkS9i7q6pdCO9axtByMmhpyl2XyWXl2BrgxNSPf5ea4ecmjDPFTPOcSI0oSrW4rsqCf8nB9VU8YOoiigbnqVq11TE+IaraxmgVe+6bbXzV31ikOMKE24rKTtuIfvommWwSM/GKihluo+VkoMTUhv236jbnFow9yyKy6iNOFrsyJFsDCGU2Q5rnYC/w1NSB+3/V6tabzEMj5S7znEiNKE69FFOxY55BBZNvJF9L5SV7uzg9wuO6SNs7JMEc4ydkxDHdw3iq/sKLi7Y5wm9v4lgQxmD34ZmpDu89NHE7QAmFqsCDaOcOobgatbanVN6NYNfGUxNCG97OhlKb2Wz4ovraI14eqWIk1gOyY+6MOBemmpS56rPVMT0tf5GaCJFRGtCRcLO+6Oaf7fPeI8RilLE+J8fix6ayLJoAwpZhn9IHpxOABfwnuUK6I14eqWWtjxdFzZwWMvro6sskOcz49FT00AUCrm8FaVgSawmzDFP0UJITihT7FixzTcwX2DuLql0I76JTQ5HvcuelBLydCE9AnVeucTuAwcawLQzXoZfrjI9RJxy7BjEp1vIGjH4lTXCJLdlbrATE1I9/nprQmk1kRBwkgoS4WMolcbn2hNuLqlSBOU+8N7xylUCgazlxCl1Y4pzuen93rlDWxNUP4An9XZQ1mvYt2JaE24uqUMTRxdjahmL95kDU2I8/mxTDFIE7jYMNQpU8wf8lkJ6sBSI6UFA5ciWhOuRiu049GoymWFRxPSx233sQy2WemsAAJZwS8cuiULs4p+xhWtCV/bNjVN7I0VhlZUYr93fBBtVkvo15hlxyTrvcPTB3a/2MVX73PeNYrdc6t9Qnq/6Bo0kfV7jNahvs3hGWd1/wDq0Ff3R/aBDS47vv7xlz/5M5vgz19+/JpjMli3JnTx0YPlMW04RRhnwvh8fopkdg7VpfOVNAG5jKEJr8/PT/r8jeJadNrKuMI9vUtjCpEiTCthfGXH0XlB7bQjNYGtG/exSmJowuPzc/dCqZ+//RtvbYK/ffuzUhdLB1GJ0cTmU4RxJozP52cXJLFL4yrHsBiKY2jCw4X6ffNj3u7+vnz1hO1pwho/ESRFmHbC+Hx+VmT34LSg6pbxXW6fn5/U7xzaLL87i48m29OEuR0qRRg7YVzdUv9UR7odkloixzBHn3SqcBmacPr8fK0CjYy9q5SzorlAiCaCpQhjJ4yrW+qfZFDNOE3kqiyK4krNe+Q5Pzon6dgEP6sfOVRhNbYL0US4FGGshHF1S62uiYLmcNiFXMbQhNPn5xf1LYc2zbfqFw5VWKbprYl01TkYOjURLkUYK2Fc3VJYdhycY9FxcD6ur/xIawI+faL+nfYQTp+fP1WA+jXxN/Unhyp6ayLB54PDsFWAKsbVvplOTYRLEcZKGFe31H/As32qM4iF2+ggjnDuiqKEAgT0xfsQV6OV3xBrpxWVtaPrUopGa1S/vs8u7JgMf9GAKcKYMXrHbZ/fh3ziaGzZQeWOpqEJZ9t2wBRoRWXt6LqUpibytWvCIGCKMGaMvjYrHj43csh6gVVMwsgnnH1gAVOgFZW1o+tSUBN5AWVIAqcpHG2Hgy9nZY4fgh0JJBn8hbOwnIGCBZ6LhowsOm+68+BGMGP09YvODq7g1oqRhWZaf+5E/RuHENc4q4Ap0IrqkflS1HUpoAlSAQ6lwXwiA4OrrKCnBj6WKZQC6gLHZBY5lrodrcCdNx0wRRgzRl/ZAcxHjeRvstfH5ydgCiyLquu4zifA+KwJaoEpZiXs1nlqAnpAQeSUO+hxFd6MovNKAqYIY8bo8/lZEfQ9xtGc5neJKzssuo63NKHHU5EmdAnLmtAVj2o0lgc7JsPBPWCKMGaMPp+f1dBOD1jIGt/l9PkJmALLouo63tIEmj7nfAKCaZ1PUAV0juWGfwi3HZOxHTBFmOUxrq6J4grrl+e2Jpw+PwFTYFlUXcdtTUAFAl1/SBpY2cQmC9IE1SKgPgFb/gE2dkzGdsAUYcwYu31+xpLpGdKgqml8l9PnJ2AKtKK6Ngsz/6VQmxW8YhRYz9Q5IG5hrQJEgZUHyCbgF/xQ9QLEoA95sGMytv2XsSnMGH0+P8heMraWmRTYuoGjtAxNOH1+AqZAKyprR7hLsWMytsNdRsXyGLUdE6pZ56NU4Rl75/T5CZgCrahgx37jmsJdih2TUlu5jAozRuqWsmxFduRGKzWqx8OjCafPT8AUaEUFO3Yuj+u7D3cpdkyHhy9ebOEyKswYdbdU44IAtOPulcJ64rnRNt0b9g7JrXHbzc6V+vkMmAKtqHDHvlKVKsJdSjumnUtVGSFgijBWjNRo1bggAO14wEsWzM8HX+Bi4J3dZtVsIKufz4Ap0IqKdryADE1fS7hLccT0AC5DGyFgijBmjNy2vbggAO14WtWZd6+8L1QeFn2pEDI0YbRZVc9nfT16bBZAL/hOcvK8w9aP3HkW7tPnOGklNjWswgMB4LWEM4YrJtSmOuHLqCe0MJq+cK8vdea6cwrOKEpXgxk2lvA5LczLqcxUXxCAdjQMO4xFB5hdnzA7V/j5XFwPvMmhEgu/Jgo8IVM5qqLgfQ2wq0Gf40apyybXFXjveC0hNcFR18D16Ms44cuAe8Quk6YGQBI+q1LqwW+eHsVhM2xg0ee0gd2HfB3I/+KvxgXBGaSJ+mEbPCSz0VFuacLsXOHnc3GZrIll7nXuLAKA1OCQB7qmTvjEwWBr1hA4Oh94CmkCq/oLiftMugBVw0GL3P+oaE1w1C6OtSaykr87VUNfPByaeEzP5eX/vac/pEWEz9K5E2sCszhIjhw2FN4ikupiJc/xBAyXkFRoBQzDH/TgpWeqOofC8Ac2cricKpnwBD9nd5YmOeZPyNDHpAV/j4vLx/oytCbgTMwY4Eapdx72wc8c7glnT0IwKZCv4Ue/LGJqaTVVKQHPEBmFztFhko+Cc+j5gm2/Ji4fw7OMdtxTVzRP2bkrj+5mkcWcV5roEiHA3aVw+ZnuQirgUiEFaNbvEpsLybwYJkPDfdCcrLALChI4Gz8KasJT6JwEjqZ4LiYPnUqA/JrsaG5f4DWc3aHvWwbZKfXWWPqiFEfO4JWd4GWgAfRlsCZI0nSjpHpKJdwBmsAhGypJ4TnCTQhzPgG/Ejg/g7PmOPdBCT90ij4Hi/QS/sIGusVr4UG2XfP3v+PvxgUBZMdqorKrwVOSLAZP1G3b3ZqoekFQ0nTptSYA+IPfB8fAEKYmUA8IZIuUUAtNYJ0Cbhc3ci0fQn9jA9qBF4eKcBxvQ0m4OnZMsL0P2aY2gD640ESCN5rQDxypNUFnUgrQKA5LEzrZ4OxSp1qtCfoSLElgY97QxALullpcEKDtqEUxXBIm+rtAdMh//U5/SIz187m4HrhaK58AmrdtaQLP0sDtGZpAAdHtak1U1TLz1gHcceeaFeE43gaTMIUfHnIFXw5AVgVXUmb6AihjX4IdE+QbF+qCDaAPLjQx16UEumrCkYYm4JTF82Jqgs7SwEfh5FoTGSYHJh9rAvM883J0t1TjggBtx9n8IMvSkR0eNfxdGrNzhZ/PxfXAfej6REMTVGTQzWAC2ZrgDECVlASjNLFzVinCcbwNWQdzZogbKpY4dKLEKLAEg4hLEHXnACvGjkmpw4UB9EHWBNYnqpwO7rKpCbhDTCy4STzc0oS+hlwlZj6xXBO6W6pxQUDDjotyYCSGJgyq53NxPaQJotYE7UpSOAluO7c0oTWAZ6eUUJQqdA7s0Qm4XBPN/vvW8TaY0jqfAKvBJeg/nE/A3wxSGeD78GLH9PjHhgH0Qa0JuCca9EcH6JboVikGUCEmCp2YQc0BtmpN6DPw89h5C0H6hefQ/J1YuHo1QV0dO01FsB0PslPdwrAahiaaPj/187m4HhIAgRaH6iFeOz6IUKDCreb4zkFJgfqAX3BDUMYWePt0At6kPgfrmFjJgo2lZUeD1vE2VYKwJnA4FZZ2TU30eYw6Y9IHydR0i/o31LfxBsniEMCbBHumePtwkN45KAnpQ9SVD5cGFewSNiklslyfg0bFv/htcKytCd86P3BFxGhN8LxHhiaaPj/181lfD75YVhsQgJvC0QrID/pPhuUqddfSCxhVI7U+FJ6I34D5LF40pA0mBG7A04Tpqr9V/62xdrSOt9EJks/r4TV0BYYm4Az/ACumMyY8iLdG0B7cKrVNqNyim8QtiB3vD6C0wGTRb+763ikhcGg5iAd+cXrhJ/g78VTQsHk5vnV+9EipYuwCcfWob0MTzhHB5vVslFZU+3ph9ooel0KagIeTNQEvgsRCE5DicGTZo9QZU8AUYcwYXVZCO8LL7wqQXlHapibE+fxYLL2UKvfEHIuGXOmHNYEnL4dHLoO/1Ki2LJvojilgijBmjD6fHz1SauxcA8V5Ch/GZhZDEzd53LYbXQdfKoEWdkxGER4wRRgzRp/PD5dSlFUOh/vNoOQ5Uf9KQU3Vit0kYAosi2r4peiiZHgi2TEZ2wFThDFj9JUdq2kiZa/0JPnP5pgccT4/O+btD78UKiS5BjsEOyZjO2CKMGaMPp+f9cyji3wg/qLrxY7J2A53GRVmjEt8fkY2WXk0Ic7nx9oR7lLsmIztcJdRsTxG0sQu5v7JyHfRIqNPA0bZIc7nx9oR7lLsmIztcJdRYcbo8/m5z0/5evrAGKfPz42Yp2bWy8MeG7FMsM3ChR2T4eC+7XlqfD4/i9w/G9EN5lmv3OnzcyPms6Lmda5LQr3SXavE5cF60qG+7c9n5QLtmOvc//xglC+YZ71yp8/PNue966uJHNQ9p1ZgoPD2aLTzCR+dmtj2vHe+dX52j+jGBw/Q1XjWK3f6/Gxzfkyr0uuzVEKdaHlJ2UOSb1oT254f0zUV3T8WdhzZV+5Zr9y9zo/8eXT1NCN5RmLIseeT+9hUip20ehwHFC6oCTiAd55DCQNnU6+jg05NbHseXVej1T/V/+gOsNF95Z71yl0NZID4+bb1/CM5rfk1J00UOGIWezYSKFLgJ6E8AtSQ4Qg5yEqgylHgeI+emrAc3Lc737arbXv1OVP1vEet9cqdbVZwVdLn5a80gcvBZXMeIYHOJGhy/sGeIS47INGwnxRnqeirCWt7u/Pyu8xE+QTPcLnSq6jtL+rsF0W2tX6HVeldpgnMKHD8CmoCXsy0yfUP7SRNQBmysibCpAjTThjHq8B/gx0zngmXHolhHF2h/wFh1TE9ZQcge50f7Z0AJs5UisOY5rMcRzxqk1ea0PkEehCsQxMi1/mpZ8wezKna82jCu87PtuipCT1FFfyaY/0RNQF3lqg5Lkpd6QKH0pSQuWLNM0lX18QW8Y2fyNU5VjF10TmM3b3FKsamJjzr/GyPnprAd1EcTgP5Q0pj2tDbrIR/Cj2p9A9WOHEgN4TpCJ6Cp7pFIVoTvnV+FitwjOHRIf2x5xoQR09NUJvVWrFjco4i2Baubimy4+5BXozuMC/qBa0NTbjX+dkifTVRzYa5NvwxCcDVLdWw42J+kUHc1xOaAIYmnOv8bJPemujXB9Yf0ZpwdUuRHfeSA10jGAUtY7zwIZZKz3fR9SNaE65uKbRj1Vc+ThOe9w7nOj+CiJogfD4/C6uOwaMJ5zo/gtieJkRpxOfzc7pSpaqguSuy0i47/I1WIoiaIFxWQjvuHVHtMh/Xts1VU/td1Nu2vS169pV3QjOwmxRZQq1cfkRrwtdmtULZges0YC2dhGFowtMHtj0sU3RZBt0rObgIAUn7Q+i0zd1hPuwPdcUcnA34/MzLkqZg3ytAFIYmnD4/28QyRbdlqgn1aFIkBizvzCdmtA6QH9Ga8JUd1chrXQgMApeQJDADNTQhqrUOGaSJHLvKAerT0OCUJB5NzDq7BURrYgPr/BzUDVZlv/ET28MyxXv1EYdc5HPKIJIUTY4DragPJE3RzZ/3YK6KowzwvIVy2nyk3nOIsRzct8sSn58x0/Lz0qSAPR7T6fOzTSxNvFG3OOQin+U4LrNAaydQaBTFLKN8osT8AntL0WkaD5J2uhYhvaXecOimgHbcO8fahBozLb9jLkTG6fOzTSxNvOocG4ujaVKcbgTMjj2emFFw2VEt+VRCXgJ/KIvoqmXeVa84JBGfz88p3TQwfAQFTtdB7ClrnJXT52ebWD7Ez9VDDrkAo0NGAb9REzoTaGgCR0zArdN6cUs18VA955BEfD4/p3oERJnr98ohpLwQTFJeWXUTp8+PIJ50uojDMcgoWBNo8NzIJ1AMeU41zqWayNUTDjGWOOWBdtzLSQqj/Dug2MGxnFTzMjTh9PkRxJedxTzqhfx9wORUZSiwHpGxJmgPHFU09xoeRWF4eKO+5BBjFWLbxefzQx2be8movvI9nMwKwLqIoQmnz48kXquvONQC26yobknTFUHugGaEnRiglxD8BYKBXSXJoeNd9Cv1mkMVojTh6pZCO94vdvFV65x3DUOP0aUSxNCE2+dni9ivgMfqlEMr09VmdYoz3RuI0oSr0Yo0cQDCv8KV/0Yxr1q7Hl80NCGu0LRN8fk79Q0HVyTtqE18o959zsEKUZrwtm0nUC1I8W1yjUhvs5rNnqqXHFqNzj6wl+oph2pklR2ePrCjc/SCXD5x9CDE9Yu2TPHxW/WMgxvjmXr7MQdrRGnC1S2FmtgFSezSPBJrRHzZMZvdU7w43sY4UOoeBxeIauH1+fxsBOk+P8gPGxYFSOIHDkrFVXbs3NlQO4J0nx/iZ7XJ4uOZCj3hyHDEdUttH8gpXq7p7cPmm5fyc4nA3VLifH7c3Hur1Km38Wo8X50q9bZdl0BEtfAG7ZYS5/Pj4eOn75R6kz+8e6trPMUAPrp192H+Rql3T1tvHBpR7x3Su6W2xOfHr7Epdr28PrabqmpEaSJopiXO56drMOCXT56/evOezbki79+8ev7E6vYyEKWJoN1S4nx+xJhClCbCdktJa7SKmnAR1Ery27a3hShNBO2WEtgHRlf0iAp9KtgeU5AmB9SLJ9Pr8zEF6a2JFmxWVDF6QUHq9j6jIM3EQivpKlI/LdKvG4X12uxUfaGQwl76HR28I+xdNOyjK+nOETGaEEXQskOcz0/ERdBuKXFlR8RF0G6p2LkSsRHn8xNxEbRbSpzPT8RF0G6p2LkSsZHu8xMhgnZLiff5iSBBu6XE+fxEnIRstBI3bjviImjbdmyzuhEENZO4ftGIk5CvArHsuBEE7ZYS5/MTcRG07BDn8xNxEbulIjbR5ydiE31+IjaxWypiM22fn4iLafv8RFxM2+cn4iKolWLb9o0gaJvVxfWj69sPrh/cvnywc3E4OzvEt9OTs9nji9vxgJwDgX1+Hlzv71/v71wf7lwezi5O8O308HLnMV5ZPCDmAFsrEolEIpFIJBKJRCKRSCQSiUQikUgkcjOglSCJXqta6TWoPadmuIyoCS2YiOtXO0jqNbtr4OsznAdvraspRQYDdqBlQHuudKaUdwXA3F62OKXFZuEjTk2UbU3MSlyzNGpi22hNzNLVNWEDxtVmdy5BXPBBg6gJEZAmcO27EgoF2MhxbV2EixXYBfvKSgoNTeB5qCR9fgF/MJ+AIC5VDsAX6kACmsCvmdPqxZB7wHlwEA7jTsxeMC4UzkITcBZ8DZQ9aVp9XyQUqIk5WgHslYBRQBMpPeK4JiiaD06A0yolLDSB1YccPpLBnhwtWsDJczAgbdD3LbKUHHIFXNwcTF1QRBgDZSV5qvIEzkzxU7Um8Mvx43A8L6ImAoMPMD2ZtSYAzha0HGhh8qpoWRgaT09hC+2Y6YcaBUR6QNDeHMTvRjvnqAlQIHwSfmlN4PkF/IYdDU3gD2qoqatIKNr5BGXcqAHYgxaDQmFWW7c2EpkOTjQ1gRsMnFDbE8+jk1gT6UITEDN8Ke3A6LUmYANJ6EgkNKgJqk+wUdD6/IQXuiSHA4sV6NuaMMoOzmcIMCqHxmhCZ0xRE9uANIGwUcCmtIvy+ZTeR+pTgEoTBYSwOIAtOI8sp8uOReEP+Ys2aJLAd+PX1GUH7KdfrAl8B4GgUXZoFVZfEQnJwuCQ/mAPrCeiZUowEBgcD86Nh580UeLrSQbGhJpBpQLUBHxBNkv5dPhqtGgOn8A6ZgnfZWiCTsfIsY5JLV61JrQsY9mxDcAAgLYh2KuAV8SUXhNVCWZB6Dmuapi8DwAD8ruo3lfSJj3uhoJoJ4Bn6XfREr8fsxj4MB7WoqBvxJMwCCrDIL6qRFEIZWFkB2hnoPOcyIfGvNPeOR0toiamw1wV+Fbip6T6RMzip0T1CuCFio6qxhGJRCKRSCQSiUQikUgkEolEIpFI5ANhNvt/63TvualJPp8AAAAASUVORK5CYII=)\n",
        "\n",
        "This controller has 02 inputs and 02 outputs.\n",
        "\n",
        "**The 02 INPUTS:** DISTANCE_ERROR AND THETA_ERROR\n",
        "\n",
        "- The \"DISTANCE_ERROR\" is the distance from the current position of the robot to the destination position of the destination. Its unit is meter (m), in this experiment I set it is in range $[0, 10]$.\n",
        "\n",
        "- The \"THETA_ERROR\" is the different angle between the current orientation of the robot with the line of sight angle from current possition of the robot to the destination. Its unit is radian (rad), and its value is in range $[-\\pi\\ , \\pi]$.\n",
        "\n",
        "**The 02 OUTPUTS:** omega_R and omega_L\n",
        "\n",
        "  + The omega_R is the angular velocity of the right wheel of the robot. Its unit is ($rads^{-1}$), in this experiment it is in range [0, 30]$rads^{-1}$.\n",
        "\n",
        "  + The omega_L is the angular velocity of the left wheel of the robot. Its unit is ($rads^{-1}$), in this experiment it is in range [0, 30]$rads^{-1}$.\n"
      ]
    },
    {
      "cell_type": "markdown",
      "metadata": {
        "id": "xiTGujK_jEsD"
      },
      "source": [
        "#### Helper Functions"
      ]
    },
    {
      "cell_type": "markdown",
      "metadata": {
        "id": "5lZv1zCUzP_F"
      },
      "source": [
        "Helper functions have been introduced here for encapsulation of fuzzy system construction."
      ]
    },
    {
      "cell_type": "code",
      "execution_count": null,
      "metadata": {
        "id": "EAa9L5PtjE99"
      },
      "outputs": [],
      "source": [
        "def createFuzzyfier(space, categories, trimf = fuzz.trimf, membership = fuzz.interp_membership):\n",
        "    fuzzyInput = {}\n",
        "    for key, value in categories.items():\n",
        "        fuzzyInput[key] = trimf(space, value)\n",
        "    def result(variable):\n",
        "        output = {}\n",
        "        for key, value in fuzzyInput.items():\n",
        "          output[key] = membership(space, value, variable)\n",
        "          if output[key] == 0:\n",
        "            output[key] = 1e-5\n",
        "          else:\n",
        "            output[key] = output[key]\n",
        "        return output\n",
        "    return result\n",
        "\n",
        "def createInferenceSystem(inputAfuzzyfier, inputBfuzzyfier, outputSpace, outputDict, rulesDict, trimf = fuzz.trimf):\n",
        "    fuzzyResults = {}\n",
        "    for keyA, outerValue in rulesDict.items():\n",
        "        if not(keyA in fuzzyResults):\n",
        "            fuzzyResults[keyA] = {}\n",
        "        for keyB, innerValue in outerValue.items():\n",
        "            fuzzyResults[keyA][keyB] = trimf(outputSpace, outputDict[innerValue]) #innerValue==outputDict[keyA][keyB]\n",
        "    def result(valueA, valueB):\n",
        "        fuzzyVariableA = inputAfuzzyfier(valueA)\n",
        "        fuzzyVariableB = inputBfuzzyfier(valueB)\n",
        "        fuzzyResult = None\n",
        "        for keyA, outerValue in rulesDict.items():\n",
        "            for keyB, resultValue in outerValue.items():\n",
        "                currentResult = np.fmin(fuzzyResults[keyA][keyB],\n",
        "                    np.fmin(fuzzyVariableA[keyA], fuzzyVariableB[keyB]))\n",
        "                if fuzzyResult is None:\n",
        "                    fuzzyResult = currentResult\n",
        "                else:\n",
        "                    fuzzyResult = np.fmax(currentResult, fuzzyResult)\n",
        "        return fuzzyResult\n",
        "    return result\n",
        "\n",
        "def createDefuzzyfier(outputSpace, *defuzzArgs, defuzz=fuzz.defuzz, **defuzzKwargs):\n",
        "    def result(value):\n",
        "        return defuzz(outputSpace, value, *defuzzArgs, **defuzzKwargs)\n",
        "    return result\n",
        "\n",
        "def createFullFuzzySystem(inferenceSystem, defuzzyfier):\n",
        "    def system(inputA, inputB):\n",
        "        return defuzzyfier(inferenceSystem(inputA, inputB))\n",
        "    return system"
      ]
    },
    {
      "cell_type": "markdown",
      "metadata": {
        "id": "ND5QnGTCjggB"
      },
      "source": [
        "#### Controller"
      ]
    },
    {
      "cell_type": "code",
      "execution_count": null,
      "metadata": {
        "id": "ECXYHByGi-fu"
      },
      "outputs": [],
      "source": [
        "def createFuzzyController(fuzzyDescription, r, b, omega_ri, vri, lowVelocityLimit, highVelocityLimit, lowOmegaLimit, highOmegaLimit):\n",
        "    inputsDistance = fuzzyDescription['inputs']['distance']['M']\n",
        "    inputsSpaceDistance = np.array(fuzzyDescription['inputs']['distance']['S'])\n",
        "\n",
        "    inputsAngle = fuzzyDescription['inputs']['angle']['M']\n",
        "    inputsSpaceAngle = np.array(fuzzyDescription['inputs']['angle']['S'])\n",
        "\n",
        "    outputsOmegaR = fuzzyDescription['outputs']['omegaR']['M']\n",
        "    outputSpaceOmegaR = np.array(fuzzyDescription['outputs']['omegaR']['S'])\n",
        "    outputRulesOmegaR = fuzzyDescription['outputs']['omegaR']['rules']\n",
        "\n",
        "    outputsOmegaL = fuzzyDescription['outputs']['omegaL']['M']\n",
        "    outputSpaceOmegaL = np.array(fuzzyDescription['outputs']['omegaL']['S'])\n",
        "    outputRulesOmegaL = fuzzyDescription['outputs']['omegaL']['rules']\n",
        "\n",
        "\n",
        "    inputsDistanceFuzzyfier = createFuzzyfier(inputsSpaceDistance, inputsDistance)\n",
        "    inputsAngleFuzzyfier = createFuzzyfier(inputsSpaceAngle, inputsAngle)\n",
        "\n",
        "    inferenceSystem_R = createInferenceSystem(inputsDistanceFuzzyfier, inputsAngleFuzzyfier, outputSpaceOmegaR, outputsOmegaR, outputRulesOmegaR)\n",
        "    outputDefuzzyfier_R = createDefuzzyfier(outputSpaceOmegaR, mode='centroid')\n",
        "\n",
        "    inferenceSystem_L = createInferenceSystem(inputsDistanceFuzzyfier, inputsAngleFuzzyfier, outputSpaceOmegaL, outputsOmegaL, outputRulesOmegaL)\n",
        "    outputDefuzzyfier_L = createDefuzzyfier(outputSpaceOmegaL, mode='centroid')\n",
        "\n",
        "    fullSystem_R = createFullFuzzySystem(inferenceSystem_R, outputDefuzzyfier_R)\n",
        "    fullSystem_L = createFullFuzzySystem(inferenceSystem_L, outputDefuzzyfier_L)\n",
        "\n",
        "    def controller(t, currentState, destinationState):\n",
        "        currentX = currentState[0]\n",
        "        currentY = currentState[1]\n",
        "        currentTheta = currentState[2]\n",
        "\n",
        "        destinationX = destinationState[0]\n",
        "        destinationY = destinationState[1]\n",
        "\n",
        "        cosTheta = cos(currentTheta)\n",
        "        sinTheta = sin(currentTheta)\n",
        "\n",
        "        deltaX = destinationX - currentX\n",
        "        deltaY = destinationY - currentY\n",
        "        theta_destination = atan2(deltaY, deltaX)\n",
        "        THETA_ERROR = theta_destination - currentTheta\n",
        "        DISTANCE_ERROR = sqrt(deltaX * deltaX + deltaY * deltaY)\n",
        "\n",
        "        if (THETA_ERROR > pi):\n",
        "            THETA_ERROR -= 2*pi\n",
        "        if (THETA_ERROR < -pi):\n",
        "            THETA_ERROR += 2*pi\n",
        "\n",
        "        omega_R = fullSystem_R(DISTANCE_ERROR, THETA_ERROR)\n",
        "        omega_L = fullSystem_L(DISTANCE_ERROR, THETA_ERROR)\n",
        "\n",
        "        velocity = r * (omega_R + omega_L) / 2\n",
        "        omega = r * (omega_R - omega_L) / b\n",
        "\n",
        "        if velocity > highVelocityLimit:\n",
        "            velocity = highVelocityLimit\n",
        "        if (velocity < lowVelocityLimit):\n",
        "            velocity = lowVelocityLimit\n",
        "        if omega > highOmegaLimit:\n",
        "            omega = highOmegaLimit\n",
        "        if (omega < lowOmegaLimit):\n",
        "            omega = lowOmegaLimit\n",
        "\n",
        "        return velocity, omega\n",
        "    return controller"
      ]
    },
    {
      "cell_type": "markdown",
      "metadata": {
        "id": "NwNbQ4J6A7_-"
      },
      "source": [
        "## Simulation Function"
      ]
    },
    {
      "cell_type": "markdown",
      "metadata": {
        "id": "Z_8pVr2PYUdB"
      },
      "source": [
        "In next part the full description of simulation is stored in a single structured JSON document / variable. If this document is mutated, the slighly different condition for simulation are defined. Set of mutated documents and results of described simulations might be compared and thus proper results can be selected. This process creates a basement for optimization techniques."
      ]
    },
    {
      "cell_type": "markdown",
      "metadata": {
        "id": "6WjwxrtjA7__"
      },
      "source": [
        "### Simulation Description"
      ]
    },
    {
      "cell_type": "code",
      "execution_count": null,
      "metadata": {
        "id": "-S77zClxA7__"
      },
      "outputs": [],
      "source": [
        "\n",
        "simulationDescription = {\n",
        "\n",
        "    'robotState0': {\n",
        "        'x': 0,\n",
        "        'y': 0,\n",
        "        'theta': -3.14 / 4\n",
        "    },\n",
        "\n",
        "    'path': [\n",
        "        [0, 0, 0],   # X, Y, orientation\n",
        "        [2, 0, 0],   # X, Y, orientation\n",
        "        [2, 2, 0],   # X, Y, orientation\n",
        "        [4, 2, 0],   # X, Y, orientation\n",
        "        [4, 4, 0]\n",
        "    ],\n",
        "\n",
        "    'robotParams': {\n",
        "        'r': 0.0425,\n",
        "        'b': 0.2,\n",
        "        'm': 1.733,\n",
        "        'I': 0.008,\n",
        "\n",
        "        'motorParams': {\n",
        "            'J': 0.037,       # kg.m2/s2\n",
        "            'B': 0.004,       # Nms\n",
        "            'Kt': 0.001,      # Nm/A\n",
        "            'Ke': 0.03,       # Nm/A\n",
        "            'Ra': 0.7,        # Ohm\n",
        "            'La': 0.01        # H\n",
        "        }\n",
        "    },\n",
        "\n",
        "    'controllerParams': {\n",
        "        'omega_ri': 0, 'vri': 2.0,'lowVelocityLimit': 0,\n",
        "        'highVelocityLimit': 4.0, 'lowOmegaLimit': -3.14, 'highOmegaLimit': 3.14\n",
        "    },\n",
        "\n",
        "    'simulationParams': {\n",
        "        't0': 0,\n",
        "        't_bound': 100,\n",
        "        'max_step': 0.01\n",
        "    }\n",
        "}\n"
      ]
    },
    {
      "cell_type": "markdown",
      "metadata": {
        "id": "1KcxXFJHA7__"
      },
      "source": [
        "### Executor"
      ]
    },
    {
      "cell_type": "markdown",
      "metadata": {
        "id": "qMOb2n2tzP_H"
      },
      "source": [
        "The next function is core of simulation. Others functions including all fitness functions are build on it."
      ]
    },
    {
      "cell_type": "code",
      "execution_count": null,
      "metadata": {
        "id": "HeQ5PRiyhnMA"
      },
      "outputs": [],
      "source": [
        "def runSimulation(simulationDescription, controllerCreator, selectors=selectors):\n",
        "\n",
        "    pathForSimulation = iter(simulationDescription['path'])\n",
        "\n",
        "    t0 = simulationDescription['simulationParams']['t0']\n",
        "    t_bound = simulationDescription['simulationParams']['t_bound']\n",
        "    max_step = simulationDescription['simulationParams']['max_step']\n",
        "\n",
        "    state0 = None\n",
        "    robotState0 = simulationDescription['robotState0']\n",
        "    if robot == robotWithDynamic:\n",
        "        state0 = np.array([robotState0['x'], robotState0['y'], robotState0['theta'], 0, 0, 0, 0, 0, 0, 0]) # x0=0, y0=0, theta\n",
        "    else:\n",
        "        state0 = np.array([robotState0['x'], robotState0['y'], robotState0['theta'], 0, 0, 0]) # x0=0, y0=0,theta\n",
        "\n",
        "    solverfunc = simpleCompute(\n",
        "        compute, state0 = state0,\n",
        "        t0 = t0, t_bound = t_bound, max_step = max_step)\n",
        "\n",
        "    controllerParams = simulationDescription['controllerParams']\n",
        "    completeRobot = robotModelCreator(controllerCreator, pathForSimulation, **controllerParams)\n",
        "    robotStates = solverfunc(completeRobot)\n",
        "\n",
        "    results = {}\n",
        "    for key, selector in selectors.items():\n",
        "        results[key] = []\n",
        "\n",
        "    for currentState in robotStates: # readout all states from current moving robot\n",
        "        for key, selector in selectors.items():\n",
        "            results[key].append(selector(currentState))\n",
        "\n",
        "    return results"
      ]
    },
    {
      "cell_type": "markdown",
      "metadata": {
        "id": "wmPAPhoVYawE"
      },
      "source": [
        "## Chromozome Mapping Functions"
      ]
    },
    {
      "cell_type": "markdown",
      "metadata": {
        "id": "zhXB2hfGnI9Y"
      },
      "source": [
        "These functions change a standard simulation data structure description into the data structure description based on information stored in a chromosome. Also these functions could be named as a chromosome information decoders."
      ]
    },
    {
      "cell_type": "markdown",
      "metadata": {
        "id": "Cm7bo0diYxvH"
      },
      "source": [
        "### Fuzzy Logic Controller"
      ]
    },
    {
      "cell_type": "markdown",
      "metadata": {
        "id": "UPrs-QadzP_J"
      },
      "source": [
        "#### Chromosome Transformation"
      ]
    },
    {
      "cell_type": "code",
      "execution_count": null,
      "metadata": {
        "id": "xGuoa_ISY1jP"
      },
      "outputs": [],
      "source": [
        "#///////////////-----FOR OPTIMIZATION OF BOTH MEMBERSHIP FUNCTION AND FUZZY RULES FOR THE FUZZY LOGIC CONTROLLER--------///////////////\n",
        "import copy\n",
        "def fromChromozomeToDescriptionFuzzy(chromozome, description):\n",
        "    CH = chromozome # For simplicity\n",
        "    result = copy.deepcopy(description)\n",
        "\n",
        "    fuzzyDescription = {\n",
        "        'inputs': {\n",
        "            'distance' : {\n",
        "                'S': list(np.arange(0, 10, 0.1)),\n",
        "                'M': {'VC': [0, 0, 2.5], 'C': [0, 2.5, 5], 'M': [2.5, 5, 7.5], 'F': [5, 7.5, 10], 'VF': [7.5, 10, 10]}\n",
        "            },\n",
        "            'angle' : {\n",
        "                'S': list(np.arange(-3.14, 3.14, 0.0628)),\n",
        "                'M': {'BN': [-3.14, -3.14, -1.57], 'N': [-3.14, -1.57, 0], 'Z': [-1.57, 0, 1.57], 'P': [0, 1.57, 3.14], 'BP': [1.57, 3.14, 3.14]}\n",
        "            }\n",
        "        },\n",
        "        'outputs': {\n",
        "            'omegaR': {\n",
        "                'S': list(np.arange(0, 30, 0.3)),\n",
        "                'rules': {\n",
        "                    'VC': {'BN': 'VSR', 'N': 'SR', 'Z': 'VSR', 'P': 'BR', 'BP': 'VBR'},\n",
        "                    'C': {'BN': 'VSR', 'N': 'SR', 'Z': 'SR', 'P': 'BR', 'BP': 'VBR'},\n",
        "                    'M': {'BN': 'VSR', 'N': 'SR', 'Z': 'MBR', 'P': 'BR', 'BP': 'VBR'},\n",
        "                    'F': {'BN': 'VSR', 'N': 'SR', 'Z': 'BR', 'P': 'BR', 'BP': 'VBR'},\n",
        "                    'VF': {'BN': 'VSR', 'N': 'SR', 'Z': 'VBR', 'P': 'BR', 'BP': 'VBR'}\n",
        "                },\n",
        "                'mode': 'centroid',\n",
        "                'M': {'VSR': [0, 0, 7.5], 'SR': [0, 7.5, 15], 'MBR': [7.5, 15, 22.5], 'BR': [15, 22.5, 30], 'VBR': [22.5, 30, 30]}\n",
        "            },\n",
        "            'omegaL': {\n",
        "                'S': list(np.arange(0, 30, 0.3)),\n",
        "                'rules': {\n",
        "                    'VC': {'BN': 'VBL', 'N': 'BL', 'Z': 'VSL', 'P': 'SL', 'BP': 'VSL'},\n",
        "                    'C': {'BN': 'VBL', 'N': 'BL', 'Z': 'SL', 'P': 'SL', 'BP': 'VSL'},\n",
        "                    'M': {'BN': 'VBL', 'N': 'BL', 'Z': 'MBL', 'P': 'SL', 'BP': 'VSL'},\n",
        "                    'F': {'BN': 'VBL', 'N': 'BL', 'Z': 'BL', 'P': 'SL', 'BP': 'VSL'},\n",
        "                    'VF': {'BN': 'VBL', 'N': 'BL', 'Z': 'VBL', 'P': 'SL', 'BP': 'VSL'}\n",
        "                },\n",
        "                'mode': 'centroid',\n",
        "                'M': {'VSL': [0, 0, 7.5], 'SL': [0, 7.5, 15], 'MBL': [7.5, 15, 22.5], 'BL': [15, 22.5, 30], 'VBL': [22.5, 30, 30]}\n",
        "            }\n",
        "        }\n",
        "    }\n",
        "\n",
        "\n",
        "    distance_Member = {'VC': [0, 0, CH[0]],\n",
        "                       'C': [CH[2] - CH[1], CH[2], CH[2] + CH[3]],\n",
        "                       'M': [CH[5] - CH[4], CH[5], CH[5] + CH[6]],\n",
        "                       'F': [CH[8] - CH[7], CH[8], CH[8] + CH[9]],\n",
        "                       'VF': [10 - CH[10], 10, 10]}\n",
        "    fuzzyDescription['inputs']['distance']['M'] = distance_Member\n",
        "\n",
        "    angle_Member = {'BN': [-3.14, -3.14, -3.14+CH[11]],\n",
        "                    'N': [CH[13] - CH[12], CH[13], CH[13] + CH[14]],\n",
        "                    'Z': [CH[16] - CH[15], CH[16], CH[16] + CH[17]],\n",
        "                    'P': [CH[19] - CH[18], CH[19], CH[19] + CH[20]],\n",
        "                    'BP': [3.14 - CH[21], 3.14, 3.14]}\n",
        "    fuzzyDescription['inputs']['angle']['M'] = angle_Member\n",
        "\n",
        "    omegaR_Member =  {'VSR': [0, 0, CH[22]],\n",
        "                      'SR': [CH[24] - CH[23], CH[24], CH[24] + CH[25]],\n",
        "                      'MBR': [CH[27] - CH[26], CH[27], CH[27] + CH[28]],\n",
        "                      'BR': [CH[30] - CH[29], CH[30], CH[30] + CH[31]],\n",
        "                      'VBR': [30 - CH[32], 30, 30]}\n",
        "    fuzzyDescription['outputs']['omegaR']['M'] = omegaR_Member\n",
        "\n",
        "    omegaL_Member =  {'VSL': [0, 0, CH[33]],\n",
        "                      'SL': [CH[35] - CH[34], CH[35], CH[35] + CH[36]],\n",
        "                      'MBL': [CH[38] - CH[37], CH[38], CH[38] + CH[39]],\n",
        "                      'BL': [CH[41] - CH[40], CH[41], CH[41] + CH[42]],\n",
        "                      'VBL': [30 - CH[43], 30, 30]}\n",
        "    fuzzyDescription['outputs']['omegaL']['M'] = omegaL_Member\n",
        "\n",
        "    def rule_name_R(argument):\n",
        "            if (0 <= argument < 0.2):\n",
        "              switcher = {\n",
        "                  argument: 'VSR'\n",
        "              }\n",
        "\n",
        "            if (0.2 <= argument < 0.4):\n",
        "              switcher = {\n",
        "                  argument: 'SR'\n",
        "              }\n",
        "\n",
        "            if (0.4 <= argument < 0.6):\n",
        "              switcher = {\n",
        "                  argument: 'MBR'\n",
        "              }\n",
        "\n",
        "            if (0.6 <= argument < 0.8):\n",
        "              switcher = {\n",
        "                  argument: 'BR'\n",
        "              }\n",
        "\n",
        "            if (0.8 <= argument <= 1):\n",
        "              switcher = {\n",
        "                  argument: 'VBR'\n",
        "              }\n",
        "            return switcher.get(argument, \"nothing\")\n",
        "\n",
        "    def rule_name_L(argument):\n",
        "            if (0 <= argument < 0.2):\n",
        "              switcher = {\n",
        "                  argument: 'VSL'\n",
        "              }\n",
        "\n",
        "            if (0.2 <= argument < 0.4):\n",
        "              switcher = {\n",
        "                  argument: 'SL'\n",
        "              }\n",
        "\n",
        "            if (0.4 <= argument < 0.6):\n",
        "              switcher = {\n",
        "                  argument: 'MBL'\n",
        "              }\n",
        "\n",
        "            if (0.6 <= argument < 0.8):\n",
        "              switcher = {\n",
        "                  argument: 'BL'\n",
        "              }\n",
        "\n",
        "            if (0.8 <= argument <= 1):\n",
        "              switcher = {\n",
        "                  argument: 'VBL'\n",
        "              }\n",
        "            return switcher.get(argument, \"nothing\")\n",
        "\n",
        "    rulesBase_Right = {\n",
        "                    'VC': {'BN': 'CH[44]', 'N': 'CH[45]', 'Z': 'CH[46]', 'P': 'CH[47]', 'BP': 'CH[48]'},\n",
        "                    'C':  {'BN': 'CH[49]', 'N': 'CH[50]', 'Z': 'CH[51]', 'P': 'CH[52]', 'BP': 'CH[53]'},\n",
        "                    'M':  {'BN': 'CH[54]', 'N': 'CH[55]', 'Z': 'CH[56]', 'P': 'CH[57]', 'BP': 'CH[58]'},\n",
        "                    'F':  {'BN': 'CH[59]', 'N': 'CH[60]', 'Z': 'CH[61]', 'P': 'CH[62]', 'BP': 'CH[63]'},\n",
        "                    'VF': {'BN': 'CH[64]', 'N': 'CH[65]', 'Z': 'CH[66]', 'P': 'CH[67]', 'BP': 'CH[68]'}\n",
        "                }\n",
        "    #--------------Right rules----------------------\n",
        "    rulesBase_Right['VC']['BN'] = rule_name_R(CH[44])\n",
        "    rulesBase_Right['VC']['N']  = rule_name_R(CH[45])\n",
        "    rulesBase_Right['VC']['Z']  = rule_name_R(CH[46])\n",
        "    rulesBase_Right['VC']['P']  = rule_name_R(CH[47])\n",
        "    rulesBase_Right['VC']['BP'] = rule_name_R(CH[48])\n",
        "\n",
        "    rulesBase_Right['C']['BN'] = rule_name_R(CH[49])\n",
        "    rulesBase_Right['C']['N']  = rule_name_R(CH[50])\n",
        "    rulesBase_Right['C']['Z']  = rule_name_R(CH[51])\n",
        "    rulesBase_Right['C']['P']  = rule_name_R(CH[52])\n",
        "    rulesBase_Right['C']['BP'] = rule_name_R(CH[53])\n",
        "\n",
        "    rulesBase_Right['M']['BN'] = rule_name_R(CH[54])\n",
        "    rulesBase_Right['M']['N']  = rule_name_R(CH[55])\n",
        "    rulesBase_Right['M']['Z']  = rule_name_R(CH[56])\n",
        "    rulesBase_Right['M']['P']  = rule_name_R(CH[57])\n",
        "    rulesBase_Right['M']['BP'] = rule_name_R(CH[58])\n",
        "\n",
        "    rulesBase_Right['F']['BN'] = rule_name_R(CH[59])\n",
        "    rulesBase_Right['F']['N']  = rule_name_R(CH[60])\n",
        "    rulesBase_Right['F']['Z']  = rule_name_R(CH[61])\n",
        "    rulesBase_Right['F']['P']  = rule_name_R(CH[62])\n",
        "    rulesBase_Right['F']['BP'] = rule_name_R(CH[63])\n",
        "\n",
        "    rulesBase_Right['VF']['BN'] = rule_name_R(CH[64])\n",
        "    rulesBase_Right['VF']['N']  = rule_name_R(CH[65])\n",
        "    rulesBase_Right['VF']['Z']  = rule_name_R(CH[66])\n",
        "    rulesBase_Right['VF']['P']  = rule_name_R(CH[67])\n",
        "    rulesBase_Right['VF']['BP'] = rule_name_R(CH[68])\n",
        "    fuzzyDescription['outputs']['omegaR']['rules'] = rulesBase_Right\n",
        "\n",
        "    rulesBase_Left = {\n",
        "                    'VC': {'BN': 'CH[69]', 'N': 'CH[70]', 'Z': 'CH[71]', 'P': 'CH[72]', 'BP': 'CH[73]'},\n",
        "                    'C':  {'BN': 'CH[74]', 'N': 'CH[75]', 'Z': 'CH[76]', 'P': 'CH[77]', 'BP': 'CH[78]'},\n",
        "                    'M':  {'BN': 'CH[79]', 'N': 'CH[80]', 'Z': 'CH[81]', 'P': 'CH[82]', 'BP': 'CH[83]'},\n",
        "                    'F':  {'BN': 'CH[84]', 'N': 'CH[85]', 'Z': 'CH[86]', 'P': 'CH[87]', 'BP': 'CH[88]'},\n",
        "                    'VF': {'BN': 'CH[89]', 'N': 'CH[90]', 'Z': 'CH[91]', 'P': 'CH[92]', 'BP': 'CH[93]'}\n",
        "                  }\n",
        "    #------------Left rules------------------------\n",
        "    rulesBase_Left['VC']['BN'] = rule_name_L(CH[69])\n",
        "    rulesBase_Left['VC']['N']  = rule_name_L(CH[70])\n",
        "    rulesBase_Left['VC']['Z']  = rule_name_L(CH[71])\n",
        "    rulesBase_Left['VC']['P']  = rule_name_L(CH[72])\n",
        "    rulesBase_Left['VC']['BP'] = rule_name_L(CH[73])\n",
        "\n",
        "    rulesBase_Left['C']['BN'] = rule_name_L(CH[74])\n",
        "    rulesBase_Left['C']['N']  = rule_name_L(CH[75])\n",
        "    rulesBase_Left['C']['Z']  = rule_name_L(CH[76])\n",
        "    rulesBase_Left['C']['P']  = rule_name_L(CH[77])\n",
        "    rulesBase_Left['C']['BP'] = rule_name_L(CH[78])\n",
        "\n",
        "    rulesBase_Left['M']['BN'] = rule_name_L(CH[79])\n",
        "    rulesBase_Left['M']['N']  = rule_name_L(CH[80])\n",
        "    rulesBase_Left['M']['Z']  = rule_name_L(CH[81])\n",
        "    rulesBase_Left['M']['P']  = rule_name_L(CH[82])\n",
        "    rulesBase_Left['M']['BP'] = rule_name_L(CH[83])\n",
        "\n",
        "    rulesBase_Left['F']['BN'] = rule_name_L(CH[84])\n",
        "    rulesBase_Left['F']['N']  = rule_name_L(CH[85])\n",
        "    rulesBase_Left['F']['Z']  = rule_name_L(CH[86])\n",
        "    rulesBase_Left['F']['P']  = rule_name_L(CH[87])\n",
        "    rulesBase_Left['F']['BP'] = rule_name_L(CH[88])\n",
        "\n",
        "    rulesBase_Left['VF']['BN'] = rule_name_L(CH[89])\n",
        "    rulesBase_Left['VF']['N']  = rule_name_L(CH[90])\n",
        "    rulesBase_Left['VF']['Z']  = rule_name_L(CH[91])\n",
        "    rulesBase_Left['VF']['P']  = rule_name_L(CH[92])\n",
        "    rulesBase_Left['VF']['BP'] = rule_name_L(CH[93])\n",
        "\n",
        "    fuzzyDescription['outputs']['omegaL']['rules'] = rulesBase_Left\n",
        "\n",
        "    result['controllerParams']['fuzzyDescription'] = fuzzyDescription\n",
        "\n",
        "    result['controllerParams']['r'] = result['robotParams']['r']\n",
        "    result['controllerParams']['b'] = result['robotParams']['b']\n",
        "    return result"
      ]
    },
    {
      "cell_type": "markdown",
      "metadata": {
        "id": "6TCddC8iZF2u"
      },
      "source": [
        "### Chromosome Transformation used for expert-based control"
      ]
    },
    {
      "cell_type": "code",
      "execution_count": null,
      "metadata": {
        "id": "AoDe0U0yo7ya"
      },
      "outputs": [],
      "source": [
        "# ///////////////////////----USING FOR ORIGINAL THOA (Expert) ------------//////////////////////////////////////////\n",
        "import copy\n",
        "def fromChromozomeToDescriptionFuzzy_Thoa_Original(chromozome, description):\n",
        "    CH = chromozome # For simplicity\n",
        "    result = copy.deepcopy(description)\n",
        "\n",
        "    fuzzyDescription = {\n",
        "        'inputs': {\n",
        "            'distance' : {\n",
        "                'S': list(np.arange(0, 10, 0.1)),\n",
        "                'M': {'VC': [0, 0, 2.5], 'C': [0, 2.5, 5], 'M': [2.5, 5, 7.5], 'F': [5, 7.5, 10], 'VF': [7.5, 10, 10]}\n",
        "            },\n",
        "            'angle' : {\n",
        "                'S': list(np.arange(-3.14, 3.14, 0.0628)),\n",
        "                'M': {'BN': [-3.14, -3.14, -1.57], 'N': [-3.14, -1.57, 0], 'Z': [-1.57, 0, 1.57], 'P': [0, 1.57, 3.14], 'BP': [1.57, 3.14, 3.14]}\n",
        "            }\n",
        "        },\n",
        "        'outputs': {\n",
        "            'omegaR': {\n",
        "                'S': list(np.arange(0, 30, 0.3)),\n",
        "                'rules': {\n",
        "                    'VC': {'BN': 'VSR', 'N': 'SR', 'Z': 'VSR', 'P': 'BR', 'BP': 'VBR'},\n",
        "                    'C': {'BN': 'VSR', 'N': 'SR', 'Z': 'SR', 'P': 'BR', 'BP': 'VBR'},\n",
        "                    'M': {'BN': 'VSR', 'N': 'SR', 'Z': 'MBR', 'P': 'BR', 'BP': 'VBR'},\n",
        "                    'F': {'BN': 'VSR', 'N': 'SR', 'Z': 'BR', 'P': 'BR', 'BP': 'VBR'},\n",
        "                    'VF': {'BN': 'VSR', 'N': 'SR', 'Z': 'VBR', 'P': 'BR', 'BP': 'VBR'}\n",
        "                },\n",
        "                'mode': 'centroid',\n",
        "                'M': {'VSR': [0, 0, 7.5], 'SR': [0, 7.5, 15], 'MBR': [7.5, 15, 22.5], 'BR': [15, 22.5, 30], 'VBR': [22.5, 30, 30]}\n",
        "            },\n",
        "            'omegaL': {\n",
        "                'S': list(np.arange(0, 30, 0.3)),\n",
        "                'rules': {\n",
        "                    'VC': {'BN': 'VBL', 'N': 'BL', 'Z': 'VSL', 'P': 'SL', 'BP': 'VSL'},\n",
        "                    'C': {'BN': 'VBL', 'N': 'BL', 'Z': 'SL', 'P': 'SL', 'BP': 'VSL'},\n",
        "                    'M': {'BN': 'VBL', 'N': 'BL', 'Z': 'MBL', 'P': 'SL', 'BP': 'VSL'},\n",
        "                    'F': {'BN': 'VBL', 'N': 'BL', 'Z': 'BL', 'P': 'SL', 'BP': 'VSL'},\n",
        "                    'VF': {'BN': 'VBL', 'N': 'BL', 'Z': 'VBL', 'P': 'SL', 'BP': 'VSL'}\n",
        "                },\n",
        "                'mode': 'centroid',\n",
        "                'M': {'VSL': [0, 0, 7.5], 'SL': [0, 7.5, 15], 'MBL': [7.5, 15, 22.5], 'BL': [15, 22.5, 30], 'VBL': [22.5, 30, 30]}\n",
        "            }\n",
        "        }\n",
        "    }\n",
        "\n",
        "\n",
        "    distance_Member = {'VC': [0, 0, CH[0]],\n",
        "                       'C': [CH[2] - CH[1], CH[2], CH[2] + CH[3]],\n",
        "                       'M': [CH[5] - CH[4], CH[5], CH[5] + CH[6]],\n",
        "                       'F': [CH[8] - CH[7], CH[8], CH[8] + CH[9]],\n",
        "                       'VF': [10 - CH[10], 10, 10]}\n",
        "    fuzzyDescription['inputs']['distance']['M'] = distance_Member\n",
        "\n",
        "    angle_Member = {'BN': [-3.14, -3.14, -3.14 + CH[11]],\n",
        "                    'N': [CH[13] - CH[12], CH[13], CH[13] + CH[14]],\n",
        "                    'Z': [CH[16] - CH[15], CH[16], CH[16] + CH[17]],\n",
        "                    'P': [CH[19] - CH[18], CH[19], CH[19] + CH[20]],\n",
        "                    'BP': [3.14 - CH[21], 3.14, 3.14]}\n",
        "    fuzzyDescription['inputs']['angle']['M'] = angle_Member\n",
        "\n",
        "    omegaR_Member =  {'VSR': [0, 0, CH[22]],\n",
        "                      'SR': [CH[24] - CH[23], CH[24], CH[24] + CH[25]],\n",
        "                      'MBR': [CH[27] - CH[26], CH[27], CH[27] + CH[28]],\n",
        "                      'BR': [CH[30] - CH[29], CH[30], CH[30] + CH[31]],\n",
        "                      'VBR': [30 - CH[32], 30, 30]}\n",
        "    fuzzyDescription['outputs']['omegaR']['M'] = omegaR_Member\n",
        "\n",
        "    omegaL_Member =  {'VSL': [0, 0, CH[33]],\n",
        "                      'SL': [CH[35] - CH[34], CH[35], CH[35] + CH[36]],\n",
        "                      'MBL': [CH[38] - CH[37], CH[38], CH[38] + CH[39]],\n",
        "                      'BL': [CH[41] - CH[40], CH[41], CH[41] + CH[42]],\n",
        "                      'VBL': [30 - CH[43], 30, 30]}\n",
        "    fuzzyDescription['outputs']['omegaL']['M'] = omegaL_Member\n",
        "\n",
        "    result['controllerParams']['fuzzyDescription'] = fuzzyDescription\n",
        "\n",
        "    result['controllerParams']['r'] = result['robotParams']['r']\n",
        "    result['controllerParams']['b'] = result['robotParams']['b']\n",
        "    return result"
      ]
    },
    {
      "cell_type": "code",
      "execution_count": null,
      "metadata": {
        "id": "I9E_tt32ZQ6M"
      },
      "outputs": [],
      "source": [
        "#//////////////////---------FOR OPTIMIZATION ONLY MEMBERSHIP FUNCTION FOR THE FUZZY LOGIC CONTROLLER---------/////////////////////////////////////////\n",
        "import copy\n",
        "def fromChromozomeToDescriptionFuzzy_Thoa(chromozome, description):\n",
        "    CH = chromozome # For simplicity\n",
        "    result = copy.deepcopy(description)\n",
        "\n",
        "    fuzzyDescription = {\n",
        "        'inputs': {\n",
        "            'distance' : {\n",
        "                'S': list(np.arange(0, 10, 0.1)),\n",
        "                'M': {'VC': [0, 0, 2.5], 'C': [0, 2.5, 5], 'M': [2.5, 5, 7.5], 'F': [5, 7.5, 10], 'VF': [7.5, 10, 10]}\n",
        "            },\n",
        "            'angle' : {\n",
        "                'S': list(np.arange(-3.14, 3.14, 0.0628)),\n",
        "                'M': {'BN': [-3.14, -3.14, -1.57], 'N': [-3.14, -1.57, 0], 'Z': [-1.57, 0, 1.57], 'P': [0, 1.57, 3.14], 'BP': [1.57, 3.14, 3.14]}\n",
        "            }\n",
        "        },\n",
        "        'outputs': {\n",
        "            'omegaR': {\n",
        "                'S': list(np.arange(0, 30, 0.3)),\n",
        "                'rules': {\n",
        "                    'VC': {'BN': 'VSR', 'N': 'SR', 'Z': 'VSR', 'P': 'BR', 'BP': 'VBR'},\n",
        "                    'C': {'BN': 'VSR', 'N': 'SR', 'Z': 'SR', 'P': 'BR', 'BP': 'VBR'},\n",
        "                    'M': {'BN': 'VSR', 'N': 'SR', 'Z': 'MBR', 'P': 'BR', 'BP': 'VBR'},\n",
        "                    'F': {'BN': 'VSR', 'N': 'SR', 'Z': 'BR', 'P': 'BR', 'BP': 'VBR'},\n",
        "                    'VF': {'BN': 'VSR', 'N': 'SR', 'Z': 'VBR', 'P': 'BR', 'BP': 'VBR'}\n",
        "                },\n",
        "                'mode': 'centroid',\n",
        "                'M': {'VSR': [0, 0, 7.5], 'SR': [0, 7.5, 15], 'MBR': [7.5, 15, 22.5], 'BR': [15, 22.5, 30], 'VBR': [22.5, 30, 30]}\n",
        "            },\n",
        "            'omegaL': {\n",
        "                'S': list(np.arange(0, 30, 0.3)),\n",
        "                'rules': {\n",
        "                    'VC': {'BN': 'VBL', 'N': 'BL', 'Z': 'VSL', 'P': 'SL', 'BP': 'VSL'},\n",
        "                    'C': {'BN': 'VBL', 'N': 'BL', 'Z': 'SL', 'P': 'SL', 'BP': 'VSL'},\n",
        "                    'M': {'BN': 'VBL', 'N': 'BL', 'Z': 'MBL', 'P': 'SL', 'BP': 'VSL'},\n",
        "                    'F': {'BN': 'VBL', 'N': 'BL', 'Z': 'BL', 'P': 'SL', 'BP': 'VSL'},\n",
        "                    'VF': {'BN': 'VBL', 'N': 'BL', 'Z': 'VBL', 'P': 'SL', 'BP': 'VSL'}\n",
        "                },\n",
        "                'mode': 'centroid',\n",
        "                'M': {'VSL': [0, 0, 7.5], 'SL': [0, 7.5, 15], 'MBL': [7.5, 15, 22.5], 'BL': [15, 22.5, 30], 'VBL': [22.5, 30, 30]}\n",
        "            }\n",
        "        }\n",
        "    }\n",
        "\n",
        "\n",
        "    distance_Member = {'VC': [0, 0, CH[0]],\n",
        "                       'C': [CH[2] - CH[1], CH[2], CH[2] + CH[3]],\n",
        "                       'M': [CH[5] - CH[4], CH[5], CH[5] + CH[6]],\n",
        "                       'F': [CH[8] - CH[7], CH[8], CH[8] + CH[9]],\n",
        "                       'VF': [10 - CH[10], 10, 10]}\n",
        "    fuzzyDescription['inputs']['distance']['M'] = distance_Member\n",
        "\n",
        "    angle_Member = {'BN': [-3.14, -3.14, -3.14+CH[11]],\n",
        "                    'N': [CH[13] - CH[12], CH[13], CH[13] + CH[14]],\n",
        "                    'Z': [CH[16] - CH[15], CH[16], CH[16] + CH[17]],\n",
        "                    'P': [CH[19] - CH[18], CH[19], CH[19] + CH[20]],\n",
        "                    'BP': [3.14 - CH[21], 3.14, 3.14]}\n",
        "    fuzzyDescription['inputs']['angle']['M'] = angle_Member\n",
        "\n",
        "    omegaR_Member =  {'VSR': [0, 0, CH[22]],\n",
        "                      'SR': [CH[24] - CH[23], CH[24], CH[24] + CH[25]],\n",
        "                      'MBR': [CH[27] - CH[26], CH[27], CH[27] + CH[28]],\n",
        "                      'BR': [CH[30] - CH[29], CH[30], CH[30] + CH[31]],\n",
        "                      'VBR': [30 - CH[32], 30, 30]}\n",
        "    fuzzyDescription['outputs']['omegaR']['M'] = omegaR_Member\n",
        "\n",
        "    omegaL_Member =  {'VSL': [0, 0, CH[33]],\n",
        "                      'SL': [CH[35] - CH[34], CH[35], CH[35] + CH[36]],\n",
        "                      'MBL': [CH[38] - CH[37], CH[38], CH[38] + CH[39]],\n",
        "                      'BL': [CH[41] - CH[40], CH[41], CH[41] + CH[42]],\n",
        "                      'VBL': [30 - CH[43], 30, 30]}\n",
        "    fuzzyDescription['outputs']['omegaL']['M'] = omegaL_Member\n",
        "\n",
        "    result['controllerParams']['fuzzyDescription'] = fuzzyDescription\n",
        "\n",
        "    result['controllerParams']['r'] = result['robotParams']['r']\n",
        "    result['controllerParams']['b'] = result['robotParams']['b']\n",
        "    return result"
      ]
    },
    {
      "cell_type": "markdown",
      "metadata": {
        "id": "RZUKye1mA8AC"
      },
      "source": [
        "## Path Mapping Function"
      ]
    },
    {
      "cell_type": "markdown",
      "metadata": {
        "id": "3R0-amb-A8AC"
      },
      "source": [
        "This function allows to easy transform a data structure simulation description from path which a robot has to follow."
      ]
    },
    {
      "cell_type": "code",
      "execution_count": null,
      "metadata": {
        "id": "PRcpaMkZA8AC"
      },
      "outputs": [],
      "source": [
        "import copy\n",
        "def fromPathToDescription(path, description):\n",
        "    result = copy.deepcopy(description)\n",
        "    result['path'] = list(path)\n",
        "    return result"
      ]
    },
    {
      "cell_type": "markdown",
      "metadata": {
        "id": "Z6JfWpThhVjo"
      },
      "source": [
        "## Fitness Functions (Based on Chromozomes)"
      ]
    },
    {
      "cell_type": "markdown",
      "metadata": {
        "id": "KiZyaEB3A8AD"
      },
      "source": [
        "For optimization a fitness function is needed. The simulation function has been defined earlier in this document. A fitness function must transform chromozome into simulation description, run appropriate simulation and return all results or a subset of results. This chapter defines a bunch of fitness functions suitable for a such task."
      ]
    },
    {
      "cell_type": "markdown",
      "metadata": {
        "id": "KwB4GtLZlTIx"
      },
      "source": [
        "### Helper Functions"
      ]
    },
    {
      "cell_type": "markdown",
      "metadata": {
        "id": "tvyR3uMTA8AD"
      },
      "source": [
        "#### Function for Fitness Function Creation"
      ]
    },
    {
      "cell_type": "markdown",
      "metadata": {
        "id": "mMxM9jqwA8AD"
      },
      "source": [
        "```createFitnessFunction``` allows to create fitness function which is appropriate for description, chromosome decoder (```mapperFunction```), function which creates controller (```controllerCreator```) and, if needed, selection of subresult (```resultSelector```)."
      ]
    },
    {
      "cell_type": "code",
      "execution_count": null,
      "metadata": {
        "id": "3QgaKb7jbC4u"
      },
      "outputs": [],
      "source": [
        "def createFitnessFunction(baseDescription, mapperFunction, controllerCreator, resultSelector=lambda item: item):\n",
        "    def fitnessFunction(chromozome):\n",
        "        freshDescription = mapperFunction(chromozome, baseDescription)\n",
        "        results = runSimulation(freshDescription, controllerCreator, selectors=selectors)\n",
        "        result = resultSelector(results)\n",
        "        return result\n",
        "    return fitnessFunction"
      ]
    },
    {
      "cell_type": "code",
      "execution_count": null,
      "metadata": {
        "id": "kyqW0vFMj43X"
      },
      "outputs": [],
      "source": [
        "def energySelector(results):\n",
        "    return results['E'][-1]"
      ]
    },
    {
      "cell_type": "code",
      "execution_count": null,
      "metadata": {
        "id": "UF4CM8sMj_lu"
      },
      "outputs": [],
      "source": [
        "def distanceSelector(results):\n",
        "    return results['d'][-1]"
      ]
    },
    {
      "cell_type": "markdown",
      "metadata": {
        "id": "C76b7EWsmLL6"
      },
      "source": [
        "#### Multivalue Functions"
      ]
    },
    {
      "cell_type": "markdown",
      "metadata": {
        "id": "MdL2HWxJA8AE"
      },
      "source": [
        "```singleAsMultiValue``` transforms function with scalar value into function with vector value. Such transformation creates a functionc which can evaluate multiple values in single call."
      ]
    },
    {
      "cell_type": "code",
      "execution_count": null,
      "metadata": {
        "id": "fSDyVicrmP05"
      },
      "outputs": [],
      "source": [
        "def singleAsMultiValue(singleFunction):\n",
        "    def resultFunction(chromosomes):\n",
        "        results = []\n",
        "        for chromosome in chromosomes:\n",
        "            results.append(singleFunction(chromosome))\n",
        "        return results\n",
        "    return resultFunction"
      ]
    },
    {
      "cell_type": "markdown",
      "metadata": {
        "id": "efIGekNSlWAF"
      },
      "source": [
        "### Simulation Description"
      ]
    },
    {
      "cell_type": "markdown",
      "metadata": {
        "id": "fpZYVPYIli8p"
      },
      "source": [
        "From this point simulations depend on ```simulationDescription``` defined in next code. Thus if any change is needed this is best place for it."
      ]
    },
    {
      "cell_type": "code",
      "execution_count": null,
      "metadata": {
        "id": "7gGSqqPXicpc"
      },
      "outputs": [],
      "source": [
        "\n",
        "simulationDescription = {\n",
        "    'robotState0': {\n",
        "        'x': 0,\n",
        "        'y': 0,\n",
        "        'theta': -3.14 / 4\n",
        "    },\n",
        "\n",
        "    'path': [\n",
        "        [0, 0, 0],  # X, Y, orientation\n",
        "        [2, 0, 0],  # X, Y, orientation\n",
        "        [2, 2, 0],  # X, Y, orientation\n",
        "        [4, 2, 0],  # X, Y, orientation\n",
        "        [4, 4, 0]\n",
        "    ],\n",
        "\n",
        "    'robotParams': {\n",
        "        'r': 0.0425,\n",
        "        'b': 0.2,\n",
        "        'm': 1.733,\n",
        "        'I': 0.008,\n",
        "        #'motorParams': None,\n",
        "        'motorParams': {\n",
        "            'J': 0.037,         # Kg.m2/s2\n",
        "            'B': 0.004,         # Nms\n",
        "            'Kt': 0.001,        # Nm/A\n",
        "            'Ke': 0.03,         # Nm/A\n",
        "            'Ra': 0.7,          # Ohm\n",
        "            'La': 0.01          # H\n",
        "        }\n",
        "    },\n",
        "\n",
        "    'controllerParams': {\n",
        "        'omega_ri': 0, 'vri': 2.0,'lowVelocityLimit': 0,\n",
        "        'highVelocityLimit': 4.0, 'lowOmegaLimit': -3.14, 'highOmegaLimit': 3.14\n",
        "    },\n",
        "\n",
        "    'simulationParams': {\n",
        "        't0': 0,\n",
        "        't_bound': 100,\n",
        "        'max_step': 0.01\n",
        "    }\n",
        "}\n"
      ]
    },
    {
      "cell_type": "markdown",
      "metadata": {
        "id": "NCcjm8hgc8D1"
      },
      "source": [
        "### Fuzzy Logic Controller"
      ]
    },
    {
      "cell_type": "markdown",
      "metadata": {
        "id": "VAmNv9U9A8AF"
      },
      "source": [
        "#### Singlevalue Functions"
      ]
    },
    {
      "cell_type": "code",
      "execution_count": null,
      "metadata": {
        "id": "3Q45mv7wiN6z"
      },
      "outputs": [],
      "source": [
        "\n",
        "fitnessFunctionFLC_Energy = createFitnessFunction(simulationDescription, fromChromozomeToDescriptionFuzzy, createFuzzyController, energySelector)\n",
        "fitnessFunctionFLC_Distance = createFitnessFunction(simulationDescription, fromChromozomeToDescriptionFuzzy, createFuzzyController, distanceSelector)\n",
        "fitnessFunctionFLC_FullResults = createFitnessFunction(simulationDescription, fromChromozomeToDescriptionFuzzy, createFuzzyController)\n"
      ]
    },
    {
      "cell_type": "markdown",
      "metadata": {
        "id": "QZp7QaaJA8AF"
      },
      "source": [
        "#### Multivalue Functions"
      ]
    },
    {
      "cell_type": "code",
      "execution_count": null,
      "metadata": {
        "id": "FKY8tIQDA8AF"
      },
      "outputs": [],
      "source": [
        "\n",
        "fitnessFunctionFLC_EnergyMulti = singleAsMultiValue(fitnessFunctionFLC_Energy)\n",
        "fitnessFunctionFLC_DistanceMulti = singleAsMultiValue(fitnessFunctionFLC_Distance)\n",
        "fitnessFunctionFLC_FullResultsMulti = singleAsMultiValue(fitnessFunctionFLC_FullResults)\n"
      ]
    },
    {
      "cell_type": "markdown",
      "metadata": {
        "id": "Q_Hkrz5zl8GQ"
      },
      "source": [
        "## Computer Cluster Help"
      ]
    },
    {
      "cell_type": "markdown",
      "metadata": {
        "id": "UrV8gGOLME7f"
      },
      "source": [
        "Multivalue fitness function is function which takes an array of chromozomes and returns another array containing the fitness values for all given chromozomes. Body of a such function could be implemented as a parallel process which decrease time needed for its evaluation.\n",
        "\n",
        "The parallel process might be implemented in different ways. One of them, and probably the best one, is usage of distributed evaluation with help of computer cluster. Computer cluster creation is well-documented process with standard steps, thus, a scientist who want to use this technique must just define single environment, environment for evaluation of single fitness function. When you are running a computer cluster be sure that timeouts are defined appropriate. Simulation could need a couple of seconds and the balancer should be configured for it. There is not any backup for situation when the request is timed out.\n",
        "\n",
        "As an envelope around this environment the web service might be used. However, this leads to asynchronous execution. As the optimization libraries for Python are synchronous, the connection between asynchronous and synchronous parts must be created."
      ]
    },
    {
      "cell_type": "markdown",
      "metadata": {
        "id": "6aDfyUMtA8AI"
      },
      "source": [
        "### Main Function for Server"
      ]
    },
    {
      "cell_type": "markdown",
      "metadata": {
        "id": "g64ZhTcWzP_R"
      },
      "source": [
        "```evaluateSingleFLCSimulation``` is function which could be used for a webservice which transforms incomming document into simulation results."
      ]
    },
    {
      "cell_type": "code",
      "execution_count": null,
      "metadata": {
        "id": "KkzH7SuAA8AI"
      },
      "outputs": [],
      "source": [
        "def evaluateSingleFLCSimulation(description):\n",
        "    results = runSimulation(description, createFuzzyController, selectors)\n",
        "    return results"
      ]
    },
    {
      "cell_type": "markdown",
      "metadata": {
        "id": "7witZAKHSm0-"
      },
      "source": [
        "### Async as Sync"
      ]
    },
    {
      "cell_type": "markdown",
      "metadata": {
        "id": "eOjYeP0QZAdB"
      },
      "source": [
        "For ability to evaluate set of simulations in parallel async functions should be used and maintaned. For optimization algorithms this must be callable from synchronous environment and thus a conversion from async to sync must be done. This part of code has been taken from https://stackoverflow.com/questions/49330905/how-to-run-a-coroutine-and-wait-it-result-from-a-sync-func-when-the-loop-is-runn"
      ]
    },
    {
      "cell_type": "code",
      "execution_count": null,
      "metadata": {
        "id": "KVj2C_6RSoE2"
      },
      "outputs": [],
      "source": [
        "import asyncio\n",
        "import threading\n",
        "#----------------------------------------\n",
        "# upgraded from https://stackoverflow.com/questions/49330905/how-to-run-a-coroutine-and-wait-it-result-from-a-sync-func-when-the-loop-is-runn\n",
        "#----------------------------------------\n",
        "\n",
        "def evalSet(asyncTask, values):\n",
        "    loop = asyncio.new_event_loop() # construct a new event loop\n",
        "\n",
        "    def run_forever_safe(loop):\n",
        "        loop.run_forever()\n",
        "        # for Python 3.7 and newer\n",
        "        loop_tasks_all = asyncio.all_tasks(loop=loop)\n",
        "        # for Python 3.6\n",
        "        #loop_tasks_all = asyncio.Task.all_tasks(loop=loop)\n",
        "\n",
        "        for task in loop_tasks_all:\n",
        "            task.cancel()\n",
        "\n",
        "        for task in loop_tasks_all:\n",
        "            if not (task.done() or task.cancelled()):\n",
        "                try:\n",
        "                    #wait for task cancellations\n",
        "                    loop.run_until_complete(task)\n",
        "                except asyncio.CancelledError: pass\n",
        "\n",
        "        loop.close()\n",
        "\n",
        "    def stop_loop(loop):\n",
        "        ''' stops an event loop '''\n",
        "        loop.stop()\n",
        "        #print (\".:) LOOP STOPPED:\", loop.is_running())\n",
        "\n",
        "    def await_sync(task):\n",
        "        ''' synchronously waits for a task '''\n",
        "        while not task.done():\n",
        "            pass\n",
        "        #print(\".: AWAITED TASK DONE\")\n",
        "        return task.result()\n",
        "\n",
        "    #-- closures for running and stopping the event-loop\n",
        "    run_loop_forever = lambda: run_forever_safe(loop)\n",
        "    close_loop_safe = lambda: loop.call_soon_threadsafe(stop_loop, loop)\n",
        "\n",
        "    #-- make dedicated thread for running the event loop\n",
        "    thread = threading.Thread(target=run_loop_forever)\n",
        "\n",
        "    #-- add some tasks along with my particular task\n",
        "    evaluationTasks = [asyncio.run_coroutine_threadsafe(asyncTask(value), loop=loop) for value in values]\n",
        "\n",
        "    #-- begin the thread to run the event-loop\n",
        "    thread.start()\n",
        "\n",
        "    #-- _synchronously_ wait for the result of my task\n",
        "    results = [await_sync(task) for task in evaluationTasks]\n",
        "\n",
        "    # close the loop gracefully when everything is finished\n",
        "    close_loop_safe()\n",
        "    thread.join()\n",
        "    return results\n",
        "#----------------------------------------"
      ]
    },
    {
      "cell_type": "markdown",
      "metadata": {
        "id": "VcEp1g5vSvk8"
      },
      "source": [
        "### Webservice Usage"
      ]
    },
    {
      "cell_type": "code",
      "execution_count": null,
      "metadata": {
        "id": "bx7zSJkeTptg"
      },
      "outputs": [],
      "source": [
        "!pip install aiohttp"
      ]
    },
    {
      "cell_type": "code",
      "execution_count": null,
      "metadata": {
        "id": "q5VTH7O5SxqN"
      },
      "outputs": [],
      "source": [
        "import time\n",
        "def mS(start = 0):\n",
        "    return int(round(time.time() * 1000)) - start"
      ]
    },
    {
      "cell_type": "markdown",
      "metadata": {
        "id": "bm2qPPFtZs98"
      },
      "source": [
        "This part encapsules a remote fitness function evaluator. Parameter describes fully the simulation thus a remote evaluator does not make any conversion, just run the described simulation and returns the results.\n",
        "\n",
        "This function is crucial in use of computer cluster on client side. Also this is a point where the evaluation could be redirected to proper sources."
      ]
    },
    {
      "cell_type": "code",
      "execution_count": null,
      "metadata": {
        "id": "RuUrMNTaBsHV"
      },
      "outputs": [],
      "source": [
        "import aiohttp\n",
        "import asyncio\n",
        "\n",
        "url = 'http://192.168.1.100:4000/api/evaluator/FFFF' # Must use your url here\n",
        "\n",
        "async def fitnessFunctionAsWebservice(value):\n",
        "    #async with aiohttp.ClientSession() as session:\n",
        "    async with aiohttp.ClientSession(connector=aiohttp.TCPConnector(ssl=False)) as session:\n",
        "        response = await session.post(url, json=value, headers = {'content-type': 'application/x-json'})\n",
        "        try:\n",
        "            json_body = await response.json()\n",
        "        except:\n",
        "            rtext = await response.text()\n",
        "            print(rtext)\n",
        "    return json_body"
      ]
    },
    {
      "cell_type": "code",
      "execution_count": null,
      "metadata": {
        "id": "ntFwAdzwHe90"
      },
      "outputs": [],
      "source": [
        "def callResultsFLC():\n",
        "    sTime = mS()\n",
        "    results = evalSet(fitnessFunctionAsWebservice, [fitnessFunctionDescription])\n",
        "    return results"
      ]
    },
    {
      "cell_type": "markdown",
      "metadata": {
        "id": "gchBFuIHSncf"
      },
      "source": [
        "### Remote / Cluster Fitness Function Evaluation"
      ]
    },
    {
      "cell_type": "markdown",
      "metadata": {
        "id": "M8ybC1xqzP_U"
      },
      "source": [
        "This function is the real \"sibling\" of other fitness functions introduced earlier. However, this function transforms chromosomes into simulation descriptions and send them for evaluation to a computer cluster. Results received from the computer cluster are json decoded and returned."
      ]
    },
    {
      "cell_type": "code",
      "execution_count": null,
      "metadata": {
        "id": "QBALnGhNStCE"
      },
      "outputs": [],
      "source": [
        "import copy\n",
        "def fitnessFunctionFLC_FullMultiRemote(chromosomes):\n",
        "\n",
        "    descriptions = []\n",
        "\n",
        "    for chromosome in chromosomes:\n",
        "        tempDescription = copy.deepcopy(simulationDescription)\n",
        "        description = fromChromozomeToDescriptionFuzzy(chromosome, tempDescription)\n",
        "        descriptions.append(description)\n",
        "\n",
        "    results = evalSet(fitnessFunctionAsWebservice, descriptions)\n",
        "    return results"
      ]
    },
    {
      "cell_type": "code",
      "execution_count": null,
      "metadata": {
        "id": "0uAKEislzP_V"
      },
      "outputs": [],
      "source": [
        "def fitnessFunctionFLC_EnergyMultiRemote(chromosomes):\n",
        "    results = fitnessFunctionFLC_FullMultiRemote(chromosomes)\n",
        "\n",
        "    selectedResults = []\n",
        "    for result in results:\n",
        "        selectedResults.append(result['E'])\n",
        "\n",
        "    return selectedResults\n",
        "\n",
        "def fitnessFunctionFLC_DistanceMultiRemote(chromosomes):\n",
        "    results = fitnessFunctionFLC_FullMultiRemote(chromosomes)\n",
        "\n",
        "    selectedResults = []\n",
        "    for result in results:\n",
        "        selectedResults.append(result['E'])\n",
        "    return selectedResults"
      ]
    },
    {
      "cell_type": "markdown",
      "metadata": {
        "id": "jWxJuyY4VWx2"
      },
      "source": [
        "### Decision about Cluster Use"
      ]
    },
    {
      "cell_type": "markdown",
      "metadata": {
        "id": "uZNm9vi4zP_V"
      },
      "source": [
        "This part ovewrites definitions of fitness functions evaluating simulation with use of fuzzy logic controller."
      ]
    },
    {
      "cell_type": "code",
      "execution_count": null,
      "metadata": {
        "id": "KvzIn4p8VZ44"
      },
      "outputs": [],
      "source": [
        "if useCluster:\n",
        "    fitnessFunctionFLC_EnergyMulti = fitnessFunctionFLC_EnergyMultiRemote        #singleAsMultiValue(fitnessFunctionFLC_Energy)\n",
        "    fitnessFunctionFLC_DistanceMulti = fitnessFunctionFLC_DistanceMultiRemote    #singleAsMultiValue(fitnessFunctionFLC_Distance)\n",
        "    fitnessFunctionFLC_FullResultsMulti = fitnessFunctionFLC_FullMultiRemote     #singleAsMultiValue(fitnessFunctionFLC_FullResults)\n",
        "    pass\n"
      ]
    },
    {
      "cell_type": "markdown",
      "metadata": {
        "id": "imNDlhwkl3D9"
      },
      "source": [
        "## Optimization"
      ]
    },
    {
      "cell_type": "markdown",
      "metadata": {
        "id": "FAa2NWjazP_W"
      },
      "source": [
        "In previous chapters the simulation has been implemented, also different transformation functions have been introduced. From them a couple of fitness function has been declared. For the optimizaton task just an optimization algorithm is needed. For this stage the [pymoo library](https://pymoo.org/) has been chosen."
      ]
    },
    {
      "cell_type": "markdown",
      "metadata": {
        "id": "dDEnvApgmIIt"
      },
      "source": [
        "### Inevitable Imports"
      ]
    },
    {
      "cell_type": "code",
      "source": [
        "pip install -U pymoo"
      ],
      "metadata": {
        "id": "dQ5Aka36fQwP"
      },
      "execution_count": null,
      "outputs": []
    },
    {
      "cell_type": "code",
      "execution_count": null,
      "metadata": {
        "id": "l97DupkDl8By"
      },
      "outputs": [],
      "source": [
        "import time\n",
        "from pymoo.algorithms.soo.nonconvex.ga import GA\n",
        "from pymoo.core.problem import Problem\n",
        "from pymoo.optimize import minimize\n",
        "from pymoo.factory import get_termination\n",
        "from pymoo.visualization.scatter import Scatter\n",
        "from pymoo.core.problem import ElementwiseProblem\n",
        "from pymoo.core.callback import Callback"
      ]
    },
    {
      "cell_type": "markdown",
      "metadata": {
        "id": "VyN_DjJKmL-W"
      },
      "source": [
        "### Formal Problem Description"
      ]
    },
    {
      "cell_type": "code",
      "execution_count": null,
      "metadata": {
        "id": "3EQCVi5yQ-15"
      },
      "outputs": [],
      "source": [
        "simulationDescription = {\n",
        "    'robotState0': {\n",
        "        'x': 0,\n",
        "        'y': 0,\n",
        "        'theta': 0,\n",
        "    },\n",
        "\n",
        "    'path':[\n",
        "        [0, 0, 0],  # X, Y, orientation\n",
        "        [2, 0, 0],  # X, Y, orientation\n",
        "        [2, 2, 0],  # X, Y, orientation\n",
        "        [4, 2, 0],  # X, Y, orientation\n",
        "        [4, 4, 0]\n",
        "    ],\n",
        "\n",
        "    'robotParams': {\n",
        "        'r': 0.0425,\n",
        "        'b': 0.2,\n",
        "        'm': 1.733,\n",
        "        'I': 0.008,\n",
        "        #'motorParams': None,\n",
        "        'motorParams': {\n",
        "            'J': 0.037,     # kg.m2/s2\n",
        "            'B': 0.004,     # Nms\n",
        "            'Kt': 0.001,    # Nm/A\n",
        "            'Ke': 0.03,     # Nm/A\n",
        "            'Ra': 0.7,      # Ohm\n",
        "            'La': 0.01      # H\n",
        "        }\n",
        "    },\n",
        "\n",
        "    'controllerParams': {\n",
        "        'omega_ri': 0, 'vri': 2.0,'lowVelocityLimit': 0,\n",
        "        'highVelocityLimit': 4.0, 'lowOmegaLimit': -3.14, 'highOmegaLimit': 3.14\n",
        "    },\n",
        "\n",
        "    'simulationParams': {\n",
        "        't0': 0,\n",
        "        't_bound': 100,\n",
        "        'max_step': 0.01\n",
        "    }\n",
        "}"
      ]
    },
    {
      "cell_type": "code",
      "execution_count": null,
      "metadata": {
        "id": "C1lN4F2QA8AL"
      },
      "outputs": [],
      "source": [
        "\n",
        "#//////////////////////----------FOR OPTIMIZATION OF BOTH MFS AND FUZZY RULES FOR FLC USING GA---------//////////////////////////////\n",
        "# The GA In this experiment, each population has many chromosomes. Each chromosome has 44 gens. These gens are responsible for the parameters of the membership functions of the FLC\n",
        "# The values of this parameter have been chosen in a range of [chromosomeFLCLow, chromosomeFLCUp] randomly.\n",
        "# In this experiment, based on the structure of the FLC and the parameters of real robot, I have chosen the chromosomeFLCLow and chromosomeFLCUp as below:\n",
        "\n",
        "problemParametersSetA = [2.5, 0, 0, 0, 0, 4.1, 0, 0, 6.1, 6.1, 2.5,            1.14, 0, -3.14,   0,    0, -1,   0,    0,    1,     0,   1.14] # input lower value\n",
        "problemParametersSetB = [7.5, 0, 0,  0,  0,  13.1,  0, 0, 17.1, 0, 7.5,        7.5, 0, 0,  0,  0,  13.1,  0, 0, 17.1, 0, 7.5]# output lower value\n",
        "problemParametersSetC = [0,0,0,0,0,0,0,0,0,0, 0,0,0,0,0,0,0,0,0,0, 0,0,0,0,0,0,0,0,0,0, 0,0,0,0,0,0,0,0,0,0, 0,0,0,0,0,0,0,0,0,0] # rules lower value\n",
        "chromosomeFLCLow = [*problemParametersSetA, *problemParametersSetB, *problemParametersSetC]\n",
        "\n",
        "problemParametersSetD = [5, 4, 4, 6, 2, 6,   2, 6, 10,  10,  5,           3.14, 2.14,   -1, 4.14, 2, 1, 2, 4.14, 3.14, 2.14, 3.14]# input upper value\n",
        "problemParametersSetE = [15,13, 13, 17, 4, 17, 4,9.5,   30,13,15,        15,13, 13, 17, 4, 17, 4,9.5,   30,13,15]# output upper value\n",
        "problemParametersSetF = [1,1,1,1,1,1,1,1,1,1, 1,1,1,1,1,1,1,1,1,1, 1,1,1,1,1,1,1,1,1,1, 1,1,1,1,1,1,1,1,1,1, 1,1,1,1,1,1,1,1,1,1] # rules upper value\n",
        "chromosomeFLCUp = [*problemParametersSetD, *problemParametersSetE, *problemParametersSetF]\n",
        "\n",
        "class MyProblem(Problem):\n",
        "    def __init__(self):\n",
        "        super().__init__(\n",
        "            n_var = 94, n_obj = 1, n_constr = 1,\n",
        "            xl=np.array([*problemParametersSetA, *problemParametersSetB, *problemParametersSetC]),\n",
        "            xu=np.array([*problemParametersSetD, *problemParametersSetE, *problemParametersSetF]),\n",
        "            ElementwiseProblem = False)\n",
        "\n",
        "    def _evaluate(self, Chromosome, out, *args, **kwargs):\n",
        "        if useCluster:\n",
        "            descriptions = [fromChromozomeToDescriptionFuzzy(ch, description=simulationDescription) for ch in Chromosome]\n",
        "            allResults = evalSet(fitnessFunctionAsWebservice, descriptions)\n",
        "        else:\n",
        "            allResults = [fitnessFunctionFLC_FullResults(ch) for ch in Chromosome]\n",
        "        f1 = np.array([energySelector(result) for result in allResults]) # used to evaluate the energy consumption\n",
        "        g1 = np.array([distanceSelector(result) - 8.2 for result in allResults])\n",
        "\n",
        "        out[\"F\"] = f1\n",
        "        out[\"G\"] = g1\n",
        "\n"
      ]
    },
    {
      "cell_type": "code",
      "execution_count": null,
      "metadata": {
        "id": "cepKoy3UVhJA"
      },
      "outputs": [],
      "source": [
        "'''\n",
        "#//////////////////------------FOR OPTIMIZATION ONLY MEMBERSHIP FUNCTION FOR FLC ----------//////////////\n",
        "problemParametersSetA = [2.5, 0, 0, 0, 0, 4.1, 0, 0, 6.1, 6.1, 2.5,            1.14, 0, -3.14,   0,    0, -1,   0,    0,    1,     0,   1.14] # input lower value\n",
        "problemParametersSetB = [7.5, 0, 0,  0,  0,  13.1,  0, 0, 17.1, 0, 7.5,        7.5, 0, 0,  0,  0,  13.1,  0, 0, 17.1, 0, 7.5]# output lower value\n",
        "chromosomeFLCLow = [*problemParametersSetA, *problemParametersSetB]\n",
        "\n",
        "problemParametersSetD = [5, 4, 4, 6, 2, 6,   2, 6, 10,  10,  5,           3.14, 2.14,   -1, 4.14, 2, 1, 2, 4.14, 3.14, 2.14, 3.14]# input upper value\n",
        "problemParametersSetE = [15,13, 13, 17, 4, 17, 4,9.5,   30,13,15,        15,13, 13, 17, 4, 17, 4,9.5,   30,13,15]# output upper value\n",
        "chromosomeFLCUp = [*problemParametersSetC, *problemParametersSetD]\n",
        "\n",
        "class MyProblem(Problem):\n",
        "    def __init__(self):\n",
        "        self.SpecialCounter = 0\n",
        "        super().__init__(\n",
        "            n_var=44, n_obj=1, n_constr=1,\n",
        "            xl=np.array([*problemParametersSetA, *problemParametersSetB]),\n",
        "            xu=np.array([*problemParametersSetC, *problemParametersSetD]),\n",
        "            )\n",
        "\n",
        "    def _evaluate(self, Chromosome, out, *args, **kwargs):\n",
        "        if useCluster:\n",
        "            descriptions = [fromChromozomeToDescriptionFuzzy_Thoa(ch, description=simulationDescription) for ch in Chromosome]\n",
        "            allResults = evalSet(fitnessFunctionAsWebservice, descriptions)\n",
        "        else:\n",
        "            allResults = [fitnessFunctionFLC_FullResults(ch) for ch in Chromosome]\n",
        "\n",
        "        f = np.array([energySelector(result) for result in allResults]) # used to evaluate the energy consumption\n",
        "        g = np.array([distanceSelector(result) - 8.4 for result in allResults]) # the constraint for tracking the zigzag path. Need to change value 50 when optimizing a different path.\n",
        "\n",
        "        out[\"F\"] = f\n",
        "        out[\"G\"] = g\n",
        "'''"
      ]
    },
    {
      "cell_type": "markdown",
      "metadata": {
        "id": "JpLkmGLJuagm"
      },
      "source": [
        "### Optimization Problem Solution"
      ]
    },
    {
      "cell_type": "code",
      "execution_count": null,
      "metadata": {
        "id": "wswUSSG7ufun"
      },
      "outputs": [],
      "source": [
        "'''\n",
        "if (RunOptimization == True):\n",
        "    start_time = time.time()\n",
        "    problem = MyProblem()\n",
        "\n",
        "    algorithm = GA(\n",
        "                  pop_size = 45,\n",
        "                  eliminate_duplicates = True\n",
        "                   )\n",
        "\n",
        "    termination = get_termination(\"n_gen\",150)\n",
        "\n",
        "    print('Going to optimize with use of movement along this path:', simulationDescription['path'])\n",
        "    res = minimize(problem,\n",
        "                  algorithm,\n",
        "                  termination,\n",
        "                  seed = 1,\n",
        "                  save_history = True,\n",
        "                  verbose = True)\n",
        "\n",
        "    print(f'After {res.exec_time} s the algorithm finished')\n",
        "    print(f'A solution \\n{res.X}\\n was found')\n",
        "    print(f'The suboptimal value of fitness function is \\t {res.F}')\n",
        "    Best_Chromosome = res.X\n",
        "'''"
      ]
    },
    {
      "cell_type": "markdown",
      "metadata": {
        "id": "eCg3vQ__EVC6"
      },
      "source": [
        "## Results Analysys"
      ]
    },
    {
      "cell_type": "markdown",
      "metadata": {
        "id": "cjuV4pWmQi0Z"
      },
      "source": [
        "### Optimal value over generation"
      ]
    },
    {
      "cell_type": "code",
      "execution_count": null,
      "metadata": {
        "id": "0XF7gE7VQdFM"
      },
      "outputs": [],
      "source": [
        "\n",
        "plt.rcParams[\"figure.figsize\"] = (12, 8)\n",
        "plt.rcParams[\"font.size\"] = \"18\"\n",
        "\n",
        "ret = [7.958939730276273, 6.923274772225024, 4.275518618320868, 4.275518618320868, 4.275518618320868, 4.159541255025122,\n",
        "       4.112708005949121, 3.6853357214871223, 2.7484024683459922, 2.7322149793150903, 2.6428951580963065, 2.505989027550943,\n",
        "       2.306292531593161, 2.0746162644453623, 2.0746162644453623, 2.0687781993447376, 1.903340098113094, 1.903340098113094,\n",
        "       1.8761513524587998, 1.8761513524587998, 1.7846031583961448, 1.387775536382206, 1.3475602511716442, 1.307566008315189,\n",
        "       1.2486075987013348, 1.1703817213392103, 1.148191216980042, 1.148191216980042, 1.1471884117331066, 1.1424804862376918,\n",
        "       1.1116650587660688, 1.1034631976529052, 1.0997726194501742, 1.0733505203698865, 1.0730364819809242, 1.0707889041431713,\n",
        "       1.0263469848017999, 1.0241207202102025, 1.0204949090877289, 1.0036015842680255, 1.0035751931523782, 0.9950559401879129,\n",
        "       0.9615063557272805, 0.9615063557272805, 0.9603464760871075, 0.9066767850340285, 0.8946186827328246, 0.8946186827328246,\n",
        "       0.8904079510326592, 0.8804145113237758, 0.8728699937011858, 0.8728699937011858, 0.8677194194322239, 0.861618598606231,\n",
        "       0.8432866615653021, 0.8016396174699656, 0.7042374917227248, 0.7042374917227248, 0.7038209156441284, 0.6572005372203787,\n",
        "       0.6088791341617071, 0.6088791341617071, 0.6088791341617071, 0.6088791341617071, 0.6040611120231909, 0.5745801436651629,\n",
        "       0.5533116284534394, 0.5511614857345417, 0.5173143195540915, 0.5126763747539194, 0.5126763747539194, 0.5117402652159533,\n",
        "       0.41603367854751616, 0.41603367854751616, 0.4157381718915709, 0.4156165296005501, 0.41554298584890226,\n",
        "       0.41546752655293157, 0.4145364774326631, 0.4145364774326631, 0.4143459854137077, 0.4118380393027594, 0.4118380393027594,\n",
        "       0.4118380393027594, 0.40567714757011236, 0.40521425863710253, 0.40521425863710253, 0.3977665855983746, 0.38881891640163635,\n",
        "       0.383839291900845, 0.383839291900845, 0.383839291900845, 0.38086457848671706, 0.38086457848671706, 0.37094251833288244,\n",
        "       0.3612566779145217, 0.2772549077458312, 0.27725490774584853, 0.27725490774584853, 0.26725490774584853, 0.26725490774584853,\n",
        "       0.26725490774585064, 0.2672549077458649, 0.2672549077458649, 0.2672549077458649, 0.26725490774586646, 0.2672549077458795,\n",
        "       0.2372549077458795, 0.2372549077458795, 0.23725490774588117, 0.23725490774589347, 0.23725490774589347, 0.23725490774589347,\n",
        "       0.19725490774589508, 0.19725490774590662, 0.19725490774590662, 0.19725490774590662, 0.19725490774590823, 0.19725490774591914,\n",
        "       0.19725490774591914, 0.19725490774591914, 0.19725490774592072, 0.19725490774593102, 0.19725490774594137, 0.19725490774594137,\n",
        "       0.19725490774594137, 0.19725490774594137, 0.19725490774594717, 0.19725490774596402, 0.19725490774596402, 0.19725490774596402,\n",
        "       0.19725490774596402, 0.19725490774596613, 0.19725490774598012, 0.19725490774598012, 0.19725490774598012, 0.19725490774598167,\n",
        "       0.19725490774599452, 0.19725490774599452, 0.19725490774599452, 0.1972549077459962, 0.1972549077460083, 0.1972549077460083,\n",
        "       0.1972549077460083, 0.1972549077460099, 0.19725490774602128, 0.19725490774602128, 0.19725490774602128, 0.1972549077460229,\n",
        "       0.19725490774603363, 0.19725490774604473, 0.19725490774604473, 0.19725490774604473, 0.19725490774604473, 0.19725490774605067,\n",
        "       0.1972549077460686, 0.1972549077460686, 0.1972549077460686, 0.1972549077460686, 0.1972549077460707, 0.1972549077460853,\n",
        "       0.1972549077460853, 0.1972549077460853, 0.19725490774608687, 0.1972549077461002, 0.1972549077461002, 0.1972549077461002,\n",
        "       0.19725490774610185, 0.1972549077461144, 0.1972549077461144, 0.1972549077461144, 0.197254907746116, 0.1972549077461278,\n",
        "       0.1972549077461278, 0.1972549077461278, 0.19725490774612942, 0.19725490774614052, 0.19725490774614052, 0.19725490774614052,\n",
        "       0.1972549077461421, 0.1972549077461526, 0.19725490774616328, 0.19725490774616328, 0.19725490774616328, 0.19725490774616328,\n",
        "       0.19725490774616913, 0.19725490774618645, 0.19725490774618645, 0.19725490774618645, 0.19725490774618645, 0.19725490774618856,\n",
        "       0.19725490774620263, 0.19725490774620264, 0.19725490774620265, 0.19725490774620266, 0.19725490774620268, 0.19725490774620269,\n",
        "       0.19725490774620280, 0.19725490774620281, 0.19725490774620283]\n",
        "\n",
        "plt.plot(np.arange(len(ret)), ret, 'b-', lw=3)\n",
        "plt.title(\"Convergence\")\n",
        "plt.xlabel(\"Generation\")\n",
        "plt.ylabel(\"Fitness value\")\n",
        "plt.legend()\n",
        "plt.show()"
      ]
    },
    {
      "cell_type": "markdown",
      "metadata": {
        "id": "sANNcbmnzP_X"
      },
      "source": [
        "### Selectors Reintroduction"
      ]
    },
    {
      "cell_type": "code",
      "execution_count": null,
      "metadata": {
        "id": "6xjIuXH8KOPt"
      },
      "outputs": [],
      "source": [
        "selectx = lambda item: item['y'][0]         # x position\n",
        "selecty = lambda item: item['y'][1]         # y position\n",
        "selectt = lambda item: item['time']         # time\n",
        "selectv = lambda item: item['dy'][3]        # velocity\n",
        "selectomega = lambda item: item['dy'][2]    # omega = theta_dot\n",
        "selecte = lambda item: item['TotalEnergy']  # total energy\n",
        "selects = lambda item: item['y'][3]         # displacement\n",
        "selectors = {\n",
        "    'time': selectt,\n",
        "    'x': selectx,\n",
        "    'y': selecty,\n",
        "    'd': selects,\n",
        "    'v': selectv,\n",
        "    'omega': selectomega,\n",
        "    'E': selecte}"
      ]
    },
    {
      "cell_type": "markdown",
      "metadata": {
        "id": "yuF2pdqCzP_Y"
      },
      "source": [
        "### Comparative Simulations"
      ]
    },
    {
      "cell_type": "code",
      "execution_count": null,
      "metadata": {
        "id": "b_Igp2K0Wl5y"
      },
      "outputs": [],
      "source": [
        "# //////////////----BY EXPERT-----////////////////////////////////////////\n",
        "Expert_FLC_Chromosome =  [2.5,2.5,2.5,2.5,2.5,5,2.5,2.5,7.5,2.5,2.5,  1.57,1.57,-1.57,1.57,1.57,0,1.57,1.57,1.57,1.57,1.57,\n",
        "                            7.5,7.5,7.5,7.5,7.5,15,7.5,7.5,22.5,7.5,7.5,  7.5,7.5,7.5,7.5,7.5,15,7.5,7.5,22.5,7.5,7.5,\n",
        "                            0,0.2,0,0.6,0.8,0,0.2,0.2,0.6,0.8,0,0.2,0.4,0.6,0.8,0,0.2,0.6,0.6,0.8,0,0.2,0.8,0.6,0.8,0.8,0.6,0,\n",
        "                            0.2,0,0.8,0.6,0.2,0.2,0,0.8,0.6,0.4,0.2,0,0.8,0.6,0.6,0.2,0,0.8,0.6,0.8,0.2,0]\n",
        "\n",
        "\n",
        "# /////////////////////////--------AFTER OPTIMIZING ONLY MEMBERSHIP FUNCTION ----------/////////////////////////\n",
        "GA_FLC_Chromosome_MFS = [2.57475679e+00,  1.53385138e+00,  2.50155673e+00,  1.26455585e+00,\n",
        "                       1.87561086e+00,  4.10836493e+00,  1.90347817e+00,  2.33295551e+00,\n",
        "                       8.94806436e+00,  7.28401522e+00,  4.50572226e+00,  1.20006983e+00,\n",
        "                       2.93901416e-01, -1.46725023e+00,  2.11797444e+00,  1.95222431e+00,\n",
        "                      -9.29909680e-01,  3.45373481e-02,  3.06832597e+00,  2.18321422e+00,\n",
        "                       3.68127553e-01,  1.14914148e+00,  1.32435929e+01,  1.28929720e+01,\n",
        "                       4.99362005e+00,  2.57316497e+00,  2.51610431e-02,  1.31089719e+01,\n",
        "                       4.58729417e-03,  9.49913114e+00,  1.71017795e+01,  1.12214638e-02,\n",
        "                       7.91843487e+00,  1.19429052e+01,  6.32403599e+00,  1.82133740e-02,\n",
        "                       8.93647412e+00,  2.36811081e+00,  1.39808695e+01,  3.95936247e+00,\n",
        "                       9.41293500e+00,  1.71023131e+01,  2.12693272e-01,  1.47409146e+01,\n",
        "                       0,0.2,0,0.6,0.8,0,0.2,0.2,0.6,0.8,0,0.2,0.4,0.6,0.8,0,0.2,0.6,0.6,0.8,0,0.2,0.8,0.6,0.8,0.8,0.6,0,\n",
        "                       0.2,0,0.8,0.6,0.2,0.2,0,0.8,0.6,0.4,0.2,0,0.8,0.6,0.6,0.2,0,0.8,0.6,0.8,0.2,0]\n",
        "\n",
        "# /////////////////////////--------AFTER OPTIMIZING BOTH MEMBERSHIP FUNCTION AND RULES----------/////////////////////////\n",
        "GA_FLC_Chromosome = [3.9522860693366573, 1.0456355001262425, 3.9730631191179153,\n",
        "  0.5737875860400435, 0.6393471959428342, 4.7715716130381125,\n",
        "  1.7662665012843948, 0.16596906879729445, 7.468565568544421,\n",
        "  8.324643898699579, 2.759971831474314, 1.4185290038539293,\n",
        "  2.021031937914665, -1.569562175008441, 3.516382523133156,\n",
        "  0.5634530671155795, 0.4063185365071681, 1.9961068673673616,\n",
        "  1.6459126951804617, 1.5611605188658715, 1.7570648380442513,\n",
        "  3.136008751957028, 8.941548218174452, 10.738284203644497,\n",
        "  1.5910774253397604, 12.978277563505902, 2.440790824413119,\n",
        "  16.41008386610381, 1.6577138873239816, 0.07655792484918983,\n",
        "  17.103237505082646, 1.893427690814113, 13.447287049686253,\n",
        "  9.315205621278778, 0.6273737563592354, 7.023930083439803,\n",
        "  0.7733471723347687, 1.3309020533757123, 16.7291563037684,\n",
        "  0.8010538111669511, 6.524480908118403, 27.359654493797155,\n",
        "  10.960100529843851, 10.406230457051267,\n",
        "  0.524568997033084, 0.1021986726399918, 0.3647635027809334, 0.71119944898927, 0.0114504800014430441,\n",
        "  0.03739117879196, 0.0559356427619026,  0.8377556109999035, 0.97152321511933, 0.1029254444930107,\n",
        "  0.0618817532484077, 0.3428132582999825, 0.3065331772589616, 0.1424439156386341, 0.1443994029075018,\n",
        "  0.446743913149443, 0.5512185967208327,  0.7492981616479375, 0.9021986726399918, 0.027044442314708,\n",
        "  0.6951766681964733, 0.884846805715886, 0.834768227965717, 0.119560010911062, 0.104518554318317,\n",
        "  0.51119944898927, 0.24193951274237, 0.334810936350264, 0.118259597470286, 0.132472307714004,\n",
        "  0.334343440462413, 0.124568997033084, 0.572269984624149, 0.388945814821522, 0.12604628663322,\n",
        "  0.303104061056364, 0.502494405012354, 0.35897423148951, 0.91235945612879, 0.76158794512549,\n",
        "  0.66148975623412, 0.69154956321428, 0.79212533231557, 0.97825641125243, 0.69357489159357,\n",
        "  0.97258741596358, 0.25896458125483, 0.8625863148952, 0.79256325145875, 0.68235471145429]\n"
      ]
    },
    {
      "cell_type": "code",
      "execution_count": null,
      "metadata": {
        "id": "6R2AtHr1zP_Y"
      },
      "outputs": [],
      "source": [
        "# Waypoints tracking\n",
        "path = [\n",
        "        [0, 0, 0],  # X, Y, orientation\n",
        "        [2, 0, 0],  # X, Y, orientation\n",
        "        [2, 2, 0],  # X, Y, orientation\n",
        "        [4, 2, 0],  # X, Y, orientation\n",
        "        [4, 4, 0]\n",
        "      ]\n",
        "pathX = [point[0] for point in path]\n",
        "pathY = [point[1] for point in path]\n"
      ]
    },
    {
      "cell_type": "code",
      "execution_count": null,
      "metadata": {
        "id": "jxoVw2XpgyCp"
      },
      "outputs": [],
      "source": [
        "# simulationDescription updated to path\n",
        "simulationDescription = fromPathToDescription(path, simulationDescription)\n",
        "simulationDescription['simulationParams']['t_bound'] = 50\n",
        "if useCluster == True:\n",
        "    ThoaFullResults_Original = fitnessFunctionFLC_FullMultiRemote([Expert_FLC_Chromosome])\n",
        "    ThoaFullResults_MFS = fitnessFunctionFLC_FullMultiRemote([GA_FLC_Chromosome_MFS])\n",
        "    ThoaFullResults = fitnessFunctionFLC_FullMultiRemote([GA_FLC_Chromosome])\n",
        "\n",
        "if useCluster == False:\n",
        "    ThoaFLCSimDescription_Original = fromChromozomeToDescriptionFuzzy_Thoa_Original(Expert_FLC_Chromosome, simulationDescription)\n",
        "    ThoaFLCSimDescription_MFS = fromChromozomeToDescriptionFuzzy(GA_FLC_Chromosome_MFS, simulationDescription)\n",
        "    ThoaFLCSimDescription = fromChromozomeToDescriptionFuzzy(GA_FLC_Chromosome, simulationDescription)\n",
        "\n",
        "    ThoaFullResults_Original = runSimulation(ThoaFLCSimDescription_Original, createFuzzyController, selectors=selectors)\n",
        "    ThoaFullResults_MFS = runSimulation(ThoaFLCSimDescription_MFS, createFuzzyController, selectors=selectors)\n",
        "    ThoaFullResults = runSimulation(ThoaFLCSimDescription, createFuzzyController, selectors=selectors)"
      ]
    },
    {
      "cell_type": "code",
      "source": [
        "print(ThoaFullResults_Original['time'])\n",
        "print(ThoaFullResults_Original['E'])\n",
        "\n",
        "print(ThoaFullResults_MFS['time'])\n",
        "print(ThoaFullResults_MFS['E'])\n",
        "\n",
        "print(ThoaFullResults['time'])\n",
        "print(ThoaFullResults['E'])"
      ],
      "metadata": {
        "id": "SUn1YuTCrxjh"
      },
      "execution_count": null,
      "outputs": []
    },
    {
      "cell_type": "markdown",
      "source": [
        "### Results Plots"
      ],
      "metadata": {
        "id": "tMjmupDj8Wpi"
      }
    },
    {
      "cell_type": "code",
      "source": [
        "# WHEN NOT USE CLUSTER\n",
        "if useCluster == False:\n",
        "    plt.rcParams[\"figure.figsize\"] = (30, 30)\n",
        "    plt.rcParams[\"font.size\"] = \"23\"\n",
        "\n",
        "    def multiPlot(xs, ys, styles, labels,lws):\n",
        "        for x, y, style, label,lw in zip(xs, ys, styles, labels,lws):\n",
        "            plt.plot(x, y, style, label=label, lw=3)\n",
        "\n",
        "    #--plot the path--------------------------------------------------------------\n",
        "    plt.subplot(3, 2, 1)\n",
        "    plt.grid(which = 'both')\n",
        "    p = plt.axis('equal')\n",
        "\n",
        "    #////////////----------Draw WAYPOINTS----------////////////////////\n",
        "\n",
        "    plt.scatter(pathX, pathY, s=200, marker='s', c='black') # For waypoints\n",
        "\n",
        "    multiPlot(\n",
        "          [pathX, ThoaFullResults_Original['x'], ThoaFullResults_MFS['x'], ThoaFullResults['x']],\n",
        "          [pathY, ThoaFullResults_Original['y'], ThoaFullResults_MFS['y'], ThoaFullResults['y']],\n",
        "          ['ks', 'r-', 'b-', 'g-'],\n",
        "          ['Waypoints', 'Expert_FLC', 'Optimal_MFs_FLC', 'Optimal_MFs_FRs_FLC'],\n",
        "          [1,2,2,2],\n",
        "          )\n",
        "    plt.legend(loc = 'best')\n",
        "    plt.xlabel('x(m)')\n",
        "    plt.ylabel('y(m)')\n",
        "\n",
        "    #--plot the distance--------------------------------------------------------------\n",
        "    plt.subplot(3, 2, 2)\n",
        "    plt.grid(which = 'both')\n",
        "    multiPlot(\n",
        "          [ThoaFullResults_Original['time'], ThoaFullResults_MFS['time'], ThoaFullResults['time']],\n",
        "          [ThoaFullResults_Original['d'], ThoaFullResults_MFS['d'], ThoaFullResults['d']],\n",
        "          ['r-', 'b-', 'g-'],\n",
        "          ['Expert_FLC', 'Optimal_MFs_FLC', 'Optimal_MFs_FRs_FLC'],\n",
        "          [2,2,2],\n",
        "          )\n",
        "    plt.legend(loc = 'best')\n",
        "    plt.xlabel('Time(s)')\n",
        "    plt.ylabel('Travel distance (m)')\n",
        "\n",
        "    #---plot the velocity----------------------------------------------------------\n",
        "    plt.subplot(3, 2, 3)\n",
        "    plt.grid(which = 'both')\n",
        "    multiPlot(\n",
        "          [ThoaFullResults_Original['time'], ThoaFullResults_MFS['time'], ThoaFullResults['time']],\n",
        "          [ThoaFullResults_Original['v'],   ThoaFullResults_MFS['v'], ThoaFullResults['v']],\n",
        "          ['r-', 'b-', 'g-'],\n",
        "          ['Expert_FLC', 'Optimal_MFs_FLC', 'Optimal_MFs_FRs_FLC'],\n",
        "          [2,2,2],\n",
        "          )\n",
        "    plt.legend(loc = 'best')\n",
        "    plt.xlabel('Time(s)')\n",
        "    plt.ylabel('Linear Velocity($\\\\rm m\\dot s^{-1}$)')\n",
        "\n",
        "    #--plot the omega-------------------------------------------------------------\n",
        "    plt.subplot(3, 2, 4)\n",
        "    plt.grid(which = 'both')\n",
        "    multiPlot(\n",
        "          [ThoaFullResults_Original['time'], ThoaFullResults_MFS['time'], ThoaFullResults['time']],\n",
        "          [ThoaFullResults_Original['omega'], ThoaFullResults_MFS['omega'], ThoaFullResults['omega']],\n",
        "          ['r-', 'b-', 'g-'],\n",
        "          ['Expert_FLC', 'Optimal_MFs_FLC', 'Optimal_MFs_FRs_FLC'],\n",
        "          [2,2,2],\n",
        "          )\n",
        "    plt.legend(loc = 'upper right')\n",
        "    plt.xlabel('Time(s)')\n",
        "    plt.ylabel('Angular velocity($\\\\rm rad\\dot s^{-1}$)')\n",
        "\n",
        "    #--plot the total energy consumption------------------------------------------\n",
        "    plt.subplot(3, 2, 5)\n",
        "    plt.grid(which = 'both')\n",
        "    multiPlot(\n",
        "          [ThoaFullResults_Original['time'], ThoaFullResults_MFS['time'], ThoaFullResults['time']],\n",
        "          [ThoaFullResults_Original['E'],  ThoaFullResults_MFS['E'],   ThoaFullResults['E']],\n",
        "          ['r-', 'b-', 'g-'],\n",
        "          ['Expert_FLC', 'Optimal_MFs_FLC', 'Optimal_MFs_FRs_FLC'],\n",
        "          [2,2,2],\n",
        "          )\n",
        "    plt.legend(loc = 'upper left')\n",
        "    plt.xlabel('Time(s)')\n",
        "    plt.ylabel('Energy consumption ( J )')\n",
        "\n",
        "    #------------------------------\n",
        "\n",
        "    plt.subplot(3, 2, 6)\n",
        "    plt.grid(which = 'both')\n",
        "    multiPlot(\n",
        "          [ThoaFullResults['time']],\n",
        "          [ThoaFullResults['E']],\n",
        "          ['g-'],\n",
        "          ['Optimal_MFs_FRs_FLC'],\n",
        "          ['2'],\n",
        "          )\n",
        "    plt.legend(loc = 'best')\n",
        "    plt.xlabel('Time(s)')\n",
        "    plt.ylabel('Energy consumption ( J )')\n",
        "\n",
        "\n",
        "##///////////////////////////////////////////////////////////////////////////////////\n",
        "# WHEN USING CLUSTER\n",
        "#///////////////////////////////////////////////////////////////////////////////////////\n",
        "if useCluster == True:\n",
        "    plt.rcParams[\"figure.figsize\"] = (30, 30)\n",
        "    plt.rcParams[\"font.size\"] = \"23\"\n",
        "\n",
        "    def multiPlot(xs, ys, styles, labels,lws):\n",
        "        for x, y, style, label,lw in zip(xs, ys, styles, labels,lws):\n",
        "            plt.plot(x, y, style, label=label, lw=3)\n",
        "\n",
        "    #--plot the path--------------------------------------------------------------\n",
        "    plt.subplot(3, 2, 1)\n",
        "    plt.grid(which = 'both')\n",
        "    p = plt.axis('equal')\n",
        "\n",
        "    #////////////----------Draw WAYPOINTS----------////////////////////\n",
        "\n",
        "    plt.scatter(pathX, pathY, s=200, marker='s', c='black') # For waypoints\n",
        "\n",
        "    multiPlot(\n",
        "          [pathX, ThoaFullResults_Original[0]['x'], ThoaFullResults_MFS[0]['x'], ThoaFullResults[0]['x']],\n",
        "          [pathY, ThoaFullResults_Original[0]['y'], ThoaFullResults_MFS[0]['y'], ThoaFullResults[0]['y']],\n",
        "          ['ks', 'r-', 'b-', 'g-'],\n",
        "          ['Waypoints', 'Expert_FLC', 'Optimal_MFs_FLC', 'Optimal_MFs_FRs_FLC'],\n",
        "          [1,2,2,2],\n",
        "          )\n",
        "    plt.legend(loc = 'best')\n",
        "    plt.xlabel('x(m)')\n",
        "    plt.ylabel('y(m)')\n",
        "\n",
        "    #--plot the distance--------------------------------------------------------------\n",
        "    plt.subplot(3, 2, 2)\n",
        "    plt.grid(which = 'both')\n",
        "    multiPlot(\n",
        "          [ThoaFullResults_Original[0]['time'], ThoaFullResults_MFS[0]['time'], ThoaFullResults[0]['time']],\n",
        "          [ThoaFullResults_Original[0]['d'], ThoaFullResults_MFS[0]['d'], ThoaFullResults[0]['d']],\n",
        "          ['r-', 'b-', 'g-'],\n",
        "          ['Expert_FLC', 'Optimal_MFs_FLC', 'Optimal_MFs_FRs_FLC'],\n",
        "          [2,2,2],\n",
        "          )\n",
        "    plt.legend(loc = 'best')\n",
        "    plt.xlabel('Time(s)')\n",
        "    plt.ylabel('Travel distance (m)')\n",
        "\n",
        "    #---plot the velocity----------------------------------------------------------\n",
        "    plt.subplot(3, 2, 3)\n",
        "    plt.grid(which = 'both')\n",
        "    multiPlot(\n",
        "          [ThoaFullResults_Original[0]['time'], ThoaFullResults_MFS[0]['time'], ThoaFullResults[0]['time']],\n",
        "          [ThoaFullResults_Original[0]['v'],   ThoaFullResults_MFS[0]['v'], ThoaFullResults[0]['v']],\n",
        "          ['r-', 'b-', 'g-'],\n",
        "          ['Expert_FLC', 'Optimal_MFs_FLC', 'Optimal_MFs_FRs_FLC'],\n",
        "          [2,2,2],\n",
        "          )\n",
        "    plt.legend(loc = 'best')\n",
        "    plt.xlabel('Time(s)')\n",
        "    plt.ylabel('Linear Velocity($\\\\rm m\\dot s^{-1}$)')\n",
        "\n",
        "    #--plot the omega-------------------------------------------------------------\n",
        "    plt.subplot(3, 2, 4)\n",
        "    plt.grid(which = 'both')\n",
        "    multiPlot(\n",
        "          [ThoaFullResults_Original[0]['time'], ThoaFullResults_MFS[0]['time'], ThoaFullResults[0]['time']],\n",
        "          [ThoaFullResults_Original[0]['omega'], ThoaFullResults_MFS[0]['omega'], ThoaFullResults[0]['omega']],\n",
        "          ['r-', 'b-', 'g-'],\n",
        "          ['Expert_FLC', 'Optimal_MFs_FLC', 'Optimal_MFs_FRs_FLC'],\n",
        "          [2,2,2],\n",
        "          )\n",
        "    plt.legend(loc = 'upper right')\n",
        "    plt.xlabel('Time(s)')\n",
        "    plt.ylabel('Angular velocity($\\\\rm rad\\dot s^{-1}$)')\n",
        "\n",
        "    #--plot the total energy consumption------------------------------------------\n",
        "    plt.subplot(3, 2, 5)\n",
        "    plt.grid(which = 'both')\n",
        "    multiPlot(\n",
        "          [ThoaFullResults_Original[0]['time'], ThoaFullResults_MFS[0]['time'], ThoaFullResults[0]['time']],\n",
        "          [ThoaFullResults_Original[0]['E'],  ThoaFullResults_MFS[0]['E'],   ThoaFullResults[0]['E']],\n",
        "          ['r-', 'b-', 'g-'],\n",
        "          ['Expert_FLC', 'Optimal_MFs_FLC', 'Optimal_MFs_FRs_FLC'],\n",
        "          [2,2,2],\n",
        "          )\n",
        "    plt.legend(loc = 'upper right')\n",
        "    plt.xlabel('Time(s)')\n",
        "    plt.ylabel('Energy consumption ( J )')\n",
        "\n",
        "    #------------------------------\n",
        "\n",
        "    plt.subplot(3, 2, 6)\n",
        "    plt.grid(which = 'both')\n",
        "    multiPlot(\n",
        "          [ThoaFullResults[0]['time']],\n",
        "          [ThoaFullResults[0]['E']],\n",
        "          ['g-'],\n",
        "          ['Optimal_MFs_FRs_FLC'],\n",
        "          ['2'],\n",
        "          )\n",
        "    plt.legend(loc = 'best')\n",
        "    plt.xlabel('Time(s)')\n",
        "    plt.ylabel('Energy consumption ( J )')\n"
      ],
      "metadata": {
        "id": "e4ALvIgydTFH"
      },
      "execution_count": null,
      "outputs": []
    },
    {
      "cell_type": "markdown",
      "metadata": {
        "id": "EIFi3S01zP_a"
      },
      "source": [
        "### Results List"
      ]
    },
    {
      "cell_type": "code",
      "source": [
        "import pandas as pd\n",
        "if useCluster == True:\n",
        "    data = [\n",
        "        {'Controller Name': 'Expert_FLC', 'Energy [J]': ThoaFullResults_Original[0]['E'][-1], 'Distance [m]': ThoaFullResults_Original[0]['d'][-1]},\n",
        "        {'Controller Name': 'Optimal_MFs_FLC', 'Energy [J]': ThoaFullResults_MFS[0]['E'][-1], 'Distance [m]': ThoaFullResults_MFS[0]['d'][-1]},\n",
        "        {'Controller Name': 'Optimal_MFs_FRs_FLC', 'Energy [J]': ThoaFullResults[0]['E'][-1], 'Distance [m]': ThoaFullResults[0]['d'][-1]},\n",
        "        ]\n",
        "if useCluster == False:\n",
        "    data = [\n",
        "        {'Controller Name': 'Expert_FLC', 'Energy [J]': ThoaFullResults_Original['E'][-1], 'Distance [m]': ThoaFullResults_Original['d'][-1]},\n",
        "        {'Controller Name': 'Optimal_MFs_FLC', 'Energy [J]': ThoaFullResults_MFS['E'][-1], 'Distance [m]': ThoaFullResults_MFS['d'][-1]},\n",
        "        {'Controller Name': 'Optimal_MFs_FRs_FLC', 'Energy [J]': ThoaFullResults['E'][-1], 'Distance [m]': ThoaFullResults['d'][-1]}\n",
        "       ]\n",
        "\n",
        "display(pd.DataFrame(data))\n"
      ],
      "metadata": {
        "id": "RV0hkkMiml-x"
      },
      "execution_count": null,
      "outputs": []
    }
  ],
  "metadata": {
    "colab": {
      "provenance": [],
      "private_outputs": true,
      "toc_visible": true,
      "include_colab_link": true
    },
    "kernelspec": {
      "display_name": "Python 3",
      "language": "python",
      "name": "python3"
    },
    "language_info": {
      "codemirror_mode": {
        "name": "ipython",
        "version": 3
      },
      "file_extension": ".py",
      "mimetype": "text/x-python",
      "name": "python",
      "nbconvert_exporter": "python",
      "pygments_lexer": "ipython3",
      "version": "3.8.6"
    },
    "toc-autonumbering": true
  },
  "nbformat": 4,
  "nbformat_minor": 0
}