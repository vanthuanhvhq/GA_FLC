{
  "nbformat": 4,
  "nbformat_minor": 0,
  "metadata": {
    "colab": {
      "name": "Optimization_of_FuzzyLogicController.ipynb",
      "provenance": [],
      "collapsed_sections": [],
      "toc_visible": true,
      "include_colab_link": true
    },
    "kernelspec": {
      "display_name": "Python 3",
      "language": "python",
      "name": "python3"
    },
    "language_info": {
      "codemirror_mode": {
        "name": "ipython",
        "version": 3
      },
      "file_extension": ".py",
      "mimetype": "text/x-python",
      "name": "python",
      "nbconvert_exporter": "python",
      "pygments_lexer": "ipython3",
      "version": "3.8.6"
    },
    "toc-autonumbering": true
  },
  "cells": [
    {
      "cell_type": "markdown",
      "metadata": {
        "id": "view-in-github",
        "colab_type": "text"
      },
      "source": [
        "<a href=\"https://colab.research.google.com/github/vanthuanhvhq/GA_FLC/blob/main/Optimization_of_FuzzyLogicController.ipynb\" target=\"_parent\"><img src=\"https://colab.research.google.com/assets/colab-badge.svg\" alt=\"Open In Colab\"/></a>"
      ]
    },
    {
      "cell_type": "markdown",
      "metadata": {
        "id": "uvJRbyp9Pypn"
      },
      "source": [
        "# Optimization of Fuzzy Logic Controller Used for a Differential Drive Wheeled Mobile Robot"
      ]
    },
    {
      "cell_type": "code",
      "metadata": {
        "id": "apCUNZ3qA7_x"
      },
      "source": [
        "_runDemos = True # this is queried in this document later multiple times"
      ],
      "execution_count": 1,
      "outputs": []
    },
    {
      "cell_type": "markdown",
      "metadata": {
        "id": "98kHeWojVeXU"
      },
      "source": [
        "## Cluster Query"
      ]
    },
    {
      "cell_type": "markdown",
      "metadata": {
        "id": "xNNfnobNWKVH"
      },
      "source": [
        "This task could use for its solution a computer cluster. As it is optional, use it only when you are running it. In this case you must set the option ```useCluster``` to ```True``` and set proper value in ```url``` variable."
      ]
    },
    {
      "cell_type": "code",
      "metadata": {
        "id": "PuzSUxD3VlbQ"
      },
      "source": [
        "useCluster = False\n",
        "url = 'https://ourserver/api/evaluator/FFFF'\n",
        "\n",
        "if useCluster:\n",
        "    url = input('Enter full / https include / cluster URL: \\t')"
      ],
      "execution_count": 2,
      "outputs": []
    },
    {
      "cell_type": "code",
      "metadata": {
        "colab": {
          "base_uri": "https://localhost:8080/"
        },
        "id": "mASMUWRdPdPe",
        "outputId": "76130bcf-074c-403d-8941-8d6380f881ff"
      },
      "source": [
        "!pip install scikit-fuzzy"
      ],
      "execution_count": 3,
      "outputs": [
        {
          "output_type": "stream",
          "text": [
            "Collecting scikit-fuzzy\n",
            "\u001b[?25l  Downloading https://files.pythonhosted.org/packages/6c/f0/5eb5dbe0fd8dfe7d4651a8f4e591a196623a22b9e5339101e559695b4f6c/scikit-fuzzy-0.4.2.tar.gz (993kB)\n",
            "\r\u001b[K     |▎                               | 10kB 17.1MB/s eta 0:00:01\r\u001b[K     |▋                               | 20kB 14.9MB/s eta 0:00:01\r\u001b[K     |█                               | 30kB 12.5MB/s eta 0:00:01\r\u001b[K     |█▎                              | 40kB 8.9MB/s eta 0:00:01\r\u001b[K     |█▋                              | 51kB 4.8MB/s eta 0:00:01\r\u001b[K     |██                              | 61kB 5.6MB/s eta 0:00:01\r\u001b[K     |██▎                             | 71kB 5.8MB/s eta 0:00:01\r\u001b[K     |██▋                             | 81kB 6.2MB/s eta 0:00:01\r\u001b[K     |███                             | 92kB 6.5MB/s eta 0:00:01\r\u001b[K     |███▎                            | 102kB 6.6MB/s eta 0:00:01\r\u001b[K     |███▋                            | 112kB 6.6MB/s eta 0:00:01\r\u001b[K     |████                            | 122kB 6.6MB/s eta 0:00:01\r\u001b[K     |████▎                           | 133kB 6.6MB/s eta 0:00:01\r\u001b[K     |████▋                           | 143kB 6.6MB/s eta 0:00:01\r\u001b[K     |█████                           | 153kB 6.6MB/s eta 0:00:01\r\u001b[K     |█████▎                          | 163kB 6.6MB/s eta 0:00:01\r\u001b[K     |█████▋                          | 174kB 6.6MB/s eta 0:00:01\r\u001b[K     |██████                          | 184kB 6.6MB/s eta 0:00:01\r\u001b[K     |██████▎                         | 194kB 6.6MB/s eta 0:00:01\r\u001b[K     |██████▋                         | 204kB 6.6MB/s eta 0:00:01\r\u001b[K     |███████                         | 215kB 6.6MB/s eta 0:00:01\r\u001b[K     |███████▎                        | 225kB 6.6MB/s eta 0:00:01\r\u001b[K     |███████▋                        | 235kB 6.6MB/s eta 0:00:01\r\u001b[K     |████████                        | 245kB 6.6MB/s eta 0:00:01\r\u001b[K     |████████▎                       | 256kB 6.6MB/s eta 0:00:01\r\u001b[K     |████████▋                       | 266kB 6.6MB/s eta 0:00:01\r\u001b[K     |█████████                       | 276kB 6.6MB/s eta 0:00:01\r\u001b[K     |█████████▎                      | 286kB 6.6MB/s eta 0:00:01\r\u001b[K     |█████████▋                      | 296kB 6.6MB/s eta 0:00:01\r\u001b[K     |██████████                      | 307kB 6.6MB/s eta 0:00:01\r\u001b[K     |██████████▏                     | 317kB 6.6MB/s eta 0:00:01\r\u001b[K     |██████████▌                     | 327kB 6.6MB/s eta 0:00:01\r\u001b[K     |██████████▉                     | 337kB 6.6MB/s eta 0:00:01\r\u001b[K     |███████████▏                    | 348kB 6.6MB/s eta 0:00:01\r\u001b[K     |███████████▌                    | 358kB 6.6MB/s eta 0:00:01\r\u001b[K     |███████████▉                    | 368kB 6.6MB/s eta 0:00:01\r\u001b[K     |████████████▏                   | 378kB 6.6MB/s eta 0:00:01\r\u001b[K     |████████████▌                   | 389kB 6.6MB/s eta 0:00:01\r\u001b[K     |████████████▉                   | 399kB 6.6MB/s eta 0:00:01\r\u001b[K     |█████████████▏                  | 409kB 6.6MB/s eta 0:00:01\r\u001b[K     |█████████████▌                  | 419kB 6.6MB/s eta 0:00:01\r\u001b[K     |█████████████▉                  | 430kB 6.6MB/s eta 0:00:01\r\u001b[K     |██████████████▏                 | 440kB 6.6MB/s eta 0:00:01\r\u001b[K     |██████████████▌                 | 450kB 6.6MB/s eta 0:00:01\r\u001b[K     |██████████████▉                 | 460kB 6.6MB/s eta 0:00:01\r\u001b[K     |███████████████▏                | 471kB 6.6MB/s eta 0:00:01\r\u001b[K     |███████████████▌                | 481kB 6.6MB/s eta 0:00:01\r\u001b[K     |███████████████▉                | 491kB 6.6MB/s eta 0:00:01\r\u001b[K     |████████████████▏               | 501kB 6.6MB/s eta 0:00:01\r\u001b[K     |████████████████▌               | 512kB 6.6MB/s eta 0:00:01\r\u001b[K     |████████████████▉               | 522kB 6.6MB/s eta 0:00:01\r\u001b[K     |█████████████████▏              | 532kB 6.6MB/s eta 0:00:01\r\u001b[K     |█████████████████▌              | 542kB 6.6MB/s eta 0:00:01\r\u001b[K     |█████████████████▉              | 552kB 6.6MB/s eta 0:00:01\r\u001b[K     |██████████████████▏             | 563kB 6.6MB/s eta 0:00:01\r\u001b[K     |██████████████████▌             | 573kB 6.6MB/s eta 0:00:01\r\u001b[K     |██████████████████▉             | 583kB 6.6MB/s eta 0:00:01\r\u001b[K     |███████████████████▏            | 593kB 6.6MB/s eta 0:00:01\r\u001b[K     |███████████████████▌            | 604kB 6.6MB/s eta 0:00:01\r\u001b[K     |███████████████████▉            | 614kB 6.6MB/s eta 0:00:01\r\u001b[K     |████████████████████            | 624kB 6.6MB/s eta 0:00:01\r\u001b[K     |████████████████████▍           | 634kB 6.6MB/s eta 0:00:01\r\u001b[K     |████████████████████▊           | 645kB 6.6MB/s eta 0:00:01\r\u001b[K     |█████████████████████           | 655kB 6.6MB/s eta 0:00:01\r\u001b[K     |█████████████████████▍          | 665kB 6.6MB/s eta 0:00:01\r\u001b[K     |█████████████████████▊          | 675kB 6.6MB/s eta 0:00:01\r\u001b[K     |██████████████████████          | 686kB 6.6MB/s eta 0:00:01\r\u001b[K     |██████████████████████▍         | 696kB 6.6MB/s eta 0:00:01\r\u001b[K     |██████████████████████▊         | 706kB 6.6MB/s eta 0:00:01\r\u001b[K     |███████████████████████         | 716kB 6.6MB/s eta 0:00:01\r\u001b[K     |███████████████████████▍        | 727kB 6.6MB/s eta 0:00:01\r\u001b[K     |███████████████████████▊        | 737kB 6.6MB/s eta 0:00:01\r\u001b[K     |████████████████████████        | 747kB 6.6MB/s eta 0:00:01\r\u001b[K     |████████████████████████▍       | 757kB 6.6MB/s eta 0:00:01\r\u001b[K     |████████████████████████▊       | 768kB 6.6MB/s eta 0:00:01\r\u001b[K     |█████████████████████████       | 778kB 6.6MB/s eta 0:00:01\r\u001b[K     |█████████████████████████▍      | 788kB 6.6MB/s eta 0:00:01\r\u001b[K     |█████████████████████████▊      | 798kB 6.6MB/s eta 0:00:01\r\u001b[K     |██████████████████████████      | 808kB 6.6MB/s eta 0:00:01\r\u001b[K     |██████████████████████████▍     | 819kB 6.6MB/s eta 0:00:01\r\u001b[K     |██████████████████████████▊     | 829kB 6.6MB/s eta 0:00:01\r\u001b[K     |███████████████████████████     | 839kB 6.6MB/s eta 0:00:01\r\u001b[K     |███████████████████████████▍    | 849kB 6.6MB/s eta 0:00:01\r\u001b[K     |███████████████████████████▊    | 860kB 6.6MB/s eta 0:00:01\r\u001b[K     |████████████████████████████    | 870kB 6.6MB/s eta 0:00:01\r\u001b[K     |████████████████████████████▍   | 880kB 6.6MB/s eta 0:00:01\r\u001b[K     |████████████████████████████▊   | 890kB 6.6MB/s eta 0:00:01\r\u001b[K     |█████████████████████████████   | 901kB 6.6MB/s eta 0:00:01\r\u001b[K     |█████████████████████████████▍  | 911kB 6.6MB/s eta 0:00:01\r\u001b[K     |█████████████████████████████▊  | 921kB 6.6MB/s eta 0:00:01\r\u001b[K     |██████████████████████████████  | 931kB 6.6MB/s eta 0:00:01\r\u001b[K     |██████████████████████████████▎ | 942kB 6.6MB/s eta 0:00:01\r\u001b[K     |██████████████████████████████▋ | 952kB 6.6MB/s eta 0:00:01\r\u001b[K     |███████████████████████████████ | 962kB 6.6MB/s eta 0:00:01\r\u001b[K     |███████████████████████████████▎| 972kB 6.6MB/s eta 0:00:01\r\u001b[K     |███████████████████████████████▋| 983kB 6.6MB/s eta 0:00:01\r\u001b[K     |████████████████████████████████| 993kB 6.6MB/s eta 0:00:01\r\u001b[K     |████████████████████████████████| 1.0MB 6.6MB/s \n",
            "\u001b[?25hRequirement already satisfied: numpy>=1.6.0 in /usr/local/lib/python3.6/dist-packages (from scikit-fuzzy) (1.19.5)\n",
            "Requirement already satisfied: scipy>=0.9.0 in /usr/local/lib/python3.6/dist-packages (from scikit-fuzzy) (1.4.1)\n",
            "Requirement already satisfied: networkx>=1.9.0 in /usr/local/lib/python3.6/dist-packages (from scikit-fuzzy) (2.5)\n",
            "Requirement already satisfied: decorator>=4.3.0 in /usr/local/lib/python3.6/dist-packages (from networkx>=1.9.0->scikit-fuzzy) (4.4.2)\n",
            "Building wheels for collected packages: scikit-fuzzy\n",
            "  Building wheel for scikit-fuzzy (setup.py) ... \u001b[?25l\u001b[?25hdone\n",
            "  Created wheel for scikit-fuzzy: filename=scikit_fuzzy-0.4.2-cp36-none-any.whl size=894070 sha256=ea503893cc477ab67a9f895b5a258d7953ee95aa3e7999641980056fce846dbb\n",
            "  Stored in directory: /root/.cache/pip/wheels/b9/4e/77/da79b16f64ef1738d95486e2731eea09d73e90a72465096600\n",
            "Successfully built scikit-fuzzy\n",
            "Installing collected packages: scikit-fuzzy\n",
            "Successfully installed scikit-fuzzy-0.4.2\n"
          ],
          "name": "stdout"
        }
      ]
    },
    {
      "cell_type": "code",
      "metadata": {
        "id": "pIacmIg4P74F"
      },
      "source": [
        "import numpy as np\n",
        "import math\n",
        "import random\n",
        "from math import *\n",
        "import scipy.integrate as integrate\n",
        "import matplotlib.pyplot as plt\n",
        "import pandas as pd\n",
        "%matplotlib inline\n",
        "import skfuzzy as fuzz"
      ],
      "execution_count": 4,
      "outputs": []
    },
    {
      "cell_type": "markdown",
      "metadata": {
        "id": "JIjdIInIQAom"
      },
      "source": [
        "## Robot parameters"
      ]
    },
    {
      "cell_type": "code",
      "metadata": {
        "id": "_XbYHJqSQC0G"
      },
      "source": [
        "robotState0 = {\n",
        "    'x': 0,\n",
        "    'y': 0,\n",
        "    'theta': -3.14 / 4\n",
        "}\n",
        "\n",
        "robotParams = {\n",
        "    'r': 0.0925,\n",
        "    'b': 0.37,\n",
        "    'm': 9,\n",
        "    'I': 0.16245,\n",
        "}"
      ],
      "execution_count": 5,
      "outputs": []
    },
    {
      "cell_type": "markdown",
      "metadata": {
        "id": "cohw6gngQsed"
      },
      "source": [
        "## Robot models"
      ]
    },
    {
      "cell_type": "markdown",
      "metadata": {
        "id": "2yRYd1GMQfiV"
      },
      "source": [
        "### Kinematic model"
      ]
    },
    {
      "cell_type": "code",
      "metadata": {
        "id": "HBiby1TwQhSW"
      },
      "source": [
        "from math import sin, cos\n",
        "def createRobot(params):\n",
        "    m = params['m']\n",
        "    I = params['I']\n",
        "\n",
        "    def robot(t, currentState, controller):\n",
        "        # ask controller for velocity and omega\n",
        "        velocity, omega = controller(t, currentState)\n",
        "\n",
        "        currentTheta = currentState[2]\n",
        "        cosTheta = cos(currentTheta)\n",
        "        sinTheta = sin(currentTheta)\n",
        "\n",
        "        x_dot = velocity * cosTheta\n",
        "        y_dot = velocity * sinTheta\n",
        "        theta_dot = omega\n",
        "\n",
        "        E = 0.5 * (m * velocity * velocity + I * omega * omega)\n",
        "\n",
        "        return [x_dot, y_dot, theta_dot, velocity, omega, E] # velocity, omega, E are returned for easy evaluation they are not needed for computation\n",
        "    return robot\n",
        "\n",
        "robot = createRobot(robotParams)"
      ],
      "execution_count": 6,
      "outputs": []
    },
    {
      "cell_type": "markdown",
      "metadata": {
        "id": "LcttHseUQnsV"
      },
      "source": [
        "### Dynamic Model"
      ]
    },
    {
      "cell_type": "markdown",
      "metadata": {
        "id": "RTSVOZrXVGur"
      },
      "source": [
        "Dynamic model extends kinematic model with differential equations describing the motors."
      ]
    },
    {
      "cell_type": "code",
      "metadata": {
        "id": "hTApKdxhQxCd"
      },
      "source": [
        "# example of motor parameters,\n",
        "motorParams = {\n",
        "    'J': 0.01,\n",
        "    'B': 0.1,\n",
        "    \n",
        "    'Kt': 0.01,\n",
        "    'Ke': 0.01,\n",
        "    'K': 0.01,\n",
        "    \n",
        "    'Ra': 0.1,\n",
        "    'La': 0.01\n",
        "}\n",
        "\n",
        "#//////////////////////////////////////////////////////////////////////////////\n",
        "def createFilter2ndOrder(b1, b0, a1, a0):\n",
        "    def filter2ndOrder(t, u, currentState):\n",
        "        x0 = currentState[0]\n",
        "        x1 = currentState[1]\n",
        "        dx0 = b0 * u + a0 * x0 + x1\n",
        "        dx1 = b1 * u + a1 * x0\n",
        "        return [dx0, dx1]\n",
        "    return filter2ndOrder\n",
        "\n",
        "def createMotorModel(motorParams=None):\n",
        "    if motorParams is None:\n",
        "        return None\n",
        "    \n",
        "    K = motorParams['K']\n",
        "    J = motorParams['J']\n",
        "    La = motorParams['La']\n",
        "    Ra = motorParams['Ra']\n",
        "    B = motorParams['B']\n",
        "    \n",
        "    b1 = K / (La * J)\n",
        "    b0 = 0\n",
        "    a1 = -(Ra * B + K * K) / (La * J)\n",
        "    a0 = -(Ra * J + La * B) / (La * J)\n",
        "    return createFilter2ndOrder(b1, b0, a1, a0)\n",
        "    \n",
        "\n",
        "def createRobotModelWithDynamic(params, motorModel = None):\n",
        "    \"\"\"\n",
        "    function returns standard ODE model usable in many libraries (scipy)\n",
        "    \"\"\"\n",
        "    # motorAsFilter = createFilter2ndOrder(b1, b0, a1, a0)\n",
        "    m = params['m']\n",
        "    I = params['I']\n",
        "    b = params['b']\n",
        "\n",
        "    motorAsFilter = motorModel\n",
        "    def robotWithDynamic(t, currentState, controller):\n",
        "        # ask controller for velocity and omega\n",
        "        velocity, omega = controller(t, currentState)\n",
        "\n",
        "        delta = omega * b / 2\n",
        "        vL = velocity - delta\n",
        "        vR = velocity + delta\n",
        "        vLState = currentState[6:8]\n",
        "        vRState = currentState[8:10]\n",
        "        vLStateD = motorAsFilter(t, vL, vLState)\n",
        "        vRStateD = motorAsFilter(t, vR, vRState)\n",
        "        vLFiltered = vLState[0]\n",
        "        vRFiltered = vRState[0]\n",
        "\n",
        "        velocity = (vRFiltered + vLFiltered) / 2\n",
        "        delta = (vRFiltered - vLFiltered) / 2\n",
        "        omega = 2 * delta / b\n",
        "\n",
        "        currentTheta = currentState[2]\n",
        "        cosTheta = cos(currentTheta)\n",
        "        sinTheta = sin(currentTheta)\n",
        "\n",
        "        x_dot = velocity * cosTheta\n",
        "        y_dot = velocity * sinTheta\n",
        "        theta_dot = omega\n",
        "\n",
        "        E = 0.5*(m*(velocity)*(velocity) + I*(omega)*(omega))\n",
        "\n",
        "        return [x_dot, y_dot, theta_dot, velocity, omega, E, *vLStateD, *vRStateD] #velocity, omega, E are returned for easy evaluation they are not needed for computation\n",
        "\n",
        "    def robot(t, currentState, controller):\n",
        "        \"\"\"\n",
        "        This closure is result of parent function\n",
        "        \"\"\"\n",
        "        # ask controller for velocity and omega\n",
        "        velocity, omega = controller(t, currentState)\n",
        "\n",
        "        currentTheta = currentState[2]\n",
        "        cosTheta = cos(currentTheta)\n",
        "        sinTheta = sin(currentTheta)\n",
        "\n",
        "        x_dot = velocity * cosTheta\n",
        "        y_dot = velocity * sinTheta\n",
        "        theta_dot = omega\n",
        "\n",
        "        E = 0.5 * (m * velocity * velocity + I * omega * omega)\n",
        "\n",
        "        return [x_dot, y_dot, theta_dot, velocity, omega, E] #velocity, omega, E are returned for easy evaluation they are not needed for computation\n",
        "\n",
        "    if motorModel is None:\n",
        "        return robot\n",
        "    else:\n",
        "        return robotWithDynamic\n",
        "    pass\n",
        "  \n",
        "motorModel = createMotorModel(motorParams)    \n",
        "robotWithDynamic = createRobotModelWithDynamic(robotParams, motorModel)\n",
        "robot = robotWithDynamic # If you delete / comment this line, only the Kinematic model is taken into account."
      ],
      "execution_count": 7,
      "outputs": []
    },
    {
      "cell_type": "markdown",
      "metadata": {
        "id": "qeDuH06YQ72V"
      },
      "source": [
        "## Solver"
      ]
    },
    {
      "cell_type": "code",
      "metadata": {
        "id": "zS1KbpA1Q9Iz"
      },
      "source": [
        "# selectors are defined for extration of data from results computed by ODE solver\n",
        "selectx = lambda item: item['y'][0]       # x position\n",
        "selecty = lambda item: item['y'][1]       # y position\n",
        "selectt = lambda item: item['time']       # time\n",
        "selectv = lambda item: item['dy'][3]      # velocity\n",
        "selectomega = lambda item: item['dy'][2]  # omega = theta_dot\n",
        "selecte = lambda item: item['TotalEnergy']# total energy\n",
        "selects = lambda item: item['y'][3]       # displacement\n",
        "selectors = {\n",
        "    'time': selectt,\n",
        "    'x': selectx, \n",
        "    'y': selecty, \n",
        "    'd': selects, \n",
        "    'v': selectv, \n",
        "    'omega': selectomega,\n",
        "    'E': selecte}\n",
        "\n",
        "#          yIndex=0, yIndex=1, yIndex=2, yIndex=3, yIndex=4, yIndex=5, yIndex=6,\n",
        "def compute(model, state0, t0 = 0.0, t_bound = 10, max_step = 0.05):\n",
        "    \"\"\"\n",
        "    This function returns a generator containing the sequence of resuls. \n",
        "    In this particular case it will return a sequence of robot states.\n",
        "    \"\"\"\n",
        "    solver = integrate.RK45(fun = model, t0 = t0, y0 = state0, t_bound = t_bound, max_step = max_step)\n",
        "    cnt = 0\n",
        "    lastEnergy = 0\n",
        "    totalEnergy = 0\n",
        "\n",
        "    #names = ['t', 'x', 'y', 'θ', 's', 'θ2', 'IE', \"x'\", \"y'\", 'ω', 'v', 'ω2', 'E']\n",
        "    while True:\n",
        "        message = solver.step()\n",
        "        #currentItem = [solver.t, *solver.y, *model(solver.t, solver.y)]\n",
        "        currentItem = {'time': solver.t, 'y': solver.y, 'dy': model(solver.t, solver.y)}\n",
        "        #t, 'solver.y': x, y, theta, s, theta, intE 'model': x', y', theta', velocity, omega, E\n",
        "        #0,             0, 1,   2,   3,   4,     5,          0,  1,   2,        3,      4,    5  \n",
        "        # Energy calculation / energy sumation\n",
        "        currentEnergy = currentItem['dy'][5] #currentNamed['E']\n",
        "        deltaEnergy = currentEnergy - lastEnergy\n",
        "\n",
        "        if deltaEnergy > 0:\n",
        "            totalEnergy = totalEnergy + deltaEnergy\n",
        "\n",
        "        lastEnergy = currentEnergy\n",
        "        currentItem['TotalEnergy'] = totalEnergy\n",
        "\n",
        "        yield currentItem\n",
        "        if (not(solver.status == 'running')):\n",
        "            break\n",
        "    return"
      ],
      "execution_count": 8,
      "outputs": []
    },
    {
      "cell_type": "markdown",
      "metadata": {
        "id": "gflyq5JpRDFz"
      },
      "source": [
        "## Path Controller"
      ]
    },
    {
      "cell_type": "markdown",
      "metadata": {
        "id": "KOPFQ_KXWjsO"
      },
      "source": [
        "Path Controller transforms a controller navigating robot towards a fixed distance to controller able switch the destination immediately after reaching point defined by a path."
      ]
    },
    {
      "cell_type": "code",
      "metadata": {
        "id": "F5UAQCG2RGED"
      },
      "source": [
        "def controllerForPath(controller, path, distanceEps=1e-2):\n",
        "    destinationX, destinationY, destinationOrietation = next(path)\n",
        "    destinationState = [destinationX, destinationY, destinationOrietation]\n",
        "    lastReached = False\n",
        "    #print('Destination set to', destinationState)\n",
        "    def result(t, currentState):\n",
        "        \"\"\"\n",
        "        This closure is result of parent function and acts as a controller - mediator,\n",
        "        which commands the given controller.\n",
        "        \"\"\"\n",
        "        nonlocal destinationX # use parent variable\n",
        "        nonlocal destinationY # use parent variable\n",
        "        nonlocal destinationState # use parent variable\n",
        "        nonlocal lastReached # use parent variable\n",
        "\n",
        "        currentX = currentState[0]\n",
        "        currentY = currentState[1]\n",
        "        deltaX = destinationX - currentX\n",
        "        deltaY = destinationY - currentY\n",
        "        if (lastReached == False):\n",
        "          # last point in path was not reached\n",
        "          if (deltaX * deltaX + deltaY * deltaY < distanceEps):\n",
        "            # robot is close enought to currentDestination\n",
        "            try:\n",
        "                # try to get another point on path\n",
        "                destinationX, destinationY, destinationOrietation = next(path)\n",
        "                destinationState = [destinationX, destinationY, destinationOrietation]\n",
        "                #print('Destination set to', destinationState, 'while in state', currentState)\n",
        "            except StopIteration:\n",
        "              # there are no other points\n",
        "              lastReached = True\n",
        "        if (lastReached):\n",
        "            return (0, 0)\n",
        "        else:\n",
        "            return controller(t, currentState, destinationState)\n",
        "    return result"
      ],
      "execution_count": 9,
      "outputs": []
    },
    {
      "cell_type": "markdown",
      "metadata": {
        "id": "u54IFUmmRa4t"
      },
      "source": [
        "## Model Creator"
      ]
    },
    {
      "cell_type": "markdown",
      "metadata": {
        "id": "TLcXw1FGXUjG"
      },
      "source": [
        "Model creator is function which packs all subsystems into one described by standard ODE function. Standard methods for ODE problems could be applied on such result / function."
      ]
    },
    {
      "cell_type": "code",
      "metadata": {
        "id": "9u5kFlvsscte"
      },
      "source": [
        "def robotModelCreator(controllerCreator, path, **kwargs):\n",
        "    controller_ = controllerCreator(**kwargs)\n",
        "    savedController = controllerForPath(controller_, path)\n",
        "    def resultRMC(t, currentState):\n",
        "        return robot(t, currentState, savedController)\n",
        "    return resultRMC"
      ],
      "execution_count": 10,
      "outputs": []
    },
    {
      "cell_type": "markdown",
      "metadata": {
        "id": "ynlf_rVJ0GSN"
      },
      "source": [
        "## Computation"
      ]
    },
    {
      "cell_type": "markdown",
      "metadata": {
        "id": "1lnJrDYEXxzL"
      },
      "source": [
        "Simple compute allows to fully define parameters at first and then use it on model. Such approach is usefull in case when different models (controllers) are used for same task. In this case this function simplify comparison of different controllers."
      ]
    },
    {
      "cell_type": "code",
      "metadata": {
        "id": "LMkk08sURfBd"
      },
      "source": [
        "def simpleCompute(computefunc, state0, t0 = 0, t_bound = 200, max_step = 0.05):\n",
        "    def resultSC(model):\n",
        "        return computefunc(\n",
        "          model, state0 = state0, t0 = t0, t_bound = t_bound, max_step = max_step)\n",
        "    return resultSC"
      ],
      "execution_count": 11,
      "outputs": []
    },
    {
      "cell_type": "markdown",
      "metadata": {
        "id": "zza31ciKii6l"
      },
      "source": [
        "## Controllers"
      ]
    },
    {
      "cell_type": "markdown",
      "metadata": {
        "id": "nI8SHWQxWeed"
      },
      "source": [
        "All controllers have to have same signature (parameter list)\n",
        "\n",
        "```python\n",
        "def controller(t, currentState, destinationState)\n",
        "```\n",
        "\n",
        "thus a creator taking special controller parameters must be defined. Such a creator should accept all special parameters and return controller with standard signature."
      ]
    },
    {
      "cell_type": "markdown",
      "metadata": {
        "id": "861HkupvimCa"
      },
      "source": [
        "### Circle Controller"
      ]
    },
    {
      "cell_type": "code",
      "metadata": {
        "id": "VeoVrwZtA7_7"
      },
      "source": [
        "def createCircleControllerWithGain(gain, omega_ri, vri, lowVelocityLimit, highVelocityLimit, lowOmegaLimit, highOmegaLimit):\n",
        "    def controller(t, currentState, destinationState):\n",
        "        currentX = currentState[0]\n",
        "        currentY = currentState[1]\n",
        "        currentTheta = currentState[2]\n",
        "\n",
        "        destinationX = destinationState[0]\n",
        "        destinationY = destinationState[1]\n",
        "\n",
        "        cosTheta = cos(currentTheta)\n",
        "        sinTheta = sin(currentTheta)\n",
        "\n",
        "        deltaX = destinationX - currentX\n",
        "        deltaY = destinationY - currentY\n",
        "\n",
        "        velocity = vri\n",
        "        omega = -2 * gain * vri * (deltaX * sinTheta - deltaY * cosTheta) / (deltaX * deltaX + deltaY * deltaY)\n",
        "    \n",
        "        if (velocity > highVelocityLimit):\n",
        "            velocity = highVelocityLimit\n",
        "        if (velocity < lowVelocityLimit):\n",
        "            velocity = lowVelocityLimit\n",
        "        if (omega > highOmegaLimit):\n",
        "            omega = highOmegaLimit\n",
        "        if (omega < lowOmegaLimit):\n",
        "            omega = lowOmegaLimit\n",
        "\n",
        "        return velocity, omega\n",
        "    return controller"
      ],
      "execution_count": 12,
      "outputs": []
    },
    {
      "cell_type": "markdown",
      "metadata": {
        "id": "4YQkNzcHNia4"
      },
      "source": [
        "#### Full Example of Use"
      ]
    },
    {
      "cell_type": "code",
      "metadata": {
        "colab": {
          "base_uri": "https://localhost:8080/",
          "height": 394
        },
        "id": "lbuEfz_YNXco",
        "outputId": "596fcfca-3227-43be-a6f6-0068c9f36117"
      },
      "source": [
        "def localDemo():\n",
        "    pathForSimulation = iter([\n",
        "            [0, 0, 0],  #X, Y, orientation\n",
        "            [10, 0, 0], #X, Y, orientation\n",
        "            [10, 10, 0], #X, Y, orientation\n",
        "            [0, 10, 0], #X, Y, orientation\n",
        "            [0, 0, 0]\n",
        "        ])\n",
        "\n",
        "    pathForSimulation = iter([\n",
        "            [0, 0, 0],  #X, Y, orientation\n",
        "            [10, 0, 0], #X, Y, orientation\n",
        "            [10, 10, 0], #X, Y, orientation\n",
        "            [20, 10, 0], #X, Y, orientation\n",
        "            [20, 20, 0]\n",
        "        ])\n",
        "\n",
        "\n",
        "    robotState0 = {\n",
        "            'x': 0,\n",
        "            'y': 0,\n",
        "            'theta': -3.14 / 4\n",
        "        }\n",
        "\n",
        "    t0 = 0\n",
        "    t_bound = 100\n",
        "    max_step = 0.05\n",
        "\n",
        "    state0 = None\n",
        "    if robot == robotWithDynamic:\n",
        "        state0 = np.array([robotState0['x'], robotState0['y'], robotState0['theta'], 0, 0, 0, 0, 0, 0, 0]) # x0=0, y0=0, theta\n",
        "    else:\n",
        "        state0 = np.array([robotState0['x'], robotState0['y'], robotState0['theta'], 0, 0, 0]) # x0=0, y0=0,theta\n",
        "\n",
        "    solverfunc = simpleCompute(\n",
        "        compute, state0 = state0, \n",
        "        t0 = t0, t_bound = t_bound, max_step = max_step)    \n",
        "\n",
        "    controllerParams = {\n",
        "        'gain': 4, \n",
        "        'omega_ri': 0, \n",
        "        'vri': 2.0, \n",
        "        'lowVelocityLimit': 0.2, \n",
        "        'highVelocityLimit': 2.0, \n",
        "        'lowOmegaLimit': -0.75, \n",
        "        'highOmegaLimit': 0.75\n",
        "        }\n",
        "\n",
        "    fullRobot = robotModelCreator(createCircleControllerWithGain, pathForSimulation, **controllerParams)      \n",
        "    state1 = fullRobot(0, state0)\n",
        "    robotStates = solverfunc(fullRobot)\n",
        "\n",
        "    results = {}\n",
        "    for key, selector in selectors.items():\n",
        "        print(key)\n",
        "        results[key] = []\n",
        "\n",
        "    for currentState in robotStates: # readout all states from current moving robot\n",
        "        for key, selector in selectors.items():\n",
        "            results[key].append(selector(currentState))\n",
        "\n",
        "    plt.plot(results['x'], results['y'])\n",
        "\n",
        "if _runDemos:\n",
        "    localDemo()"
      ],
      "execution_count": 13,
      "outputs": [
        {
          "output_type": "stream",
          "text": [
            "time\n",
            "x\n",
            "y\n",
            "d\n",
            "v\n",
            "omega\n",
            "E\n"
          ],
          "name": "stdout"
        },
        {
          "output_type": "display_data",
          "data": {
            "image/png": "[encoded data removed]",
            "text/plain": [
              "<Figure size 432x288 with 1 Axes>"
            ]
          },
          "metadata": {
            "tags": [],
            "needs_background": "light"
          }
        }
      ]
    },
    {
      "cell_type": "markdown",
      "metadata": {
        "id": "P7NQdsBwXaSN"
      },
      "source": [
        "### Robins"
      ]
    },
    {
      "cell_type": "code",
      "metadata": {
        "id": "YfaZ3nQ6Xha3"
      },
      "source": [
        "def createController_By_RobinsMathew(k0, k1, omega_ri, vri, lowVelocityLimit, highVelocityLimit, lowOmegaLimit, highOmegaLimit):\n",
        "    def controller(t, currentState, destinationState):\n",
        "        currentX = currentState[0]\n",
        "        currentY = currentState[1]\n",
        "        currentTheta = currentState[2]\n",
        "\n",
        "        destinationX = destinationState[0]\n",
        "        destinationY = destinationState[1]\n",
        "\n",
        "        cosTheta = cos(currentTheta)\n",
        "        sinTheta = sin(currentTheta)\n",
        "    \n",
        "        deltaX = destinationX - currentX\n",
        "        deltaY = destinationY - currentY\n",
        "        theta_destination = atan2(deltaY, deltaX)\n",
        "        theta_error = theta_destination - currentTheta\n",
        "\n",
        "        Te = math.sin(theta_destination)*deltaX - math.cos(theta_destination)*deltaY\n",
        "    \n",
        "        velocity = vri*math.cos(theta_error)\n",
        "        omega = omega_ri + k0*vri*Te + k1*vri*math.sin(theta_error)\n",
        "\n",
        "        if velocity > highVelocityLimit:\n",
        "            velocity = highVelocityLimit\n",
        "        if (velocity < lowVelocityLimit):\n",
        "            velocity = lowVelocityLimit\n",
        "        if omega > highOmegaLimit:\n",
        "            omega = highOmegaLimit\n",
        "        if (omega < lowOmegaLimit):\n",
        "            omega = lowOmegaLimit\n",
        "      \n",
        "        return velocity, omega\n",
        "    return controller"
      ],
      "execution_count": 14,
      "outputs": []
    },
    {
      "cell_type": "markdown",
      "metadata": {
        "id": "Z_y4r-tii6ZJ"
      },
      "source": [
        "### Fuzzy Logic Controller"
      ]
    },
    {
      "cell_type": "markdown",
      "metadata": {
        "id": "xiTGujK_jEsD"
      },
      "source": [
        "#### Helper Functions"
      ]
    },
    {
      "cell_type": "code",
      "metadata": {
        "id": "EAa9L5PtjE99"
      },
      "source": [
        "def createFuzzyfier(space, categories, trimf = fuzz.trimf, membership = fuzz.interp_membership):\n",
        "    fuzzyInput = {}\n",
        "    for key, value in categories.items():\n",
        "        fuzzyInput[key] = trimf(space, value)\n",
        "    def result(variable):\n",
        "        output = {}\n",
        "        for key, value in fuzzyInput.items():\n",
        "            output[key] = membership(space, value, variable)\n",
        "        if output[key] ==0:\n",
        "            output[key] = 1e-5\n",
        "        else:\n",
        "            output[key] = output[key] \n",
        "        return output\n",
        "    return result\n",
        "\n",
        "def createInferenceSystem(inputAfuzzyfier, inputBfuzzyfier, outputSpace, outputDict, rulesDict, trimf = fuzz.trimf):\n",
        "    fuzzyResults = {}\n",
        "    for keyA, outerValue in rulesDict.items():\n",
        "        if not(keyA in fuzzyResults):\n",
        "            fuzzyResults[keyA] = {}\n",
        "        for keyB, innerValue in outerValue.items():\n",
        "            fuzzyResults[keyA][keyB] = trimf(outputSpace, outputDict[innerValue]) #innerValue==outputDict[keyA][keyB]\n",
        "    def result(valueA, valueB):\n",
        "        fuzzyVariableA = inputAfuzzyfier(valueA)\n",
        "        fuzzyVariableB = inputBfuzzyfier(valueB)\n",
        "        fuzzyResult = None\n",
        "        for keyA, outerValue in rulesDict.items():\n",
        "            for keyB, resultValue in outerValue.items():\n",
        "                currentResult = np.fmin(fuzzyResults[keyA][keyB],\n",
        "                    np.fmin(fuzzyVariableA[keyA], fuzzyVariableB[keyB]))\n",
        "                if fuzzyResult is None:\n",
        "                    fuzzyResult = currentResult\n",
        "                else:\n",
        "                    fuzzyResult = np.fmax(currentResult, fuzzyResult)\n",
        "        return fuzzyResult\n",
        "    return result\n",
        "\n",
        "def createDefuzzyfier(outputSpace, *defuzzArgs, defuzz=fuzz.defuzz, **defuzzKwargs):\n",
        "    def result(value):\n",
        "        return defuzz(outputSpace, value, *defuzzArgs, **defuzzKwargs)\n",
        "    return result\n",
        "  \n",
        "def createFullFuzzySystem(inferenceSystem, defuzzyfier):\n",
        "    def system(inputA, inputB):\n",
        "        return defuzzyfier(inferenceSystem(inputA, inputB))\n",
        "    return system"
      ],
      "execution_count": 15,
      "outputs": []
    },
    {
      "cell_type": "markdown",
      "metadata": {
        "id": "ND5QnGTCjggB"
      },
      "source": [
        "#### Controller"
      ]
    },
    {
      "cell_type": "code",
      "metadata": {
        "id": "ECXYHByGi-fu"
      },
      "source": [
        "def createFuzzyController(fuzzyDescription, r, b, omega_ri, vri, lowVelocityLimit, highVelocityLimit, lowOmegaLimit, highOmegaLimit):\n",
        "    inputsDistance = fuzzyDescription['inputs']['distance']['M']\n",
        "    inputsSpaceDistance = np.array(fuzzyDescription['inputs']['distance']['S'])\n",
        "    \n",
        "    inputsAngle = fuzzyDescription['inputs']['angle']['M']\n",
        "    inputsSpaceAngle = np.array(fuzzyDescription['inputs']['angle']['S'])\n",
        "    \n",
        "    outputsOmegaR = fuzzyDescription['outputs']['omegaR']['M']\n",
        "    outputSpaceOmegaR = np.array(fuzzyDescription['outputs']['omegaR']['S'])\n",
        "    outputRulesOmegaR = fuzzyDescription['outputs']['omegaR']['rules']\n",
        "    \n",
        "    outputsOmegaL = fuzzyDescription['outputs']['omegaL']['M']\n",
        "    outputSpaceOmegaL = np.array(fuzzyDescription['outputs']['omegaL']['S'])\n",
        "    outputRulesOmegaL = fuzzyDescription['outputs']['omegaL']['rules']\n",
        "\n",
        "\n",
        "    inputsDistanceFuzzyfier = createFuzzyfier(inputsSpaceDistance, inputsDistance)\n",
        "    inputsAngleFuzzyfier = createFuzzyfier(inputsSpaceAngle, inputsAngle)\n",
        "\n",
        "    inferenceSystem_R = createInferenceSystem(inputsDistanceFuzzyfier, inputsAngleFuzzyfier, outputSpaceOmegaR, outputsOmegaR, outputRulesOmegaR)\n",
        "    outputDefuzzyfier_R = createDefuzzyfier(outputSpaceOmegaL, mode='centroid')\n",
        "\n",
        "    inferenceSystem_L = createInferenceSystem(inputsDistanceFuzzyfier, inputsAngleFuzzyfier, outputSpaceOmegaL, outputsOmegaL, outputRulesOmegaL)\n",
        "    outputDefuzzyfier_L = createDefuzzyfier(outputSpaceOmegaL, mode='centroid')\n",
        "\n",
        "    fullSystem_R = createFullFuzzySystem(inferenceSystem_R, outputDefuzzyfier_R)\n",
        "    fullSystem_L = createFullFuzzySystem(inferenceSystem_L, outputDefuzzyfier_L)\n",
        "    \n",
        "    def controller(t, currentState, destinationState):\n",
        "        currentX = currentState[0]\n",
        "        currentY = currentState[1]\n",
        "        currentTheta = currentState[2]\n",
        "\n",
        "        destinationX = destinationState[0]\n",
        "        destinationY = destinationState[1]\n",
        "\n",
        "        cosTheta = cos(currentTheta)\n",
        "        sinTheta = sin(currentTheta)\n",
        "        \n",
        "        deltaX = destinationX - currentX\n",
        "        deltaY = destinationY - currentY\n",
        "        theta_destination = atan2(deltaY, deltaX)\n",
        "        THETA_ERROR = theta_destination - currentTheta\n",
        "        DISTANCE_ERROR = sqrt(deltaX * deltaX + deltaY * deltaY)\n",
        "        \n",
        "        if (THETA_ERROR > pi):\n",
        "            THETA_ERROR -= 2*pi\n",
        "        if (THETA_ERROR < -pi):\n",
        "            THETA_ERROR += 2*pi\n",
        "      \n",
        "        omega_R = fullSystem_R(DISTANCE_ERROR, THETA_ERROR)\n",
        "        omega_L = fullSystem_L(DISTANCE_ERROR, THETA_ERROR)\n",
        "\n",
        "        velocity = r * (omega_R + omega_L) / 2\n",
        "        omega = r * (omega_R - omega_L) / b\n",
        "\n",
        "        if velocity > highVelocityLimit:\n",
        "            velocity = highVelocityLimit\n",
        "        if (velocity < lowVelocityLimit):\n",
        "            velocity = lowVelocityLimit\n",
        "        if omega > highOmegaLimit:\n",
        "            omega = highOmegaLimit\n",
        "        if (omega < lowOmegaLimit):\n",
        "            omega = lowOmegaLimit\n",
        "\n",
        "        return velocity, omega\n",
        "    return controller"
      ],
      "execution_count": 16,
      "outputs": []
    },
    {
      "cell_type": "markdown",
      "metadata": {
        "id": "NwNbQ4J6A7_-"
      },
      "source": [
        "## Simulation Function"
      ]
    },
    {
      "cell_type": "markdown",
      "metadata": {
        "id": "Z_8pVr2PYUdB"
      },
      "source": [
        "In next part the full description of simulation is stored in a single structured JSON document / variable. If this document is mutated, the slighly different condition for simulation are defined. Set of mutated documents and results of described simulations might be compared and thus proper results can be selected. This process creates a basement for optimization techniques."
      ]
    },
    {
      "cell_type": "markdown",
      "metadata": {
        "id": "6WjwxrtjA7__"
      },
      "source": [
        "### Simulation Description"
      ]
    },
    {
      "cell_type": "code",
      "metadata": {
        "id": "-S77zClxA7__"
      },
      "source": [
        "simulationDescription = {\n",
        "\n",
        "    'robotState0': {\n",
        "        'x': 0,\n",
        "        'y': 0,\n",
        "        'theta': -3.14 / 4\n",
        "    },\n",
        "\n",
        "    'path': [\n",
        "        [0, 0, 0],  #X, Y, orientation\n",
        "        [10, 0, 0], #X, Y, orientation\n",
        "        [10, 10, 0], #X, Y, orientation\n",
        "        [0, 10, 0], #X, Y, orientation\n",
        "        [0, 0, 0]\n",
        "    ],\n",
        "\n",
        "    'robotParams': {\n",
        "        'r': 0.0925,\n",
        "        'b': 0.37,\n",
        "        'm': 9,\n",
        "        'I': 0.16245,\n",
        "        #'motorParams': None,\n",
        "        'motorParams': {\n",
        "            'J': 0.01,\n",
        "            'B': 0.1,\n",
        "\n",
        "            'Kt': 0.01,\n",
        "            'Ke': 0.01,\n",
        "            'K': 0.01,\n",
        "\n",
        "            'Ra': 0.1,\n",
        "            'La': 0.01\n",
        "        }\n",
        "    },\n",
        "    \n",
        "    'controllerParams': {\n",
        "        'omega_ri': 0, 'vri': 2.0,'lowVelocityLimit': 0.2, \n",
        "        'highVelocityLimit': 2.0, 'lowOmegaLimit': -0.75, 'highOmegaLimit': 0.75\n",
        "    },\n",
        "\n",
        "    'simulationParams': {\n",
        "        't0': 0,\n",
        "        't_bound': 100,\n",
        "        'max_step': 0.05\n",
        "    }\n",
        "}"
      ],
      "execution_count": 17,
      "outputs": []
    },
    {
      "cell_type": "markdown",
      "metadata": {
        "id": "1KcxXFJHA7__"
      },
      "source": [
        "### Executor"
      ]
    },
    {
      "cell_type": "code",
      "metadata": {
        "id": "HeQ5PRiyhnMA"
      },
      "source": [
        "def runSimulation(simulationDescription, controllerCreator, selectors=selectors):\n",
        "  \n",
        "    pathForSimulation = iter(simulationDescription['path'])\n",
        "\n",
        "    t0 = simulationDescription['simulationParams']['t0']\n",
        "    t_bound = simulationDescription['simulationParams']['t_bound']\n",
        "    max_step = simulationDescription['simulationParams']['max_step']\n",
        "\n",
        "    state0 = None\n",
        "    robotState0 = simulationDescription['robotState0']\n",
        "    if robot == robotWithDynamic:\n",
        "        state0 = np.array([robotState0['x'], robotState0['y'], robotState0['theta'], 0, 0, 0, 0, 0, 0, 0]) # x0=0, y0=0, theta\n",
        "    else:\n",
        "        state0 = np.array([robotState0['x'], robotState0['y'], robotState0['theta'], 0, 0, 0]) # x0=0, y0=0,theta\n",
        "\n",
        "    solverfunc = simpleCompute(\n",
        "        compute, state0 = state0, \n",
        "        t0 = t0, t_bound = t_bound, max_step = max_step)\n",
        "\n",
        "    controllerParams = simulationDescription['controllerParams']\n",
        "    completeRobot = robotModelCreator(controllerCreator, pathForSimulation, **controllerParams)      \n",
        "    robotStates = solverfunc(completeRobot)\n",
        "\n",
        "    results = {}\n",
        "    for key, selector in selectors.items():\n",
        "        results[key] = []\n",
        "\n",
        "    for currentState in robotStates: # readout all states from current moving robot\n",
        "        for key, selector in selectors.items():\n",
        "            results[key].append(selector(currentState))\n",
        "\n",
        "    return results"
      ],
      "execution_count": 18,
      "outputs": []
    },
    {
      "cell_type": "markdown",
      "metadata": {
        "id": "gicZW0wlA8AA"
      },
      "source": [
        "### Example of Use"
      ]
    },
    {
      "cell_type": "code",
      "metadata": {
        "id": "qai3xZ3mA8AA",
        "outputId": "e7292ba2-ecee-42eb-bd31-2f05fc711fdc",
        "colab": {
          "base_uri": "https://localhost:8080/",
          "height": 265
        }
      },
      "source": [
        "import copy\n",
        "\n",
        "def localDemo():\n",
        "    circleControllerDescription = copy.deepcopy(simulationDescription)\n",
        "    circleControllerDescription['controllerParams']['gain'] = 4\n",
        "\n",
        "    results = runSimulation(circleControllerDescription, createCircleControllerWithGain, selectors)\n",
        "    plt.plot(results['x'], results['y'])\n",
        "    \n",
        "if _runDemos:\n",
        "    localDemo()"
      ],
      "execution_count": 19,
      "outputs": [
        {
          "output_type": "display_data",
          "data": {
            "image/png": "[encoded data removed]",
            "text/plain": [
              "<Figure size 432x288 with 1 Axes>"
            ]
          },
          "metadata": {
            "tags": [],
            "needs_background": "light"
          }
        }
      ]
    },
    {
      "cell_type": "markdown",
      "metadata": {
        "id": "wmPAPhoVYawE"
      },
      "source": [
        "## Chromozome Mapping Functions"
      ]
    },
    {
      "cell_type": "markdown",
      "metadata": {
        "id": "zhXB2hfGnI9Y"
      },
      "source": [
        "These functions change standard simulation description into description based on information stored in chromosome. Also these functions could be named as a chromosome information decoder."
      ]
    },
    {
      "cell_type": "markdown",
      "metadata": {
        "id": "ckJma0JxYg_O"
      },
      "source": [
        "### Circle Controller"
      ]
    },
    {
      "cell_type": "code",
      "metadata": {
        "id": "8L6R8GdXYj91"
      },
      "source": [
        "import copy\n",
        "def fromChromozomeToDescriptionCircle(chromozome, description):\n",
        "    result = copy.deepcopy(description)\n",
        "    result['controllerParams']['gain'] = chromozome[0]\n",
        "    return result"
      ],
      "execution_count": 20,
      "outputs": []
    },
    {
      "cell_type": "markdown",
      "metadata": {
        "id": "l-4tBv9VYmHn"
      },
      "source": [
        "### Robins Controller"
      ]
    },
    {
      "cell_type": "code",
      "metadata": {
        "id": "4AL6Rx2KYfwQ"
      },
      "source": [
        "import copy\n",
        "def fromChromozomeToDescriptionRobins(chromozome, description):\n",
        "    result = copy.deepcopy(description)\n",
        "    result['controllerParams']['k0'] = chromozome[0]\n",
        "    result['controllerParams']['k1'] = chromozome[1]\n",
        "    return result"
      ],
      "execution_count": 21,
      "outputs": []
    },
    {
      "cell_type": "markdown",
      "metadata": {
        "id": "Cm7bo0diYxvH"
      },
      "source": [
        "### Fuzzy Logic Controller"
      ]
    },
    {
      "cell_type": "code",
      "metadata": {
        "id": "xGuoa_ISY1jP"
      },
      "source": [
        "import copy\n",
        "def fromChromozomeToDescriptionFuzzy(chromozome, description):\n",
        "    CH = chromozome # just for simplicity\n",
        "    result = copy.deepcopy(description)\n",
        "\n",
        "    fuzzyDescription = {\n",
        "        'inputs': {\n",
        "            'distance' : {\n",
        "                'S': list(np.arange(0, 2, 0.02)),\n",
        "                'M': {'VC': [0, 0, 0.5], 'C': [0, 0.5, 1], 'M': [0.5, 1, 1.5], 'F': [1, 1.5, 2], 'VF': [1.5, 2, 2]}\n",
        "            },\n",
        "            'angle' : {\n",
        "                'S': list(np.arange(-3.14, 3.14, 0.0628)),\n",
        "                'M': {'BN': [-3.14, -3.14, -1.57], 'N': [-3.14, -1.57, 0], 'Z': [-1.57, 0, 1.57], 'P': [0, 1.57, 3.14], 'BP': [1.57, 3.14, 3.14]}\n",
        "            }\n",
        "        },\n",
        "        'outputs': {\n",
        "            'omegaR': {\n",
        "                'S': list(np.arange(0, 30, 0.3)),\n",
        "                'rules': {\n",
        "                    'VC': {'BN': 'VSR', 'N': 'SR', 'Z': 'VSR', 'P': 'BR', 'BP': 'VBR'},\n",
        "                    'C': {'BN': 'VSR', 'N': 'SR', 'Z': 'SR', 'P': 'BR', 'BP': 'VBR'},\n",
        "                    'M': {'BN': 'VSR', 'N': 'SR', 'Z': 'MBR', 'P': 'BR', 'BP': 'VBR'},\n",
        "                    'F': {'BN': 'VSR', 'N': 'SR', 'Z': 'BR', 'P': 'BR', 'BP': 'VBR'},\n",
        "                    'VF': {'BN': 'VSR', 'N': 'SR', 'Z': 'VBR', 'P': 'BR', 'BP': 'VBR'}\n",
        "                },\n",
        "                'mode': 'centroid',\n",
        "                'M': {'VSR': [0, 0, 7.5], 'SR': [0, 7.5, 15], 'MBR': [7.5, 15, 22.5], 'BR': [15, 22.5, 30], 'VBR': [22.5, 30, 30]}\n",
        "            },\n",
        "            'omegaL': {\n",
        "                'S': list(np.arange(0, 30, 0.3)),\n",
        "                'rules': {\n",
        "                    'VC': {'BN': 'VBL', 'N': 'BL', 'Z': 'VSL', 'P': 'SL', 'BP': 'VSL'},\n",
        "                    'C': {'BN': 'VBL', 'N': 'BL', 'Z': 'SL', 'P': 'SL', 'BP': 'VSL'},\n",
        "                    'M': {'BN': 'VBL', 'N': 'BL', 'Z': 'MBL', 'P': 'SL', 'BP': 'VSL'},\n",
        "                    'F': {'BN': 'VBL', 'N': 'BL', 'Z': 'BL', 'P': 'SL', 'BP': 'VSL'},\n",
        "                    'VF': {'BN': 'VBL', 'N': 'BL', 'Z': 'VBL', 'P': 'SL', 'BP': 'VSL'} \n",
        "                },\n",
        "                'mode': 'centroid',\n",
        "                'M': {'VSL': [0, 0, 7.5], 'SL': [0, 7.5, 15], 'MBL': [7.5, 15, 22.5], 'BL': [15, 22.5, 30], 'VBL': [22.5, 30, 30]}\n",
        "            }\n",
        "        }\n",
        "    }     \n",
        "\n",
        "    distance_Member = {'VC': [0, 0, CH[0]], \n",
        "                       'C': [CH[2] - CH[1], CH[2], CH[2] + CH[3]],\n",
        "                       'M': [CH[5] - CH[4], CH[5], CH[5] + CH[6]],\n",
        "                       'F': [CH[8] - CH[7], CH[8], CH[8] + CH[9]], \n",
        "                       'VF': [2 - CH[10], 2, 2]}\n",
        "    fuzzyDescription['inputs']['distance']['M'] = distance_Member\n",
        "\n",
        "    angle_Member = {'BN': [-3.14, -3.14, -3.14+CH[11]], \n",
        "                    'N': [CH[13] - CH[12], CH[13], CH[13] + CH[14]],\n",
        "                    'Z': [CH[16] - CH[15], CH[16], CH[16] + CH[17]], \n",
        "                    'P': [CH[19] - CH[18], CH[19], CH[19] + CH[20]], \n",
        "                    'BP': [3.14 - CH[21], 3.14, 3.14]}    \n",
        "    fuzzyDescription['inputs']['angle']['M'] = angle_Member\n",
        "\n",
        "    omegaR_Member =  {'VSR': [0, 0, CH[22]], \n",
        "                      'SR': [CH[24] - CH[23], CH[24], CH[24] + CH[25]],\n",
        "                      'MBR': [CH[27] - CH[26], CH[27], CH[27] + CH[28]], \n",
        "                      'BR': [CH[30] - CH[29], CH[30], CH[30] + CH[31]], \n",
        "                      'VBR': [30 - CH[32], 30, 30]}\n",
        "    fuzzyDescription['outputs']['omegaR']['M'] = omegaR_Member\n",
        "\n",
        "    omegaL_Member =  {'VSL': [0, 0, CH[33]], \n",
        "                      'SL': [CH[35] - CH[34], CH[35], CH[35] + CH[36]],\n",
        "                      'MBL': [CH[38] - CH[37], CH[38], CH[38] + CH[39]], \n",
        "                      'BL': [CH[41] - CH[40], CH[41], CH[41] + CH[42]], \n",
        "                      'VBL': [30 - CH[43], 30, 30]}\n",
        "    fuzzyDescription['outputs']['omegaL']['M'] = omegaL_Member\n",
        "\n",
        "    result['controllerParams']['fuzzyDescription'] = fuzzyDescription\n",
        "    \n",
        "    result['controllerParams']['r'] = result['robotParams']['r']\n",
        "    result['controllerParams']['b'] = result['robotParams']['b']\n",
        "    return result"
      ],
      "execution_count": 22,
      "outputs": []
    },
    {
      "cell_type": "markdown",
      "metadata": {
        "id": "UWDmy6QsA8AC"
      },
      "source": [
        "#### Demo of Use"
      ]
    },
    {
      "cell_type": "code",
      "metadata": {
        "id": "S5Gm7hWvA8AC",
        "outputId": "12d14bf0-7f60-4e5d-9ce1-2b80372cc7c6",
        "colab": {
          "base_uri": "https://localhost:8080/",
          "height": 269
        }
      },
      "source": [
        "def localDemo():\n",
        "    _chromosome = [ 1.74005451,  1.48015509,  0.11228583,  1.09902842,  0.43416075,  1.12959802,\n",
        "      0.79451062,  0.35309807,  1.89647492,  0.8603056,   1.31815441,  3.50991593,\n",
        "      1.26617812, -1.53443539,  4.50231413,  5.05053392, -0.57660657,  0.09952368,\n",
        "      5.86490838,  2.82272312,  4.57718351,  5.83371728, 21.28833523,  5.04601735,\n",
        "      6.78410773, 23.10967576,  3.59687006, 15.67996143, 12.05597772, 21.35955841,\n",
        "     18.03735429,  5.93796649, 11.40657898, 14.15564325, 27.64321413,  9.5777817,\n",
        "      9.06290194, 26.49085526, 15.25899858, 17.25071225,  4.15064069, 27.54360651,\n",
        "     18.41613269,  9.71691383]\n",
        "\n",
        "    fuzzyLogicSimulationDescription = fromChromozomeToDescriptionFuzzy(_chromosome, simulationDescription)\n",
        "    results = runSimulation(fuzzyLogicSimulationDescription, createFuzzyController, selectors=selectors)\n",
        "\n",
        "    plt.plot(results['x'], results['y'])\n",
        "    \n",
        "if _runDemos:\n",
        "    localDemo()"
      ],
      "execution_count": 23,
      "outputs": [
        {
          "output_type": "display_data",
          "data": {
            "image/png": "[encoded data removed]",
            "text/plain": [
              "<Figure size 432x288 with 1 Axes>"
            ]
          },
          "metadata": {
            "tags": [],
            "needs_background": "light"
          }
        }
      ]
    },
    {
      "cell_type": "markdown",
      "metadata": {
        "id": "RZUKye1mA8AC"
      },
      "source": [
        "## Path Mapping Function"
      ]
    },
    {
      "cell_type": "markdown",
      "metadata": {
        "id": "3R0-amb-A8AC"
      },
      "source": [
        "This function allows to easy change simulation description for path which a robot has to follow."
      ]
    },
    {
      "cell_type": "code",
      "metadata": {
        "id": "PRcpaMkZA8AC"
      },
      "source": [
        "import copy\n",
        "def fromPathToDescription(path, description):\n",
        "    result = copy.deepcopy(description)\n",
        "    result['path'] = list(path)\n",
        "    return result"
      ],
      "execution_count": 24,
      "outputs": []
    },
    {
      "cell_type": "markdown",
      "metadata": {
        "id": "Z6JfWpThhVjo"
      },
      "source": [
        "## Fitness Functions (Based on Chromozomes)"
      ]
    },
    {
      "cell_type": "markdown",
      "metadata": {
        "id": "KiZyaEB3A8AD"
      },
      "source": [
        "For optimization the fitness functions are needed. The simulation function has been defined earlier in this document. A fitness function must transform chromozome into simulation description, run appropriate simulation and return all results or subset of results. This chapter defines a bunch of fitness functions."
      ]
    },
    {
      "cell_type": "markdown",
      "metadata": {
        "id": "KwB4GtLZlTIx"
      },
      "source": [
        "### Helper Functions"
      ]
    },
    {
      "cell_type": "markdown",
      "metadata": {
        "id": "tvyR3uMTA8AD"
      },
      "source": [
        "#### Function for Fitness Function Creation"
      ]
    },
    {
      "cell_type": "markdown",
      "metadata": {
        "id": "mMxM9jqwA8AD"
      },
      "source": [
        "```createFitnessFunction``` allows to create fitness function which is appropriate for description, chromosome decoder (```mapperFunction```), function which creates controller (```controllerCreator```) and, if needed, selection of subresult (```resultSelector```)."
      ]
    },
    {
      "cell_type": "code",
      "metadata": {
        "id": "3QgaKb7jbC4u"
      },
      "source": [
        "def createFitnessFunction(baseDescription, mapperFunction, controllerCreator, resultSelector=lambda item: item):\n",
        "    def fitnessFunction(chromozome):\n",
        "        freshDescription = mapperFunction(chromozome, baseDescription)\n",
        "        results = runSimulation(freshDescription, controllerCreator, selectors=selectors)\n",
        "        result = resultSelector(results)\n",
        "        return result\n",
        "    return fitnessFunction"
      ],
      "execution_count": 25,
      "outputs": []
    },
    {
      "cell_type": "code",
      "metadata": {
        "id": "kyqW0vFMj43X"
      },
      "source": [
        "def energySelector(results):\n",
        "    return results['E'][-1]"
      ],
      "execution_count": 26,
      "outputs": []
    },
    {
      "cell_type": "code",
      "metadata": {
        "id": "UF4CM8sMj_lu"
      },
      "source": [
        "def distanceSelector(results):\n",
        "    return results['d'][-1]"
      ],
      "execution_count": 27,
      "outputs": []
    },
    {
      "cell_type": "markdown",
      "metadata": {
        "id": "C76b7EWsmLL6"
      },
      "source": [
        "#### Multivalue Functions"
      ]
    },
    {
      "cell_type": "markdown",
      "metadata": {
        "id": "MdL2HWxJA8AE"
      },
      "source": [
        "```singleAsMultiValue``` transforms function with scalar value into function with vector value. Such transformation creates a functionc which can evaluate multiple values in single call."
      ]
    },
    {
      "cell_type": "code",
      "metadata": {
        "id": "fSDyVicrmP05"
      },
      "source": [
        "def singleAsMultiValue(singleFunction):\n",
        "    def resultFunction(chromosomes):\n",
        "        results = []\n",
        "        for chromosome in chromosomes:\n",
        "            results.append(singleFunction(chromosome))\n",
        "        return results\n",
        "    return resultFunction"
      ],
      "execution_count": 28,
      "outputs": []
    },
    {
      "cell_type": "markdown",
      "metadata": {
        "id": "efIGekNSlWAF"
      },
      "source": [
        "### Simulation Description"
      ]
    },
    {
      "cell_type": "markdown",
      "metadata": {
        "id": "fpZYVPYIli8p"
      },
      "source": [
        "From this point simulations depend on ```simulationDescription``` defined in next code. Thus if any change is needed this is best place for it."
      ]
    },
    {
      "cell_type": "code",
      "metadata": {
        "id": "7gGSqqPXicpc"
      },
      "source": [
        "simulationDescription = {\n",
        "    'robotState0': {\n",
        "        'x': 0,\n",
        "        'y': 0,\n",
        "        'theta': -3.14 / 4\n",
        "    },\n",
        "\n",
        "    'path': [\n",
        "        [0, 0, 0],  #X, Y, orientation\n",
        "        [10, 0, 0], #X, Y, orientation\n",
        "        [10, 10, 0], #X, Y, orientation\n",
        "        [0, 10, 0], #X, Y, orientation\n",
        "        [0, 0, 0]\n",
        "    ],\n",
        "\n",
        "    'robotParams': {\n",
        "        'r': 0.0925,\n",
        "        'b': 0.37,\n",
        "        'm': 9,\n",
        "        'I': 0.16245,\n",
        "        #'motorParams': None,\n",
        "        'motorParams': {\n",
        "            'J': 0.01,\n",
        "            'B': 0.1,\n",
        "\n",
        "            'Kt': 0.01,\n",
        "            'Ke': 0.01,\n",
        "            'K': 0.01,\n",
        "\n",
        "            'Ra': 0.1,\n",
        "            'La': 0.01\n",
        "        }\n",
        "    },\n",
        "    \n",
        "    'controllerParams': {\n",
        "        'omega_ri': 0, 'vri': 2.0,'lowVelocityLimit': 0.2, \n",
        "        'highVelocityLimit': 2.0, 'lowOmegaLimit': -0.75, 'highOmegaLimit': 0.75\n",
        "    },\n",
        "\n",
        "    'simulationParams': {\n",
        "        't0': 0,\n",
        "        't_bound': 100,\n",
        "        'max_step': 0.05\n",
        "    }\n",
        "}"
      ],
      "execution_count": 29,
      "outputs": []
    },
    {
      "cell_type": "markdown",
      "metadata": {
        "id": "NCcjm8hgc8D1"
      },
      "source": [
        "### Fuzzy Logic Controller"
      ]
    },
    {
      "cell_type": "markdown",
      "metadata": {
        "id": "VAmNv9U9A8AF"
      },
      "source": [
        "#### Singlevalue Functions"
      ]
    },
    {
      "cell_type": "code",
      "metadata": {
        "id": "3Q45mv7wiN6z"
      },
      "source": [
        "fitnessFunctionFLC_Energy = createFitnessFunction(simulationDescription, fromChromozomeToDescriptionFuzzy, createFuzzyController, energySelector)\n",
        "fitnessFunctionFLC_Distance = createFitnessFunction(simulationDescription, fromChromozomeToDescriptionFuzzy, createFuzzyController, distanceSelector)\n",
        "fitnessFunctionFLC_FullResults = createFitnessFunction(simulationDescription, fromChromozomeToDescriptionFuzzy, createFuzzyController)"
      ],
      "execution_count": 30,
      "outputs": []
    },
    {
      "cell_type": "markdown",
      "metadata": {
        "id": "QZp7QaaJA8AF"
      },
      "source": [
        "#### Multivalue Functions"
      ]
    },
    {
      "cell_type": "code",
      "metadata": {
        "id": "FKY8tIQDA8AF"
      },
      "source": [
        "fitnessFunctionFLC_EnergyMulti = singleAsMultiValue(fitnessFunctionFLC_Energy)\n",
        "fitnessFunctionFLC_DistanceMulti = singleAsMultiValue(fitnessFunctionFLC_Distance)\n",
        "fitnessFunctionFLC_FullResultsMulti = singleAsMultiValue(fitnessFunctionFLC_FullResults)"
      ],
      "execution_count": 31,
      "outputs": []
    },
    {
      "cell_type": "markdown",
      "metadata": {
        "id": "LEwb12LLbATd"
      },
      "source": [
        "### Circle"
      ]
    },
    {
      "cell_type": "markdown",
      "metadata": {
        "id": "IEFhTSZoA8AF"
      },
      "source": [
        "#### Singlevalue Functions"
      ]
    },
    {
      "cell_type": "code",
      "metadata": {
        "id": "cXNm1OIdhU-5"
      },
      "source": [
        "fitnessFunctionCircle_Energy = createFitnessFunction(simulationDescription, fromChromozomeToDescriptionCircle, createCircleControllerWithGain, energySelector)\n",
        "fitnessFunctionCircle_Distance = createFitnessFunction(simulationDescription, fromChromozomeToDescriptionCircle, createCircleControllerWithGain, distanceSelector)\n",
        "fitnessFunctionCircle_FullResults = createFitnessFunction(simulationDescription, fromChromozomeToDescriptionCircle, createCircleControllerWithGain)"
      ],
      "execution_count": 32,
      "outputs": []
    },
    {
      "cell_type": "markdown",
      "metadata": {
        "id": "kliCxgHxiKxH"
      },
      "source": [
        "#### Multivalue Functions"
      ]
    },
    {
      "cell_type": "code",
      "metadata": {
        "id": "KQ0BFNAciOJy"
      },
      "source": [
        "fitnessFunctionCircle_EnergyMulti = singleAsMultiValue(fitnessFunctionCircle_Energy)\n",
        "fitnessFunctionCircle_DistanceMulti = singleAsMultiValue(fitnessFunctionCircle_Distance)\n",
        "fitnessFunctionCircle_FullResultsMulti = singleAsMultiValue(fitnessFunctionCircle_FullResults)"
      ],
      "execution_count": 33,
      "outputs": []
    },
    {
      "cell_type": "markdown",
      "metadata": {
        "id": "G-zTw2gzXU3z"
      },
      "source": [
        "#### Demonstration"
      ]
    },
    {
      "cell_type": "code",
      "metadata": {
        "colab": {
          "base_uri": "https://localhost:8080/",
          "height": 265
        },
        "id": "MVv0GSxkXXU0",
        "outputId": "30bb72b7-ec3c-40fc-adc6-6e5600508cd3"
      },
      "source": [
        "def localDemo():\n",
        "    results = fitnessFunctionCircle_FullResults([4])\n",
        "    #print(results)\n",
        "    plt.plot(results['x'], results['y'])\n",
        "    \n",
        "if _runDemos:\n",
        "    localDemo()"
      ],
      "execution_count": 34,
      "outputs": [
        {
          "output_type": "display_data",
          "data": {
            "image/png": "[encoded data removed]",
            "text/plain": [
              "<Figure size 432x288 with 1 Axes>"
            ]
          },
          "metadata": {
            "tags": [],
            "needs_background": "light"
          }
        }
      ]
    },
    {
      "cell_type": "code",
      "metadata": {
        "colab": {
          "base_uri": "https://localhost:8080/",
          "height": 265
        },
        "id": "XAbkgsLNjXXy",
        "outputId": "c6aac99e-59b3-4c34-cadb-5aad6cc682e6"
      },
      "source": [
        "def localDemo():\n",
        "    results = fitnessFunctionCircle_FullResultsMulti([[2], [16]])\n",
        "    plt.plot(results[0]['x'], results[0]['y'])\n",
        "    plt.plot(results[1]['x'], results[1]['y'])\n",
        "    \n",
        "if _runDemos:\n",
        "    localDemo()"
      ],
      "execution_count": 35,
      "outputs": [
        {
          "output_type": "display_data",
          "data": {
            "image/png": "[encoded data removed]",
            "text/plain": [
              "<Figure size 432x288 with 1 Axes>"
            ]
          },
          "metadata": {
            "tags": [],
            "needs_background": "light"
          }
        }
      ]
    },
    {
      "cell_type": "markdown",
      "metadata": {
        "id": "lOYiEMd5lHwv"
      },
      "source": [
        "### Robins"
      ]
    },
    {
      "cell_type": "markdown",
      "metadata": {
        "id": "Yum_AucTA8AH"
      },
      "source": [
        "#### Singlevalue Functions"
      ]
    },
    {
      "cell_type": "code",
      "metadata": {
        "id": "dimRqUwAlJnI"
      },
      "source": [
        "fitnessFunctionRobins_Energy = createFitnessFunction(simulationDescription, fromChromozomeToDescriptionCircle, createCircleControllerWithGain, energySelector)\n",
        "fitnessFunctionRobins_Distance = createFitnessFunction(simulationDescription, fromChromozomeToDescriptionCircle, createCircleControllerWithGain, distanceSelector)\n",
        "fitnessFunctionRobins_FullResults = createFitnessFunction(simulationDescription, fromChromozomeToDescriptionCircle, createCircleControllerWithGain)"
      ],
      "execution_count": 36,
      "outputs": []
    },
    {
      "cell_type": "markdown",
      "metadata": {
        "id": "Ab2qFZx6j5_P"
      },
      "source": [
        "#### Multivalue Functions"
      ]
    },
    {
      "cell_type": "code",
      "metadata": {
        "id": "sCKga8bXj-Bb"
      },
      "source": [
        "fitnessFunctionRobins_EnergyMulti = singleAsMultiValue(fitnessFunctionRobins_Energy)\n",
        "fitnessFunctionRobins_DistanceMulti = singleAsMultiValue(fitnessFunctionRobins_Distance)\n",
        "fitnessFunctionRobins_FullResultsMulti = singleAsMultiValue(fitnessFunctionRobins_FullResults)"
      ],
      "execution_count": 37,
      "outputs": []
    },
    {
      "cell_type": "markdown",
      "metadata": {
        "id": "Q_Hkrz5zl8GQ"
      },
      "source": [
        "## Computer Cluster Help"
      ]
    },
    {
      "cell_type": "markdown",
      "metadata": {
        "id": "UrV8gGOLME7f"
      },
      "source": [
        "Multivalue fitness function is function which takes an array of chromozomes and returns another array containing the fitness values for all given chromozomes. Body of a such function could be implemented as a parallel process which decrease time needed for its evaluation.\n",
        "\n",
        "The parallel process might be implemented in different ways. One of them, and probably the best one, is usage of distributed evaluation with help of computer cluster. Computer cluster creation is well-documented process with standard steps, thus, a scientist who want to use this technique must just define single environment, environment for evaluation of single fitness function. \n",
        "\n",
        "As an envelope around this environment the web service might be used. However, this leads to asynchronous execution. As the optimization libraries for Python are synchronous, the connection between asynchronous and synchronous parts must be created."
      ]
    },
    {
      "cell_type": "markdown",
      "metadata": {
        "id": "6aDfyUMtA8AI"
      },
      "source": [
        "### Main Function for Server"
      ]
    },
    {
      "cell_type": "code",
      "metadata": {
        "id": "KkzH7SuAA8AI"
      },
      "source": [
        "def evaluateSingleFLCSimulation(description):\n",
        "    results = runSimulation(description, createFuzzyController, selectors)\n",
        "    return result"
      ],
      "execution_count": 38,
      "outputs": []
    },
    {
      "cell_type": "markdown",
      "metadata": {
        "id": "7witZAKHSm0-"
      },
      "source": [
        "### Async as Sync"
      ]
    },
    {
      "cell_type": "markdown",
      "metadata": {
        "id": "eOjYeP0QZAdB"
      },
      "source": [
        "For ability to evaluate set of simulations in parallel async functions should be used and maintaned. For optimization algorithms this must be callable for synchronous environment and thus a conversion from async to sync must be done."
      ]
    },
    {
      "cell_type": "code",
      "metadata": {
        "id": "KVj2C_6RSoE2"
      },
      "source": [
        "import asyncio\n",
        "import threading\n",
        "#----------------------------------------\n",
        "# upgraded from https://stackoverflow.com/questions/49330905/how-to-run-a-coroutine-and-wait-it-result-from-a-sync-func-when-the-loop-is-runn\n",
        "#----------------------------------------\n",
        "\n",
        "def evalSet(asyncTask, values):\n",
        "    loop = asyncio.new_event_loop() # construct a new event loop\n",
        "\n",
        "    def run_forever_safe(loop):\n",
        "        loop.run_forever()\n",
        "        # for Python 3.7 and newer\n",
        "        # loop_tasks_all = asyncio.all_tasks(loop=loop)\n",
        "        # for Python 3.6\n",
        "        loop_tasks_all = asyncio.Task.all_tasks(loop=loop)\n",
        "\n",
        "        for task in loop_tasks_all: \n",
        "            task.cancel()\n",
        "\n",
        "        for task in loop_tasks_all:\n",
        "            if not (task.done() or task.cancelled()):\n",
        "                try:\n",
        "                    # wait for task cancellations\n",
        "                    loop.run_until_complete(task)\n",
        "                except asyncio.CancelledError: pass\n",
        "\n",
        "        loop.close()\n",
        "    \n",
        "    def stop_loop(loop):\n",
        "        ''' stops an event loop '''\n",
        "        loop.stop()\n",
        "        #print (\".:) LOOP STOPPED:\", loop.is_running())\n",
        "        \n",
        "    def await_sync(task):\n",
        "        ''' synchronously waits for a task '''\n",
        "        while not task.done(): \n",
        "            pass\n",
        "        #print(\".: AWAITED TASK DONE\")\n",
        "        return task.result()\n",
        "    \n",
        "    #-- closures for running and stopping the event-loop\n",
        "    run_loop_forever = lambda: run_forever_safe(loop)\n",
        "    close_loop_safe = lambda: loop.call_soon_threadsafe(stop_loop, loop)\n",
        "    \n",
        "    #-- make dedicated thread for running the event loop\n",
        "    thread = threading.Thread(target=run_loop_forever)\n",
        "\n",
        "    #-- add some tasks along with my particular task\n",
        "    evaluationTasks = [asyncio.run_coroutine_threadsafe(asyncTask(value), loop=loop) for value in values]\n",
        "\n",
        "    #-- begin the thread to run the event-loop\n",
        "    thread.start()\n",
        "\n",
        "    #-- _synchronously_ wait for the result of my task\n",
        "    results = [await_sync(task) for task in evaluationTasks]\n",
        "\n",
        "    # close the loop gracefully when everything is finished\n",
        "    close_loop_safe()\n",
        "    thread.join()\n",
        "    return results\n",
        "#----------------------------------------"
      ],
      "execution_count": 39,
      "outputs": []
    },
    {
      "cell_type": "markdown",
      "metadata": {
        "id": "VcEp1g5vSvk8"
      },
      "source": [
        "### Webservice Usage"
      ]
    },
    {
      "cell_type": "code",
      "metadata": {
        "colab": {
          "base_uri": "https://localhost:8080/"
        },
        "id": "bx7zSJkeTptg",
        "outputId": "0fbcf740-df98-48c1-ebc1-01606b678dde"
      },
      "source": [
        "!pip install aiohttp"
      ],
      "execution_count": 40,
      "outputs": [
        {
          "output_type": "stream",
          "text": [
            "Collecting aiohttp\n",
            "\u001b[?25l  Downloading https://files.pythonhosted.org/packages/ad/e6/d4b6235d776c9b33f853e603efede5aac5a34f71ca9d3877adb30492eb4e/aiohttp-3.7.3-cp36-cp36m-manylinux2014_x86_64.whl (1.3MB)\n",
            "\u001b[K     |████████████████████████████████| 1.3MB 6.2MB/s \n",
            "\u001b[?25hRequirement already satisfied: attrs>=17.3.0 in /usr/local/lib/python3.6/dist-packages (from aiohttp) (20.3.0)\n",
            "Collecting async-timeout<4.0,>=3.0\n",
            "  Downloading https://files.pythonhosted.org/packages/e1/1e/5a4441be21b0726c4464f3f23c8b19628372f606755a9d2e46c187e65ec4/async_timeout-3.0.1-py3-none-any.whl\n",
            "Collecting yarl<2.0,>=1.0\n",
            "\u001b[?25l  Downloading https://files.pythonhosted.org/packages/da/08/52b26b44bce7b818b410aee37c5e424c9ea420c557bca97dc2adac29b151/yarl-1.6.3-cp36-cp36m-manylinux2014_x86_64.whl (293kB)\n",
            "\u001b[K     |████████████████████████████████| 296kB 16.0MB/s \n",
            "\u001b[?25hRequirement already satisfied: typing-extensions>=3.6.5 in /usr/local/lib/python3.6/dist-packages (from aiohttp) (3.7.4.3)\n",
            "Collecting idna-ssl>=1.0; python_version < \"3.7\"\n",
            "  Downloading https://files.pythonhosted.org/packages/46/03/07c4894aae38b0de52b52586b24bf189bb83e4ddabfe2e2c8f2419eec6f4/idna-ssl-1.1.0.tar.gz\n",
            "Requirement already satisfied: chardet<4.0,>=2.0 in /usr/local/lib/python3.6/dist-packages (from aiohttp) (3.0.4)\n",
            "Collecting multidict<7.0,>=4.5\n",
            "\u001b[?25l  Downloading https://files.pythonhosted.org/packages/a1/35/b22524d6b9cacfb4c5eff413a069bbc17c6ea628e54da5c6c989998ced5f/multidict-5.1.0-cp36-cp36m-manylinux2014_x86_64.whl (141kB)\n",
            "\u001b[K     |████████████████████████████████| 143kB 21.5MB/s \n",
            "\u001b[?25hRequirement already satisfied: idna>=2.0 in /usr/local/lib/python3.6/dist-packages (from yarl<2.0,>=1.0->aiohttp) (2.10)\n",
            "Building wheels for collected packages: idna-ssl\n",
            "  Building wheel for idna-ssl (setup.py) ... \u001b[?25l\u001b[?25hdone\n",
            "  Created wheel for idna-ssl: filename=idna_ssl-1.1.0-cp36-none-any.whl size=3163 sha256=cf0bf68447a0b6b1c0992629fbcf69aad0d05973999c7087b5ec30286a69e5de\n",
            "  Stored in directory: /root/.cache/pip/wheels/d3/00/b3/32d613e19e08a739751dd6bf998cfed277728f8b2127ad4eb7\n",
            "Successfully built idna-ssl\n",
            "Installing collected packages: async-timeout, multidict, yarl, idna-ssl, aiohttp\n",
            "Successfully installed aiohttp-3.7.3 async-timeout-3.0.1 idna-ssl-1.1.0 multidict-5.1.0 yarl-1.6.3\n"
          ],
          "name": "stdout"
        }
      ]
    },
    {
      "cell_type": "code",
      "metadata": {
        "id": "q5VTH7O5SxqN"
      },
      "source": [
        "import time\n",
        "def mS(start = 0):\n",
        "    return int(round(time.time() * 1000)) - start"
      ],
      "execution_count": 41,
      "outputs": []
    },
    {
      "cell_type": "markdown",
      "metadata": {
        "id": "bm2qPPFtZs98"
      },
      "source": [
        "This part encapsules a remote fitness function evaluator. Parameter describes fully the simulation thus a remote evaluator does not make any conversion, just run the described simulation and returns the results.\n",
        "\n",
        "This function is crucial in use of computer cluster. Also this is a point where the evaluation could be redirected to proper sources."
      ]
    },
    {
      "cell_type": "code",
      "metadata": {
        "id": "RuUrMNTaBsHV"
      },
      "source": [
        "import aiohttp\n",
        "import asyncio\n",
        "\n",
        "url = 'https://ourserver/api/evaluator/FFFF' # you must replace our URL address (which was unable to run) with your one.\n",
        "async def fitnessFunctionAsWebservice(value):\n",
        "    #async with aiohttp.ClientSession() as session:\n",
        "    async with aiohttp.ClientSession(connector=aiohttp.TCPConnector(ssl=False)) as session:\n",
        "        response = await session.post(url, json=value, headers = {'content-type': 'application/x-json'})\n",
        "        json_body = await response.json()\n",
        "    return json_body"
      ],
      "execution_count": 42,
      "outputs": []
    },
    {
      "cell_type": "code",
      "metadata": {
        "id": "ntFwAdzwHe90"
      },
      "source": [
        "def callResultsFLC():\n",
        "    sTime = mS()        \n",
        "    results = evalSet(fitnessFunctionAsWebservice, [fitnessFunctionDescription])\n",
        "    return results"
      ],
      "execution_count": 43,
      "outputs": []
    },
    {
      "cell_type": "markdown",
      "metadata": {
        "id": "gchBFuIHSncf"
      },
      "source": [
        "### Remote / Cluster Fitness Function Evaluation"
      ]
    },
    {
      "cell_type": "code",
      "metadata": {
        "id": "QBALnGhNStCE"
      },
      "source": [
        "def fitnessFunctionFLC_FullMultiRemote(chromosomes):\n",
        "    descriptions = []\n",
        "    for chromosome in chromosomes:\n",
        "        description = fromChromozomeToDescriptionFuzzy(simulationDescription, chromosome)\n",
        "        descriptions.append(description)\n",
        "\n",
        "    # Pythonic way:\n",
        "    # descriptions = [fromChromozomeToDescriptionFuzzy(simulationDescription, chromosome) for chromosome in chromosomes]\n",
        "        \n",
        "    results = evalSet(fitnessFunctionAsWebservice, descriptions)\n",
        "    return results\n",
        "\n",
        "def fitnessFunctionFLC_EnergyMultiRemote(chromosomes):\n",
        "    results = fitnessFunctionFLC_FullMultiRemote(chromosomes)\n",
        "    \n",
        "    selectedResults = []\n",
        "    for result in results:\n",
        "        selectedResults.append(result['E'])\n",
        "\n",
        "    # Pythonic way:\n",
        "    # selectedResults = [result['E'] for result in results]\n",
        "\n",
        "    return selectedResults\n",
        "\n",
        "def fitnessFunctionFLC_DistanceMultiRemote(chromosomes):\n",
        "    results = fitnessFunctionFLC_FullMultiRemote(chromosomes)\n",
        "\n",
        "    selectedResults = []\n",
        "    for result in results:\n",
        "        selectedResults.append(result['E'])\n",
        "    return selectedResults"
      ],
      "execution_count": 44,
      "outputs": []
    },
    {
      "cell_type": "markdown",
      "metadata": {
        "id": "jWxJuyY4VWx2"
      },
      "source": [
        "### Decision about Cluster Use"
      ]
    },
    {
      "cell_type": "code",
      "metadata": {
        "id": "KvzIn4p8VZ44"
      },
      "source": [
        "if useCluster:\n",
        "    # TODO, redefine for cluster use\n",
        "    fitnessFunctionFLC_EnergyMulti = singleAsMultiValue(fitnessFunctionFLC_Energy)\n",
        "    fitnessFunctionFLC_DistanceMulti = singleAsMultiValue(fitnessFunctionFLC_Distance)\n",
        "    fitnessFunctionFLC_FullResultsMulti = singleAsMultiValue(fitnessFunctionFLC_FullResults)  \n",
        "    pass"
      ],
      "execution_count": 45,
      "outputs": []
    },
    {
      "cell_type": "markdown",
      "metadata": {
        "id": "imNDlhwkl3D9"
      },
      "source": [
        "## Optimization"
      ]
    },
    {
      "cell_type": "markdown",
      "metadata": {
        "id": "dDEnvApgmIIt"
      },
      "source": [
        "### Inevitable Imports"
      ]
    },
    {
      "cell_type": "code",
      "metadata": {
        "id": "vYv2mMOxA8AK",
        "outputId": "c89c8f74-2a95-4028-ff99-693ec50b95fc",
        "colab": {
          "base_uri": "https://localhost:8080/"
        }
      },
      "source": [
        "!pip install pymoo"
      ],
      "execution_count": 46,
      "outputs": [
        {
          "output_type": "stream",
          "text": [
            "Collecting pymoo\n",
            "\u001b[?25l  Downloading https://files.pythonhosted.org/packages/07/11/0591960f255d55325e516c2babe3586385dc67c4fae074d75498f535a703/pymoo-0.4.2.1.tar.gz (3.7MB)\n",
            "\u001b[K     |████████████████████████████████| 3.7MB 5.3MB/s \n",
            "\u001b[?25hRequirement already satisfied: numpy>=1.15 in /usr/local/lib/python3.6/dist-packages (from pymoo) (1.19.5)\n",
            "Requirement already satisfied: scipy>=1.1 in /usr/local/lib/python3.6/dist-packages (from pymoo) (1.4.1)\n",
            "Requirement already satisfied: matplotlib>=3 in /usr/local/lib/python3.6/dist-packages (from pymoo) (3.2.2)\n",
            "Requirement already satisfied: autograd>=1.3 in /usr/local/lib/python3.6/dist-packages (from pymoo) (1.3)\n",
            "Collecting cma==2.7\n",
            "\u001b[?25l  Downloading https://files.pythonhosted.org/packages/b9/3b/87a4efbcfeaf3172d81ef843f0b0c34c3ba60ec884aa6777f34f68b57418/cma-2.7.0-py2.py3-none-any.whl (239kB)\n",
            "\u001b[K     |████████████████████████████████| 245kB 40.9MB/s \n",
            "\u001b[?25hRequirement already satisfied: python-dateutil>=2.1 in /usr/local/lib/python3.6/dist-packages (from matplotlib>=3->pymoo) (2.8.1)\n",
            "Requirement already satisfied: pyparsing!=2.0.4,!=2.1.2,!=2.1.6,>=2.0.1 in /usr/local/lib/python3.6/dist-packages (from matplotlib>=3->pymoo) (2.4.7)\n",
            "Requirement already satisfied: kiwisolver>=1.0.1 in /usr/local/lib/python3.6/dist-packages (from matplotlib>=3->pymoo) (1.3.1)\n",
            "Requirement already satisfied: cycler>=0.10 in /usr/local/lib/python3.6/dist-packages (from matplotlib>=3->pymoo) (0.10.0)\n",
            "Requirement already satisfied: future>=0.15.2 in /usr/local/lib/python3.6/dist-packages (from autograd>=1.3->pymoo) (0.16.0)\n",
            "Requirement already satisfied: six>=1.5 in /usr/local/lib/python3.6/dist-packages (from python-dateutil>=2.1->matplotlib>=3->pymoo) (1.15.0)\n",
            "Building wheels for collected packages: pymoo\n",
            "  Building wheel for pymoo (setup.py) ... \u001b[?25l\u001b[?25hdone\n",
            "  Created wheel for pymoo: filename=pymoo-0.4.2.1-cp36-cp36m-linux_x86_64.whl size=1344723 sha256=c0edf1f3fb9b41cb7911188b75b49d4018a65fcfbca051226cf76d2f1113884c\n",
            "  Stored in directory: /root/.cache/pip/wheels/24/1a/15/c95ef6c978305899c8b374fd3a36dd494a46a63b2b32c6c5c5\n",
            "Successfully built pymoo\n",
            "Installing collected packages: cma, pymoo\n",
            "Successfully installed cma-2.7.0 pymoo-0.4.2.1\n"
          ],
          "name": "stdout"
        }
      ]
    },
    {
      "cell_type": "code",
      "metadata": {
        "id": "l97DupkDl8By"
      },
      "source": [
        "import time\n",
        "from pymoo.algorithms.nsga2 import NSGA2\n",
        "from pymoo.factory import get_sampling, get_crossover, get_mutation\n",
        "from pymoo.model.problem import Problem\n",
        "from pymoo.optimize import minimize\n",
        "from pymoo.factory import get_termination\n",
        "from pymoo.visualization.scatter import Scatter"
      ],
      "execution_count": 47,
      "outputs": []
    },
    {
      "cell_type": "markdown",
      "metadata": {
        "id": "VyN_DjJKmL-W"
      },
      "source": [
        "### Formal Problem Description"
      ]
    },
    {
      "cell_type": "code",
      "metadata": {
        "id": "C1lN4F2QA8AL"
      },
      "source": [
        "\n",
        "# TODO, proper formating\n",
        "problemParametersSetA = [0, 0, 0, 0, 0, 0.75, 0, 0, 1.25, 0, 0,       0, 0, -3.14, 0, 0, -1, 0, 0, 1, 0, 0]\n",
        "problemParametersSetB = [0, 0, 0, 0, 0, 12, 0, 0, 18, 0, 0,           0, 0, 0, 0, 0, 12, 0, 0, 18, 0, 0]\n",
        "chromosomeFLCLow = [*problemParametersSetA, *problemParametersSetB]\n",
        "\n",
        "problemParametersSetC = [2, 2, 0.75, 2, 2, 1.25, 2, 2, 2, 2, 2,       6.28, 6.28, -1, 6.28, 6.28, 1, 6.28, 6.28, 3.14, 6.28, 6.28]\n",
        "problemParametersSetD = [30, 30, 12, 30, 30, 18, 30, 30, 30, 30, 30,  30, 30, 12, 30, 30, 18, 30, 30, 30, 30, 30]\n",
        "chromosomeFLCUp = [*problemParametersSetC, *problemParametersSetD]\n",
        "\n",
        "runElementWiseEvaluation = True\n",
        "class MyProblem(Problem):\n",
        "    def __init__(self):\n",
        "        self.SpecialCounter = 0\n",
        "        super().__init__(n_var=44,\n",
        "                         n_obj=1,\n",
        "                         n_constr=1,\n",
        "                         xl=np.array([*problemParametersSetA, *problemParametersSetB]),\n",
        "                         xu=np.array([*problemParametersSetC, *problemParametersSetD]),\n",
        "                         elementwise_evaluation=runElementWiseEvaluation)\n",
        "    def _evaluate(self, Chromosome, out, *args, **kwargs):\n",
        "        self.SpecialCounter = self.SpecialCounter + 1\n",
        "        if self.SpecialCounter >= 99:\n",
        "            print()\n",
        "            self.SpecialCounter = 0\n",
        "        print('.', end='')\n",
        "        try:\n",
        "            if runElementWiseEvaluation:\n",
        "                allResults = fitnessFunctionFLC_FullResults(Chromosome)\n",
        "                f1 = energySelector(allResults) # used to evaluate the energy consum#tion\n",
        "                g1 = distanceSelector(allResults) - 50\n",
        "            else:\n",
        "                allResults = fitnessFunctionFLC_FullResultsMulti(Chromosome)\n",
        "                f1 = [energySelector(result) for result in allResults] # used to evaluate the energy consum#tion\n",
        "                g1 = [distanceSelector(result) - 50 for result in allResults]\n",
        "            #f2 = distance_fitnessFuntion_for_GA(Chromosome) # used to evaluate the travel ditance\n",
        "            #g1 = fitnessFunctionFLC_DistanceMulti(Chromosome) - 50 # is constraint used for tracking the path, because when s > 50 the Robot will loss the path.\n",
        "            out[\"F\"] = f1\n",
        "            out[\"G\"] = g1\n",
        "        except:\n",
        "            print(Chromosome)"
      ],
      "execution_count": 48,
      "outputs": []
    },
    {
      "cell_type": "markdown",
      "metadata": {
        "id": "JpLkmGLJuagm"
      },
      "source": [
        "### Optimization Problem Solution"
      ]
    },
    {
      "cell_type": "code",
      "metadata": {
        "colab": {
          "base_uri": "https://localhost:8080/"
        },
        "id": "wswUSSG7ufun",
        "outputId": "913dd9e2-98ba-48ea-e496-cf3427c0a0f7"
      },
      "source": [
        "start_time = time.time()\n",
        "problem = MyProblem()\n",
        "algorithm = NSGA2(pop_size=50)\n",
        "\n",
        "'''\n",
        "algorithm = NSGA2(\n",
        "    pop_size=50,\n",
        "    n_offsprings=10,\n",
        "    sampling=get_sampling(\"real_random\"),\n",
        "    crossover=get_crossover(\"real_sbx\", prob=0.9, eta=15),\n",
        "    mutation=get_mutation(\"real_pm\", eta=20),\n",
        "    eliminate_duplicates=True\n",
        ")\n",
        "'''\n",
        "termination = get_termination(\"n_gen\", 5)\n",
        "\n",
        "res = minimize(problem,\n",
        "               algorithm,\n",
        "               termination,\n",
        "               seed=1,\n",
        "               save_history=True,\n",
        "               verbose=True)\n",
        "\n",
        "print(\"Best solution found: \\nBest_Chromosome = %s\\nOptimal E = %s\" % (res.X, res.F))\n",
        "print(\"Time required in second = %s\" % (time.time() - start_time))\n",
        "\n",
        "if  1 < len(res.X) < 30:\n",
        "  Best_Chromosome = res.X[0]\n",
        "else:\n",
        "  Best_Chromosome = res.X"
      ],
      "execution_count": 49,
      "outputs": [
        {
          "output_type": "stream",
          "text": [
            "..................................................=====================================================================================\n",
            "n_gen |  n_eval |   cv (min)   |   cv (avg)   |  n_nds  |     eps      |  indicator  \n",
            "=====================================================================================\n",
            "    1 |      50 |  6.98615E+01 |  8.92245E+01 |       1 |            - |            -\n",
            "................................................\n",
            "..    2 |     100 |  6.67957E+01 |  8.26651E+01 |       1 |  1.46832E+01 |        ideal\n",
            "..................................................    3 |     150 |  0.00000E+00 |  7.78504E+01 |       1 |  8.90647E+01 |        ideal\n",
            "...............................................\n",
            "...    4 |     200 |  0.00000E+00 |  6.86685E+01 |       1 |  6.42391E+01 |        ideal\n",
            "..................................................    5 |     250 |  0.00000E+00 |  5.85231E+01 |       1 |  0.00000E+00 |            f\n",
            "Best solution found: \n",
            "Best_Chromosome = [ 3.26177125e-01  3.30225739e-01  9.39627655e-02  1.14760574e+00\n",
            "  1.70771732e+00  8.72317033e-01  1.47138500e+00  1.41736177e+00\n",
            "  1.63725456e+00  1.74163130e+00  1.16741182e+00  3.45190353e+00\n",
            "  1.58784451e+00 -2.66096171e+00  3.25768681e-01  5.91534740e-02\n",
            " -2.35868411e-02  2.85627875e-01  6.10433147e+00  2.35741598e+00\n",
            "  1.97808728e+00  1.85244293e+00  2.08424829e+01  1.14160223e+01\n",
            "  2.85331621e+00  1.44328536e+01  1.89996959e+01  1.41274154e+01\n",
            "  8.73192514e+00  3.99932933e+00  2.92449646e+01  3.63338364e+00\n",
            "  2.81408563e+01  5.56141574e+00  1.88619146e+01  8.49277633e+00\n",
            "  8.50633541e+00  8.23902745e+00  1.53814214e+01  5.55867718e+00\n",
            "  1.32630333e+01  2.02581010e+01  1.81132991e+01  1.48147397e+01]\n",
            "Optimal E = [42.18088831]\n",
            "Time required in second = 2312.6610560417175\n"
          ],
          "name": "stdout"
        }
      ]
    },
    {
      "cell_type": "markdown",
      "metadata": {
        "id": "eCg3vQ__EVC6"
      },
      "source": [
        "## Results Analysys"
      ]
    },
    {
      "cell_type": "code",
      "metadata": {
        "id": "6xjIuXH8KOPt"
      },
      "source": [
        "selectx = lambda item: item['y'][0]       # x position\r\n",
        "selecty = lambda item: item['y'][1]       # y position\r\n",
        "selectt = lambda item: item['time']       # time\r\n",
        "selectv = lambda item: item['dy'][3]      # velocity\r\n",
        "selectomega = lambda item: item['dy'][2]  # omega = theta_dot\r\n",
        "selecte = lambda item: item['TotalEnergy']# total energy\r\n",
        "selects = lambda item: item['y'][3]       # displacement\r\n",
        "selectors = {\r\n",
        "    'time': selectt,\r\n",
        "    'x': selectx, \r\n",
        "    'y': selecty, \r\n",
        "    'd': selects, \r\n",
        "    'v': selectv, \r\n",
        "    'omega': selectomega,\r\n",
        "    'E': selecte}"
      ],
      "execution_count": null,
      "outputs": []
    },
    {
      "cell_type": "code",
      "metadata": {
        "id": "ly-2Ue2c33mV"
      },
      "source": [
        "simulationDescription = {\r\n",
        "    'robotState0': {\r\n",
        "        'x': 0,\r\n",
        "        'y': 0,\r\n",
        "        'theta': -3.14 / 4\r\n",
        "    },\r\n",
        "\r\n",
        "    'path': [\r\n",
        "        [0, 0, 0],  #X, Y, orientation\r\n",
        "        [10, 0, 0], #X, Y, orientation\r\n",
        "        [10, 10, 0], #X, Y, orientation\r\n",
        "        [0, 10, 0], #X, Y, orientation\r\n",
        "        [0, 0, 0]\r\n",
        "    ],\r\n",
        "\r\n",
        "    'robotParams': {\r\n",
        "        'r': 0.0925,\r\n",
        "        'b': 0.37,\r\n",
        "        'm': 9,\r\n",
        "        'I': 0.16245,\r\n",
        "        #'motorParams': None,\r\n",
        "        'motorParams': {\r\n",
        "            'J': 0.01,\r\n",
        "            'B': 0.1,\r\n",
        "\r\n",
        "            'Kt': 0.01,\r\n",
        "            'Ke': 0.01,\r\n",
        "            'K': 0.01,\r\n",
        "\r\n",
        "            'Ra': 0.1,\r\n",
        "            'La': 0.01\r\n",
        "        }\r\n",
        "    },\r\n",
        "    \r\n",
        "    'controllerParams': {\r\n",
        "        'omega_ri': 0, 'vri': 2.0,'lowVelocityLimit': 0.2, \r\n",
        "        'highVelocityLimit': 2.0, 'lowOmegaLimit': -0.75, 'highOmegaLimit': 0.75\r\n",
        "    },\r\n",
        "\r\n",
        "    'simulationParams': {\r\n",
        "        't0': 0,\r\n",
        "        't_bound': 100,\r\n",
        "        'max_step': 0.05\r\n",
        "    }\r\n",
        "}"
      ],
      "execution_count": 50,
      "outputs": []
    },
    {
      "cell_type": "code",
      "metadata": {
        "id": "u9MGFRkX3h-p"
      },
      "source": [
        "path = [\r\n",
        "        [0, 0, 0],  #X, Y, orientation\r\n",
        "        [10, 0, 0], #X, Y, orientation\r\n",
        "        [10, 10, 0], #X, Y, orientation\r\n",
        "        [0, 10, 0], #X, Y, orientation\r\n",
        "        [0, 0, 0]\r\n",
        "    ]\r\n",
        "\r\n",
        "pathX = [point[0] for point in path]\r\n",
        "pathY = [point[1] for point in path]\r\n",
        "\r\n",
        "FLCChromosome = Best_Chromosome\r\n",
        "\r\n",
        "# simulationDescription updated to path\r\n",
        "simulationDescription = fromPathToDescription(path, simulationDescription)\r\n",
        "\r\n",
        "# descriptions for simulations\r\n",
        "FLCSimDescription = fromChromozomeToDescriptionFuzzy(FLCChromosome, simulationDescription)\r\n",
        "RobinDescription = fromChromozomeToDescriptionRobins([1, 1], simulationDescription)\r\n",
        "CircleDescription = fromChromozomeToDescriptionCircle([4], simulationDescription)\r\n",
        "\r\n",
        "\r\n",
        "FLCFullResulst = runSimulation(FLCSimDescription, createFuzzyController, selectors=selectors)\r\n",
        "RobinFullResults = runSimulation(RobinDescription, createController_By_RobinsMathew, selectors=selectors)\r\n",
        "CircleFullResults = runSimulation(CircleDescription, createCircleControllerWithGain, selectors=selectors)\r\n",
        "\r\n"
      ],
      "execution_count": null,
      "outputs": []
    },
    {
      "cell_type": "code",
      "metadata": {
        "id": "9DoYCxZYKfne"
      },
      "source": [
        "plt.rcParams[\"figure.figsize\"] = (20, 20)\r\n",
        "plt.rcParams[\"font.size\"] = \"14\"\r\n",
        "\r\n",
        "#--plot the path--------------------------------------------------------------\r\n",
        "plt.subplot(3,2,1)\r\n",
        "plt.grid(which = 'both') \r\n",
        "p = plt.axis('equal')\r\n",
        "plt.plot(pathx, pathy, 'b-', label = 'Planned path', lw = 1)\r\n",
        "plt.plot(x_Cir, y_Cir, 'k-.', label = 'Circle controller', lw = 1)\r\n",
        "plt.plot(x_Mathew, y_Mathew, 'g--', label = 'Mathew controller', lw = 1)\r\n",
        "plt.plot(x_Fuzzy, y_Fuzzy, 'r-', label = 'Fuzzy controller', lw = 1)\r\n",
        "plt.plot(x_Fuzzy_GA, y_Fuzzy_GA, 'g-', label = 'GA_FLC controller', lw = 1)\r\n",
        "plt.legend(loc = 'best')\r\n",
        "plt.xlabel('$x[m]$')\r\n",
        "plt.ylabel('$y[m]$')\r\n",
        "\r\n",
        "def plotVal(n, t1, t2, t3, t4, val1, val2, val3, val4, lable):\r\n",
        "  plt.subplot(3,2,n)\r\n",
        "  plt.grid(which = 'both') \r\n",
        "  plt.plot(t1, val1, 'r-', label = 'Fuzzy controller', lw = 1)\r\n",
        "  plt.plot(t2, val2, 'g-', label = 'GA_FLC controller', lw = 1)\r\n",
        "  plt.plot(t3, val3, 'k-.', label = 'Circle controller', lw = 1)\r\n",
        "  plt.plot(t4, val4, 'g--', label = 'Mathew controller', lw = 1)\r\n",
        "  plt.legend(loc = 'best')\r\n",
        "  plt.xlabel('$Time[s]$')\r\n",
        "  plt.ylabel(lable)\r\n",
        "  return\r\n",
        "\r\n",
        "#--plot the travel distance----------------------------------------------------\r\n",
        "plotVal(2,time_Fuzzy,time_Fuzzy_GA,time_Cir,time_Mathew,s_Fuzzy,s_Fuzzy_GA,s_Cir,s_Mathew,'$s[m]$')\r\n",
        "\r\n",
        "#---plot the velocity----------------------------------------------------------\r\n",
        "plotVal(3,time_Fuzzy,time_Fuzzy_GA,time_Cir,time_Mathew,velocity_Fuzzy,velocity_Fuzzy_GA,velocity_Cir,velocity_Mathew,'$Velocity[ms^{-1}]$')\r\n",
        "\r\n",
        "#--plot the omega-------------------------------------------------------------\r\n",
        "plotVal(4,time_Fuzzy,time_Fuzzy_GA,time_Cir,time_Mathew,omega_Fuzzy,omega_Fuzzy_GA,omega_Cir,omega_Mathew,'$Omega[rads^{-1}]$')\r\n",
        "\r\n",
        "#--plot the total energy consumption------------------------------------------\r\n",
        "plotVal(5,time_Fuzzy,time_Fuzzy_GA,time_Cir,time_Mathew,E_Fuzzy,E_Fuzzy_GA,E_Cir,E_Mathew,'$E[J]$')"
      ],
      "execution_count": null,
      "outputs": []
    },
    {
      "cell_type": "code",
      "metadata": {
        "id": "5Rh9MNiCEZtW"
      },
      "source": [
        "\"\"\"\n",
        "Best_Chromosome = [ 1.08596739  1.71943383  0.10290456  0.74205663  0.52480311  0.89630788\n",
        "  0.97332656  0.49053057  1.59783968  0.52701644  1.94705078  3.57292833\n",
        "  1.29303852 -2.21474816  2.51256456  4.84639207 -0.50988046  0.11647957\n",
        "  5.91902803  1.53442386  4.57658633  3.36543855 16.6810501  18.73199996\n",
        " 11.28384463 21.67514579 18.66937586 13.39016815 11.33314493  2.78553134\n",
        " 24.02750434  4.38830997 17.35999008  6.8961356  18.88797336  8.27900876\n",
        " 15.72556844 19.72564223 16.1251766   8.20169371 18.31910936 23.4014107\n",
        " 18.37933225  5.90972708]\n",
        "OptimalE = [34.21738682]\n",
        "\"\"\""
      ],
      "execution_count": null,
      "outputs": []
    },
    {
      "cell_type": "code",
      "metadata": {
        "id": "6TZSDNy4A8AM",
        "outputId": "98a24db1-f813-4cb6-9b12-67034caa929e"
      },
      "source": [
        "_chromosome = [ 1.08596739,  1.71943383,  0.10290456,  0.74205663,  0.52480311,  0.89630788,\n",
        "  0.97332656,  0.49053057,  1.59783968,  0.52701644,  1.94705078,  3.57292833,\n",
        "  1.29303852, -2.21474816,  2.51256456,  4.84639207, -0.50988046,  0.11647957,\n",
        "  5.91902803,  1.53442386,  4.57658633,  3.36543855, 16.6810501,  18.73199996,\n",
        " 11.28384463, 21.67514579, 18.66937586, 13.39016815, 11.33314493,  2.78553134,\n",
        " 24.02750434,  4.38830997, 17.35999008,  6.8961356,  18.88797336,  8.27900876,\n",
        " 15.72556844, 19.72564223, 16.1251766,   8.20169371, 18.31910936, 23.4014107,\n",
        " 18.37933225,  5.90972708]\n",
        "\n",
        "pathForSimulation = iter([\n",
        "        [0, 0, 0],  #X, Y, orientation\n",
        "        [10, 0, 0], #X, Y, orientation\n",
        "        [10, 10, 0], #X, Y, orientation\n",
        "        [0, 10, 0], #X, Y, orientation\n",
        "        [0, 0, 0]\n",
        "    ])\n",
        "\n",
        "pathForSimulation = iter([\n",
        "        [0, 0, 0],  #X, Y, orientation\n",
        "        [10, 0, 0], #X, Y, orientation\n",
        "        [10, 10, 0], #X, Y, orientation\n",
        "        [20, 10, 0], #X, Y, orientation\n",
        "        [20, 20, 0]\n",
        "    ])\n",
        "\n",
        "\n",
        "robotState0 = {\n",
        "        'x': 0,\n",
        "        'y': 0,\n",
        "        'theta': -3.14 / 4\n",
        "    }\n",
        "\n",
        "t0 = 0\n",
        "t_bound = 100\n",
        "max_step = 0.05\n",
        "\n",
        "state0 = None\n",
        "if robot == robotWithDynamic:\n",
        "    state0 = np.array([robotState0['x'], robotState0['y'], robotState0['theta'], 0, 0, 0, 0, 0, 0, 0]) # x0=0, y0=0, theta\n",
        "else:\n",
        "    state0 = np.array([robotState0['x'], robotState0['y'], robotState0['theta'], 0, 0, 0]) # x0=0, y0=0,theta\n",
        "\n",
        "solverfunc = simpleCompute(\n",
        "    compute, state0 = state0, \n",
        "    t0 = t0, t_bound = t_bound, max_step = max_step)    \n",
        "\n",
        "controllerParams = fromChromozomeToDescriptionFuzzy(_chromosome, fitnessFunctionDescription)['controllerParams']\n",
        "\n",
        "fullRobot = robotModelCreator(createFuzzyController, pathForSimulation, **controllerParams)      \n",
        "state1 = fullRobot(0, state0)\n",
        "robotStates = solverfunc(fullRobot)\n",
        "\n",
        "results = {}\n",
        "for key, selector in selectors.items():\n",
        "  print(key)\n",
        "  results[key] = []\n",
        "\n",
        "for currentState in robotStates: # readout all states from current moving robot\n",
        "  for key, selector in selectors.items():\n",
        "    results[key].append(selector(currentState))\n",
        "\n",
        "plt.plot(results['x'], results['y'])"
      ],
      "execution_count": null,
      "outputs": [
        {
          "output_type": "stream",
          "text": [
            "time\n",
            "x\n",
            "y\n",
            "d\n",
            "v\n",
            "omega\n",
            "E\n"
          ],
          "name": "stdout"
        },
        {
          "output_type": "execute_result",
          "data": {
            "text/plain": [
              "[<matplotlib.lines.Line2D at 0x7f69c9e046d0>]"
            ]
          },
          "metadata": {
            "tags": []
          },
          "execution_count": 59
        },
        {
          "output_type": "display_data",
          "data": {
            "image/png": "[encoded data removed]",
            "text/plain": [
              "<Figure size 432x288 with 1 Axes>"
            ]
          },
          "metadata": {
            "tags": [],
            "needs_background": "light"
          }
        }
      ]
    },
    {
      "cell_type": "markdown",
      "metadata": {
        "id": "b5yDmtWdELol"
      },
      "source": [
        "# STOP HERE"
      ]
    },
    {
      "cell_type": "markdown",
      "metadata": {
        "id": "cQIASJHYl9Vb"
      },
      "source": [
        "# Rest of Document"
      ]
    },
    {
      "cell_type": "markdown",
      "metadata": {
        "id": "DVqrU_B1aeai"
      },
      "source": [
        "### Mapping from Chromozome to Simulation Description"
      ]
    },
    {
      "cell_type": "markdown",
      "metadata": {
        "id": "wQSSl5LFao0e"
      },
      "source": [
        "This function changes standard simulation description into description based on informations stored in chromosome. Also this function could be named as a chromosome information decoder."
      ]
    },
    {
      "cell_type": "code",
      "metadata": {
        "id": "xzPJuqnzBs91"
      },
      "source": [
        "def update_fitnessFunctionDescription(fitnessFunctionDescription, Chromosome):\n",
        "    CH = Chromosome # just for simplicity\n",
        "    result = {**fitnessFunctionDescription}\n",
        "\n",
        "    distance_Member = {'VC': [0, 0, CH[0]], \n",
        "                       'C': [CH[2]-CH[1], CH[2], CH[2]+CH[3]],\n",
        "                       'M': [CH[5]-CH[4], CH[5], CH[5]+CH[6]],\n",
        "                       'F': [CH[8]-CH[7], CH[8], CH[8]+CH[9]], \n",
        "                       'VF': [2-CH[10], 2, 2]}\n",
        "    result['fuzzyDescription']['inputs']['distance']['M'] = distance_Member\n",
        "\n",
        "    angle_Member = {'BN': [-3.14, -3.14, -3.14+CH[11]], \n",
        "                    'N': [CH[13]-CH[12], CH[13], CH[13]+CH[14]],\n",
        "                    'Z': [CH[16]-CH[15], CH[16], CH[16]+CH[17]], \n",
        "                    'P': [CH[19]-CH[18], CH[19], CH[19]+CH[20]], \n",
        "                    'BP': [3.14-CH[21], 3.14, 3.14]}    \n",
        "    result['fuzzyDescription']['inputs']['angle']['M'] = angle_Member\n",
        "\n",
        "    omegaR_Member =  {'VSR': [0, 0, CH[22]], \n",
        "                      'SR': [CH[24]-CH[23], CH[24], CH[24]+CH[25]],\n",
        "                      'MBR': [CH[27]-CH[26], CH[27], CH[27]+CH[28]], \n",
        "                      'BR': [CH[30]-CH[29], CH[30], CH[30]+CH[31]], \n",
        "                      'VBR': [30-CH[32], 30, 30]}\n",
        "    result['fuzzyDescription']['outputs']['omegaR']['M'] = omegaR_Member\n",
        "\n",
        "    omegaL_Member =  {'VSL': [0, 0, CH[33]], \n",
        "                      'SL': [CH[35]-CH[34], CH[35], CH[35]+CH[36]],\n",
        "                      'MBL': [CH[38]-CH[37], CH[38], CH[38]+CH[39]], \n",
        "                      'BL': [CH[41]-CH[40], CH[41], CH[41]+CH[42]], \n",
        "                      'VBL': [30-CH[43], 30, 30]}\n",
        "    result['fuzzyDescription']['outputs']['omegaL']['M'] = omegaL_Member\n",
        "    return result"
      ],
      "execution_count": null,
      "outputs": []
    },
    {
      "cell_type": "markdown",
      "metadata": {
        "id": "qbKjHLMMEKyV"
      },
      "source": [
        "### Fitness Used For GA / Mapping from Simulation Result to Fitness Function Result"
      ]
    },
    {
      "cell_type": "markdown",
      "metadata": {
        "id": "pVRGR64wb_7g"
      },
      "source": [
        "This functions take a simulation result which is complex document and extract the proper part."
      ]
    },
    {
      "cell_type": "code",
      "metadata": {
        "id": "UBUnl_IvB1kd"
      },
      "source": [
        "def energy_fitnessFuntion_for_GA(Chromosome):\n",
        "    New_fitnessFunctionDescription = update_fitnessFunctionDescription(fitnessFunctionDescription, Chromosome)\n",
        "    sTime = mS()        \n",
        "    results = evalSet(fitnessFunction, [New_fitnessFunctionDescription])\n",
        "    result = results[0]['E']\n",
        "    return result\n",
        "'''\n",
        "# example\n",
        "Chromosome1 = [1,1,1,1,1,2,1,1,3,1,1,  1.57,1.57,-1.57,1.57,1.57,0,1.57,1.57,1.57,1.57,1.57,  7.5,7.5,7.5,7.5,7.5,15,7.5,7.5,22.5,7.5,7.5,  7.5,7.5,7.5,7.5,7.5,15,7.5,7.5,22.5,7.5,7.5]\n",
        "value = energy_fitnessFuntion_for_GA(Chromosome1)\n",
        "print(value)\n",
        "'''"
      ],
      "execution_count": null,
      "outputs": []
    },
    {
      "cell_type": "code",
      "metadata": {
        "id": "n_CqwFxnIqdz"
      },
      "source": [
        "def distance_fitnessFuntion_for_GA(Chromosome):\n",
        "    New_fitnessFunctionDescription = update_fitnessFunctionDescription(fitnessFunctionDescription, Chromosome)\n",
        "    sTime = mS()        \n",
        "    results = evalSet(fitnessFunction, [New_fitnessFunctionDescription])\n",
        "    result = results[0]['d']\n",
        "    return result\n",
        "''' \n",
        "# example\n",
        "Chromosome1 = [1,1,1,1,1,2,1,1,3,1,1,  1.57,1.57,-1.57,1.57,1.57,0,1.57,1.57,1.57,1.57,1.57,  7.5,7.5,7.5,7.5,7.5,15,7.5,7.5,22.5,7.5,7.5,  7.5,7.5,7.5,7.5,7.5,15,7.5,7.5,22.5,7.5,7.5]\n",
        "value = distance_fitnessFuntion_for_GA(Chromosome1)\n",
        "print(value)\n",
        "'''"
      ],
      "execution_count": null,
      "outputs": []
    },
    {
      "cell_type": "markdown",
      "metadata": {
        "id": "C_sDdXUoTIj-"
      },
      "source": [
        "##Implementation of the Genetic Algorithms to improve the FLC"
      ]
    },
    {
      "cell_type": "markdown",
      "metadata": {
        "id": "A3sdVCp6cPsg"
      },
      "source": [
        "For optimization pymoo library has been chosen. This library allows simultaneous fitness function evaluation. Such a ability is crucial for computer cluster usage."
      ]
    },
    {
      "cell_type": "code",
      "metadata": {
        "id": "6jcFym_Zfs-5"
      },
      "source": [
        "!pip install pymoo"
      ],
      "execution_count": null,
      "outputs": []
    },
    {
      "cell_type": "markdown",
      "metadata": {
        "id": "HKJR2Haccrgd"
      },
      "source": [
        "### Inevitable Imports"
      ]
    },
    {
      "cell_type": "code",
      "metadata": {
        "id": "CP78vfHlcw-W"
      },
      "source": [
        "import time\n",
        "from pymoo.algorithms.nsga2 import NSGA2\n",
        "from pymoo.factory import get_sampling, get_crossover, get_mutation\n",
        "from pymoo.model.problem import Problem\n",
        "from pymoo.optimize import minimize\n",
        "from pymoo.factory import get_termination\n",
        "from pymoo.visualization.scatter import Scatter\n"
      ],
      "execution_count": null,
      "outputs": []
    },
    {
      "cell_type": "markdown",
      "metadata": {
        "id": "Wc5hnteBczQg"
      },
      "source": [
        "### Formal Problem Definition"
      ]
    },
    {
      "cell_type": "code",
      "metadata": {
        "id": "fxyqrUfTc3Ve"
      },
      "source": [
        "# TODO, proper formating\n",
        "problemParametersSetA = [0,0,0,   0,0,0.75,0,0,1.25,0,0,      0,   0,-3.14,    0,   0,-1,   0,   0,    1,   0]\n",
        "problemParametersSetB = [0,   0, 0, 0, 0, 0,12, 0, 0,18, 0, 0,  0, 0, 0, 0, 0,12, 0, 0,18, 0, 0]\n",
        "class MyProblem(Problem):\n",
        "    def __init__(self):\n",
        "        super().__init__(n_var=44,\n",
        "                         n_obj=1,\n",
        "                         n_constr=1,\n",
        "                         xl=np.array([*problemParametersSetA, *problemParametersSetB]),\n",
        "                         xu=np.array([2,2,0.75,2,2,1.25,2,2,2,   2,2,   6.28,6.28,   -1, 6.28,6.28, 1,6.28,6.28, 3.14,6.28,6.28,  30,30,12,30,30,18,30,30,30,30,30, 30,30,12,30,30,18,30,30,30,30,30]),\n",
        "                         elementwise_evaluation=True)\n",
        "    def _evaluate(self, Chromosome, out, *args, **kwargs):         \n",
        "        f1 = energy_fitnessFuntion_for_GA(Chromosome) # used to evaluate the energy consumption\n",
        "        #f2 = distance_fitnessFuntion_for_GA(Chromosome) # used to evaluate the travel distance\n",
        "        g1 = distance_fitnessFuntion_for_GA(Chromosome) - 50 # is constraint used for tracking the path, because when s > 50 the Robot will loss the path.\n",
        "        out[\"F\"] = f1\n",
        "        out[\"G\"] = g1"
      ],
      "execution_count": null,
      "outputs": []
    },
    {
      "cell_type": "markdown",
      "metadata": {
        "id": "eq06syESc9Sc"
      },
      "source": [
        "### Optimization Execution"
      ]
    },
    {
      "cell_type": "code",
      "metadata": {
        "colab": {
          "base_uri": "https://localhost:8080/",
          "height": 398
        },
        "id": "unArQe8OeOYq",
        "outputId": "ec8429cf-2366-45bb-cbd1-944e49a3e0aa"
      },
      "source": [
        "\n",
        "start_time = time.time()\n",
        "problem = MyProblem()\n",
        "algorithm = NSGA2(pop_size=50)\n",
        "\n",
        "'''\n",
        "algorithm = NSGA2(\n",
        "    pop_size=50,\n",
        "    n_offsprings=10,\n",
        "    sampling=get_sampling(\"real_random\"),\n",
        "    crossover=get_crossover(\"real_sbx\", prob=0.9, eta=15),\n",
        "    mutation=get_mutation(\"real_pm\", eta=20),\n",
        "    eliminate_duplicates=True\n",
        ")\n",
        "'''\n",
        "\n",
        "termination = get_termination(\"n_gen\", 5)\n",
        "\n",
        "res = minimize(problem,\n",
        "               algorithm,\n",
        "               termination,\n",
        "               seed=1,\n",
        "               save_history=True,\n",
        "               verbose=True)\n",
        "\n",
        "print(\"Best solution found: \\nBest_Chromosome = %s\\nOptimal E = %s\" % (res.X, res.F))\n",
        "print(\"Time required in second = %s\" % (time.time() - start_time))\n",
        "\n",
        "if  1 < len(res.X) < 30:\n",
        "  Best_Chromosome = res.X[0]\n",
        "else:\n",
        "  Best_Chromosome = res.X\n"
      ],
      "execution_count": null,
      "outputs": [
        {
          "output_type": "error",
          "ename": "NameError",
          "evalue": "ignored",
          "traceback": [
            "\u001b[0;31m---------------------------------------------------------------------------\u001b[0m",
            "\u001b[0;31mNameError\u001b[0m                                 Traceback (most recent call last)",
            "\u001b[0;32m<ipython-input-98-f502e9d5ecd4>\u001b[0m in \u001b[0;36m<module>\u001b[0;34m()\u001b[0m\n\u001b[1;32m     22\u001b[0m                \u001b[0mseed\u001b[0m\u001b[0;34m=\u001b[0m\u001b[0;36m1\u001b[0m\u001b[0;34m,\u001b[0m\u001b[0;34m\u001b[0m\u001b[0;34m\u001b[0m\u001b[0m\n\u001b[1;32m     23\u001b[0m                \u001b[0msave_history\u001b[0m\u001b[0;34m=\u001b[0m\u001b[0;32mTrue\u001b[0m\u001b[0;34m,\u001b[0m\u001b[0;34m\u001b[0m\u001b[0;34m\u001b[0m\u001b[0m\n\u001b[0;32m---> 24\u001b[0;31m                verbose=True)\n\u001b[0m\u001b[1;32m     25\u001b[0m \u001b[0;34m\u001b[0m\u001b[0m\n\u001b[1;32m     26\u001b[0m \u001b[0mprint\u001b[0m\u001b[0;34m(\u001b[0m\u001b[0;34m\"Best solution found: \\nBest_Chromosome = %s\\nOptimal E = %s\"\u001b[0m \u001b[0;34m%\u001b[0m \u001b[0;34m(\u001b[0m\u001b[0mres\u001b[0m\u001b[0;34m.\u001b[0m\u001b[0mX\u001b[0m\u001b[0;34m,\u001b[0m \u001b[0mres\u001b[0m\u001b[0;34m.\u001b[0m\u001b[0mF\u001b[0m\u001b[0;34m)\u001b[0m\u001b[0;34m)\u001b[0m\u001b[0;34m\u001b[0m\u001b[0;34m\u001b[0m\u001b[0m\n",
            "\u001b[0;32m/usr/local/lib/python3.6/dist-packages/pymoo/optimize.py\u001b[0m in \u001b[0;36mminimize\u001b[0;34m(problem, algorithm, termination, copy_algorithm, copy_termination, **kwargs)\u001b[0m\n\u001b[1;32m     83\u001b[0m \u001b[0;34m\u001b[0m\u001b[0m\n\u001b[1;32m     84\u001b[0m     \u001b[0;31m# actually execute the algorithm\u001b[0m\u001b[0;34m\u001b[0m\u001b[0;34m\u001b[0m\u001b[0;34m\u001b[0m\u001b[0m\n\u001b[0;32m---> 85\u001b[0;31m     \u001b[0mres\u001b[0m \u001b[0;34m=\u001b[0m \u001b[0malgorithm\u001b[0m\u001b[0;34m.\u001b[0m\u001b[0msolve\u001b[0m\u001b[0;34m(\u001b[0m\u001b[0;34m)\u001b[0m\u001b[0;34m\u001b[0m\u001b[0;34m\u001b[0m\u001b[0m\n\u001b[0m\u001b[1;32m     86\u001b[0m \u001b[0;34m\u001b[0m\u001b[0m\n\u001b[1;32m     87\u001b[0m     \u001b[0;31m# store the deep copied algorithm in the result object\u001b[0m\u001b[0;34m\u001b[0m\u001b[0;34m\u001b[0m\u001b[0;34m\u001b[0m\u001b[0m\n",
            "\u001b[0;32m/usr/local/lib/python3.6/dist-packages/pymoo/model/algorithm.py\u001b[0m in \u001b[0;36msolve\u001b[0;34m(self)\u001b[0m\n\u001b[1;32m    224\u001b[0m \u001b[0;34m\u001b[0m\u001b[0m\n\u001b[1;32m    225\u001b[0m         \u001b[0;31m# call the algorithm to solve the problem\u001b[0m\u001b[0;34m\u001b[0m\u001b[0;34m\u001b[0m\u001b[0;34m\u001b[0m\u001b[0m\n\u001b[0;32m--> 226\u001b[0;31m         \u001b[0mself\u001b[0m\u001b[0;34m.\u001b[0m\u001b[0m_solve\u001b[0m\u001b[0;34m(\u001b[0m\u001b[0mself\u001b[0m\u001b[0;34m.\u001b[0m\u001b[0mproblem\u001b[0m\u001b[0;34m)\u001b[0m\u001b[0;34m\u001b[0m\u001b[0;34m\u001b[0m\u001b[0m\n\u001b[0m\u001b[1;32m    227\u001b[0m \u001b[0;34m\u001b[0m\u001b[0m\n\u001b[1;32m    228\u001b[0m         \u001b[0;31m# create the result object based on the current iteration\u001b[0m\u001b[0;34m\u001b[0m\u001b[0;34m\u001b[0m\u001b[0;34m\u001b[0m\u001b[0m\n",
            "\u001b[0;32m/usr/local/lib/python3.6/dist-packages/pymoo/model/algorithm.py\u001b[0m in \u001b[0;36m_solve\u001b[0;34m(self, problem)\u001b[0m\n\u001b[1;32m    319\u001b[0m         \u001b[0;31m# while termination criterion not fulfilled\u001b[0m\u001b[0;34m\u001b[0m\u001b[0;34m\u001b[0m\u001b[0;34m\u001b[0m\u001b[0m\n\u001b[1;32m    320\u001b[0m         \u001b[0;32mwhile\u001b[0m \u001b[0mself\u001b[0m\u001b[0;34m.\u001b[0m\u001b[0mhas_next\u001b[0m\u001b[0;34m(\u001b[0m\u001b[0;34m)\u001b[0m\u001b[0;34m:\u001b[0m\u001b[0;34m\u001b[0m\u001b[0;34m\u001b[0m\u001b[0m\n\u001b[0;32m--> 321\u001b[0;31m             \u001b[0mself\u001b[0m\u001b[0;34m.\u001b[0m\u001b[0mnext\u001b[0m\u001b[0;34m(\u001b[0m\u001b[0;34m)\u001b[0m\u001b[0;34m\u001b[0m\u001b[0;34m\u001b[0m\u001b[0m\n\u001b[0m\u001b[1;32m    322\u001b[0m \u001b[0;34m\u001b[0m\u001b[0m\n\u001b[1;32m    323\u001b[0m     \u001b[0;31m# method that is called each iteration to call some algorithms regularly\u001b[0m\u001b[0;34m\u001b[0m\u001b[0;34m\u001b[0m\u001b[0;34m\u001b[0m\u001b[0m\n",
            "\u001b[0;32m/usr/local/lib/python3.6/dist-packages/pymoo/model/algorithm.py\u001b[0m in \u001b[0;36mnext\u001b[0;34m(self)\u001b[0m\n\u001b[1;32m    241\u001b[0m         \u001b[0;31m# call next of the implementation of the algorithm\u001b[0m\u001b[0;34m\u001b[0m\u001b[0;34m\u001b[0m\u001b[0;34m\u001b[0m\u001b[0m\n\u001b[1;32m    242\u001b[0m         \u001b[0;32mif\u001b[0m \u001b[0;32mnot\u001b[0m \u001b[0mself\u001b[0m\u001b[0;34m.\u001b[0m\u001b[0mis_initialized\u001b[0m\u001b[0;34m:\u001b[0m\u001b[0;34m\u001b[0m\u001b[0;34m\u001b[0m\u001b[0m\n\u001b[0;32m--> 243\u001b[0;31m             \u001b[0mself\u001b[0m\u001b[0;34m.\u001b[0m\u001b[0minitialize\u001b[0m\u001b[0;34m(\u001b[0m\u001b[0;34m)\u001b[0m\u001b[0;34m\u001b[0m\u001b[0;34m\u001b[0m\u001b[0m\n\u001b[0m\u001b[1;32m    244\u001b[0m             \u001b[0mself\u001b[0m\u001b[0;34m.\u001b[0m\u001b[0mis_initialized\u001b[0m \u001b[0;34m=\u001b[0m \u001b[0;32mTrue\u001b[0m\u001b[0;34m\u001b[0m\u001b[0;34m\u001b[0m\u001b[0m\n\u001b[1;32m    245\u001b[0m         \u001b[0;32melse\u001b[0m\u001b[0;34m:\u001b[0m\u001b[0;34m\u001b[0m\u001b[0;34m\u001b[0m\u001b[0m\n",
            "\u001b[0;32m/usr/local/lib/python3.6/dist-packages/pymoo/model/algorithm.py\u001b[0m in \u001b[0;36minitialize\u001b[0;34m(self)\u001b[0m\n\u001b[1;32m    213\u001b[0m \u001b[0;34m\u001b[0m\u001b[0m\n\u001b[1;32m    214\u001b[0m         \u001b[0;31m# call the initialize method of the concrete algorithm implementation\u001b[0m\u001b[0;34m\u001b[0m\u001b[0;34m\u001b[0m\u001b[0;34m\u001b[0m\u001b[0m\n\u001b[0;32m--> 215\u001b[0;31m         \u001b[0mself\u001b[0m\u001b[0;34m.\u001b[0m\u001b[0m_initialize\u001b[0m\u001b[0;34m(\u001b[0m\u001b[0;34m)\u001b[0m\u001b[0;34m\u001b[0m\u001b[0;34m\u001b[0m\u001b[0m\n\u001b[0m\u001b[1;32m    216\u001b[0m \u001b[0;34m\u001b[0m\u001b[0m\n\u001b[1;32m    217\u001b[0m     \u001b[0;32mdef\u001b[0m \u001b[0msolve\u001b[0m\u001b[0;34m(\u001b[0m\u001b[0mself\u001b[0m\u001b[0;34m)\u001b[0m\u001b[0;34m:\u001b[0m\u001b[0;34m\u001b[0m\u001b[0;34m\u001b[0m\u001b[0m\n",
            "\u001b[0;32m/usr/local/lib/python3.6/dist-packages/pymoo/algorithms/genetic_algorithm.py\u001b[0m in \u001b[0;36m_initialize\u001b[0;34m(self)\u001b[0m\n\u001b[1;32m     79\u001b[0m \u001b[0;34m\u001b[0m\u001b[0m\n\u001b[1;32m     80\u001b[0m         \u001b[0;31m# then evaluate using the objective function\u001b[0m\u001b[0;34m\u001b[0m\u001b[0;34m\u001b[0m\u001b[0;34m\u001b[0m\u001b[0m\n\u001b[0;32m---> 81\u001b[0;31m         \u001b[0mself\u001b[0m\u001b[0;34m.\u001b[0m\u001b[0mevaluator\u001b[0m\u001b[0;34m.\u001b[0m\u001b[0meval\u001b[0m\u001b[0;34m(\u001b[0m\u001b[0mself\u001b[0m\u001b[0;34m.\u001b[0m\u001b[0mproblem\u001b[0m\u001b[0;34m,\u001b[0m \u001b[0mpop\u001b[0m\u001b[0;34m,\u001b[0m \u001b[0malgorithm\u001b[0m\u001b[0;34m=\u001b[0m\u001b[0mself\u001b[0m\u001b[0;34m)\u001b[0m\u001b[0;34m\u001b[0m\u001b[0;34m\u001b[0m\u001b[0m\n\u001b[0m\u001b[1;32m     82\u001b[0m \u001b[0;34m\u001b[0m\u001b[0m\n\u001b[1;32m     83\u001b[0m         \u001b[0;31m# that call is a dummy survival to set attributes that are necessary for the mating selection\u001b[0m\u001b[0;34m\u001b[0m\u001b[0;34m\u001b[0m\u001b[0;34m\u001b[0m\u001b[0m\n",
            "\u001b[0;32m/usr/local/lib/python3.6/dist-packages/pymoo/model/evaluator.py\u001b[0m in \u001b[0;36meval\u001b[0;34m(self, problem, pop, **kwargs)\u001b[0m\n\u001b[1;32m     76\u001b[0m         \u001b[0;31m# actually evaluate all solutions using the function that can be overwritten\u001b[0m\u001b[0;34m\u001b[0m\u001b[0;34m\u001b[0m\u001b[0;34m\u001b[0m\u001b[0m\n\u001b[1;32m     77\u001b[0m         \u001b[0;32mif\u001b[0m \u001b[0mlen\u001b[0m\u001b[0;34m(\u001b[0m\u001b[0mI\u001b[0m\u001b[0;34m)\u001b[0m \u001b[0;34m>\u001b[0m \u001b[0;36m0\u001b[0m\u001b[0;34m:\u001b[0m\u001b[0;34m\u001b[0m\u001b[0;34m\u001b[0m\u001b[0m\n\u001b[0;32m---> 78\u001b[0;31m             \u001b[0mself\u001b[0m\u001b[0;34m.\u001b[0m\u001b[0m_eval\u001b[0m\u001b[0;34m(\u001b[0m\u001b[0mproblem\u001b[0m\u001b[0;34m,\u001b[0m \u001b[0mpop\u001b[0m\u001b[0;34m[\u001b[0m\u001b[0mI\u001b[0m\u001b[0;34m]\u001b[0m\u001b[0;34m,\u001b[0m \u001b[0;34m**\u001b[0m\u001b[0mkwargs\u001b[0m\u001b[0;34m)\u001b[0m\u001b[0;34m\u001b[0m\u001b[0;34m\u001b[0m\u001b[0m\n\u001b[0m\u001b[1;32m     79\u001b[0m \u001b[0;34m\u001b[0m\u001b[0m\n\u001b[1;32m     80\u001b[0m             \u001b[0;31m# set the feasibility attribute if cv exists\u001b[0m\u001b[0;34m\u001b[0m\u001b[0;34m\u001b[0m\u001b[0;34m\u001b[0m\u001b[0m\n",
            "\u001b[0;32m/usr/local/lib/python3.6/dist-packages/pymoo/model/evaluator.py\u001b[0m in \u001b[0;36m_eval\u001b[0;34m(self, problem, pop, **kwargs)\u001b[0m\n\u001b[1;32m     95\u001b[0m                                \u001b[0mreturn_values_of\u001b[0m\u001b[0;34m=\u001b[0m\u001b[0mself\u001b[0m\u001b[0;34m.\u001b[0m\u001b[0mevaluate_values_of\u001b[0m\u001b[0;34m,\u001b[0m\u001b[0;34m\u001b[0m\u001b[0;34m\u001b[0m\u001b[0m\n\u001b[1;32m     96\u001b[0m                                \u001b[0mreturn_as_dictionary\u001b[0m\u001b[0;34m=\u001b[0m\u001b[0;32mTrue\u001b[0m\u001b[0;34m,\u001b[0m\u001b[0;34m\u001b[0m\u001b[0;34m\u001b[0m\u001b[0m\n\u001b[0;32m---> 97\u001b[0;31m                                **kwargs)\n\u001b[0m\u001b[1;32m     98\u001b[0m \u001b[0;34m\u001b[0m\u001b[0m\n\u001b[1;32m     99\u001b[0m         \u001b[0;32mfor\u001b[0m \u001b[0mkey\u001b[0m\u001b[0;34m,\u001b[0m \u001b[0mval\u001b[0m \u001b[0;32min\u001b[0m \u001b[0mout\u001b[0m\u001b[0;34m.\u001b[0m\u001b[0mitems\u001b[0m\u001b[0;34m(\u001b[0m\u001b[0;34m)\u001b[0m\u001b[0;34m:\u001b[0m\u001b[0;34m\u001b[0m\u001b[0;34m\u001b[0m\u001b[0m\n",
            "\u001b[0;32m/usr/local/lib/python3.6/dist-packages/pymoo/model/problem.py\u001b[0m in \u001b[0;36mevaluate\u001b[0;34m(self, X, return_values_of, return_as_dictionary, *args, **kwargs)\u001b[0m\n\u001b[1;32m    282\u001b[0m         \u001b[0;31m# calculate the output array - either elementwise or not. also consider the gradient\u001b[0m\u001b[0;34m\u001b[0m\u001b[0;34m\u001b[0m\u001b[0;34m\u001b[0m\u001b[0m\n\u001b[1;32m    283\u001b[0m         \u001b[0;32mif\u001b[0m \u001b[0mself\u001b[0m\u001b[0;34m.\u001b[0m\u001b[0melementwise_evaluation\u001b[0m\u001b[0;34m:\u001b[0m\u001b[0;34m\u001b[0m\u001b[0;34m\u001b[0m\u001b[0m\n\u001b[0;32m--> 284\u001b[0;31m             \u001b[0mout\u001b[0m \u001b[0;34m=\u001b[0m \u001b[0mself\u001b[0m\u001b[0;34m.\u001b[0m\u001b[0m_evaluate_elementwise\u001b[0m\u001b[0;34m(\u001b[0m\u001b[0mX\u001b[0m\u001b[0;34m,\u001b[0m \u001b[0mcalc_gradient\u001b[0m\u001b[0;34m,\u001b[0m \u001b[0mout\u001b[0m\u001b[0;34m,\u001b[0m \u001b[0;34m*\u001b[0m\u001b[0margs\u001b[0m\u001b[0;34m,\u001b[0m \u001b[0;34m**\u001b[0m\u001b[0mkwargs\u001b[0m\u001b[0;34m)\u001b[0m\u001b[0;34m\u001b[0m\u001b[0;34m\u001b[0m\u001b[0m\n\u001b[0m\u001b[1;32m    285\u001b[0m         \u001b[0;32melse\u001b[0m\u001b[0;34m:\u001b[0m\u001b[0;34m\u001b[0m\u001b[0;34m\u001b[0m\u001b[0m\n\u001b[1;32m    286\u001b[0m             \u001b[0mout\u001b[0m \u001b[0;34m=\u001b[0m \u001b[0mself\u001b[0m\u001b[0;34m.\u001b[0m\u001b[0m_evaluate_batch\u001b[0m\u001b[0;34m(\u001b[0m\u001b[0mX\u001b[0m\u001b[0;34m,\u001b[0m \u001b[0mcalc_gradient\u001b[0m\u001b[0;34m,\u001b[0m \u001b[0mout\u001b[0m\u001b[0;34m,\u001b[0m \u001b[0;34m*\u001b[0m\u001b[0margs\u001b[0m\u001b[0;34m,\u001b[0m \u001b[0;34m**\u001b[0m\u001b[0mkwargs\u001b[0m\u001b[0;34m)\u001b[0m\u001b[0;34m\u001b[0m\u001b[0;34m\u001b[0m\u001b[0m\n",
            "\u001b[0;32m/usr/local/lib/python3.6/dist-packages/pymoo/model/problem.py\u001b[0m in \u001b[0;36m_evaluate_elementwise\u001b[0;34m(self, X, calc_gradient, out, *args, **kwargs)\u001b[0m\n\u001b[1;32m    410\u001b[0m         \u001b[0;31m# just serialize evaluation\u001b[0m\u001b[0;34m\u001b[0m\u001b[0;34m\u001b[0m\u001b[0;34m\u001b[0m\u001b[0m\n\u001b[1;32m    411\u001b[0m         \u001b[0;32mif\u001b[0m \u001b[0m_type\u001b[0m \u001b[0;32mis\u001b[0m \u001b[0;32mNone\u001b[0m\u001b[0;34m:\u001b[0m\u001b[0;34m\u001b[0m\u001b[0;34m\u001b[0m\u001b[0m\n\u001b[0;32m--> 412\u001b[0;31m             \u001b[0;34m[\u001b[0m\u001b[0mret\u001b[0m\u001b[0;34m.\u001b[0m\u001b[0mappend\u001b[0m\u001b[0;34m(\u001b[0m\u001b[0mfunc\u001b[0m\u001b[0;34m(\u001b[0m\u001b[0mx\u001b[0m\u001b[0;34m)\u001b[0m\u001b[0;34m)\u001b[0m \u001b[0;32mfor\u001b[0m \u001b[0mx\u001b[0m \u001b[0;32min\u001b[0m \u001b[0mX\u001b[0m\u001b[0;34m]\u001b[0m\u001b[0;34m\u001b[0m\u001b[0;34m\u001b[0m\u001b[0m\n\u001b[0m\u001b[1;32m    413\u001b[0m \u001b[0;34m\u001b[0m\u001b[0m\n\u001b[1;32m    414\u001b[0m         \u001b[0;32melif\u001b[0m \u001b[0m_type\u001b[0m \u001b[0;34m==\u001b[0m \u001b[0;34m\"starmap\"\u001b[0m\u001b[0;34m:\u001b[0m\u001b[0;34m\u001b[0m\u001b[0;34m\u001b[0m\u001b[0m\n",
            "\u001b[0;32m/usr/local/lib/python3.6/dist-packages/pymoo/model/problem.py\u001b[0m in \u001b[0;36m<listcomp>\u001b[0;34m(.0)\u001b[0m\n\u001b[1;32m    410\u001b[0m         \u001b[0;31m# just serialize evaluation\u001b[0m\u001b[0;34m\u001b[0m\u001b[0;34m\u001b[0m\u001b[0;34m\u001b[0m\u001b[0m\n\u001b[1;32m    411\u001b[0m         \u001b[0;32mif\u001b[0m \u001b[0m_type\u001b[0m \u001b[0;32mis\u001b[0m \u001b[0;32mNone\u001b[0m\u001b[0;34m:\u001b[0m\u001b[0;34m\u001b[0m\u001b[0;34m\u001b[0m\u001b[0m\n\u001b[0;32m--> 412\u001b[0;31m             \u001b[0;34m[\u001b[0m\u001b[0mret\u001b[0m\u001b[0;34m.\u001b[0m\u001b[0mappend\u001b[0m\u001b[0;34m(\u001b[0m\u001b[0mfunc\u001b[0m\u001b[0;34m(\u001b[0m\u001b[0mx\u001b[0m\u001b[0;34m)\u001b[0m\u001b[0;34m)\u001b[0m \u001b[0;32mfor\u001b[0m \u001b[0mx\u001b[0m \u001b[0;32min\u001b[0m \u001b[0mX\u001b[0m\u001b[0;34m]\u001b[0m\u001b[0;34m\u001b[0m\u001b[0;34m\u001b[0m\u001b[0m\n\u001b[0m\u001b[1;32m    413\u001b[0m \u001b[0;34m\u001b[0m\u001b[0m\n\u001b[1;32m    414\u001b[0m         \u001b[0;32melif\u001b[0m \u001b[0m_type\u001b[0m \u001b[0;34m==\u001b[0m \u001b[0;34m\"starmap\"\u001b[0m\u001b[0;34m:\u001b[0m\u001b[0;34m\u001b[0m\u001b[0;34m\u001b[0m\u001b[0m\n",
            "\u001b[0;32m/usr/local/lib/python3.6/dist-packages/pymoo/model/problem.py\u001b[0m in \u001b[0;36mfunc\u001b[0;34m(_x)\u001b[0m\n\u001b[1;32m    397\u001b[0m                 \u001b[0m_out\u001b[0m\u001b[0;34m[\u001b[0m\u001b[0;34m\"__autograd__\"\u001b[0m\u001b[0;34m]\u001b[0m \u001b[0;34m=\u001b[0m \u001b[0mgrad\u001b[0m\u001b[0;34m\u001b[0m\u001b[0;34m\u001b[0m\u001b[0m\n\u001b[1;32m    398\u001b[0m             \u001b[0;32melse\u001b[0m\u001b[0;34m:\u001b[0m\u001b[0;34m\u001b[0m\u001b[0;34m\u001b[0m\u001b[0m\n\u001b[0;32m--> 399\u001b[0;31m                 \u001b[0mself\u001b[0m\u001b[0;34m.\u001b[0m\u001b[0m_evaluate\u001b[0m\u001b[0;34m(\u001b[0m\u001b[0m_x\u001b[0m\u001b[0;34m,\u001b[0m \u001b[0m_out\u001b[0m\u001b[0;34m,\u001b[0m \u001b[0;34m*\u001b[0m\u001b[0margs\u001b[0m\u001b[0;34m,\u001b[0m \u001b[0;34m**\u001b[0m\u001b[0mkwargs\u001b[0m\u001b[0;34m)\u001b[0m\u001b[0;34m\u001b[0m\u001b[0;34m\u001b[0m\u001b[0m\n\u001b[0m\u001b[1;32m    400\u001b[0m             \u001b[0;32mreturn\u001b[0m \u001b[0m_out\u001b[0m\u001b[0;34m\u001b[0m\u001b[0;34m\u001b[0m\u001b[0m\n\u001b[1;32m    401\u001b[0m \u001b[0;34m\u001b[0m\u001b[0m\n",
            "\u001b[0;32m<ipython-input-97-613d5296f8cb>\u001b[0m in \u001b[0;36m_evaluate\u001b[0;34m(self, Chromosome, out, *args, **kwargs)\u001b[0m\n\u001b[1;32m     11\u001b[0m                          elementwise_evaluation=True)\n\u001b[1;32m     12\u001b[0m     \u001b[0;32mdef\u001b[0m \u001b[0m_evaluate\u001b[0m\u001b[0;34m(\u001b[0m\u001b[0mself\u001b[0m\u001b[0;34m,\u001b[0m \u001b[0mChromosome\u001b[0m\u001b[0;34m,\u001b[0m \u001b[0mout\u001b[0m\u001b[0;34m,\u001b[0m \u001b[0;34m*\u001b[0m\u001b[0margs\u001b[0m\u001b[0;34m,\u001b[0m \u001b[0;34m**\u001b[0m\u001b[0mkwargs\u001b[0m\u001b[0;34m)\u001b[0m\u001b[0;34m:\u001b[0m\u001b[0;34m\u001b[0m\u001b[0;34m\u001b[0m\u001b[0m\n\u001b[0;32m---> 13\u001b[0;31m         \u001b[0mf1\u001b[0m \u001b[0;34m=\u001b[0m \u001b[0menergy_fitnessFuntion_for_GA\u001b[0m\u001b[0;34m(\u001b[0m\u001b[0mChromosome\u001b[0m\u001b[0;34m)\u001b[0m \u001b[0;31m# used to evaluate the energy consumption\u001b[0m\u001b[0;34m\u001b[0m\u001b[0;34m\u001b[0m\u001b[0m\n\u001b[0m\u001b[1;32m     14\u001b[0m         \u001b[0;31m#f2 = distance_fitnessFuntion_for_GA(Chromosome) # used to evaluate the travel distance\u001b[0m\u001b[0;34m\u001b[0m\u001b[0;34m\u001b[0m\u001b[0;34m\u001b[0m\u001b[0m\n\u001b[1;32m     15\u001b[0m         \u001b[0mg1\u001b[0m \u001b[0;34m=\u001b[0m \u001b[0mdistance_fitnessFuntion_for_GA\u001b[0m\u001b[0;34m(\u001b[0m\u001b[0mChromosome\u001b[0m\u001b[0;34m)\u001b[0m \u001b[0;34m-\u001b[0m \u001b[0;36m50\u001b[0m \u001b[0;31m# is constraint used for tracking the path, because when s > 50 the Robot will loss the path.\u001b[0m\u001b[0;34m\u001b[0m\u001b[0;34m\u001b[0m\u001b[0m\n",
            "\u001b[0;32m<ipython-input-93-60ff7ced92d6>\u001b[0m in \u001b[0;36menergy_fitnessFuntion_for_GA\u001b[0;34m(Chromosome)\u001b[0m\n\u001b[1;32m      1\u001b[0m \u001b[0;32mdef\u001b[0m \u001b[0menergy_fitnessFuntion_for_GA\u001b[0m\u001b[0;34m(\u001b[0m\u001b[0mChromosome\u001b[0m\u001b[0;34m)\u001b[0m\u001b[0;34m:\u001b[0m\u001b[0;34m\u001b[0m\u001b[0;34m\u001b[0m\u001b[0m\n\u001b[1;32m      2\u001b[0m     \u001b[0mNew_fitnessFunctionDescription\u001b[0m \u001b[0;34m=\u001b[0m \u001b[0mupdate_fitnessFunctionDescription\u001b[0m\u001b[0;34m(\u001b[0m\u001b[0mfitnessFunctionDescription\u001b[0m\u001b[0;34m,\u001b[0m \u001b[0mChromosome\u001b[0m\u001b[0;34m)\u001b[0m\u001b[0;34m\u001b[0m\u001b[0;34m\u001b[0m\u001b[0m\n\u001b[0;32m----> 3\u001b[0;31m     \u001b[0msTime\u001b[0m \u001b[0;34m=\u001b[0m \u001b[0mmS\u001b[0m\u001b[0;34m(\u001b[0m\u001b[0;34m)\u001b[0m\u001b[0;34m\u001b[0m\u001b[0;34m\u001b[0m\u001b[0m\n\u001b[0m\u001b[1;32m      4\u001b[0m     \u001b[0mresults\u001b[0m \u001b[0;34m=\u001b[0m \u001b[0mevalSet\u001b[0m\u001b[0;34m(\u001b[0m\u001b[0mfitnessFunction\u001b[0m\u001b[0;34m,\u001b[0m \u001b[0;34m[\u001b[0m\u001b[0mNew_fitnessFunctionDescription\u001b[0m\u001b[0;34m]\u001b[0m\u001b[0;34m)\u001b[0m\u001b[0;34m\u001b[0m\u001b[0;34m\u001b[0m\u001b[0m\n\u001b[1;32m      5\u001b[0m     \u001b[0mresult\u001b[0m \u001b[0;34m=\u001b[0m \u001b[0mresults\u001b[0m\u001b[0;34m[\u001b[0m\u001b[0;36m0\u001b[0m\u001b[0;34m]\u001b[0m\u001b[0;34m[\u001b[0m\u001b[0;34m'E'\u001b[0m\u001b[0;34m]\u001b[0m\u001b[0;34m\u001b[0m\u001b[0;34m\u001b[0m\u001b[0m\n",
            "\u001b[0;31mNameError\u001b[0m: name 'mS' is not defined"
          ]
        }
      ]
    },
    {
      "cell_type": "markdown",
      "metadata": {
        "id": "Xo1nNs_o9Rzw"
      },
      "source": [
        "## Visualizations of all results"
      ]
    },
    {
      "cell_type": "markdown",
      "metadata": {
        "id": "UbuD1yHufilz"
      },
      "source": [
        "### Circle controller [1]"
      ]
    },
    {
      "cell_type": "code",
      "metadata": {
        "id": "kL4KMCn7f_ug"
      },
      "source": [
        "def createCircleControllerWithGain(ChromosomeCir,omega_ri, vri, lowVelocityLimit, highVelocityLimit, lowOmegaLimit, highOmegaLimit):\n",
        "  def controller(t, currentState, destinationState):\n",
        "    currentX = currentState[0]\n",
        "    currentY = currentState[1]\n",
        "    currentTheta = currentState[2]\n",
        "\n",
        "    destinationX = destinationState[0]\n",
        "    destinationY = destinationState[1]\n",
        "\n",
        "    cosTheta = cos(currentTheta)\n",
        "    sinTheta = sin(currentTheta)\n",
        "\n",
        "    deltaX = destinationX - currentX\n",
        "    deltaY = destinationY - currentY\n",
        "\n",
        "    velocity = vri\n",
        "    omega = -2 * ChromosomeCir[0] * vri * (deltaX * sinTheta - deltaY * cosTheta) / (deltaX * deltaX + deltaY * deltaY)\n",
        "    \n",
        "    if velocity > highVelocityLimit:\n",
        "      velocity = highVelocityLimit\n",
        "    if (velocity < lowVelocityLimit):\n",
        "      velocity = lowVelocityLimit\n",
        "    if omega > highOmegaLimit:\n",
        "      omega = highOmegaLimit\n",
        "    if (omega < lowOmegaLimit):\n",
        "      omega = lowOmegaLimit\n",
        "\n",
        "    return velocity, omega\n",
        "  return controller"
      ],
      "execution_count": null,
      "outputs": []
    },
    {
      "cell_type": "markdown",
      "metadata": {
        "id": "jfp5mDZ1fo9a"
      },
      "source": [
        "### Robins Mathew based controller [1]\n"
      ]
    },
    {
      "cell_type": "code",
      "metadata": {
        "id": "XazVeX8ggGKh"
      },
      "source": [
        "def createController_By_RobinsMathew(chromosomeRM,omega_ri, vri, lowVelocityLimit, highVelocityLimit, lowOmegaLimit, highOmegaLimit):\n",
        "                                     \n",
        "  def controller(t, currentState, destinationState):\n",
        "    currentX = currentState[0]\n",
        "    currentY = currentState[1]\n",
        "    currentTheta = currentState[2]\n",
        "\n",
        "    destinationX = destinationState[0]\n",
        "    destinationY = destinationState[1]\n",
        "\n",
        "    cosTheta = cos(currentTheta)\n",
        "    sinTheta = sin(currentTheta)\n",
        "    \n",
        "    deltaX = destinationX - currentX\n",
        "    deltaY = destinationY - currentY\n",
        "    theta_destination = atan2(deltaY, deltaX)\n",
        "    theta_error = theta_destination - currentTheta\n",
        "\n",
        "    Te = math.sin(theta_destination)*deltaX - math.cos(theta_destination)*deltaY\n",
        "    \n",
        "    velocity = vri*math.cos(theta_error)\n",
        "    omega = omega_ri + chromosomeRM[0]*vri*Te + chromosomeRM[1]*vri*math.sin(theta_error)\n",
        "\n",
        "    if velocity > highVelocityLimit:\n",
        "      velocity = highVelocityLimit\n",
        "    if (velocity < lowVelocityLimit):\n",
        "      velocity = lowVelocityLimit\n",
        "    if omega > highOmegaLimit:\n",
        "      omega = highOmegaLimit\n",
        "    if (omega < lowOmegaLimit):\n",
        "      omega = lowOmegaLimit\n",
        "      \n",
        "    return velocity, omega\n",
        "  return controller"
      ],
      "execution_count": null,
      "outputs": []
    },
    {
      "cell_type": "markdown",
      "metadata": {
        "id": "KjHtF3lcf4eh"
      },
      "source": [
        "### Fuzzy logic controller"
      ]
    },
    {
      "cell_type": "markdown",
      "metadata": {
        "id": "ax23-e_dgn_z"
      },
      "source": [
        "## TODO, this function reads out info from optimization results directly.\n",
        "This must be done with parameter."
      ]
    },
    {
      "cell_type": "code",
      "metadata": {
        "id": "rK6GSSLRa0n4"
      },
      "source": [
        "def createFuzzyfier(space, categories, trimf = fuzz.trimf, membership = fuzz.interp_membership):\n",
        "  fuzzyInput = {}\n",
        "  for key, value in categories.items():\n",
        "    fuzzyInput[key] = trimf(space, value)\n",
        "  def result(variable):\n",
        "    output = {}\n",
        "    for key, value in fuzzyInput.items():\n",
        "      output[key] = membership(space, value, variable)\n",
        "    if output[key] ==0:\n",
        "      output[key] = 1e-5\n",
        "    else:\n",
        "      output[key] = output[key] \n",
        "    return output\n",
        "  return result\n",
        "\n",
        "def createInferenceSystem(inputAfuzzyfier, inputBfuzzyfier, outputSpace, outputDict, rulesDict, trimf = fuzz.trimf):\n",
        "  fuzzyResults = {}\n",
        "  for keyA, outerValue in rulesDict.items():\n",
        "    if not(keyA in fuzzyResults):\n",
        "      fuzzyResults[keyA] = {}\n",
        "    for keyB, innerValue in outerValue.items():\n",
        "      fuzzyResults[keyA][keyB] = trimf(outputSpace, outputDict[innerValue]) #innerValue==outputDict[keyA][keyB]\n",
        "  def result(valueA, valueB):\n",
        "    fuzzyVariableA = inputAfuzzyfier(valueA)\n",
        "    fuzzyVariableB = inputBfuzzyfier(valueB)\n",
        "    fuzzyResult = None\n",
        "    for keyA, outerValue in rulesDict.items():\n",
        "      for keyB, resultValue in outerValue.items():\n",
        "        currentResult = np.fmin(fuzzyResults[keyA][keyB],\n",
        "            np.fmin(fuzzyVariableA[keyA], fuzzyVariableB[keyB]))\n",
        "        if fuzzyResult is None:\n",
        "          fuzzyResult = currentResult\n",
        "        else:\n",
        "          fuzzyResult = np.fmax(currentResult, fuzzyResult)\n",
        "    return fuzzyResult\n",
        "  return result\n",
        "\n",
        "def createDefuzzyfier(outputSpace, *defuzzArgs, defuzz=fuzz.defuzz, **defuzzKwargs):\n",
        "  def result(value):\n",
        "    return defuzz(outputSpace, value, *defuzzArgs, **defuzzKwargs)\n",
        "  return result\n",
        "  \n",
        "def createFullFuzzySystem(inferenceSystem, defuzzyfier):\n",
        "  def system(inputA, inputB):\n",
        "    return defuzzyfier(inferenceSystem(inputA, inputB))\n",
        "  return system"
      ],
      "execution_count": null,
      "outputs": []
    },
    {
      "cell_type": "code",
      "metadata": {
        "id": "RA7N37vuJnxV"
      },
      "source": [
        "def Fuzzy_control(fuzzyDescription, r, b, omega_ri, vri, lowVelocityLimit, highVelocityLimit, lowOmegaLimit, highOmegaLimit):\n",
        "    inputsDistance = fuzzyDescription['inputs']['distance']['M']\n",
        "    inputsSpaceDistance = np.array(fuzzyDescription['inputs']['distance']['S'])\n",
        "    \n",
        "    inputsAngle = fuzzyDescription['inputs']['angle']['M']\n",
        "    inputsSpaceAngle = np.array(fuzzyDescription['inputs']['angle']['S'])\n",
        "    \n",
        "    outputsOmegaR = fuzzyDescription['outputs']['omegaR']['M']\n",
        "    outputSpaceOmegaR = np.array(fuzzyDescription['outputs']['omegaR']['S'])\n",
        "    outputRulesOmegaR = fuzzyDescription['outputs']['omegaR']['rules']\n",
        "    \n",
        "    outputsOmegaL = fuzzyDescription['outputs']['omegaL']['M']\n",
        "    outputSpaceOmegaL = np.array(fuzzyDescription['outputs']['omegaL']['S'])\n",
        "    outputRulesOmegaL = fuzzyDescription['outputs']['omegaL']['rules']\n",
        "\n",
        "\n",
        "    inputsDistanceFuzzyfier = createFuzzyfier(inputsSpaceDistance, inputsDistance)\n",
        "    inputsAngleFuzzyfier = createFuzzyfier(inputsSpaceAngle, inputsAngle)\n",
        "\n",
        "    inferenceSystem_R = createInferenceSystem(inputsDistanceFuzzyfier, inputsAngleFuzzyfier, outputSpaceOmegaR, outputsOmegaR, outputRulesOmegaR)\n",
        "    outputDefuzzyfier_R = createDefuzzyfier(outputSpaceOmegaL, mode='centroid')\n",
        "\n",
        "    inferenceSystem_L = createInferenceSystem(inputsDistanceFuzzyfier, inputsAngleFuzzyfier, outputSpaceOmegaL, outputsOmegaL, outputRulesOmegaL)\n",
        "    outputDefuzzyfier_L = createDefuzzyfier(outputSpaceOmegaL, mode='centroid')\n",
        "\n",
        "    fullSystem_R = createFullFuzzySystem(inferenceSystem_R, outputDefuzzyfier_R)\n",
        "    fullSystem_L = createFullFuzzySystem(inferenceSystem_L, outputDefuzzyfier_L)\n",
        "    \n",
        "    def controller(t, currentState, destinationState):\n",
        "        currentX = currentState[0]\n",
        "        currentY = currentState[1]\n",
        "        currentTheta = currentState[2]\n",
        "\n",
        "        destinationX = destinationState[0]\n",
        "        destinationY = destinationState[1]\n",
        "\n",
        "        cosTheta = cos(currentTheta)\n",
        "        sinTheta = sin(currentTheta)\n",
        "        \n",
        "        deltaX = destinationX - currentX\n",
        "        deltaY = destinationY - currentY\n",
        "        theta_destination = atan2(deltaY, deltaX)\n",
        "        THETA_ERROR = theta_destination - currentTheta\n",
        "        DISTANCE_ERROR = sqrt(deltaX * deltaX + deltaY * deltaY)\n",
        "        \n",
        "        if (THETA_ERROR > pi):\n",
        "          THETA_ERROR -= 2*pi\n",
        "        if (THETA_ERROR < -pi):\n",
        "          THETA_ERROR += 2*pi\n",
        "      \n",
        "        omega_R = fullSystem_R(DISTANCE_ERROR, THETA_ERROR)\n",
        "        omega_L = fullSystem_L(DISTANCE_ERROR, THETA_ERROR)\n",
        "\n",
        "        velocity = r * (omega_R + omega_L) / 2\n",
        "        omega = r * (omega_R - omega_L) / b\n",
        "\n",
        "        if velocity > highVelocityLimit:\n",
        "            velocity = highVelocityLimit\n",
        "        if (velocity < lowVelocityLimit):\n",
        "            velocity = lowVelocityLimit\n",
        "        if omega > highOmegaLimit:\n",
        "            omega = highOmegaLimit\n",
        "        if (omega < lowOmegaLimit):\n",
        "            omega = lowOmegaLimit\n",
        "\n",
        "        return velocity, omega\n",
        "    return controller"
      ],
      "execution_count": null,
      "outputs": []
    },
    {
      "cell_type": "markdown",
      "metadata": {
        "id": "gE6IuUcul5wR"
      },
      "source": [
        "### Colecting results to plot"
      ]
    },
    {
      "cell_type": "markdown",
      "metadata": {
        "id": "UoVWU9BmsWPk"
      },
      "source": [
        "### Supportive Functions"
      ]
    },
    {
      "cell_type": "markdown",
      "metadata": {
        "id": "afSA4aUJsg8q"
      },
      "source": [
        "#### Run Simulation - Core Function"
      ]
    },
    {
      "cell_type": "code",
      "metadata": {
        "id": "mrO0g0Z2sa_I"
      },
      "source": [
        "def runSimulation(robot, solverfunc):\n",
        "  \n",
        "  robotStates = solverfunc(robot)\n",
        "  velocitys = []\n",
        "  omegas = []\n",
        "  timeStep = []\n",
        "  x_axis = []\n",
        "  y_axis = []\n",
        "  s = []\n",
        "  E = []\n",
        "  for currentState in robotStates: # readout all states from current moving robot\n",
        "    velocity = currentState['dy'][3]\n",
        "    velocitys.append(velocity)\n",
        "    omega = currentState['dy'][4]\n",
        "    omegas.append(omega)\n",
        "    time = currentState['time']\n",
        "    timeStep.append(time)\n",
        "    x = currentState['y'][0]\n",
        "    x_axis.append(x)\n",
        "    y = currentState['y'][1]\n",
        "    y_axis.append(y)\n",
        "    s_step = currentState['y'][3]\n",
        "    s.append(s_step)\n",
        "    E_step = currentState['TotalEnergy']       \n",
        "    E.append(E_step)\n",
        "  return velocitys, omegas, timeStep, x_axis, y_axis, s, E"
      ],
      "execution_count": null,
      "outputs": []
    },
    {
      "cell_type": "markdown",
      "metadata": {
        "id": "c6YB7mCUs4AB"
      },
      "source": [
        "### General Form of Simulation"
      ]
    },
    {
      "cell_type": "markdown",
      "metadata": {
        "id": "iO3U97HKVSia"
      },
      "source": [
        "#### One Level Full Function"
      ]
    },
    {
      "cell_type": "code",
      "metadata": {
        "id": "bYtzri-hVb68"
      },
      "source": [
        "def runSimulation(fitnessFunctionDescription, controllerCreator, selectors=selectors):\n",
        "  \n",
        "  pathForSimulation = iter(fitnessFunctionDescription['path'])\n",
        "  t0 = 0\n",
        "  t_bound = 100\n",
        "  max_step = 0.05\n",
        "  state0 = None\n",
        "  robotState0 = fitnessFunctionDescription['robotState0']\n",
        "  if robot == robotWithDynamic:\n",
        "    state0 = np.array([robotState0['x'], robotState0['y'], robotState0['theta'], 0, 0, 0, 0, 0, 0, 0]) # x0=0, y0=0, theta\n",
        "  else:\n",
        "    state0 = np.array([robotState0['x'], robotState0['y'], robotState0['theta'], 0, 0, 0]) # x0=0, y0=0,theta\n",
        "\n",
        "  solverfunc = simpleCompute(\n",
        "      compute, state0 = state0, \n",
        "      t0 = t0, t_bound = t_bound, max_step = max_step)\n",
        "\n",
        "  controllerParams = fitnessFunctionDescription['controllerParams']\n",
        "  robot = robotModelCreator(createController_Fuzzy, pathForSimulation, **controllerParams)      \n",
        "  robotStates = solverfunc(robot)\n",
        "\n",
        "  results = {}\n",
        "  for key, selector in selectors.items():\n",
        "    results[key] = []\n",
        "\n",
        "  for currentState in robotStates: # readout all states from current moving robot\n",
        "    for key, selector in selectors.items():\n",
        "      results[key].append(selector(currentState))\n",
        "\n",
        "  return results"
      ],
      "execution_count": null,
      "outputs": []
    },
    {
      "cell_type": "code",
      "metadata": {
        "id": "8_6luzgMZmzS"
      },
      "source": [
        "def fitnessFuncExample(chromosome, chromosomeDecoder, controllerCreator):\n",
        "  description = chromosomeDecoder(chromosome)\n",
        "  result = runSimulation(description, controllerCreator)\n",
        "  return result"
      ],
      "execution_count": null,
      "outputs": []
    },
    {
      "cell_type": "code",
      "metadata": {
        "id": "PkYF3IQqaEg3"
      },
      "source": [
        "def fitnessSpecial(chromosome):\n",
        "  return fitnessFuncExample(chromosome, REALTRANSFORM, REALCONTROLLERCREATOR)"
      ],
      "execution_count": null,
      "outputs": []
    },
    {
      "cell_type": "markdown",
      "metadata": {
        "id": "cpKnpd-dVXMg"
      },
      "source": [
        "#### Special Function"
      ]
    },
    {
      "cell_type": "code",
      "metadata": {
        "id": "kU8sShpUs8hG"
      },
      "source": [
        "def controllerUsingGenes_FLC(controllerCreator, fitnessFunctionDescription):\n",
        "  pathForSimulation = iter(fitnessFunctionDescription['path'])\n",
        "  t0 = 0\n",
        "  t_bound = 100\n",
        "  max_step = 0.05\n",
        "  state0 = None\n",
        "  if robot == robotWithDynamic:\n",
        "    state0 = np.array([robotState0['x'], robotState0['y'], robotState0['theta'], 0, 0, 0, 0, 0, 0, 0]) # x0=0, y0=0, theta\n",
        "  else:\n",
        "    state0 = np.array([robotState0['x'], robotState0['y'], robotState0['theta'], 0, 0, 0]) # x0=0, y0=0,theta\n",
        "\n",
        "   solverfunc = simpleCompute(\n",
        "      compute, state0 = state0, \n",
        "      t0 = t0, t_bound = t_bound, max_step = max_step)\n",
        "\n",
        "  #--------------------for Fuzzy and GA_FLC-------------------------------------------------  \n",
        "  def controllerForGenes_Fuzzy(chromosomeToDesriptionFunc):\n",
        "    def transformGeneIntoControllerParams(chromosome_Fuzzy):    \n",
        "      controllerParams_Fuzzy = {'Chromosome':chromosome_Fuzzy, **fitnessFunctionDescription['controllerParams']}     \n",
        "      return controllerParams_Fuzzy\n",
        "\n",
        "    createController_Fuzzy = controllerCreator # !!!!\n",
        "\n",
        "    def createRobot():\n",
        "      controllerParams_Fuzzy = chromosomeToDesriptionFunc()\n",
        "      robot = robotModelCreator(createController_Fuzzy, pathForSimulation, **controllerParams_Fuzzy)      \n",
        "      return robot\n",
        "\n",
        "    robot = createRobot()\n",
        "    velocitys, omegas, timeStep, x_axis, y_axis, s, E = runSimulation(robot, solverfunc)\n",
        "\n",
        "    return velocitys, omegas, timeStep, x_axis, y_axis, s, E\n",
        "  return controllerForGenes_Fuzzy\n"
      ],
      "execution_count": null,
      "outputs": []
    },
    {
      "cell_type": "code",
      "metadata": {
        "id": "exddnrH6t1h-"
      },
      "source": [
        "#-------call function to get results for FLC only---------------------------------------------\n",
        "controllerForGenes_Fuzzy = controllerUsingGenes_FLC(Fuzzy_control, fitnessFunctionDescription)\n",
        "chromosome_Fuzzy =[0.5,0.5,0.5,0.5,0.5,1,0.5,0.5,1.5,0.5,0.5,  1.57,1.57,-1.57,1.57,1.57,0,1.57,1.57,1.57,1.57,1.57,  \n",
        "                   7.5,7.5,7.5,7.5,7.5,15,7.5,7.5,22.5,7.5,7.5,  7.5,7.5,7.5,7.5,7.5,15,7.5,7.5,22.5,7.5,7.5]\n",
        "chromosomeToDesriptionFunc = lambda : func(fitnessFunctionDescription, chromosome)\n",
        "results_Fuzzy = controllerForGenes_Fuzzy(chromosomeToDesriptionFunc)\n",
        "#------- get results to plot ---------------------------------------------------\n",
        "# data for Fuzzy control\n",
        "velocity_Fuzzy, \n",
        "  omega_Fuzzy, \n",
        "  time_Fuzzy,\n",
        "  x_Fuzzy,\n",
        "  y_Fuzzy,\n",
        "  s_Fuzzy,\n",
        "  E_Fuzzy = results_Fuzzy\n",
        "  \n",
        "print('E_Fuzzy =',E_Fuzzy[-1])\n",
        "print('s_Fuzzy =',s_Fuzzy[-1])\n",
        "#-------call function to get results for GA_FLC---------------------------------------------\n",
        "controllerForGenes_Fuzzy_GA = controllerUsingGenes_FLC(Fuzzy_control, iter(fitnessFunctionDescription['path']))\n",
        "chromosome_Fuzzy_GA = Best_Chromosome\n",
        "results_Fuzzy_GA = controllerForGenes_Fuzzy_GA(chromosome_Fuzzy_GA)\n",
        "#------- get results to plot ---------------------------------------------------\n",
        "# data for Fuzzy_GA control\n",
        "velocity_Fuzzy_GA = results_Fuzzy_GA[0]\n",
        "omega_Fuzzy_GA = results_Fuzzy_GA[1]\n",
        "time_Fuzzy_GA = results_Fuzzy_GA[2]\n",
        "x_Fuzzy_GA = results_Fuzzy_GA[3]\n",
        "y_Fuzzy_GA = results_Fuzzy_GA[4]\n",
        "s_Fuzzy_GA = results_Fuzzy_GA[5]\n",
        "E_Fuzzy_GA = results_Fuzzy_GA[6]\n",
        "print('E_Fuzzy_GA =',E_Fuzzy_GA[-1])\n",
        "print('s_Fuzzy_GA =',s_Fuzzy_GA[-1])"
      ],
      "execution_count": null,
      "outputs": []
    },
    {
      "cell_type": "markdown",
      "metadata": {
        "id": "Lv0thyAnqShm"
      },
      "source": [
        "#### FLC"
      ]
    },
    {
      "cell_type": "code",
      "metadata": {
        "id": "uVWUYi1a-Wb1"
      },
      "source": [
        "\n",
        "def controllerUsingGenes_FLC(pathForSimulation):\n",
        "  t0 = 0\n",
        "  t_bound = 100\n",
        "  max_step = 0.05\n",
        "  state0 = None\n",
        "  if robot == robotWithDynamic:\n",
        "    state0 = np.array([robotState0['x'], robotState0['y'], robotState0['theta'], 0, 0, 0, 0, 0, 0, 0]) # x0=0, y0=0, theta\n",
        "  else:\n",
        "    state0 = np.array([robotState0['x'], robotState0['y'], robotState0['theta'], 0, 0, 0]) # x0=0, y0=0,theta\n",
        "\n",
        "  solverfunc = simpleCompute(\n",
        "      compute, state0 = state0, \n",
        "      t0 = t0, t_bound = t_bound, max_step = max_step)\n",
        " \n",
        "  #--------------------for Fuzzy and GA_FLC-------------------------------------------------  \n",
        "  def controllerForGenes_Fuzzy(chromosome_Fuzzy):\n",
        "    def transformGeneIntoControllerParams(chromosome_Fuzzy):    \n",
        "      controllerParams_Fuzzy = {'Chromosome':chromosome_Fuzzy, 'omega_ri':fitnessFunctionDescription['controllerParams']['omega_ri'],\n",
        "                                'vri':fitnessFunctionDescription['controllerParams']['vri'], \n",
        "                                'lowVelocityLimit':fitnessFunctionDescription['controllerParams']['lowVelocityLimit'], \n",
        "                                'highVelocityLimit':fitnessFunctionDescription['controllerParams']['highVelocityLimit'],\n",
        "                                'lowOmegaLimit':fitnessFunctionDescription['controllerParams']['lowOmegaLimit'],\n",
        "                                'highOmegaLimit':fitnessFunctionDescription['controllerParams']['highOmegaLimit']}     \n",
        "      return controllerParams_Fuzzy\n",
        "\n",
        "    createController_Fuzzy = Fuzzy_control\n",
        "\n",
        "    def createRobot():\n",
        "      controllerParams_Fuzzy = transformGeneIntoControllerParams(chromosome_Fuzzy)\n",
        "      robot = robotModelCreator(createController_Fuzzy, pathForSimulation, **controllerParams_Fuzzy)      \n",
        "      return robot\n",
        "\n",
        "    def runSimulation(robot):\n",
        "      robotStates = solverfunc(robot)\n",
        "      velocitys = []\n",
        "      omegas = []\n",
        "      timeStep = []\n",
        "      x_axis = []\n",
        "      y_axis = []\n",
        "      s = []\n",
        "      E = []\n",
        "      for currentState in robotStates: # readout all states from current moving robot\n",
        "        velocity = currentState['dy'][3]\n",
        "        velocitys.append(velocity)\n",
        "        omega = currentState['dy'][4]\n",
        "        omegas.append(omega)\n",
        "        time = currentState['time']\n",
        "        timeStep.append(time)\n",
        "        x = currentState['y'][0]\n",
        "        x_axis.append(x)\n",
        "        y = currentState['y'][1]\n",
        "        y_axis.append(y)\n",
        "        s_step = currentState['y'][3]\n",
        "        s.append(s_step)\n",
        "        E_step = currentState['TotalEnergy']       \n",
        "        E.append(E_step)\n",
        "      return velocitys, omegas, timeStep, x_axis, y_axis, s, E\n",
        "\n",
        "    robot = createRobot()\n",
        "    velocitys, omegas, timeStep, x_axis, y_axis, s, E = runSimulation(robot)\n",
        "\n",
        "    return velocitys, omegas, timeStep, x_axis, y_axis, s, E\n",
        "  return controllerForGenes_Fuzzy\n",
        "#-------call function to get results for FLC only---------------------------------------------\n",
        "controllerForGenes_Fuzzy = controllerUsingGenes_FLC(iter(fitnessFunctionDescription['path']))\n",
        "chromosome_Fuzzy =[0.5,0.5,0.5,0.5,0.5,1,0.5,0.5,1.5,0.5,0.5,  1.57,1.57,-1.57,1.57,1.57,0,1.57,1.57,1.57,1.57,1.57,  \n",
        "                   7.5,7.5,7.5,7.5,7.5,15,7.5,7.5,22.5,7.5,7.5,  7.5,7.5,7.5,7.5,7.5,15,7.5,7.5,22.5,7.5,7.5]\n",
        "results_Fuzzy = controllerForGenes_Fuzzy(chromosome_Fuzzy)\n",
        "#------- get results to plot ---------------------------------------------------\n",
        "# data for Fuzzy control\n",
        "velocity_Fuzzy = results_Fuzzy[0]\n",
        "omega_Fuzzy = results_Fuzzy[1]\n",
        "time_Fuzzy = results_Fuzzy[2]\n",
        "x_Fuzzy = results_Fuzzy[3]\n",
        "y_Fuzzy = results_Fuzzy[4]\n",
        "s_Fuzzy = results_Fuzzy[5]\n",
        "E_Fuzzy = results_Fuzzy[6]\n",
        "print('E_Fuzzy =',E_Fuzzy[-1])\n",
        "print('s_Fuzzy =',s_Fuzzy[-1])\n",
        "#-------call function to get results for GA_FLC---------------------------------------------\n",
        "controllerForGenes_Fuzzy_GA = controllerUsingGenes_FLC(iter(fitnessFunctionDescription['path']))\n",
        "chromosome_Fuzzy_GA = Best_Chromosome\n",
        "results_Fuzzy_GA = controllerForGenes_Fuzzy_GA(chromosome_Fuzzy_GA)\n",
        "#------- get results to plot ---------------------------------------------------\n",
        "# data for Fuzzy_GA control\n",
        "velocity_Fuzzy_GA = results_Fuzzy_GA[0]\n",
        "omega_Fuzzy_GA = results_Fuzzy_GA[1]\n",
        "time_Fuzzy_GA = results_Fuzzy_GA[2]\n",
        "x_Fuzzy_GA = results_Fuzzy_GA[3]\n",
        "y_Fuzzy_GA = results_Fuzzy_GA[4]\n",
        "s_Fuzzy_GA = results_Fuzzy_GA[5]\n",
        "E_Fuzzy_GA = results_Fuzzy_GA[6]\n",
        "print('E_Fuzzy_GA =',E_Fuzzy_GA[-1])\n",
        "print('s_Fuzzy_GA =',s_Fuzzy_GA[-1])"
      ],
      "execution_count": null,
      "outputs": []
    },
    {
      "cell_type": "markdown",
      "metadata": {
        "id": "ofkbY7NuqZY0"
      },
      "source": [
        "#### RM"
      ]
    },
    {
      "cell_type": "code",
      "metadata": {
        "id": "Dllvlspwzpg0"
      },
      "source": [
        "\n",
        "def controllerUsingGenes_RM(pathForSimulation):\n",
        "  t0 = 0\n",
        "  t_bound = 100\n",
        "  max_step = 0.05\n",
        "  state0 = None\n",
        "  if robot == robotWithDynamic:\n",
        "    state0 = np.array([robotState0['x'], robotState0['y'], robotState0['theta'], 0, 0, 0, 0, 0, 0, 0]) # x0=0, y0=0, theta\n",
        "  else:\n",
        "    state0 = np.array([robotState0['x'], robotState0['y'], robotState0['theta'], 0, 0, 0]) # x0=0, y0=0,theta\n",
        "\n",
        "  solverfunc = simpleCompute(\n",
        "      compute, state0 = state0, \n",
        "      t0 = t0, t_bound = t_bound, max_step = max_step) \n",
        "  #--------------------for Robins Mathew-------------------------------------------------  \n",
        "  def controllerForGenes_RM(chromosome_RM):\n",
        "    def transformGeneIntoControllerParams(chromosome_RM):    \n",
        "      controllerParams_RM = {'chromosomeRM':chromosome_RM, 'omega_ri':fitnessFunctionDescription['controllerParams']['omega_ri'],\n",
        "                                'vri':fitnessFunctionDescription['controllerParams']['vri'], \n",
        "                                'lowVelocityLimit':fitnessFunctionDescription['controllerParams']['lowVelocityLimit'], \n",
        "                                'highVelocityLimit':fitnessFunctionDescription['controllerParams']['highVelocityLimit'],\n",
        "                                'lowOmegaLimit':fitnessFunctionDescription['controllerParams']['lowOmegaLimit'],\n",
        "                                'highOmegaLimit':fitnessFunctionDescription['controllerParams']['highOmegaLimit']}     \n",
        "      return controllerParams_RM\n",
        "\n",
        "    createController_RM = createController_By_RobinsMathew\n",
        "\n",
        "    def createRobot_RM():\n",
        "      controllerParams_RM = transformGeneIntoControllerParams(chromosome_RM)\n",
        "      robot = robotModelCreator(createController_RM, pathForSimulation, **controllerParams_RM)      \n",
        "      return robot\n",
        "\n",
        "    def runSimulation(robot):\n",
        "      robotStates = solverfunc(robot)\n",
        "      velocitys = []\n",
        "      omegas = []\n",
        "      timeStep = []\n",
        "      x_axis = []\n",
        "      y_axis = []\n",
        "      s = []\n",
        "      E = []\n",
        "      for currentState in robotStates: # readout all states from current moving robot\n",
        "        velocity = currentState['dy'][3]\n",
        "        velocitys.append(velocity)\n",
        "        omega = currentState['dy'][4]\n",
        "        omegas.append(omega)\n",
        "        time = currentState['time']\n",
        "        timeStep.append(time)\n",
        "        x = currentState['y'][0]\n",
        "        x_axis.append(x)\n",
        "        y = currentState['y'][1]\n",
        "        y_axis.append(y)\n",
        "        s_step = currentState['y'][3]\n",
        "        s.append(s_step)\n",
        "        E_step = currentState['TotalEnergy']       \n",
        "        E.append(E_step)\n",
        "      return velocitys, omegas, timeStep, x_axis, y_axis, s, E\n",
        "\n",
        "    robot = createRobot_RM()\n",
        "    velocitys, omegas, timeStep, x_axis, y_axis, s, E = runSimulation(robot)\n",
        "\n",
        "    return velocitys, omegas, timeStep, x_axis, y_axis, s, E\n",
        "  return controllerForGenes_RM\n",
        "#-------call function to get result---------------------------------------------\n",
        "controllerForGenes_Mathew = controllerUsingGenes_RM(iter(fitnessFunctionDescription['path']))\n",
        "chromosome_Mathew = [1.5, 6.5]\n",
        "results_Mathew = controllerForGenes_Mathew(chromosome_Mathew)\n",
        "#------- get results to plot ---------------------------------------------------\n",
        "# data for RobinsMathew control\n",
        "velocity_Mathew = results_Mathew[0]\n",
        "omega_Mathew = results_Mathew[1]\n",
        "time_Mathew = results_Mathew[2]\n",
        "x_Mathew = results_Mathew[3]\n",
        "y_Mathew = results_Mathew[4]\n",
        "s_Mathew = results_Mathew[5]\n",
        "E_Mathew = results_Mathew[6]\n",
        "\n",
        "print('E_Mathew =', E_Mathew[-1])\n",
        "print('travel distance Mathew = ',s_Mathew[-1])\n"
      ],
      "execution_count": null,
      "outputs": []
    },
    {
      "cell_type": "markdown",
      "metadata": {
        "id": "9l2oLee2qd-Y"
      },
      "source": [
        "#### Cir"
      ]
    },
    {
      "cell_type": "code",
      "metadata": {
        "id": "Zzwunx0ZBb6Z"
      },
      "source": [
        "\n",
        "def controllerUsingGenes_Cir(pathForSimulation):\n",
        "  t0 = 0\n",
        "  t_bound = 100\n",
        "  max_step = 0.05\n",
        "  state0 = None\n",
        "  if robot == robotWithDynamic:\n",
        "    state0 = np.array([robotState0['x'], robotState0['y'], robotState0['theta'], 0, 0, 0, 0, 0, 0, 0]) # x0=0, y0=0, theta\n",
        "  else:\n",
        "    state0 = np.array([robotState0['x'], robotState0['y'], robotState0['theta'], 0, 0, 0]) # x0=0, y0=0,theta\n",
        "\n",
        "  solverfunc = simpleCompute(\n",
        "      compute, state0 = state0, \n",
        "      t0 = t0, t_bound = t_bound, max_step = max_step) \n",
        "  \n",
        "  #--------------------for Circle based controller-------------------------------------------------  \n",
        "  def controllerForGenes_Cir(chromosome_Cir):\n",
        "    def transformGeneIntoControllerParams(chromosome_Cir):    \n",
        "      controllerParams_Cir = {'ChromosomeCir':chromosome_Cir, 'omega_ri':fitnessFunctionDescription['controllerParams']['omega_ri'],\n",
        "                                'vri':fitnessFunctionDescription['controllerParams']['vri'], \n",
        "                                'lowVelocityLimit':fitnessFunctionDescription['controllerParams']['lowVelocityLimit'], \n",
        "                                'highVelocityLimit':fitnessFunctionDescription['controllerParams']['highVelocityLimit'],\n",
        "                                'lowOmegaLimit':fitnessFunctionDescription['controllerParams']['lowOmegaLimit'],\n",
        "                                'highOmegaLimit':fitnessFunctionDescription['controllerParams']['highOmegaLimit']}     \n",
        "      return controllerParams_Cir\n",
        "\n",
        "    createController_Cir = createCircleControllerWithGain\n",
        "\n",
        "    def createRobot_Cir():\n",
        "      controllerParams_Cir = transformGeneIntoControllerParams(chromosome_Cir)\n",
        "      robot = robotModelCreator(createController_Cir, pathForSimulation, **controllerParams_Cir)      \n",
        "      return robot\n",
        "    def runSimulation(robot):\n",
        "      robotStates = solverfunc(robot)\n",
        "      velocitys = []\n",
        "      omegas = []\n",
        "      timeStep = []\n",
        "      x_axis = []\n",
        "      y_axis = []\n",
        "      s = []\n",
        "      E = []\n",
        "      for currentState in robotStates: # readout all states from current moving robot\n",
        "        velocity = currentState['dy'][3]\n",
        "        velocitys.append(velocity)\n",
        "        omega = currentState['dy'][4]\n",
        "        omegas.append(omega)\n",
        "        time = currentState['time']\n",
        "        timeStep.append(time)\n",
        "        x = currentState['y'][0]\n",
        "        x_axis.append(x)\n",
        "        y = currentState['y'][1]\n",
        "        y_axis.append(y)\n",
        "        s_step = currentState['y'][3]\n",
        "        s.append(s_step)\n",
        "        E_step = currentState['TotalEnergy']       \n",
        "        E.append(E_step)\n",
        "      return velocitys, omegas, timeStep, x_axis, y_axis, s, E\n",
        "    robot = createRobot_Cir()\n",
        "    velocitys, omegas, timeStep, x_axis, y_axis, s, E = runSimulation(robot)\n",
        "    return velocitys, omegas, timeStep, x_axis, y_axis, s, E\n",
        "  return controllerForGenes_Cir\n",
        "\n",
        "#-------call function to get result---------------------------------------------\n",
        "controllerForGenes_Cir = controllerUsingGenes_Cir(iter(fitnessFunctionDescription['path']))\n",
        "chromosome_Cir = [4, 0]\n",
        "results_Cir = controllerForGenes_Cir(chromosome_Cir)\n",
        "#------- get results to plot ---------------------------------------------------\n",
        "# data for RobinsMathew control\n",
        "velocity_Cir = results_Cir[0]\n",
        "omega_Cir = results_Cir[1]\n",
        "time_Cir = results_Cir[2]\n",
        "x_Cir = results_Cir[3]\n",
        "y_Cir = results_Cir[4]\n",
        "s_Cir = results_Cir[5]\n",
        "E_Cir = results_Cir[6]\n",
        "\n",
        "print('E_Cir =', E_Cir[-1])\n",
        "print('travel distance Cir = ',s_Cir[-1])\n"
      ],
      "execution_count": null,
      "outputs": []
    },
    {
      "cell_type": "code",
      "metadata": {
        "id": "Kkwcd7i_0G5l"
      },
      "source": [
        "# data for path\n",
        "pathx = []\n",
        "pathy = []\n",
        "for x, y, orientation in fitnessFunctionDescription['path']:\n",
        "  pathx.append(x)\n",
        "  pathy.append(y)"
      ],
      "execution_count": null,
      "outputs": []
    },
    {
      "cell_type": "markdown",
      "metadata": {
        "id": "UfsmKhnlQ_Oh"
      },
      "source": [
        "### Ploting all results"
      ]
    },
    {
      "cell_type": "code",
      "metadata": {
        "id": "_b8gqV660RPV"
      },
      "source": [
        "plt.rcParams[\"figure.figsize\"] = (20, 20)\n",
        "plt.rcParams[\"font.size\"] = \"14\"\n",
        "\n",
        "#--plot the path--------------------------------------------------------------\n",
        "plt.subplot(3,2,1)\n",
        "plt.grid(which = 'both') \n",
        "p = plt.axis('equal')\n",
        "plt.plot(pathx, pathy, 'b-', label = 'Planned path', lw = 1)\n",
        "plt.plot(x_Cir, y_Cir, 'k-.', label = 'Circle controller', lw = 1)\n",
        "plt.plot(x_Mathew, y_Mathew, 'g--', label = 'Mathew controller', lw = 1)\n",
        "plt.plot(x_Fuzzy, y_Fuzzy, 'r-', label = 'Fuzzy controller', lw = 1)\n",
        "plt.plot(x_Fuzzy_GA, y_Fuzzy_GA, 'g-', label = 'GA_FLC controller', lw = 1)\n",
        "plt.legend(loc = 'best')\n",
        "plt.xlabel('$x[m]$')\n",
        "plt.ylabel('$y[m]$')\n",
        "\n",
        "def plotVal(n, t1, t2, t3, t4, val1, val2, val3, val4, lable):\n",
        "  plt.subplot(3,2,n)\n",
        "  plt.grid(which = 'both') \n",
        "  plt.plot(t1, val1, 'r-', label = 'Fuzzy controller', lw = 1)\n",
        "  plt.plot(t2, val2, 'g-', label = 'GA_FLC controller', lw = 1)\n",
        "  plt.plot(t3, val3, 'k-.', label = 'Circle controller', lw = 1)\n",
        "  plt.plot(t4, val4, 'g--', label = 'Mathew controller', lw = 1)\n",
        "  plt.legend(loc = 'best')\n",
        "  plt.xlabel('$Time[s]$')\n",
        "  plt.ylabel(lable)\n",
        "  return\n",
        "\n",
        "#--plot the travel distance----------------------------------------------------\n",
        "plotVal(2,time_Fuzzy,time_Fuzzy_GA,time_Cir,time_Mathew,s_Fuzzy,s_Fuzzy_GA,s_Cir,s_Mathew,'$s[m]$')\n",
        "\n",
        "#---plot the velocity----------------------------------------------------------\n",
        "plotVal(3,time_Fuzzy,time_Fuzzy_GA,time_Cir,time_Mathew,velocity_Fuzzy,velocity_Fuzzy_GA,velocity_Cir,velocity_Mathew,'$Velocity[ms^{-1}]$')\n",
        "\n",
        "#--plot the omega-------------------------------------------------------------\n",
        "plotVal(4,time_Fuzzy,time_Fuzzy_GA,time_Cir,time_Mathew,omega_Fuzzy,omega_Fuzzy_GA,omega_Cir,omega_Mathew,'$Omega[rads^{-1}]$')\n",
        "\n",
        "#--plot the total energy consumption------------------------------------------\n",
        "plotVal(5,time_Fuzzy,time_Fuzzy_GA,time_Cir,time_Mathew,E_Fuzzy,E_Fuzzy_GA,E_Cir,E_Mathew,'$E[J]$')"
      ],
      "execution_count": null,
      "outputs": []
    },
    {
      "cell_type": "markdown",
      "metadata": {
        "id": "Uz5g63x1RCLV"
      },
      "source": [
        "### Ploting all membership functions\n",
        "\n",
        "---\n",
        "\n"
      ]
    },
    {
      "cell_type": "code",
      "metadata": {
        "id": "KjOYr6sFw5cU"
      },
      "source": [
        "Chromosome = Best_Chromosome\n",
        "omega = np.array(fitnessFunctionDescription['fuzzyDescription']['outputs']['omegaR']['S'])\n",
        "distance = np.array(fitnessFunctionDescription['fuzzyDescription']['inputs']['distance']['S'])\n",
        "angle = np.array(fitnessFunctionDescription['fuzzyDescription']['inputs']['angle']['S'])\n",
        "\n",
        "# Membership functions for inputs\n",
        "# Before tuning\n",
        "VC = fuzz.trimf(distance, [0,0,0.5])\n",
        "C = fuzz.trimf(distance, [0,0.5,1])\n",
        "M = fuzz.trimf(distance, [0.5,1,1.5])\n",
        "F = fuzz.trimf(distance, [1,1.5,2])\n",
        "VF = fuzz.trimf(distance, [1.5,2,2])\n",
        "\n",
        "BN = fuzz.trimf(angle, [-3.14,-3.14,-1.57])\n",
        "N = fuzz.trimf(angle, [-3.14,-1.57,0])\n",
        "Z = fuzz.trimf(angle, [-1.57,0,1.57])\n",
        "P = fuzz.trimf(angle, [0,1.57,3.14])\n",
        "BP = fuzz.trimf(angle, [1.57,3.14,3.14])\n",
        "# After tuning\n",
        "VC1 = fuzz.trimf(distance, [0, 0, Chromosome[0]])\n",
        "C1 = fuzz.trimf(distance, [Chromosome[2]-Chromosome[1], Chromosome[2], Chromosome[2]+Chromosome[3]])\n",
        "M1 = fuzz.trimf(distance, [Chromosome[5]-Chromosome[4], Chromosome[5], Chromosome[5]+Chromosome[6]])\n",
        "F1 = fuzz.trimf(distance, [Chromosome[8]-Chromosome[7],Chromosome[8], Chromosome[8]+Chromosome[9]])\n",
        "VF1 = fuzz.trimf(distance, [2-Chromosome[10], 2, 2])\n",
        "\n",
        "BN1 = fuzz.trimf(angle, [-3.14, -3.14, -3.14+Chromosome[11]])\n",
        "N1 = fuzz.trimf(angle, [Chromosome[13]-Chromosome[12], Chromosome[13], Chromosome[13]+Chromosome[14]])\n",
        "Z1 = fuzz.trimf(angle, [Chromosome[16]-Chromosome[15], Chromosome[16], Chromosome[16]+Chromosome[17]])\n",
        "P1 = fuzz.trimf(angle, [Chromosome[19]-Chromosome[18], Chromosome[19], Chromosome[19]+Chromosome[20]])\n",
        "BP1 = fuzz.trimf(angle, [3.14-Chromosome[21], 3.14, 3.14])\n",
        "\n",
        "# Membership functions for outputs\n",
        "# Before tuning\n",
        "VS_R = fuzz.trimf(omega, [0, 0, 7.5])\n",
        "S_R = fuzz.trimf(omega, [0, 7.5, 15])\n",
        "MB_R = fuzz.trimf(omega, [7.5, 15, 22.5])\n",
        "B_R = fuzz.trimf(omega, [15, 22.5, 30])\n",
        "VB_R = fuzz.trimf(omega, [22.5, 30, 30])\n",
        "\n",
        "# After tuning\n",
        "VS_R1 = fuzz.trimf(omega, [0, 0, Chromosome[22]])\n",
        "S_R1 = fuzz.trimf(omega, [Chromosome[24]-Chromosome[23], Chromosome[24], Chromosome[24]+Chromosome[25]])\n",
        "MB_R1 = fuzz.trimf(omega, [Chromosome[27]-Chromosome[26], Chromosome[27], Chromosome[27]+Chromosome[28]])\n",
        "B_R1 = fuzz.trimf(omega, [Chromosome[30]-Chromosome[29], Chromosome[30], Chromosome[30]+Chromosome[31]])\n",
        "VB_R1 = fuzz.trimf(omega, [30-Chromosome[32], 30, 30])\n",
        "\n",
        "VS_L = fuzz.trimf(omega, [0, 0, Chromosome[33]])\n",
        "S_L = fuzz.trimf(omega, [Chromosome[35]-Chromosome[34], Chromosome[35], Chromosome[35]+Chromosome[36]])\n",
        "MB_L = fuzz.trimf(omega, [Chromosome[38]-Chromosome[37], Chromosome[38], Chromosome[38]+Chromosome[39]])\n",
        "B_L = fuzz.trimf(omega, [Chromosome[41]-Chromosome[40], Chromosome[41], Chromosome[41]+Chromosome[42]])\n",
        "VB_L = fuzz.trimf(omega, [30-Chromosome[43], 30, 30])\n",
        "\n",
        "#--------------Plot----------------------------------------\n",
        "plt.rcParams[\"figure.figsize\"] = (30, 20)\n",
        "plt.rcParams[\"font.size\"] = \"14\"\n",
        "\n",
        "def plotMember(range, val, lab,i,title):\n",
        "  plt.subplot(4,2,i)\n",
        "  plt.tight_layout() \n",
        "  plt.plot(range, val[0], 'b', linewidth=2.5, label=lab[0])\n",
        "  plt.plot(range, val[1], 'g', linewidth=2.5, label=lab[1])\n",
        "  plt.plot(range, val[2], 'r', linewidth=2.5, label=lab[2])\n",
        "  plt.plot(range, val[3], 'y', linewidth=2.5, label=lab[3])\n",
        "  plt.plot(range, val[4], 'c', linewidth=2.5, label=lab[4])\n",
        "  plt.title(title[0])\n",
        "  plt.ylabel('Membership')\n",
        "  plt.xlabel(title[1])\n",
        "  plt.legend(loc = 'best')\n",
        "  return\n",
        "\n",
        "#----Input_1: Distance member ship before tuning------------\n",
        "val = [VC,C,M,F,VF]\n",
        "lab = ['Very close', 'Close', 'Medium', 'Far', 'Very far']\n",
        "title = ['Input_1: Distance membership before tuning', '$Distance[m]$']\n",
        "plotMember(distance, val, lab,1,title)\n",
        "\n",
        "#----Input_1: Distance member ship after tuning------------\n",
        "val = [VC1,C1,M1,F1,VF1]\n",
        "lab = ['Very close', 'Close', 'Medium', 'Far', 'Very far']\n",
        "title = ['Input_1: Distance membership after tuning', '$Distance[m]$']\n",
        "plotMember(distance, val, lab, 2, title)\n",
        "\n",
        "#----Input_2: Angle member ship before tuning------------\n",
        "val = [BN,N,Z,P,BP]\n",
        "lab = ['Big negative', 'Negative', 'Zero', 'Positive', 'Big positive']\n",
        "title = ['Input_2: Angle membership before tuning', '$Angle[rad]$']\n",
        "plotMember(angle, val, lab, 3, title)\n",
        "\n",
        "#----Input_2: Angle member ship after tuning------------\n",
        "val = [BN1,N1,Z1,P1,BP1]\n",
        "lab = ['Big negative', 'Negative', 'Zero', 'Positive', 'Big positive']\n",
        "title = ['Input_2: Angle membership after tuning', '$Angle[rad]$']\n",
        "plotMember(angle, val, lab, 4, title)\n",
        "\n",
        "#----output_1:  Omega_R member ship before tuning------------\n",
        "val = [VS_R, S_R, MB_R, B_R, VB_R]\n",
        "lab = ['Very small', 'Small', 'Medium', 'Big', 'Very big']\n",
        "title = ['Output_1: Omega_R membership before tuning', '$OmegaR[rads^{-1}]$']\n",
        "plotMember(omega, val, lab, 5, title)\n",
        "\n",
        "#----output_1:  Omega_R member ship after tuning------------\n",
        "val = [VS_R1, S_R1, MB_R1, B_R1, VB_R1]\n",
        "lab = ['Very small', 'Small', 'Medium', 'Big', 'Very big']\n",
        "title = ['Output_1: Omega_R membership after tuning', '$OmegaR[rads^{-1}]$']\n",
        "plotMember(omega, val, lab, 6, title)\n",
        "\n",
        "#----output_2:  Omega_L member ship before tuning------------\n",
        "val = [VS_R, S_R, MB_R, B_R, VB_R]\n",
        "lab = ['Very small', 'Small', 'Medium', 'Big', 'Very big']\n",
        "title = ['Output_2: Omega_L membership before tuning', '$OmegaL[rads^{-1}]$']\n",
        "plotMember(omega, val, lab, 7, title)\n",
        "\n",
        "#----output_2:  Omega_L member ship after tuning------------\n",
        "val = [VS_L, S_L, MB_L, B_L, VB_L]\n",
        "lab = ['Very small', 'Small', 'Medium', 'Big', 'Very big']\n",
        "title = ['Output_2: Omega_L membership after tuning', '$OmegaL[rads^{-1}]$']\n",
        "plotMember(omega, val, lab, 8, title)\n"
      ],
      "execution_count": null,
      "outputs": []
    },
    {
      "cell_type": "code",
      "metadata": {
        "id": "8qxIvD3xKGAj"
      },
      "source": [
        "\n",
        "plt.rcParams[\"figure.figsize\"] = (15, 10)\n",
        "plt.rcParams[\"font.size\"] = \"14\"\n",
        "\n",
        "ret = [np.min(e.pop.get(\"F\")) for e in res.history]\n",
        "\n",
        "plt.plot(np.arange(len(ret)), ret)\n",
        "plt.title(\"Convergence\")\n",
        "plt.xlabel(\"Generation\")\n",
        "plt.ylabel(\"Optimal value\")\n",
        "plt.legend()\n",
        "plt.show()\n"
      ],
      "execution_count": null,
      "outputs": []
    }
  ]
}