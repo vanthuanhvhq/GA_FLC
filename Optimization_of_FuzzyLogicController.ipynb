{
  "nbformat": 4,
  "nbformat_minor": 0,
  "metadata": {
    "colab": {
      "name": "Optimization_of_FuzzyLogicController.ipynb",
      "provenance": [],
      "collapsed_sections": [],
      "toc_visible": true,
      "include_colab_link": true
    },
    "kernelspec": {
      "display_name": "Python 3",
      "language": "python",
      "name": "python3"
    },
    "language_info": {
      "codemirror_mode": {
        "name": "ipython",
        "version": 3
      },
      "file_extension": ".py",
      "mimetype": "text/x-python",
      "name": "python",
      "nbconvert_exporter": "python",
      "pygments_lexer": "ipython3",
      "version": "3.8.6"
    },
    "toc-autonumbering": true
  },
  "cells": [
    {
      "cell_type": "markdown",
      "metadata": {
        "id": "view-in-github",
        "colab_type": "text"
      },
      "source": [
        "<a href=\"https://colab.research.google.com/github/vanthuanhvhq/GA_FLC/blob/main/Optimization_of_FuzzyLogicController.ipynb\" target=\"_parent\"><img src=\"https://colab.research.google.com/assets/colab-badge.svg\" alt=\"Open In Colab\"/></a>"
      ]
    },
    {
      "cell_type": "markdown",
      "metadata": {
        "id": "uvJRbyp9Pypn"
      },
      "source": [
        "# Optimization of Fuzzy Logic Controller Used for a Differential Drive Wheeled Mobile Robot"
      ]
    },
    {
      "cell_type": "code",
      "metadata": {
        "id": "apCUNZ3qA7_x"
      },
      "source": [
        "_runDemos = True # this is queried in this document later multiple times"
      ],
      "execution_count": 1,
      "outputs": []
    },
    {
      "cell_type": "markdown",
      "metadata": {
        "id": "98kHeWojVeXU"
      },
      "source": [
        "## Cluster Query"
      ]
    },
    {
      "cell_type": "markdown",
      "metadata": {
        "id": "xNNfnobNWKVH"
      },
      "source": [
        "This task could use for its solution a computer cluster. As it is optional, use it only when you are running it. In this case you must set the option ```useCluster``` to ```True``` and set proper value in ```url``` variable."
      ]
    },
    {
      "cell_type": "code",
      "metadata": {
        "id": "PuzSUxD3VlbQ"
      },
      "source": [
        "useCluster = False\n",
        "url = 'http://192.168.1.100:4000/api/evaluator/FFFF'\n",
        "\n",
        "if useCluster:\n",
        "    url = input('Enter full / https include / cluster URL: \\t')"
      ],
      "execution_count": 2,
      "outputs": []
    },
    {
      "cell_type": "markdown",
      "metadata": {
        "id": "CBlMoP8hydXy"
      },
      "source": [
        "You must replace our url address 'https://ourserver/api/evaluator/FFFF' (which was unable to run) with your one when usinf the Cluster"
      ]
    },
    {
      "cell_type": "code",
      "metadata": {
        "colab": {
          "base_uri": "https://localhost:8080/"
        },
        "id": "mASMUWRdPdPe",
        "outputId": "4b85a4e8-8c6f-485b-9017-5b91404b52ce"
      },
      "source": [
        "!pip install scikit-fuzzy #Installing the scikit-fuzzy library used for fuzzy logic in Python"
      ],
      "execution_count": 3,
      "outputs": [
        {
          "output_type": "stream",
          "text": [
            "Collecting scikit-fuzzy\n",
            "\u001b[?25l  Downloading https://files.pythonhosted.org/packages/6c/f0/5eb5dbe0fd8dfe7d4651a8f4e591a196623a22b9e5339101e559695b4f6c/scikit-fuzzy-0.4.2.tar.gz (993kB)\n",
            "\r\u001b[K     |▎                               | 10kB 18.9MB/s eta 0:00:01\r\u001b[K     |▋                               | 20kB 22.5MB/s eta 0:00:01\r\u001b[K     |█                               | 30kB 27.5MB/s eta 0:00:01\r\u001b[K     |█▎                              | 40kB 21.7MB/s eta 0:00:01\r\u001b[K     |█▋                              | 51kB 17.1MB/s eta 0:00:01\r\u001b[K     |██                              | 61kB 19.2MB/s eta 0:00:01\r\u001b[K     |██▎                             | 71kB 12.6MB/s eta 0:00:01\r\u001b[K     |██▋                             | 81kB 13.3MB/s eta 0:00:01\r\u001b[K     |███                             | 92kB 13.6MB/s eta 0:00:01\r\u001b[K     |███▎                            | 102kB 12.7MB/s eta 0:00:01\r\u001b[K     |███▋                            | 112kB 12.7MB/s eta 0:00:01\r\u001b[K     |████                            | 122kB 12.7MB/s eta 0:00:01\r\u001b[K     |████▎                           | 133kB 12.7MB/s eta 0:00:01\r\u001b[K     |████▋                           | 143kB 12.7MB/s eta 0:00:01\r\u001b[K     |█████                           | 153kB 12.7MB/s eta 0:00:01\r\u001b[K     |█████▎                          | 163kB 12.7MB/s eta 0:00:01\r\u001b[K     |█████▋                          | 174kB 12.7MB/s eta 0:00:01\r\u001b[K     |██████                          | 184kB 12.7MB/s eta 0:00:01\r\u001b[K     |██████▎                         | 194kB 12.7MB/s eta 0:00:01\r\u001b[K     |██████▋                         | 204kB 12.7MB/s eta 0:00:01\r\u001b[K     |███████                         | 215kB 12.7MB/s eta 0:00:01\r\u001b[K     |███████▎                        | 225kB 12.7MB/s eta 0:00:01\r\u001b[K     |███████▋                        | 235kB 12.7MB/s eta 0:00:01\r\u001b[K     |████████                        | 245kB 12.7MB/s eta 0:00:01\r\u001b[K     |████████▎                       | 256kB 12.7MB/s eta 0:00:01\r\u001b[K     |████████▋                       | 266kB 12.7MB/s eta 0:00:01\r\u001b[K     |█████████                       | 276kB 12.7MB/s eta 0:00:01\r\u001b[K     |█████████▎                      | 286kB 12.7MB/s eta 0:00:01\r\u001b[K     |█████████▋                      | 296kB 12.7MB/s eta 0:00:01\r\u001b[K     |██████████                      | 307kB 12.7MB/s eta 0:00:01\r\u001b[K     |██████████▏                     | 317kB 12.7MB/s eta 0:00:01\r\u001b[K     |██████████▌                     | 327kB 12.7MB/s eta 0:00:01\r\u001b[K     |██████████▉                     | 337kB 12.7MB/s eta 0:00:01\r\u001b[K     |███████████▏                    | 348kB 12.7MB/s eta 0:00:01\r\u001b[K     |███████████▌                    | 358kB 12.7MB/s eta 0:00:01\r\u001b[K     |███████████▉                    | 368kB 12.7MB/s eta 0:00:01\r\u001b[K     |████████████▏                   | 378kB 12.7MB/s eta 0:00:01\r\u001b[K     |████████████▌                   | 389kB 12.7MB/s eta 0:00:01\r\u001b[K     |████████████▉                   | 399kB 12.7MB/s eta 0:00:01\r\u001b[K     |█████████████▏                  | 409kB 12.7MB/s eta 0:00:01\r\u001b[K     |█████████████▌                  | 419kB 12.7MB/s eta 0:00:01\r\u001b[K     |█████████████▉                  | 430kB 12.7MB/s eta 0:00:01\r\u001b[K     |██████████████▏                 | 440kB 12.7MB/s eta 0:00:01\r\u001b[K     |██████████████▌                 | 450kB 12.7MB/s eta 0:00:01\r\u001b[K     |██████████████▉                 | 460kB 12.7MB/s eta 0:00:01\r\u001b[K     |███████████████▏                | 471kB 12.7MB/s eta 0:00:01\r\u001b[K     |███████████████▌                | 481kB 12.7MB/s eta 0:00:01\r\u001b[K     |███████████████▉                | 491kB 12.7MB/s eta 0:00:01\r\u001b[K     |████████████████▏               | 501kB 12.7MB/s eta 0:00:01\r\u001b[K     |████████████████▌               | 512kB 12.7MB/s eta 0:00:01\r\u001b[K     |████████████████▉               | 522kB 12.7MB/s eta 0:00:01\r\u001b[K     |█████████████████▏              | 532kB 12.7MB/s eta 0:00:01\r\u001b[K     |█████████████████▌              | 542kB 12.7MB/s eta 0:00:01\r\u001b[K     |█████████████████▉              | 552kB 12.7MB/s eta 0:00:01\r\u001b[K     |██████████████████▏             | 563kB 12.7MB/s eta 0:00:01\r\u001b[K     |██████████████████▌             | 573kB 12.7MB/s eta 0:00:01\r\u001b[K     |██████████████████▉             | 583kB 12.7MB/s eta 0:00:01\r\u001b[K     |███████████████████▏            | 593kB 12.7MB/s eta 0:00:01\r\u001b[K     |███████████████████▌            | 604kB 12.7MB/s eta 0:00:01\r\u001b[K     |███████████████████▉            | 614kB 12.7MB/s eta 0:00:01\r\u001b[K     |████████████████████            | 624kB 12.7MB/s eta 0:00:01\r\u001b[K     |████████████████████▍           | 634kB 12.7MB/s eta 0:00:01\r\u001b[K     |████████████████████▊           | 645kB 12.7MB/s eta 0:00:01\r\u001b[K     |█████████████████████           | 655kB 12.7MB/s eta 0:00:01\r\u001b[K     |█████████████████████▍          | 665kB 12.7MB/s eta 0:00:01\r\u001b[K     |█████████████████████▊          | 675kB 12.7MB/s eta 0:00:01\r\u001b[K     |██████████████████████          | 686kB 12.7MB/s eta 0:00:01\r\u001b[K     |██████████████████████▍         | 696kB 12.7MB/s eta 0:00:01\r\u001b[K     |██████████████████████▊         | 706kB 12.7MB/s eta 0:00:01\r\u001b[K     |███████████████████████         | 716kB 12.7MB/s eta 0:00:01\r\u001b[K     |███████████████████████▍        | 727kB 12.7MB/s eta 0:00:01\r\u001b[K     |███████████████████████▊        | 737kB 12.7MB/s eta 0:00:01\r\u001b[K     |████████████████████████        | 747kB 12.7MB/s eta 0:00:01\r\u001b[K     |████████████████████████▍       | 757kB 12.7MB/s eta 0:00:01\r\u001b[K     |████████████████████████▊       | 768kB 12.7MB/s eta 0:00:01\r\u001b[K     |█████████████████████████       | 778kB 12.7MB/s eta 0:00:01\r\u001b[K     |█████████████████████████▍      | 788kB 12.7MB/s eta 0:00:01\r\u001b[K     |█████████████████████████▊      | 798kB 12.7MB/s eta 0:00:01\r\u001b[K     |██████████████████████████      | 808kB 12.7MB/s eta 0:00:01\r\u001b[K     |██████████████████████████▍     | 819kB 12.7MB/s eta 0:00:01\r\u001b[K     |██████████████████████████▊     | 829kB 12.7MB/s eta 0:00:01\r\u001b[K     |███████████████████████████     | 839kB 12.7MB/s eta 0:00:01\r\u001b[K     |███████████████████████████▍    | 849kB 12.7MB/s eta 0:00:01\r\u001b[K     |███████████████████████████▊    | 860kB 12.7MB/s eta 0:00:01\r\u001b[K     |████████████████████████████    | 870kB 12.7MB/s eta 0:00:01\r\u001b[K     |████████████████████████████▍   | 880kB 12.7MB/s eta 0:00:01\r\u001b[K     |████████████████████████████▊   | 890kB 12.7MB/s eta 0:00:01\r\u001b[K     |█████████████████████████████   | 901kB 12.7MB/s eta 0:00:01\r\u001b[K     |█████████████████████████████▍  | 911kB 12.7MB/s eta 0:00:01\r\u001b[K     |█████████████████████████████▊  | 921kB 12.7MB/s eta 0:00:01\r\u001b[K     |██████████████████████████████  | 931kB 12.7MB/s eta 0:00:01\r\u001b[K     |██████████████████████████████▎ | 942kB 12.7MB/s eta 0:00:01\r\u001b[K     |██████████████████████████████▋ | 952kB 12.7MB/s eta 0:00:01\r\u001b[K     |███████████████████████████████ | 962kB 12.7MB/s eta 0:00:01\r\u001b[K     |███████████████████████████████▎| 972kB 12.7MB/s eta 0:00:01\r\u001b[K     |███████████████████████████████▋| 983kB 12.7MB/s eta 0:00:01\r\u001b[K     |████████████████████████████████| 993kB 12.7MB/s eta 0:00:01\r\u001b[K     |████████████████████████████████| 1.0MB 12.7MB/s \n",
            "\u001b[?25hRequirement already satisfied: numpy>=1.6.0 in /usr/local/lib/python3.6/dist-packages (from scikit-fuzzy) (1.19.5)\n",
            "Requirement already satisfied: scipy>=0.9.0 in /usr/local/lib/python3.6/dist-packages (from scikit-fuzzy) (1.4.1)\n",
            "Requirement already satisfied: networkx>=1.9.0 in /usr/local/lib/python3.6/dist-packages (from scikit-fuzzy) (2.5)\n",
            "Requirement already satisfied: decorator>=4.3.0 in /usr/local/lib/python3.6/dist-packages (from networkx>=1.9.0->scikit-fuzzy) (4.4.2)\n",
            "Building wheels for collected packages: scikit-fuzzy\n",
            "  Building wheel for scikit-fuzzy (setup.py) ... \u001b[?25l\u001b[?25hdone\n",
            "  Created wheel for scikit-fuzzy: filename=scikit_fuzzy-0.4.2-cp36-none-any.whl size=894070 sha256=c50c02c67901db4c55835ef81e3443de17702389a6e6b2babdff1ca15dc44fed\n",
            "  Stored in directory: /root/.cache/pip/wheels/b9/4e/77/da79b16f64ef1738d95486e2731eea09d73e90a72465096600\n",
            "Successfully built scikit-fuzzy\n",
            "Installing collected packages: scikit-fuzzy\n",
            "Successfully installed scikit-fuzzy-0.4.2\n"
          ],
          "name": "stdout"
        }
      ]
    },
    {
      "cell_type": "code",
      "metadata": {
        "id": "pIacmIg4P74F"
      },
      "source": [
        "import numpy as np\n",
        "import math\n",
        "import random\n",
        "from math import *\n",
        "import scipy.integrate as integrate\n",
        "import matplotlib.pyplot as plt\n",
        "import pandas as pd\n",
        "%matplotlib inline\n",
        "import skfuzzy as fuzz"
      ],
      "execution_count": 4,
      "outputs": []
    },
    {
      "cell_type": "markdown",
      "metadata": {
        "id": "JIjdIInIQAom"
      },
      "source": [
        "## Robot parameters"
      ]
    },
    {
      "cell_type": "code",
      "metadata": {
        "id": "_XbYHJqSQC0G"
      },
      "source": [
        "robotState0 = {\n",
        "    'x': 0,\n",
        "    'y': 0,\n",
        "    'theta': -3.14 / 4\n",
        "}\n",
        "\n",
        "robotParams = {\n",
        "    'r': 0.0925,\n",
        "    'b': 0.37,\n",
        "    'm': 9,\n",
        "    'I': 0.16245,\n",
        "}"
      ],
      "execution_count": 5,
      "outputs": []
    },
    {
      "cell_type": "markdown",
      "metadata": {
        "id": "cohw6gngQsed"
      },
      "source": [
        "## Robot models"
      ]
    },
    {
      "cell_type": "markdown",
      "metadata": {
        "id": "2yRYd1GMQfiV"
      },
      "source": [
        "### Kinematic model"
      ]
    },
    {
      "cell_type": "code",
      "metadata": {
        "id": "HBiby1TwQhSW"
      },
      "source": [
        "from math import sin, cos\n",
        "def createRobot(params):\n",
        "    m = params['m']\n",
        "    I = params['I']\n",
        "\n",
        "    def robot(t, currentState, controller):\n",
        "        # ask controller for velocity and omega\n",
        "        velocity, omega = controller(t, currentState)\n",
        "\n",
        "        currentTheta = currentState[2]\n",
        "        cosTheta = cos(currentTheta)\n",
        "        sinTheta = sin(currentTheta)\n",
        "\n",
        "        x_dot = velocity * cosTheta\n",
        "        y_dot = velocity * sinTheta\n",
        "        theta_dot = omega\n",
        "\n",
        "        E = 0.5 * (m * velocity * velocity + I * omega * omega)\n",
        "\n",
        "        return [x_dot, y_dot, theta_dot, velocity, omega, E] # velocity, omega, E are returned for easy evaluation they are not needed for computation\n",
        "    return robot\n",
        "\n",
        "robot = createRobot(robotParams)"
      ],
      "execution_count": 6,
      "outputs": []
    },
    {
      "cell_type": "markdown",
      "metadata": {
        "id": "LcttHseUQnsV"
      },
      "source": [
        "### Dynamic Model"
      ]
    },
    {
      "cell_type": "markdown",
      "metadata": {
        "id": "RTSVOZrXVGur"
      },
      "source": [
        "Dynamic model extends kinematic model with differential equations describing the motors."
      ]
    },
    {
      "cell_type": "code",
      "metadata": {
        "id": "hTApKdxhQxCd"
      },
      "source": [
        "# example of motor parameters,\n",
        "motorParams = {\n",
        "    'J': 0.01,\n",
        "    'B': 0.1,\n",
        "    \n",
        "    'Kt': 0.01,\n",
        "    'Ke': 0.01,\n",
        "    'K': 0.01,\n",
        "    \n",
        "    'Ra': 0.1,\n",
        "    'La': 0.01\n",
        "}\n",
        "\n",
        "#//////////////////////////////////////////////////////////////////////////////\n",
        "def createFilter2ndOrder(b1, b0, a1, a0):\n",
        "    def filter2ndOrder(t, u, currentState):\n",
        "        x0 = currentState[0]\n",
        "        x1 = currentState[1]\n",
        "        dx0 = b0 * u + a0 * x0 + x1\n",
        "        dx1 = b1 * u + a1 * x0\n",
        "        return [dx0, dx1]\n",
        "    return filter2ndOrder\n",
        "\n",
        "def createMotorModel(motorParams=None):\n",
        "    if motorParams is None:\n",
        "        return None\n",
        "    \n",
        "    K = motorParams['K']\n",
        "    J = motorParams['J']\n",
        "    La = motorParams['La']\n",
        "    Ra = motorParams['Ra']\n",
        "    B = motorParams['B']\n",
        "    \n",
        "    b1 = K / (La * J)\n",
        "    b0 = 0\n",
        "    a1 = -(Ra * B + K * K) / (La * J)\n",
        "    a0 = -(Ra * J + La * B) / (La * J)\n",
        "    return createFilter2ndOrder(b1, b0, a1, a0)\n",
        "    \n",
        "\n",
        "def createRobotModelWithDynamic(params, motorModel = None):\n",
        "    \"\"\"\n",
        "    function returns standard ODE model usable in many libraries (scipy)\n",
        "    \"\"\"\n",
        "    # motorAsFilter = createFilter2ndOrder(b1, b0, a1, a0)\n",
        "    m = params['m']\n",
        "    I = params['I']\n",
        "    b = params['b']\n",
        "\n",
        "    motorAsFilter = motorModel\n",
        "    def robotWithDynamic(t, currentState, controller):\n",
        "        # ask controller for velocity and omega\n",
        "        velocity, omega = controller(t, currentState)\n",
        "\n",
        "        delta = omega * b / 2\n",
        "        vL = velocity - delta\n",
        "        vR = velocity + delta\n",
        "        vLState = currentState[6:8]\n",
        "        vRState = currentState[8:10]\n",
        "        vLStateD = motorAsFilter(t, vL, vLState)\n",
        "        vRStateD = motorAsFilter(t, vR, vRState)\n",
        "        vLFiltered = vLState[0]\n",
        "        vRFiltered = vRState[0]\n",
        "\n",
        "        velocity = (vRFiltered + vLFiltered) / 2\n",
        "        delta = (vRFiltered - vLFiltered) / 2\n",
        "        omega = 2 * delta / b\n",
        "\n",
        "        currentTheta = currentState[2]\n",
        "        cosTheta = cos(currentTheta)\n",
        "        sinTheta = sin(currentTheta)\n",
        "\n",
        "        x_dot = velocity * cosTheta\n",
        "        y_dot = velocity * sinTheta\n",
        "        theta_dot = omega\n",
        "\n",
        "        E = 0.5*(m*(velocity)*(velocity) + I*(omega)*(omega))\n",
        "\n",
        "        return [x_dot, y_dot, theta_dot, velocity, omega, E, *vLStateD, *vRStateD] #velocity, omega, E are returned for easy evaluation they are not needed for computation\n",
        "\n",
        "    def robot(t, currentState, controller):\n",
        "        \"\"\"\n",
        "        This closure is result of parent function\n",
        "        \"\"\"\n",
        "        # ask controller for velocity and omega\n",
        "        velocity, omega = controller(t, currentState)\n",
        "\n",
        "        currentTheta = currentState[2]\n",
        "        cosTheta = cos(currentTheta)\n",
        "        sinTheta = sin(currentTheta)\n",
        "\n",
        "        x_dot = velocity * cosTheta\n",
        "        y_dot = velocity * sinTheta\n",
        "        theta_dot = omega\n",
        "\n",
        "        E = 0.5 * (m * velocity * velocity + I * omega * omega)\n",
        "\n",
        "        return [x_dot, y_dot, theta_dot, velocity, omega, E] #velocity, omega, E are returned for easy evaluation they are not needed for computation\n",
        "\n",
        "    if motorModel is None:\n",
        "        return robot\n",
        "    else:\n",
        "        return robotWithDynamic\n",
        "    pass\n",
        "  \n",
        "motorModel = createMotorModel(motorParams)    \n",
        "robotWithDynamic = createRobotModelWithDynamic(robotParams, motorModel)\n",
        "robot = robotWithDynamic # If you delete / comment this line, only the Kinematic model is taken into account."
      ],
      "execution_count": 7,
      "outputs": []
    },
    {
      "cell_type": "markdown",
      "metadata": {
        "id": "qeDuH06YQ72V"
      },
      "source": [
        "## Solver"
      ]
    },
    {
      "cell_type": "code",
      "metadata": {
        "id": "zS1KbpA1Q9Iz"
      },
      "source": [
        "# selectors are defined for extration of data from results computed by ODE solver\n",
        "selectx = lambda item: item['y'][0]       # x position\n",
        "selecty = lambda item: item['y'][1]       # y position\n",
        "selectt = lambda item: item['time']       # time\n",
        "selectv = lambda item: item['dy'][3]      # velocity\n",
        "selectomega = lambda item: item['dy'][2]  # omega = theta_dot\n",
        "selecte = lambda item: item['TotalEnergy']# total energy\n",
        "selects = lambda item: item['y'][3]       # displacement\n",
        "selectors = {\n",
        "    'time': selectt,\n",
        "    'x': selectx, \n",
        "    'y': selecty, \n",
        "    'd': selects, \n",
        "    'v': selectv, \n",
        "    'omega': selectomega,\n",
        "    'E': selecte}\n",
        "\n",
        "#          yIndex=0, yIndex=1, yIndex=2, yIndex=3, yIndex=4, yIndex=5, yIndex=6,\n",
        "def compute(model, state0, t0 = 0.0, t_bound = 10, max_step = 0.05):\n",
        "    \"\"\"\n",
        "    This function returns a generator containing the sequence of results. \n",
        "    In this particular case it will return a sequence of robot states.\n",
        "    \"\"\"\n",
        "    solver = integrate.RK45(fun = model, t0 = t0, y0 = state0, t_bound = t_bound, max_step = max_step)\n",
        "    cnt = 0\n",
        "    lastEnergy = 0\n",
        "    totalEnergy = 0\n",
        "\n",
        "    #names = ['t', 'x', 'y', 'θ', 's', 'θ2', 'IE', \"x'\", \"y'\", 'ω', 'v', 'ω2', 'E']\n",
        "    while True:\n",
        "        message = solver.step()\n",
        "        #currentItem = [solver.t, *solver.y, *model(solver.t, solver.y)]\n",
        "        currentItem = {'time': solver.t, 'y': solver.y, 'dy': model(solver.t, solver.y)}\n",
        "        #t, 'solver.y': x, y, theta, s, theta, intE 'model': x', y', theta', velocity, omega, E\n",
        "        #0,             0, 1,   2,   3,   4,     5,          0,  1,   2,        3,      4,    5  \n",
        "        # Energy calculation / energy sumation\n",
        "        currentEnergy = currentItem['dy'][5] #currentNamed['E']\n",
        "        deltaEnergy = currentEnergy - lastEnergy\n",
        "\n",
        "        if deltaEnergy > 0:\n",
        "            totalEnergy = totalEnergy + deltaEnergy\n",
        "\n",
        "        lastEnergy = currentEnergy\n",
        "        currentItem['TotalEnergy'] = totalEnergy\n",
        "\n",
        "        yield currentItem\n",
        "        if (not(solver.status == 'running')):\n",
        "            break\n",
        "    return"
      ],
      "execution_count": 8,
      "outputs": []
    },
    {
      "cell_type": "markdown",
      "metadata": {
        "id": "gflyq5JpRDFz"
      },
      "source": [
        "## Path Controller"
      ]
    },
    {
      "cell_type": "markdown",
      "metadata": {
        "id": "KOPFQ_KXWjsO"
      },
      "source": [
        "Path Controller transforms a controller navigating robot towards a fixed distance to controller able switch the destination immediately after reaching point defined by a path."
      ]
    },
    {
      "cell_type": "code",
      "metadata": {
        "id": "F5UAQCG2RGED"
      },
      "source": [
        "def controllerForPath(controller, path, distanceEps=1e-2):\n",
        "    destinationX, destinationY, destinationOrietation = next(path)\n",
        "    destinationState = [destinationX, destinationY, destinationOrietation]\n",
        "    lastReached = False\n",
        "    #print('Destination set to', destinationState)\n",
        "    def result(t, currentState):\n",
        "        \"\"\"\n",
        "        This closure is result of parent function and acts as a controller - mediator,\n",
        "        which commands the given controller.\n",
        "        \"\"\"\n",
        "        nonlocal destinationX # use parent variable\n",
        "        nonlocal destinationY # use parent variable\n",
        "        nonlocal destinationState # use parent variable\n",
        "        nonlocal lastReached # use parent variable\n",
        "\n",
        "        currentX = currentState[0]\n",
        "        currentY = currentState[1]\n",
        "        deltaX = destinationX - currentX\n",
        "        deltaY = destinationY - currentY\n",
        "        if (lastReached == False):\n",
        "          # last point in path was not reached\n",
        "          if (deltaX * deltaX + deltaY * deltaY < distanceEps):\n",
        "            # robot is close enought to currentDestination\n",
        "            try:\n",
        "                # try to get another point on path\n",
        "                destinationX, destinationY, destinationOrietation = next(path)\n",
        "                destinationState = [destinationX, destinationY, destinationOrietation]\n",
        "                #print('Destination set to', destinationState, 'while in state', currentState)\n",
        "            except StopIteration:\n",
        "              # there are no other points\n",
        "              lastReached = True\n",
        "        if (lastReached):\n",
        "            return (0, 0)\n",
        "        else:\n",
        "            return controller(t, currentState, destinationState)\n",
        "    return result"
      ],
      "execution_count": 9,
      "outputs": []
    },
    {
      "cell_type": "markdown",
      "metadata": {
        "id": "u54IFUmmRa4t"
      },
      "source": [
        "## Model Creator"
      ]
    },
    {
      "cell_type": "markdown",
      "metadata": {
        "id": "TLcXw1FGXUjG"
      },
      "source": [
        "Model creator is function which packs all subsystems into one described by standard ODE function. Standard methods for ODE problems could be applied on such result / function."
      ]
    },
    {
      "cell_type": "code",
      "metadata": {
        "id": "9u5kFlvsscte"
      },
      "source": [
        "def robotModelCreator(controllerCreator, path, **kwargs):\n",
        "    controller_ = controllerCreator(**kwargs)\n",
        "    savedController = controllerForPath(controller_, path)\n",
        "    def resultRMC(t, currentState):\n",
        "        return robot(t, currentState, savedController)\n",
        "    return resultRMC"
      ],
      "execution_count": 10,
      "outputs": []
    },
    {
      "cell_type": "markdown",
      "metadata": {
        "id": "ynlf_rVJ0GSN"
      },
      "source": [
        "## Computation"
      ]
    },
    {
      "cell_type": "markdown",
      "metadata": {
        "id": "1lnJrDYEXxzL"
      },
      "source": [
        "Simple compute allows to fully define parameters at first and then use it on model. Such approach is usefull in case when different models (controllers) are used for same task. In this case this function simplify comparison of different controllers."
      ]
    },
    {
      "cell_type": "code",
      "metadata": {
        "id": "LMkk08sURfBd"
      },
      "source": [
        "def simpleCompute(computefunc, state0, t0 = 0, t_bound = 200, max_step = 0.05):\n",
        "    def resultSC(model):\n",
        "        return computefunc(\n",
        "          model, state0 = state0, t0 = t0, t_bound = t_bound, max_step = max_step)\n",
        "    return resultSC"
      ],
      "execution_count": 11,
      "outputs": []
    },
    {
      "cell_type": "markdown",
      "metadata": {
        "id": "zza31ciKii6l"
      },
      "source": [
        "## Controllers"
      ]
    },
    {
      "cell_type": "markdown",
      "metadata": {
        "id": "nI8SHWQxWeed"
      },
      "source": [
        "All controllers have to have same signature (parameter list)\n",
        "\n",
        "```python\n",
        "def controller(t, currentState, destinationState)\n",
        "```\n",
        "\n",
        "thus a creator taking special controller parameters must be defined. Such a creator should accept all special parameters and return controller with standard signature."
      ]
    },
    {
      "cell_type": "markdown",
      "metadata": {
        "id": "861HkupvimCa"
      },
      "source": [
        "### Circle Controller"
      ]
    },
    {
      "cell_type": "code",
      "metadata": {
        "id": "VeoVrwZtA7_7"
      },
      "source": [
        "def createCircleControllerWithGain(gain, omega_ri, vri, lowVelocityLimit, highVelocityLimit, lowOmegaLimit, highOmegaLimit):\n",
        "    def controller(t, currentState, destinationState):\n",
        "        currentX = currentState[0]\n",
        "        currentY = currentState[1]\n",
        "        currentTheta = currentState[2]\n",
        "\n",
        "        destinationX = destinationState[0]\n",
        "        destinationY = destinationState[1]\n",
        "\n",
        "        cosTheta = cos(currentTheta)\n",
        "        sinTheta = sin(currentTheta)\n",
        "\n",
        "        deltaX = destinationX - currentX\n",
        "        deltaY = destinationY - currentY\n",
        "\n",
        "        velocity = vri\n",
        "        omega = -2 * gain * vri * (deltaX * sinTheta - deltaY * cosTheta) / (deltaX * deltaX + deltaY * deltaY)\n",
        "    \n",
        "        if (velocity > highVelocityLimit):\n",
        "            velocity = highVelocityLimit\n",
        "        if (velocity < lowVelocityLimit):\n",
        "            velocity = lowVelocityLimit\n",
        "        if (omega > highOmegaLimit):\n",
        "            omega = highOmegaLimit\n",
        "        if (omega < lowOmegaLimit):\n",
        "            omega = lowOmegaLimit\n",
        "\n",
        "        return velocity, omega\n",
        "    return controller"
      ],
      "execution_count": 12,
      "outputs": []
    },
    {
      "cell_type": "markdown",
      "metadata": {
        "id": "4YQkNzcHNia4"
      },
      "source": [
        "#### Full Example of Use"
      ]
    },
    {
      "cell_type": "code",
      "metadata": {
        "colab": {
          "base_uri": "https://localhost:8080/",
          "height": 388
        },
        "id": "lbuEfz_YNXco",
        "outputId": "d8b08e11-abe4-4164-b4ea-97fea7d91ea4"
      },
      "source": [
        "def localDemo():\n",
        "    pathForSimulation = iter([\n",
        "            [0, 0, 0],  #X, Y, orientation\n",
        "            [10, 0, 0], #X, Y, orientation\n",
        "            [10, 10, 0], #X, Y, orientation\n",
        "            [0, 10, 0], #X, Y, orientation\n",
        "            [0, 0, 0]\n",
        "        ])\n",
        "\n",
        "    pathForSimulation = iter([\n",
        "            [0, 0, 0],  #X, Y, orientation\n",
        "            [10, 0, 0], #X, Y, orientation\n",
        "            [10, 10, 0], #X, Y, orientation\n",
        "            [20, 10, 0], #X, Y, orientation\n",
        "            [20, 20, 0]\n",
        "        ])\n",
        "\n",
        "    robotState0 = {\n",
        "            'x': 0,\n",
        "            'y': 0,\n",
        "            'theta': -3.14 / 4\n",
        "        }\n",
        "\n",
        "    t0 = 0\n",
        "    t_bound = 100\n",
        "    max_step = 0.05\n",
        "\n",
        "    state0 = None\n",
        "    if robot == robotWithDynamic:\n",
        "        state0 = np.array([robotState0['x'], robotState0['y'], robotState0['theta'], 0, 0, 0, 0, 0, 0, 0]) # x0=0, y0=0, theta\n",
        "    else:\n",
        "        state0 = np.array([robotState0['x'], robotState0['y'], robotState0['theta'], 0, 0, 0]) # x0=0, y0=0,theta\n",
        "\n",
        "    solverfunc = simpleCompute(\n",
        "        compute, state0 = state0, \n",
        "        t0 = t0, t_bound = t_bound, max_step = max_step)    \n",
        "\n",
        "    controllerParams = {\n",
        "        'gain': 4, \n",
        "        'omega_ri': 0, \n",
        "        'vri': 2.0, \n",
        "        'lowVelocityLimit': 0.2, \n",
        "        'highVelocityLimit': 2.0, \n",
        "        'lowOmegaLimit': -0.75, \n",
        "        'highOmegaLimit': 0.75\n",
        "        }\n",
        "\n",
        "    fullRobot = robotModelCreator(createCircleControllerWithGain, pathForSimulation, **controllerParams)      \n",
        "    state1 = fullRobot(0, state0)\n",
        "    robotStates = solverfunc(fullRobot)\n",
        "\n",
        "    results = {}\n",
        "    for key, selector in selectors.items():\n",
        "        print(key)\n",
        "        results[key] = []\n",
        "\n",
        "    for currentState in robotStates: # readout all states from current moving robot\n",
        "        for key, selector in selectors.items():\n",
        "            results[key].append(selector(currentState))\n",
        "\n",
        "    plt.plot(results['x'], results['y'])\n",
        "\n",
        "if _runDemos:\n",
        "    localDemo()"
      ],
      "execution_count": 13,
      "outputs": [
        {
          "output_type": "stream",
          "text": [
            "time\n",
            "x\n",
            "y\n",
            "d\n",
            "v\n",
            "omega\n",
            "E\n"
          ],
          "name": "stdout"
        },
        {
          "output_type": "display_data",
          "data": {
            "image/png": "[encoded data removed]",
            "text/plain": [
              "<Figure size 432x288 with 1 Axes>"
            ]
          },
          "metadata": {
            "tags": [],
            "needs_background": "light"
          }
        }
      ]
    },
    {
      "cell_type": "markdown",
      "metadata": {
        "id": "P7NQdsBwXaSN"
      },
      "source": [
        "### Robins"
      ]
    },
    {
      "cell_type": "code",
      "metadata": {
        "id": "YfaZ3nQ6Xha3"
      },
      "source": [
        "def createController_By_RobinsMathew(k0, k1, omega_ri, vri, lowVelocityLimit, highVelocityLimit, lowOmegaLimit, highOmegaLimit):\n",
        "    def controller(t, currentState, destinationState):\n",
        "        currentX = currentState[0]\n",
        "        currentY = currentState[1]\n",
        "        currentTheta = currentState[2]\n",
        "\n",
        "        destinationX = destinationState[0]\n",
        "        destinationY = destinationState[1]\n",
        "\n",
        "        cosTheta = cos(currentTheta)\n",
        "        sinTheta = sin(currentTheta)\n",
        "    \n",
        "        deltaX = destinationX - currentX\n",
        "        deltaY = destinationY - currentY\n",
        "        theta_destination = atan2(deltaY, deltaX)\n",
        "        theta_error = theta_destination - currentTheta\n",
        "\n",
        "        Te = math.sin(theta_destination)*deltaX - math.cos(theta_destination)*deltaY\n",
        "    \n",
        "        velocity = vri*math.cos(theta_error)\n",
        "        omega = omega_ri + k0*vri*Te + k1*vri*math.sin(theta_error)\n",
        "\n",
        "        if velocity > highVelocityLimit:\n",
        "            velocity = highVelocityLimit\n",
        "        if (velocity < lowVelocityLimit):\n",
        "            velocity = lowVelocityLimit\n",
        "        if omega > highOmegaLimit:\n",
        "            omega = highOmegaLimit\n",
        "        if (omega < lowOmegaLimit):\n",
        "            omega = lowOmegaLimit\n",
        "      \n",
        "        return velocity, omega\n",
        "    return controller"
      ],
      "execution_count": 14,
      "outputs": []
    },
    {
      "cell_type": "markdown",
      "metadata": {
        "id": "Z_y4r-tii6ZJ"
      },
      "source": [
        "### Fuzzy Logic Controller"
      ]
    },
    {
      "cell_type": "markdown",
      "metadata": {
        "id": "xiTGujK_jEsD"
      },
      "source": [
        "#### Helper Functions"
      ]
    },
    {
      "cell_type": "code",
      "metadata": {
        "id": "EAa9L5PtjE99"
      },
      "source": [
        "def createFuzzyfier(space, categories, trimf = fuzz.trimf, membership = fuzz.interp_membership):\n",
        "    fuzzyInput = {}\n",
        "    for key, value in categories.items():\n",
        "        fuzzyInput[key] = trimf(space, value)\n",
        "    def result(variable):\n",
        "        output = {}\n",
        "        for key, value in fuzzyInput.items():\n",
        "            output[key] = membership(space, value, variable)\n",
        "        if output[key] ==0:\n",
        "            output[key] = 1e-5\n",
        "        else:\n",
        "            output[key] = output[key] \n",
        "        return output\n",
        "    return result\n",
        "\n",
        "def createInferenceSystem(inputAfuzzyfier, inputBfuzzyfier, outputSpace, outputDict, rulesDict, trimf = fuzz.trimf):\n",
        "    fuzzyResults = {}\n",
        "    for keyA, outerValue in rulesDict.items():\n",
        "        if not(keyA in fuzzyResults):\n",
        "            fuzzyResults[keyA] = {}\n",
        "        for keyB, innerValue in outerValue.items():\n",
        "            fuzzyResults[keyA][keyB] = trimf(outputSpace, outputDict[innerValue]) #innerValue==outputDict[keyA][keyB]\n",
        "    def result(valueA, valueB):\n",
        "        fuzzyVariableA = inputAfuzzyfier(valueA)\n",
        "        fuzzyVariableB = inputBfuzzyfier(valueB)\n",
        "        fuzzyResult = None\n",
        "        for keyA, outerValue in rulesDict.items():\n",
        "            for keyB, resultValue in outerValue.items():\n",
        "                currentResult = np.fmin(fuzzyResults[keyA][keyB],\n",
        "                    np.fmin(fuzzyVariableA[keyA], fuzzyVariableB[keyB]))\n",
        "                if fuzzyResult is None:\n",
        "                    fuzzyResult = currentResult\n",
        "                else:\n",
        "                    fuzzyResult = np.fmax(currentResult, fuzzyResult)\n",
        "        return fuzzyResult\n",
        "    return result\n",
        "\n",
        "def createDefuzzyfier(outputSpace, *defuzzArgs, defuzz=fuzz.defuzz, **defuzzKwargs):\n",
        "    def result(value):\n",
        "        return defuzz(outputSpace, value, *defuzzArgs, **defuzzKwargs)\n",
        "    return result\n",
        "  \n",
        "def createFullFuzzySystem(inferenceSystem, defuzzyfier):\n",
        "    def system(inputA, inputB):\n",
        "        return defuzzyfier(inferenceSystem(inputA, inputB))\n",
        "    return system"
      ],
      "execution_count": 15,
      "outputs": []
    },
    {
      "cell_type": "markdown",
      "metadata": {
        "id": "ND5QnGTCjggB"
      },
      "source": [
        "#### Controller"
      ]
    },
    {
      "cell_type": "code",
      "metadata": {
        "id": "ECXYHByGi-fu"
      },
      "source": [
        "def createFuzzyController(fuzzyDescription, r, b, omega_ri, vri, lowVelocityLimit, highVelocityLimit, lowOmegaLimit, highOmegaLimit):\n",
        "    inputsDistance = fuzzyDescription['inputs']['distance']['M']\n",
        "    inputsSpaceDistance = np.array(fuzzyDescription['inputs']['distance']['S'])\n",
        "    \n",
        "    inputsAngle = fuzzyDescription['inputs']['angle']['M']\n",
        "    inputsSpaceAngle = np.array(fuzzyDescription['inputs']['angle']['S'])\n",
        "    \n",
        "    outputsOmegaR = fuzzyDescription['outputs']['omegaR']['M']\n",
        "    outputSpaceOmegaR = np.array(fuzzyDescription['outputs']['omegaR']['S'])\n",
        "    outputRulesOmegaR = fuzzyDescription['outputs']['omegaR']['rules']\n",
        "    \n",
        "    outputsOmegaL = fuzzyDescription['outputs']['omegaL']['M']\n",
        "    outputSpaceOmegaL = np.array(fuzzyDescription['outputs']['omegaL']['S'])\n",
        "    outputRulesOmegaL = fuzzyDescription['outputs']['omegaL']['rules']\n",
        "\n",
        "\n",
        "    inputsDistanceFuzzyfier = createFuzzyfier(inputsSpaceDistance, inputsDistance)\n",
        "    inputsAngleFuzzyfier = createFuzzyfier(inputsSpaceAngle, inputsAngle)\n",
        "\n",
        "    inferenceSystem_R = createInferenceSystem(inputsDistanceFuzzyfier, inputsAngleFuzzyfier, outputSpaceOmegaR, outputsOmegaR, outputRulesOmegaR)\n",
        "    outputDefuzzyfier_R = createDefuzzyfier(outputSpaceOmegaL, mode='centroid')\n",
        "\n",
        "    inferenceSystem_L = createInferenceSystem(inputsDistanceFuzzyfier, inputsAngleFuzzyfier, outputSpaceOmegaL, outputsOmegaL, outputRulesOmegaL)\n",
        "    outputDefuzzyfier_L = createDefuzzyfier(outputSpaceOmegaL, mode='centroid')\n",
        "\n",
        "    fullSystem_R = createFullFuzzySystem(inferenceSystem_R, outputDefuzzyfier_R)\n",
        "    fullSystem_L = createFullFuzzySystem(inferenceSystem_L, outputDefuzzyfier_L)\n",
        "    \n",
        "    def controller(t, currentState, destinationState):\n",
        "        currentX = currentState[0]\n",
        "        currentY = currentState[1]\n",
        "        currentTheta = currentState[2]\n",
        "\n",
        "        destinationX = destinationState[0]\n",
        "        destinationY = destinationState[1]\n",
        "\n",
        "        cosTheta = cos(currentTheta)\n",
        "        sinTheta = sin(currentTheta)\n",
        "        \n",
        "        deltaX = destinationX - currentX\n",
        "        deltaY = destinationY - currentY\n",
        "        theta_destination = atan2(deltaY, deltaX)\n",
        "        THETA_ERROR = theta_destination - currentTheta\n",
        "        DISTANCE_ERROR = sqrt(deltaX * deltaX + deltaY * deltaY)\n",
        "        \n",
        "        if (THETA_ERROR > pi):\n",
        "            THETA_ERROR -= 2*pi\n",
        "        if (THETA_ERROR < -pi):\n",
        "            THETA_ERROR += 2*pi\n",
        "      \n",
        "        omega_R = fullSystem_R(DISTANCE_ERROR, THETA_ERROR)\n",
        "        omega_L = fullSystem_L(DISTANCE_ERROR, THETA_ERROR)\n",
        "\n",
        "        velocity = r * (omega_R + omega_L) / 2\n",
        "        omega = r * (omega_R - omega_L) / b\n",
        "\n",
        "        if velocity > highVelocityLimit:\n",
        "            velocity = highVelocityLimit\n",
        "        if (velocity < lowVelocityLimit):\n",
        "            velocity = lowVelocityLimit\n",
        "        if omega > highOmegaLimit:\n",
        "            omega = highOmegaLimit\n",
        "        if (omega < lowOmegaLimit):\n",
        "            omega = lowOmegaLimit\n",
        "\n",
        "        return velocity, omega\n",
        "    return controller"
      ],
      "execution_count": 16,
      "outputs": []
    },
    {
      "cell_type": "markdown",
      "metadata": {
        "id": "NwNbQ4J6A7_-"
      },
      "source": [
        "## Simulation Function"
      ]
    },
    {
      "cell_type": "markdown",
      "metadata": {
        "id": "Z_8pVr2PYUdB"
      },
      "source": [
        "In next part the full description of simulation is stored in a single structured JSON document / variable. If this document is mutated, the slighly different condition for simulation are defined. Set of mutated documents and results of described simulations might be compared and thus proper results can be selected. This process creates a basement for optimization techniques."
      ]
    },
    {
      "cell_type": "markdown",
      "metadata": {
        "id": "6WjwxrtjA7__"
      },
      "source": [
        "### Simulation Description"
      ]
    },
    {
      "cell_type": "code",
      "metadata": {
        "id": "-S77zClxA7__"
      },
      "source": [
        "simulationDescription = {\n",
        "\n",
        "    'robotState0': {\n",
        "        'x': 0,\n",
        "        'y': 0,\n",
        "        'theta': -3.14 / 4\n",
        "    },\n",
        "\n",
        "    'path': [\n",
        "        [0, 0, 0],  #X, Y, orientation\n",
        "        [10, 0, 0], #X, Y, orientation\n",
        "        [10, 10, 0], #X, Y, orientation\n",
        "        [20, 10, 0], #X, Y, orientation\n",
        "        [20, 20, 0]\n",
        "    ],\n",
        "\n",
        "    'robotParams': {\n",
        "        'r': 0.0925,\n",
        "        'b': 0.37,\n",
        "        'm': 9,\n",
        "        'I': 0.16245,\n",
        "        #'motorParams': None,\n",
        "        'motorParams': {\n",
        "            'J': 0.01,\n",
        "            'B': 0.1,\n",
        "\n",
        "            'Kt': 0.01,\n",
        "            'Ke': 0.01,\n",
        "            'K': 0.01,\n",
        "\n",
        "            'Ra': 0.1,\n",
        "            'La': 0.01\n",
        "        }\n",
        "    },\n",
        "    \n",
        "    'controllerParams': {\n",
        "        'omega_ri': 0, 'vri': 2.0,'lowVelocityLimit': 0.2, \n",
        "        'highVelocityLimit': 2.0, 'lowOmegaLimit': -0.75, 'highOmegaLimit': 0.75\n",
        "    },\n",
        "\n",
        "    'simulationParams': {\n",
        "        't0': 0,\n",
        "        't_bound': 100,\n",
        "        'max_step': 0.05\n",
        "    }\n",
        "}"
      ],
      "execution_count": 17,
      "outputs": []
    },
    {
      "cell_type": "markdown",
      "metadata": {
        "id": "1KcxXFJHA7__"
      },
      "source": [
        "### Executor"
      ]
    },
    {
      "cell_type": "code",
      "metadata": {
        "id": "HeQ5PRiyhnMA"
      },
      "source": [
        "def runSimulation(simulationDescription, controllerCreator, selectors=selectors):\n",
        "  \n",
        "    pathForSimulation = iter(simulationDescription['path'])\n",
        "\n",
        "    t0 = simulationDescription['simulationParams']['t0']\n",
        "    t_bound = simulationDescription['simulationParams']['t_bound']\n",
        "    max_step = simulationDescription['simulationParams']['max_step']\n",
        "\n",
        "    state0 = None\n",
        "    robotState0 = simulationDescription['robotState0']\n",
        "    if robot == robotWithDynamic:\n",
        "        state0 = np.array([robotState0['x'], robotState0['y'], robotState0['theta'], 0, 0, 0, 0, 0, 0, 0]) # x0=0, y0=0, theta\n",
        "    else:\n",
        "        state0 = np.array([robotState0['x'], robotState0['y'], robotState0['theta'], 0, 0, 0]) # x0=0, y0=0,theta\n",
        "\n",
        "    solverfunc = simpleCompute(\n",
        "        compute, state0 = state0, \n",
        "        t0 = t0, t_bound = t_bound, max_step = max_step)\n",
        "\n",
        "    controllerParams = simulationDescription['controllerParams']\n",
        "    completeRobot = robotModelCreator(controllerCreator, pathForSimulation, **controllerParams)      \n",
        "    robotStates = solverfunc(completeRobot)\n",
        "\n",
        "    results = {}\n",
        "    for key, selector in selectors.items():\n",
        "        results[key] = []\n",
        "\n",
        "    for currentState in robotStates: # readout all states from current moving robot\n",
        "        for key, selector in selectors.items():\n",
        "            results[key].append(selector(currentState))\n",
        "\n",
        "    return results"
      ],
      "execution_count": 18,
      "outputs": []
    },
    {
      "cell_type": "markdown",
      "metadata": {
        "id": "gicZW0wlA8AA"
      },
      "source": [
        "### Example of Use"
      ]
    },
    {
      "cell_type": "code",
      "metadata": {
        "colab": {
          "base_uri": "https://localhost:8080/",
          "height": 264
        },
        "id": "qai3xZ3mA8AA",
        "outputId": "de377f3c-499f-4e2e-b8f3-840d39d7c59b"
      },
      "source": [
        "import copy\n",
        "\n",
        "def localDemo():\n",
        "    circleControllerDescription = copy.deepcopy(simulationDescription)\n",
        "    circleControllerDescription['controllerParams']['gain'] = 4\n",
        "\n",
        "    results = runSimulation(circleControllerDescription, createCircleControllerWithGain, selectors)\n",
        "    plt.plot(results['x'], results['y'])\n",
        "    \n",
        "if _runDemos:\n",
        "    localDemo()"
      ],
      "execution_count": 19,
      "outputs": [
        {
          "output_type": "display_data",
          "data": {
            "image/png": "[encoded data removed]",
            "text/plain": [
              "<Figure size 432x288 with 1 Axes>"
            ]
          },
          "metadata": {
            "tags": [],
            "needs_background": "light"
          }
        }
      ]
    },
    {
      "cell_type": "markdown",
      "metadata": {
        "id": "wmPAPhoVYawE"
      },
      "source": [
        "## Chromosome Mapping Functions"
      ]
    },
    {
      "cell_type": "markdown",
      "metadata": {
        "id": "zhXB2hfGnI9Y"
      },
      "source": [
        "These functions change standard simulation description into description based on information stored in chromosome. Also these functions could be named as a chromosome information decoder."
      ]
    },
    {
      "cell_type": "markdown",
      "metadata": {
        "id": "ckJma0JxYg_O"
      },
      "source": [
        "### Circle Controller"
      ]
    },
    {
      "cell_type": "code",
      "metadata": {
        "id": "8L6R8GdXYj91"
      },
      "source": [
        "import copy\n",
        "def fromChromozomeToDescriptionCircle(chromozome, description):\n",
        "    result = copy.deepcopy(description)\n",
        "    result['controllerParams']['gain'] = chromozome[0]\n",
        "    return result"
      ],
      "execution_count": 20,
      "outputs": []
    },
    {
      "cell_type": "markdown",
      "metadata": {
        "id": "l-4tBv9VYmHn"
      },
      "source": [
        "### Robins Controller"
      ]
    },
    {
      "cell_type": "code",
      "metadata": {
        "id": "4AL6Rx2KYfwQ"
      },
      "source": [
        "import copy\n",
        "def fromChromozomeToDescriptionRobins(chromozome, description):\n",
        "    result = copy.deepcopy(description)\n",
        "    result['controllerParams']['k0'] = chromozome[0]\n",
        "    result['controllerParams']['k1'] = chromozome[1]\n",
        "    return result"
      ],
      "execution_count": 21,
      "outputs": []
    },
    {
      "cell_type": "markdown",
      "metadata": {
        "id": "Cm7bo0diYxvH"
      },
      "source": [
        "### Fuzzy Logic Controller"
      ]
    },
    {
      "cell_type": "code",
      "metadata": {
        "id": "xGuoa_ISY1jP"
      },
      "source": [
        "import copy\n",
        "def fromChromozomeToDescriptionFuzzy(chromozome, description):\n",
        "    CH = chromozome # just for simplicity\n",
        "    result = copy.deepcopy(description)\n",
        "\n",
        "    fuzzyDescription = {\n",
        "        'inputs': {\n",
        "            'distance' : {\n",
        "                'S': list(np.arange(0, 2, 0.02)),\n",
        "                'M': {'VC': [0, 0, 0.5], 'C': [0, 0.5, 1], 'M': [0.5, 1, 1.5], 'F': [1, 1.5, 2], 'VF': [1.5, 2, 2]}\n",
        "            },\n",
        "            'angle' : {\n",
        "                'S': list(np.arange(-3.14, 3.14, 0.0628)),\n",
        "                'M': {'BN': [-3.14, -3.14, -1.57], 'N': [-3.14, -1.57, 0], 'Z': [-1.57, 0, 1.57], 'P': [0, 1.57, 3.14], 'BP': [1.57, 3.14, 3.14]}\n",
        "            }\n",
        "        },\n",
        "        'outputs': {\n",
        "            'omegaR': {\n",
        "                'S': list(np.arange(0, 30, 0.3)),\n",
        "                'rules': {\n",
        "                    'VC': {'BN': 'VSR', 'N': 'SR', 'Z': 'VSR', 'P': 'BR', 'BP': 'VBR'},\n",
        "                    'C': {'BN': 'VSR', 'N': 'SR', 'Z': 'SR', 'P': 'BR', 'BP': 'VBR'},\n",
        "                    'M': {'BN': 'VSR', 'N': 'SR', 'Z': 'MBR', 'P': 'BR', 'BP': 'VBR'},\n",
        "                    'F': {'BN': 'VSR', 'N': 'SR', 'Z': 'BR', 'P': 'BR', 'BP': 'VBR'},\n",
        "                    'VF': {'BN': 'VSR', 'N': 'SR', 'Z': 'VBR', 'P': 'BR', 'BP': 'VBR'}\n",
        "                },\n",
        "                'mode': 'centroid',\n",
        "                'M': {'VSR': [0, 0, 7.5], 'SR': [0, 7.5, 15], 'MBR': [7.5, 15, 22.5], 'BR': [15, 22.5, 30], 'VBR': [22.5, 30, 30]}\n",
        "            },\n",
        "            'omegaL': {\n",
        "                'S': list(np.arange(0, 30, 0.3)),\n",
        "                'rules': {\n",
        "                    'VC': {'BN': 'VBL', 'N': 'BL', 'Z': 'VSL', 'P': 'SL', 'BP': 'VSL'},\n",
        "                    'C': {'BN': 'VBL', 'N': 'BL', 'Z': 'SL', 'P': 'SL', 'BP': 'VSL'},\n",
        "                    'M': {'BN': 'VBL', 'N': 'BL', 'Z': 'MBL', 'P': 'SL', 'BP': 'VSL'},\n",
        "                    'F': {'BN': 'VBL', 'N': 'BL', 'Z': 'BL', 'P': 'SL', 'BP': 'VSL'},\n",
        "                    'VF': {'BN': 'VBL', 'N': 'BL', 'Z': 'VBL', 'P': 'SL', 'BP': 'VSL'} \n",
        "                },\n",
        "                'mode': 'centroid',\n",
        "                'M': {'VSL': [0, 0, 7.5], 'SL': [0, 7.5, 15], 'MBL': [7.5, 15, 22.5], 'BL': [15, 22.5, 30], 'VBL': [22.5, 30, 30]}\n",
        "            }\n",
        "        }\n",
        "    }     \n",
        "\n",
        "    distance_Member = {'VC': [0, 0, CH[0]], \n",
        "                       'C': [CH[2] - CH[1], CH[2], CH[2] + CH[3]],\n",
        "                       'M': [CH[5] - CH[4], CH[5], CH[5] + CH[6]],\n",
        "                       'F': [CH[8] - CH[7], CH[8], CH[8] + CH[9]], \n",
        "                       'VF': [2 - CH[10], 2, 2]}\n",
        "    fuzzyDescription['inputs']['distance']['M'] = distance_Member\n",
        "\n",
        "    angle_Member = {'BN': [-3.14, -3.14, -3.14+CH[11]], \n",
        "                    'N': [CH[13] - CH[12], CH[13], CH[13] + CH[14]],\n",
        "                    'Z': [CH[16] - CH[15], CH[16], CH[16] + CH[17]], \n",
        "                    'P': [CH[19] - CH[18], CH[19], CH[19] + CH[20]], \n",
        "                    'BP': [3.14 - CH[21], 3.14, 3.14]}    \n",
        "    fuzzyDescription['inputs']['angle']['M'] = angle_Member\n",
        "\n",
        "    omegaR_Member =  {'VSR': [0, 0, CH[22]], \n",
        "                      'SR': [CH[24] - CH[23], CH[24], CH[24] + CH[25]],\n",
        "                      'MBR': [CH[27] - CH[26], CH[27], CH[27] + CH[28]], \n",
        "                      'BR': [CH[30] - CH[29], CH[30], CH[30] + CH[31]], \n",
        "                      'VBR': [30 - CH[32], 30, 30]}\n",
        "    fuzzyDescription['outputs']['omegaR']['M'] = omegaR_Member\n",
        "\n",
        "    omegaL_Member =  {'VSL': [0, 0, CH[33]], \n",
        "                      'SL': [CH[35] - CH[34], CH[35], CH[35] + CH[36]],\n",
        "                      'MBL': [CH[38] - CH[37], CH[38], CH[38] + CH[39]], \n",
        "                      'BL': [CH[41] - CH[40], CH[41], CH[41] + CH[42]], \n",
        "                      'VBL': [30 - CH[43], 30, 30]}\n",
        "    fuzzyDescription['outputs']['omegaL']['M'] = omegaL_Member\n",
        "\n",
        "    result['controllerParams']['fuzzyDescription'] = fuzzyDescription\n",
        "    \n",
        "    result['controllerParams']['r'] = result['robotParams']['r']\n",
        "    result['controllerParams']['b'] = result['robotParams']['b']\n",
        "    return result"
      ],
      "execution_count": 22,
      "outputs": []
    },
    {
      "cell_type": "markdown",
      "metadata": {
        "id": "UWDmy6QsA8AC"
      },
      "source": [
        "#### Demo of Use"
      ]
    },
    {
      "cell_type": "code",
      "metadata": {
        "colab": {
          "base_uri": "https://localhost:8080/",
          "height": 264
        },
        "id": "S5Gm7hWvA8AC",
        "outputId": "aa756a60-d46f-4239-f800-cad4d9f68044"
      },
      "source": [
        "def localDemo():\n",
        "    _chromosome = [ 6.25366018e-01,  1.46639889e+00,  6.86498991e-02,  7.68093084e-01,\n",
        "  2.94696025e-01,  8.19657937e-01,  7.66707859e-01,  3.30363761e-01,\n",
        "  1.59154795e+00,  3.82371835e-01,  3.19164222e-01,  2.25863186e-01,\n",
        "  5.40214083e+00, -2.87811455e+00,  3.22315195e+00,  5.24697655e+00,\n",
        " -2.18191386e-02,  2.35114508e-02,  2.29313174e+00,  2.71500790e+00,\n",
        "  1.72456119e+00,  3.34836959e+00,  1.62090031e+01,  2.21135246e+01,\n",
        "  4.62340233e+00,  9.07996460e+00,  2.99889795e+01,  1.59696212e+01,\n",
        "  1.20020626e+01,  2.32626634e+01,  1.81445098e+01,  1.61965141e+01,\n",
        "  2.16820148e+01,  5.66692201e+00,  7.02338927e-01,  2.90220179e+00,\n",
        "  1.46153727e+01,  1.93699985e+01,  1.47587643e+01,  6.76618158e+00,\n",
        "  4.15791676e+00,  2.87105164e+01,  1.39444156e+01,  1.14641525e+01]\n",
        "\n",
        "    fuzzyLogicSimulationDescription = fromChromozomeToDescriptionFuzzy(_chromosome, simulationDescription)\n",
        "    results = runSimulation(fuzzyLogicSimulationDescription, createFuzzyController, selectors=selectors)\n",
        "\n",
        "    plt.plot(results['x'], results['y'])\n",
        "    \n",
        "if _runDemos:\n",
        "    localDemo()"
      ],
      "execution_count": 23,
      "outputs": [
        {
          "output_type": "display_data",
          "data": {
            "image/png": "[encoded data removed]",
            "text/plain": [
              "<Figure size 432x288 with 1 Axes>"
            ]
          },
          "metadata": {
            "tags": [],
            "needs_background": "light"
          }
        }
      ]
    },
    {
      "cell_type": "markdown",
      "metadata": {
        "id": "RZUKye1mA8AC"
      },
      "source": [
        "## Path Mapping Function"
      ]
    },
    {
      "cell_type": "markdown",
      "metadata": {
        "id": "3R0-amb-A8AC"
      },
      "source": [
        "This function allows to easy change simulation description for path which a robot has to follow."
      ]
    },
    {
      "cell_type": "code",
      "metadata": {
        "id": "PRcpaMkZA8AC"
      },
      "source": [
        "import copy\n",
        "def fromPathToDescription(path, description):\n",
        "    result = copy.deepcopy(description)\n",
        "    result['path'] = list(path)\n",
        "    return result"
      ],
      "execution_count": 24,
      "outputs": []
    },
    {
      "cell_type": "markdown",
      "metadata": {
        "id": "Z6JfWpThhVjo"
      },
      "source": [
        "## Fitness Functions (Based on Chromosomes)"
      ]
    },
    {
      "cell_type": "markdown",
      "metadata": {
        "id": "KiZyaEB3A8AD"
      },
      "source": [
        "For optimization the fitness functions are needed. The simulation function has been defined earlier in this document. A fitness function must transform chromosome into simulation description, run appropriate simulation and return all results or subset of results. This chapter defines a bunch of fitness functions."
      ]
    },
    {
      "cell_type": "markdown",
      "metadata": {
        "id": "KwB4GtLZlTIx"
      },
      "source": [
        "### Helper Functions"
      ]
    },
    {
      "cell_type": "markdown",
      "metadata": {
        "id": "tvyR3uMTA8AD"
      },
      "source": [
        "#### Function for Fitness Function Creation"
      ]
    },
    {
      "cell_type": "markdown",
      "metadata": {
        "id": "mMxM9jqwA8AD"
      },
      "source": [
        "```createFitnessFunction``` allows to create fitness function which is appropriate for description, chromosome decoder (```mapperFunction```), function which creates controller (```controllerCreator```) and, if needed, selection of subresult (```resultSelector```)."
      ]
    },
    {
      "cell_type": "code",
      "metadata": {
        "id": "3QgaKb7jbC4u"
      },
      "source": [
        "def createFitnessFunction(baseDescription, mapperFunction, controllerCreator, resultSelector=lambda item: item):\n",
        "    def fitnessFunction(chromozome):\n",
        "        freshDescription = mapperFunction(chromozome, baseDescription)\n",
        "        results = runSimulation(freshDescription, controllerCreator, selectors=selectors)\n",
        "        result = resultSelector(results)\n",
        "        return result\n",
        "    return fitnessFunction"
      ],
      "execution_count": 25,
      "outputs": []
    },
    {
      "cell_type": "code",
      "metadata": {
        "id": "kyqW0vFMj43X"
      },
      "source": [
        "def energySelector(results):\n",
        "    return results['E'][-1]"
      ],
      "execution_count": 26,
      "outputs": []
    },
    {
      "cell_type": "code",
      "metadata": {
        "id": "UF4CM8sMj_lu"
      },
      "source": [
        "def distanceSelector(results):\n",
        "    return results['d'][-1]"
      ],
      "execution_count": 27,
      "outputs": []
    },
    {
      "cell_type": "markdown",
      "metadata": {
        "id": "C76b7EWsmLL6"
      },
      "source": [
        "#### Multivalue Functions"
      ]
    },
    {
      "cell_type": "markdown",
      "metadata": {
        "id": "MdL2HWxJA8AE"
      },
      "source": [
        "```singleAsMultiValue``` transforms function with scalar value into function with vector value. Such transformation creates a functionc which can evaluate multiple values in single call."
      ]
    },
    {
      "cell_type": "code",
      "metadata": {
        "id": "fSDyVicrmP05"
      },
      "source": [
        "def singleAsMultiValue(singleFunction):\n",
        "    def resultFunction(chromosomes):\n",
        "        results = []\n",
        "        for chromosome in chromosomes:\n",
        "            results.append(singleFunction(chromosome))\n",
        "        return results\n",
        "    return resultFunction"
      ],
      "execution_count": 28,
      "outputs": []
    },
    {
      "cell_type": "markdown",
      "metadata": {
        "id": "efIGekNSlWAF"
      },
      "source": [
        "### Simulation Description"
      ]
    },
    {
      "cell_type": "markdown",
      "metadata": {
        "id": "fpZYVPYIli8p"
      },
      "source": [
        "From this point simulations depend on ```simulationDescription``` defined in next code. Thus if any change is needed this is best place for it."
      ]
    },
    {
      "cell_type": "code",
      "metadata": {
        "id": "7gGSqqPXicpc"
      },
      "source": [
        "simulationDescription = {\n",
        "    'fuzzyDescription': {\n",
        "        'inputs': {\n",
        "            'distance' : {\n",
        "                'S': list(np.arange(0, 2, 0.02)),\n",
        "                'M': {'VC': [0, 0, 0.5], 'C': [0, 0.5, 1], 'M': [0.5, 1, 1.5], 'F': [1, 1.5, 2], 'VF': [1.5, 2, 2]}\n",
        "            },\n",
        "            'angle' : {\n",
        "                'S': list(np.arange(-3.14, 3.14, 0.0628)),\n",
        "                'M': {'BN': [-3.14, -3.14, -1.57], 'N': [-3.14, -1.57, 0], 'Z': [-1.57, 0, 1.57], 'P': [0, 1.57, 3.14], 'BP': [1.57, 3.14, 3.14]}\n",
        "            }\n",
        "        },\n",
        "        'outputs': {\n",
        "            'omegaR': {\n",
        "                'S': list(np.arange(0, 30, 0.3)),\n",
        "                'rules': {\n",
        "                    'VC': {'BN': 'VSR', 'N': 'SR', 'Z': 'VSR', 'P': 'BR', 'BP': 'VBR'},\n",
        "                    'C': {'BN': 'VSR', 'N': 'SR', 'Z': 'SR', 'P': 'BR', 'BP': 'VBR'},\n",
        "                    'M': {'BN': 'VSR', 'N': 'SR', 'Z': 'MBR', 'P': 'BR', 'BP': 'VBR'},\n",
        "                    'F': {'BN': 'VSR', 'N': 'SR', 'Z': 'BR', 'P': 'BR', 'BP': 'VBR'},\n",
        "                    'VF': {'BN': 'VSR', 'N': 'SR', 'Z': 'VBR', 'P': 'BR', 'BP': 'VBR'}\n",
        "                },\n",
        "                'mode': 'centroid',\n",
        "                'M': {'VSR': [0, 0, 7.5], 'SR': [0, 7.5, 15], 'MBR': [7.5, 15, 22.5], 'BR': [15, 22.5, 30], 'VBR': [22.5, 30, 30]}\n",
        "            },\n",
        "            'omegaL': {\n",
        "                'S': list(np.arange(0, 30, 0.3)),\n",
        "                'rules': {\n",
        "                    'VC': {'BN': 'VBL', 'N': 'BL', 'Z': 'VSL', 'P': 'SL', 'BP': 'VSL'},\n",
        "                    'C': {'BN': 'VBL', 'N': 'BL', 'Z': 'SL', 'P': 'SL', 'BP': 'VSL'},\n",
        "                    'M': {'BN': 'VBL', 'N': 'BL', 'Z': 'MBL', 'P': 'SL', 'BP': 'VSL'},\n",
        "                    'F': {'BN': 'VBL', 'N': 'BL', 'Z': 'BL', 'P': 'SL', 'BP': 'VSL'},\n",
        "                    'VF': {'BN': 'VBL', 'N': 'BL', 'Z': 'VBL', 'P': 'SL', 'BP': 'VSL'} \n",
        "                },\n",
        "                'mode': 'centroid',\n",
        "                'M': {'VSL': [0, 0, 7.5], 'SL': [0, 7.5, 15], 'MBL': [7.5, 15, 22.5], 'BL': [15, 22.5, 30], 'VBL': [22.5, 30, 30]}\n",
        "            }\n",
        "        }\n",
        "    },\n",
        "\n",
        "\n",
        "    'robotState0': {\n",
        "        'x': 0,\n",
        "        'y': 0,\n",
        "        'theta': -3.14 / 4\n",
        "    },\n",
        "\n",
        "    'path': [\n",
        "        [0, 0, 0],  #X, Y, orientation\n",
        "        [10, 0, 0], #X, Y, orientation\n",
        "        [10, 10, 0], #X, Y, orientation\n",
        "        [20, 10, 0], #X, Y, orientation\n",
        "        [20, 20, 0]\n",
        "    ],\n",
        "\n",
        "    'robotParams': {\n",
        "        'r': 0.0925,\n",
        "        'b': 0.37,\n",
        "        'm': 9,\n",
        "        'I': 0.16245,\n",
        "        #'motorParams': None,\n",
        "        'motorParams': {\n",
        "            'J': 0.01,\n",
        "            'B': 0.1,\n",
        "\n",
        "            'Kt': 0.01,\n",
        "            'Ke': 0.01,\n",
        "            'K': 0.01,\n",
        "\n",
        "            'Ra': 0.1,\n",
        "            'La': 0.01\n",
        "        }\n",
        "    },\n",
        "    \n",
        "    'controllerParams': {\n",
        "        'omega_ri': 0, 'vri': 2.0,'lowVelocityLimit': 0.2, \n",
        "        'highVelocityLimit': 2.0, 'lowOmegaLimit': -0.75, 'highOmegaLimit': 0.75\n",
        "    },\n",
        "\n",
        "    'simulationParams': {\n",
        "        't0': 0,\n",
        "        't_bound': 100,\n",
        "        'max_step': 0.05\n",
        "    }\n",
        "}"
      ],
      "execution_count": 29,
      "outputs": []
    },
    {
      "cell_type": "markdown",
      "metadata": {
        "id": "c_QNNbpocGUO"
      },
      "source": [
        "#### Mapping from Chromozome to Simulation Description.\r\n",
        "This function changes standard simulation description into description based on informations stored in chromosome. Also this function could be named as a chromosome information decoder."
      ]
    },
    {
      "cell_type": "code",
      "metadata": {
        "id": "GW_v65sxcW3P"
      },
      "source": [
        "def update_fitnessFunctionDescription(simulationDescription, Chromosome):\r\n",
        "    CH = Chromosome # just for simplicity\r\n",
        "    result = {**simulationDescription}\r\n",
        "\r\n",
        "    distance_Member = {'VC': [0, 0, CH[0]], \r\n",
        "                       'C': [CH[2]-CH[1], CH[2], CH[2]+CH[3]],\r\n",
        "                       'M': [CH[5]-CH[4], CH[5], CH[5]+CH[6]],\r\n",
        "                       'F': [CH[8]-CH[7], CH[8], CH[8]+CH[9]], \r\n",
        "                       'VF': [2-CH[10], 2, 2]}\r\n",
        "    result['fuzzyDescription']['inputs']['distance']['M'] = distance_Member\r\n",
        "\r\n",
        "    angle_Member = {'BN': [-3.14, -3.14, -3.14+CH[11]], \r\n",
        "                    'N': [CH[13]-CH[12], CH[13], CH[13]+CH[14]],\r\n",
        "                    'Z': [CH[16]-CH[15], CH[16], CH[16]+CH[17]], \r\n",
        "                    'P': [CH[19]-CH[18], CH[19], CH[19]+CH[20]], \r\n",
        "                    'BP': [3.14-CH[21], 3.14, 3.14]}    \r\n",
        "    result['fuzzyDescription']['inputs']['angle']['M'] = angle_Member\r\n",
        "\r\n",
        "    omegaR_Member =  {'VSR': [0, 0, CH[22]], \r\n",
        "                      'SR': [CH[24]-CH[23], CH[24], CH[24]+CH[25]],\r\n",
        "                      'MBR': [CH[27]-CH[26], CH[27], CH[27]+CH[28]], \r\n",
        "                      'BR': [CH[30]-CH[29], CH[30], CH[30]+CH[31]], \r\n",
        "                      'VBR': [30-CH[32], 30, 30]}\r\n",
        "    result['fuzzyDescription']['outputs']['omegaR']['M'] = omegaR_Member\r\n",
        "\r\n",
        "    omegaL_Member =  {'VSL': [0, 0, CH[33]], \r\n",
        "                      'SL': [CH[35]-CH[34], CH[35], CH[35]+CH[36]],\r\n",
        "                      'MBL': [CH[38]-CH[37], CH[38], CH[38]+CH[39]], \r\n",
        "                      'BL': [CH[41]-CH[40], CH[41], CH[41]+CH[42]], \r\n",
        "                      'VBL': [30-CH[43], 30, 30]}\r\n",
        "    result['fuzzyDescription']['outputs']['omegaL']['M'] = omegaL_Member\r\n",
        "    return result"
      ],
      "execution_count": 30,
      "outputs": []
    },
    {
      "cell_type": "markdown",
      "metadata": {
        "id": "NCcjm8hgc8D1"
      },
      "source": [
        "### Fuzzy Logic Controller"
      ]
    },
    {
      "cell_type": "markdown",
      "metadata": {
        "id": "VAmNv9U9A8AF"
      },
      "source": [
        "#### Singlevalue Functions"
      ]
    },
    {
      "cell_type": "code",
      "metadata": {
        "id": "3Q45mv7wiN6z"
      },
      "source": [
        "fitnessFunctionFLC_Energy = createFitnessFunction(simulationDescription, fromChromozomeToDescriptionFuzzy, createFuzzyController, energySelector)\n",
        "fitnessFunctionFLC_Distance = createFitnessFunction(simulationDescription, fromChromozomeToDescriptionFuzzy, createFuzzyController, distanceSelector)\n",
        "fitnessFunctionFLC_FullResults = createFitnessFunction(simulationDescription, fromChromozomeToDescriptionFuzzy, createFuzzyController)"
      ],
      "execution_count": 31,
      "outputs": []
    },
    {
      "cell_type": "markdown",
      "metadata": {
        "id": "QZp7QaaJA8AF"
      },
      "source": [
        "#### Multivalue Functions"
      ]
    },
    {
      "cell_type": "code",
      "metadata": {
        "id": "FKY8tIQDA8AF"
      },
      "source": [
        "fitnessFunctionFLC_EnergyMulti = singleAsMultiValue(fitnessFunctionFLC_Energy)\n",
        "fitnessFunctionFLC_DistanceMulti = singleAsMultiValue(fitnessFunctionFLC_Distance)\n",
        "fitnessFunctionFLC_FullResultsMulti = singleAsMultiValue(fitnessFunctionFLC_FullResults)"
      ],
      "execution_count": 32,
      "outputs": []
    },
    {
      "cell_type": "markdown",
      "metadata": {
        "id": "LEwb12LLbATd"
      },
      "source": [
        "### Circle"
      ]
    },
    {
      "cell_type": "markdown",
      "metadata": {
        "id": "IEFhTSZoA8AF"
      },
      "source": [
        "#### Singlevalue Functions"
      ]
    },
    {
      "cell_type": "code",
      "metadata": {
        "id": "cXNm1OIdhU-5"
      },
      "source": [
        "fitnessFunctionCircle_Energy = createFitnessFunction(simulationDescription, fromChromozomeToDescriptionCircle, createCircleControllerWithGain, energySelector)\n",
        "fitnessFunctionCircle_Distance = createFitnessFunction(simulationDescription, fromChromozomeToDescriptionCircle, createCircleControllerWithGain, distanceSelector)\n",
        "fitnessFunctionCircle_FullResults = createFitnessFunction(simulationDescription, fromChromozomeToDescriptionCircle, createCircleControllerWithGain)"
      ],
      "execution_count": 33,
      "outputs": []
    },
    {
      "cell_type": "markdown",
      "metadata": {
        "id": "kliCxgHxiKxH"
      },
      "source": [
        "#### Multivalue Functions"
      ]
    },
    {
      "cell_type": "code",
      "metadata": {
        "id": "KQ0BFNAciOJy"
      },
      "source": [
        "fitnessFunctionCircle_EnergyMulti = singleAsMultiValue(fitnessFunctionCircle_Energy)\n",
        "fitnessFunctionCircle_DistanceMulti = singleAsMultiValue(fitnessFunctionCircle_Distance)\n",
        "fitnessFunctionCircle_FullResultsMulti = singleAsMultiValue(fitnessFunctionCircle_FullResults)"
      ],
      "execution_count": 34,
      "outputs": []
    },
    {
      "cell_type": "markdown",
      "metadata": {
        "id": "G-zTw2gzXU3z"
      },
      "source": [
        "#### Demonstration"
      ]
    },
    {
      "cell_type": "code",
      "metadata": {
        "colab": {
          "base_uri": "https://localhost:8080/",
          "height": 264
        },
        "id": "MVv0GSxkXXU0",
        "outputId": "248baef0-2e5e-4d5c-cbae-6a3d80896373"
      },
      "source": [
        "def localDemo():\n",
        "    results = fitnessFunctionCircle_FullResults([4])\n",
        "    #print(results)\n",
        "    plt.plot(results['x'], results['y'])\n",
        "    \n",
        "if _runDemos:\n",
        "    localDemo()"
      ],
      "execution_count": 35,
      "outputs": [
        {
          "output_type": "display_data",
          "data": {
            "image/png": "[encoded data removed]",
            "text/plain": [
              "<Figure size 432x288 with 1 Axes>"
            ]
          },
          "metadata": {
            "tags": [],
            "needs_background": "light"
          }
        }
      ]
    },
    {
      "cell_type": "code",
      "metadata": {
        "colab": {
          "base_uri": "https://localhost:8080/",
          "height": 264
        },
        "id": "XAbkgsLNjXXy",
        "outputId": "f9a5b5d2-e192-41c7-acee-fc1a377ab240"
      },
      "source": [
        "def localDemo():\n",
        "    results = fitnessFunctionCircle_FullResultsMulti([[2], [16]])\n",
        "    plt.plot(results[0]['x'], results[0]['y'])\n",
        "    plt.plot(results[1]['x'], results[1]['y'])\n",
        "    \n",
        "if _runDemos:\n",
        "    localDemo()"
      ],
      "execution_count": 36,
      "outputs": [
        {
          "output_type": "display_data",
          "data": {
            "image/png": "[encoded data removed]",
            "text/plain": [
              "<Figure size 432x288 with 1 Axes>"
            ]
          },
          "metadata": {
            "tags": [],
            "needs_background": "light"
          }
        }
      ]
    },
    {
      "cell_type": "markdown",
      "metadata": {
        "id": "lOYiEMd5lHwv"
      },
      "source": [
        "### Robins"
      ]
    },
    {
      "cell_type": "markdown",
      "metadata": {
        "id": "Yum_AucTA8AH"
      },
      "source": [
        "#### Singlevalue Functions"
      ]
    },
    {
      "cell_type": "code",
      "metadata": {
        "id": "dimRqUwAlJnI"
      },
      "source": [
        "fitnessFunctionRobins_Energy = createFitnessFunction(simulationDescription, fromChromozomeToDescriptionCircle, createCircleControllerWithGain, energySelector)\n",
        "fitnessFunctionRobins_Distance = createFitnessFunction(simulationDescription, fromChromozomeToDescriptionCircle, createCircleControllerWithGain, distanceSelector)\n",
        "fitnessFunctionRobins_FullResults = createFitnessFunction(simulationDescription, fromChromozomeToDescriptionCircle, createCircleControllerWithGain)"
      ],
      "execution_count": 37,
      "outputs": []
    },
    {
      "cell_type": "markdown",
      "metadata": {
        "id": "Ab2qFZx6j5_P"
      },
      "source": [
        "#### Multivalue Functions"
      ]
    },
    {
      "cell_type": "code",
      "metadata": {
        "id": "sCKga8bXj-Bb"
      },
      "source": [
        "fitnessFunctionRobins_EnergyMulti = singleAsMultiValue(fitnessFunctionRobins_Energy)\n",
        "fitnessFunctionRobins_DistanceMulti = singleAsMultiValue(fitnessFunctionRobins_Distance)\n",
        "fitnessFunctionRobins_FullResultsMulti = singleAsMultiValue(fitnessFunctionRobins_FullResults)"
      ],
      "execution_count": 38,
      "outputs": []
    },
    {
      "cell_type": "markdown",
      "metadata": {
        "id": "Q_Hkrz5zl8GQ"
      },
      "source": [
        "## Computer Cluster Help"
      ]
    },
    {
      "cell_type": "markdown",
      "metadata": {
        "id": "UrV8gGOLME7f"
      },
      "source": [
        "Multivalue fitness function is a function that takes an array of chromosomes and returns another array containing the fitness values for all given chromosomes. The body of such function could be implemented as a parallel process which decreases the time needed for its evaluation.\n",
        "\n",
        "The parallel process might be implemented in different ways. One of them, and probably the best one, is the usage of distributed evaluation with help of a computer cluster. Computer cluster creation is a well-documented process with standard steps, thus, a scientist who wants to use this technique must just define a single environment, environment for the evaluation of a single fitness function. \n",
        "\n",
        "As an envelope around this environment, the web service might be used. However, this leads to asynchronous execution. As the optimization libraries for Python are synchronous, the connection between asynchronous and synchronous parts must be created."
      ]
    },
    {
      "cell_type": "markdown",
      "metadata": {
        "id": "6aDfyUMtA8AI"
      },
      "source": [
        "### Main Function for Server"
      ]
    },
    {
      "cell_type": "code",
      "metadata": {
        "id": "KkzH7SuAA8AI"
      },
      "source": [
        "def evaluateSingleFLCSimulation(description):\n",
        "    results = runSimulation(description, createFuzzyController, selectors)\n",
        "    return result"
      ],
      "execution_count": 39,
      "outputs": []
    },
    {
      "cell_type": "markdown",
      "metadata": {
        "id": "7witZAKHSm0-"
      },
      "source": [
        "### Async as Sync"
      ]
    },
    {
      "cell_type": "markdown",
      "metadata": {
        "id": "eOjYeP0QZAdB"
      },
      "source": [
        "For the ability to evaluate sets of simulations in parallel async functions should be used and maintained. For optimization algorithms, this must be callable for the synchronous environment and thus a conversion from async to sync must be done."
      ]
    },
    {
      "cell_type": "code",
      "metadata": {
        "id": "KVj2C_6RSoE2"
      },
      "source": [
        "import asyncio\n",
        "import threading\n",
        "#----------------------------------------\n",
        "# upgraded from https://stackoverflow.com/questions/49330905/how-to-run-a-coroutine-and-wait-it-result-from-a-sync-func-when-the-loop-is-runn\n",
        "#----------------------------------------\n",
        "\n",
        "def evalSet(asyncTask, values):\n",
        "    loop = asyncio.new_event_loop() # construct a new event loop\n",
        "\n",
        "    def run_forever_safe(loop):\n",
        "        loop.run_forever()\n",
        "        # for Python 3.7 and newer\n",
        "        # loop_tasks_all = asyncio.all_tasks(loop=loop)\n",
        "        # for Python 3.6\n",
        "        loop_tasks_all = asyncio.Task.all_tasks(loop=loop)\n",
        "\n",
        "        for task in loop_tasks_all: \n",
        "            task.cancel()\n",
        "\n",
        "        for task in loop_tasks_all:\n",
        "            if not (task.done() or task.cancelled()):\n",
        "                try:\n",
        "                    # wait for task cancellations\n",
        "                    loop.run_until_complete(task)\n",
        "                except asyncio.CancelledError: pass\n",
        "\n",
        "        loop.close()\n",
        "    \n",
        "    def stop_loop(loop):\n",
        "        ''' stops an event loop '''\n",
        "        loop.stop()\n",
        "        #print (\".:) LOOP STOPPED:\", loop.is_running())\n",
        "        \n",
        "    def await_sync(task):\n",
        "        ''' synchronously waits for a task '''\n",
        "        while not task.done(): \n",
        "            pass\n",
        "        #print(\".: AWAITED TASK DONE\")\n",
        "        return task.result()\n",
        "    \n",
        "    #-- closures for running and stopping the event-loop\n",
        "    run_loop_forever = lambda: run_forever_safe(loop)\n",
        "    close_loop_safe = lambda: loop.call_soon_threadsafe(stop_loop, loop)\n",
        "    \n",
        "    #-- make dedicated thread for running the event loop\n",
        "    thread = threading.Thread(target=run_loop_forever)\n",
        "\n",
        "    #-- add some tasks along with my particular task\n",
        "    evaluationTasks = [asyncio.run_coroutine_threadsafe(asyncTask(value), loop=loop) for value in values]\n",
        "\n",
        "    #-- begin the thread to run the event-loop\n",
        "    thread.start()\n",
        "\n",
        "    #-- _synchronously_ wait for the result of my task\n",
        "    results = [await_sync(task) for task in evaluationTasks]\n",
        "\n",
        "    # close the loop gracefully when everything is finished\n",
        "    close_loop_safe()\n",
        "    thread.join()\n",
        "    return results\n",
        "#----------------------------------------"
      ],
      "execution_count": 40,
      "outputs": []
    },
    {
      "cell_type": "markdown",
      "metadata": {
        "id": "VcEp1g5vSvk8"
      },
      "source": [
        "### Webservice Usage"
      ]
    },
    {
      "cell_type": "code",
      "metadata": {
        "colab": {
          "base_uri": "https://localhost:8080/"
        },
        "id": "bx7zSJkeTptg",
        "outputId": "725c881b-f69f-4f76-dc39-e42ab19470f5"
      },
      "source": [
        "!pip install aiohttp"
      ],
      "execution_count": 41,
      "outputs": [
        {
          "output_type": "stream",
          "text": [
            "Collecting aiohttp\n",
            "\u001b[?25l  Downloading https://files.pythonhosted.org/packages/ad/e6/d4b6235d776c9b33f853e603efede5aac5a34f71ca9d3877adb30492eb4e/aiohttp-3.7.3-cp36-cp36m-manylinux2014_x86_64.whl (1.3MB)\n",
            "\r\u001b[K     |▎                               | 10kB 18.9MB/s eta 0:00:01\r\u001b[K     |▌                               | 20kB 26.0MB/s eta 0:00:01\r\u001b[K     |▊                               | 30kB 28.0MB/s eta 0:00:01\r\u001b[K     |█                               | 40kB 19.1MB/s eta 0:00:01\r\u001b[K     |█▎                              | 51kB 16.0MB/s eta 0:00:01\r\u001b[K     |█▌                              | 61kB 17.9MB/s eta 0:00:01\r\u001b[K     |█▊                              | 71kB 13.9MB/s eta 0:00:01\r\u001b[K     |██                              | 81kB 14.5MB/s eta 0:00:01\r\u001b[K     |██▎                             | 92kB 14.6MB/s eta 0:00:01\r\u001b[K     |██▌                             | 102kB 13.4MB/s eta 0:00:01\r\u001b[K     |██▊                             | 112kB 13.4MB/s eta 0:00:01\r\u001b[K     |███                             | 122kB 13.4MB/s eta 0:00:01\r\u001b[K     |███▎                            | 133kB 13.4MB/s eta 0:00:01\r\u001b[K     |███▌                            | 143kB 13.4MB/s eta 0:00:01\r\u001b[K     |███▊                            | 153kB 13.4MB/s eta 0:00:01\r\u001b[K     |████                            | 163kB 13.4MB/s eta 0:00:01\r\u001b[K     |████▎                           | 174kB 13.4MB/s eta 0:00:01\r\u001b[K     |████▌                           | 184kB 13.4MB/s eta 0:00:01\r\u001b[K     |████▊                           | 194kB 13.4MB/s eta 0:00:01\r\u001b[K     |█████                           | 204kB 13.4MB/s eta 0:00:01\r\u001b[K     |█████▏                          | 215kB 13.4MB/s eta 0:00:01\r\u001b[K     |█████▌                          | 225kB 13.4MB/s eta 0:00:01\r\u001b[K     |█████▊                          | 235kB 13.4MB/s eta 0:00:01\r\u001b[K     |██████                          | 245kB 13.4MB/s eta 0:00:01\r\u001b[K     |██████▏                         | 256kB 13.4MB/s eta 0:00:01\r\u001b[K     |██████▌                         | 266kB 13.4MB/s eta 0:00:01\r\u001b[K     |██████▊                         | 276kB 13.4MB/s eta 0:00:01\r\u001b[K     |███████                         | 286kB 13.4MB/s eta 0:00:01\r\u001b[K     |███████▏                        | 296kB 13.4MB/s eta 0:00:01\r\u001b[K     |███████▌                        | 307kB 13.4MB/s eta 0:00:01\r\u001b[K     |███████▊                        | 317kB 13.4MB/s eta 0:00:01\r\u001b[K     |████████                        | 327kB 13.4MB/s eta 0:00:01\r\u001b[K     |████████▏                       | 337kB 13.4MB/s eta 0:00:01\r\u001b[K     |████████▌                       | 348kB 13.4MB/s eta 0:00:01\r\u001b[K     |████████▊                       | 358kB 13.4MB/s eta 0:00:01\r\u001b[K     |█████████                       | 368kB 13.4MB/s eta 0:00:01\r\u001b[K     |█████████▏                      | 378kB 13.4MB/s eta 0:00:01\r\u001b[K     |█████████▍                      | 389kB 13.4MB/s eta 0:00:01\r\u001b[K     |█████████▊                      | 399kB 13.4MB/s eta 0:00:01\r\u001b[K     |██████████                      | 409kB 13.4MB/s eta 0:00:01\r\u001b[K     |██████████▏                     | 419kB 13.4MB/s eta 0:00:01\r\u001b[K     |██████████▍                     | 430kB 13.4MB/s eta 0:00:01\r\u001b[K     |██████████▊                     | 440kB 13.4MB/s eta 0:00:01\r\u001b[K     |███████████                     | 450kB 13.4MB/s eta 0:00:01\r\u001b[K     |███████████▏                    | 460kB 13.4MB/s eta 0:00:01\r\u001b[K     |███████████▍                    | 471kB 13.4MB/s eta 0:00:01\r\u001b[K     |███████████▊                    | 481kB 13.4MB/s eta 0:00:01\r\u001b[K     |████████████                    | 491kB 13.4MB/s eta 0:00:01\r\u001b[K     |████████████▏                   | 501kB 13.4MB/s eta 0:00:01\r\u001b[K     |████████████▍                   | 512kB 13.4MB/s eta 0:00:01\r\u001b[K     |████████████▊                   | 522kB 13.4MB/s eta 0:00:01\r\u001b[K     |█████████████                   | 532kB 13.4MB/s eta 0:00:01\r\u001b[K     |█████████████▏                  | 542kB 13.4MB/s eta 0:00:01\r\u001b[K     |█████████████▍                  | 552kB 13.4MB/s eta 0:00:01\r\u001b[K     |█████████████▊                  | 563kB 13.4MB/s eta 0:00:01\r\u001b[K     |██████████████                  | 573kB 13.4MB/s eta 0:00:01\r\u001b[K     |██████████████▏                 | 583kB 13.4MB/s eta 0:00:01\r\u001b[K     |██████████████▍                 | 593kB 13.4MB/s eta 0:00:01\r\u001b[K     |██████████████▋                 | 604kB 13.4MB/s eta 0:00:01\r\u001b[K     |███████████████                 | 614kB 13.4MB/s eta 0:00:01\r\u001b[K     |███████████████▏                | 624kB 13.4MB/s eta 0:00:01\r\u001b[K     |███████████████▍                | 634kB 13.4MB/s eta 0:00:01\r\u001b[K     |███████████████▋                | 645kB 13.4MB/s eta 0:00:01\r\u001b[K     |████████████████                | 655kB 13.4MB/s eta 0:00:01\r\u001b[K     |████████████████▏               | 665kB 13.4MB/s eta 0:00:01\r\u001b[K     |████████████████▍               | 675kB 13.4MB/s eta 0:00:01\r\u001b[K     |████████████████▋               | 686kB 13.4MB/s eta 0:00:01\r\u001b[K     |█████████████████               | 696kB 13.4MB/s eta 0:00:01\r\u001b[K     |█████████████████▏              | 706kB 13.4MB/s eta 0:00:01\r\u001b[K     |█████████████████▍              | 716kB 13.4MB/s eta 0:00:01\r\u001b[K     |█████████████████▋              | 727kB 13.4MB/s eta 0:00:01\r\u001b[K     |██████████████████              | 737kB 13.4MB/s eta 0:00:01\r\u001b[K     |██████████████████▏             | 747kB 13.4MB/s eta 0:00:01\r\u001b[K     |██████████████████▍             | 757kB 13.4MB/s eta 0:00:01\r\u001b[K     |██████████████████▋             | 768kB 13.4MB/s eta 0:00:01\r\u001b[K     |██████████████████▉             | 778kB 13.4MB/s eta 0:00:01\r\u001b[K     |███████████████████▏            | 788kB 13.4MB/s eta 0:00:01\r\u001b[K     |███████████████████▍            | 798kB 13.4MB/s eta 0:00:01\r\u001b[K     |███████████████████▋            | 808kB 13.4MB/s eta 0:00:01\r\u001b[K     |███████████████████▉            | 819kB 13.4MB/s eta 0:00:01\r\u001b[K     |████████████████████▏           | 829kB 13.4MB/s eta 0:00:01\r\u001b[K     |████████████████████▍           | 839kB 13.4MB/s eta 0:00:01\r\u001b[K     |████████████████████▋           | 849kB 13.4MB/s eta 0:00:01\r\u001b[K     |████████████████████▉           | 860kB 13.4MB/s eta 0:00:01\r\u001b[K     |█████████████████████▏          | 870kB 13.4MB/s eta 0:00:01\r\u001b[K     |█████████████████████▍          | 880kB 13.4MB/s eta 0:00:01\r\u001b[K     |█████████████████████▋          | 890kB 13.4MB/s eta 0:00:01\r\u001b[K     |█████████████████████▉          | 901kB 13.4MB/s eta 0:00:01\r\u001b[K     |██████████████████████▏         | 911kB 13.4MB/s eta 0:00:01\r\u001b[K     |██████████████████████▍         | 921kB 13.4MB/s eta 0:00:01\r\u001b[K     |██████████████████████▋         | 931kB 13.4MB/s eta 0:00:01\r\u001b[K     |██████████████████████▉         | 942kB 13.4MB/s eta 0:00:01\r\u001b[K     |███████████████████████         | 952kB 13.4MB/s eta 0:00:01\r\u001b[K     |███████████████████████▍        | 962kB 13.4MB/s eta 0:00:01\r\u001b[K     |███████████████████████▋        | 972kB 13.4MB/s eta 0:00:01\r\u001b[K     |███████████████████████▉        | 983kB 13.4MB/s eta 0:00:01\r\u001b[K     |████████████████████████        | 993kB 13.4MB/s eta 0:00:01\r\u001b[K     |████████████████████████▍       | 1.0MB 13.4MB/s eta 0:00:01\r\u001b[K     |████████████████████████▋       | 1.0MB 13.4MB/s eta 0:00:01\r\u001b[K     |████████████████████████▉       | 1.0MB 13.4MB/s eta 0:00:01\r\u001b[K     |█████████████████████████       | 1.0MB 13.4MB/s eta 0:00:01\r\u001b[K     |█████████████████████████▍      | 1.0MB 13.4MB/s eta 0:00:01\r\u001b[K     |█████████████████████████▋      | 1.1MB 13.4MB/s eta 0:00:01\r\u001b[K     |█████████████████████████▉      | 1.1MB 13.4MB/s eta 0:00:01\r\u001b[K     |██████████████████████████      | 1.1MB 13.4MB/s eta 0:00:01\r\u001b[K     |██████████████████████████▍     | 1.1MB 13.4MB/s eta 0:00:01\r\u001b[K     |██████████████████████████▋     | 1.1MB 13.4MB/s eta 0:00:01\r\u001b[K     |██████████████████████████▉     | 1.1MB 13.4MB/s eta 0:00:01\r\u001b[K     |███████████████████████████     | 1.1MB 13.4MB/s eta 0:00:01\r\u001b[K     |███████████████████████████▍    | 1.1MB 13.4MB/s eta 0:00:01\r\u001b[K     |███████████████████████████▋    | 1.1MB 13.4MB/s eta 0:00:01\r\u001b[K     |███████████████████████████▉    | 1.1MB 13.4MB/s eta 0:00:01\r\u001b[K     |████████████████████████████    | 1.2MB 13.4MB/s eta 0:00:01\r\u001b[K     |████████████████████████████▎   | 1.2MB 13.4MB/s eta 0:00:01\r\u001b[K     |████████████████████████████▋   | 1.2MB 13.4MB/s eta 0:00:01\r\u001b[K     |████████████████████████████▉   | 1.2MB 13.4MB/s eta 0:00:01\r\u001b[K     |█████████████████████████████   | 1.2MB 13.4MB/s eta 0:00:01\r\u001b[K     |█████████████████████████████▎  | 1.2MB 13.4MB/s eta 0:00:01\r\u001b[K     |█████████████████████████████▋  | 1.2MB 13.4MB/s eta 0:00:01\r\u001b[K     |█████████████████████████████▉  | 1.2MB 13.4MB/s eta 0:00:01\r\u001b[K     |██████████████████████████████  | 1.2MB 13.4MB/s eta 0:00:01\r\u001b[K     |██████████████████████████████▎ | 1.2MB 13.4MB/s eta 0:00:01\r\u001b[K     |██████████████████████████████▋ | 1.3MB 13.4MB/s eta 0:00:01\r\u001b[K     |██████████████████████████████▉ | 1.3MB 13.4MB/s eta 0:00:01\r\u001b[K     |███████████████████████████████ | 1.3MB 13.4MB/s eta 0:00:01\r\u001b[K     |███████████████████████████████▎| 1.3MB 13.4MB/s eta 0:00:01\r\u001b[K     |███████████████████████████████▋| 1.3MB 13.4MB/s eta 0:00:01\r\u001b[K     |███████████████████████████████▉| 1.3MB 13.4MB/s eta 0:00:01\r\u001b[K     |████████████████████████████████| 1.3MB 13.4MB/s \n",
            "\u001b[?25hCollecting idna-ssl>=1.0; python_version < \"3.7\"\n",
            "  Downloading https://files.pythonhosted.org/packages/46/03/07c4894aae38b0de52b52586b24bf189bb83e4ddabfe2e2c8f2419eec6f4/idna-ssl-1.1.0.tar.gz\n",
            "Collecting yarl<2.0,>=1.0\n",
            "\u001b[?25l  Downloading https://files.pythonhosted.org/packages/da/08/52b26b44bce7b818b410aee37c5e424c9ea420c557bca97dc2adac29b151/yarl-1.6.3-cp36-cp36m-manylinux2014_x86_64.whl (293kB)\n",
            "\u001b[K     |████████████████████████████████| 296kB 46.6MB/s \n",
            "\u001b[?25hCollecting multidict<7.0,>=4.5\n",
            "\u001b[?25l  Downloading https://files.pythonhosted.org/packages/a1/35/b22524d6b9cacfb4c5eff413a069bbc17c6ea628e54da5c6c989998ced5f/multidict-5.1.0-cp36-cp36m-manylinux2014_x86_64.whl (141kB)\n",
            "\u001b[K     |████████████████████████████████| 143kB 48.1MB/s \n",
            "\u001b[?25hRequirement already satisfied: attrs>=17.3.0 in /usr/local/lib/python3.6/dist-packages (from aiohttp) (20.3.0)\n",
            "Requirement already satisfied: chardet<4.0,>=2.0 in /usr/local/lib/python3.6/dist-packages (from aiohttp) (3.0.4)\n",
            "Collecting async-timeout<4.0,>=3.0\n",
            "  Downloading https://files.pythonhosted.org/packages/e1/1e/5a4441be21b0726c4464f3f23c8b19628372f606755a9d2e46c187e65ec4/async_timeout-3.0.1-py3-none-any.whl\n",
            "Requirement already satisfied: typing-extensions>=3.6.5 in /usr/local/lib/python3.6/dist-packages (from aiohttp) (3.7.4.3)\n",
            "Requirement already satisfied: idna>=2.0 in /usr/local/lib/python3.6/dist-packages (from idna-ssl>=1.0; python_version < \"3.7\"->aiohttp) (2.10)\n",
            "Building wheels for collected packages: idna-ssl\n",
            "  Building wheel for idna-ssl (setup.py) ... \u001b[?25l\u001b[?25hdone\n",
            "  Created wheel for idna-ssl: filename=idna_ssl-1.1.0-cp36-none-any.whl size=3163 sha256=a1ece39c8043d6170b0f81980773f5f50cec4f03fbf8645e0d2f13a3300ca84d\n",
            "  Stored in directory: /root/.cache/pip/wheels/d3/00/b3/32d613e19e08a739751dd6bf998cfed277728f8b2127ad4eb7\n",
            "Successfully built idna-ssl\n",
            "Installing collected packages: idna-ssl, multidict, yarl, async-timeout, aiohttp\n",
            "Successfully installed aiohttp-3.7.3 async-timeout-3.0.1 idna-ssl-1.1.0 multidict-5.1.0 yarl-1.6.3\n"
          ],
          "name": "stdout"
        }
      ]
    },
    {
      "cell_type": "code",
      "metadata": {
        "id": "NdCedXPPhP_m"
      },
      "source": [
        "import aiohttp\r\n",
        "import asyncio\r\n",
        "\r\n",
        "url = 'https://ourserver/api/evaluator/FFFF' # you must replace this url address which was unable to run with your one.\r\n",
        "\r\n",
        "async def fitnessFunctionAsWebservice(value):\r\n",
        "    #async with aiohttp.ClientSession() as session:\r\n",
        "    async with aiohttp.ClientSession(connector=aiohttp.TCPConnector(ssl=False)) as session:\r\n",
        "        response = await session.post(url, json=value, headers = {'content-type': 'application/x-json'})\r\n",
        "        json_body = await response.json()\r\n",
        "    return json_body"
      ],
      "execution_count": 42,
      "outputs": []
    },
    {
      "cell_type": "code",
      "metadata": {
        "id": "q5VTH7O5SxqN"
      },
      "source": [
        "import time\n",
        "def mS(start = 0):\n",
        "    return int(round(time.time() * 1000)) - start"
      ],
      "execution_count": 43,
      "outputs": []
    },
    {
      "cell_type": "markdown",
      "metadata": {
        "id": "bm2qPPFtZs98"
      },
      "source": [
        "This part encapsulates a remote fitness function evaluator. The parameter describes fully the simulation thus a remote evaluator does not make any conversion, just runs the described simulation and returns the results.\n",
        "\n",
        "This function is crucial in the use of a computer cluster. Also, this is a point where the evaluation could be redirected to proper sources."
      ]
    },
    {
      "cell_type": "markdown",
      "metadata": {
        "id": "fDkAtVnkYZRJ"
      },
      "source": [
        "For Vectorized Evaluation"
      ]
    },
    {
      "cell_type": "code",
      "metadata": {
        "id": "KjZAXpD4YVO_"
      },
      "source": [
        "import copy\r\n",
        "def fitnessFunction_Multi_All(Chromosomes):\r\n",
        "    descriptions = []\r\n",
        "    for chromosome in Chromosomes:\r\n",
        "        tempDescription = copy.deepcopy(simulationDescription)\r\n",
        "        descriptions.append(update_fitnessFunctionDescription(tempDescription, chromosome))\r\n",
        "    results = evalSet(fitnessFunctionAsWebservice, descriptions)\r\n",
        "    return results"
      ],
      "execution_count": 44,
      "outputs": []
    },
    {
      "cell_type": "code",
      "metadata": {
        "id": "YrBnuIERnD7N"
      },
      "source": [
        "async def localDemo():\n",
        "    \n",
        "    simulationDescription = {\n",
        "        'robotState0': {\n",
        "            'x': 0,\n",
        "            'y': 0,\n",
        "            'theta': -3.14 / 4\n",
        "        },\n",
        "\n",
        "        'path': [\n",
        "            [0, 0, 0],  #X, Y, orientation\n",
        "            [10, 0, 0], #X, Y, orientation\n",
        "            [10, 10, 0], #X, Y, orientation\n",
        "            [20, 10, 0], #X, Y, orientation\n",
        "            [20, 20, 0]\n",
        "        ],\n",
        "\n",
        "        'robotParams': {\n",
        "            'r': 0.0925,\n",
        "            'b': 0.37,\n",
        "            'm': 9,\n",
        "            'I': 0.16245,\n",
        "            #'motorParams': None,\n",
        "            'motorParams': {\n",
        "                'J': 0.01,\n",
        "                'B': 0.1,\n",
        "\n",
        "                'Kt': 0.01,\n",
        "                'Ke': 0.01,\n",
        "                'K': 0.01,\n",
        "\n",
        "                'Ra': 0.1,\n",
        "                'La': 0.01\n",
        "            }\n",
        "        },\n",
        "\n",
        "        'controllerParams': {\n",
        "            'omega_ri': 0, 'vri': 2.0,'lowVelocityLimit': 0.2, \n",
        "            'highVelocityLimit': 2.0, 'lowOmegaLimit': -0.75, 'highOmegaLimit': 0.75\n",
        "        },\n",
        "\n",
        "        'simulationParams': {\n",
        "            't0': 0,\n",
        "            't_bound': 100,\n",
        "            'max_step': 0.05\n",
        "        }\n",
        "    }    \n",
        "    chromosome = [1,1,1,1,1,2,1,1,3,1,1,  1.57,1.57,-1.57,1.57,1.57,0,1.57,1.57,1.57,1.57,1.57,  \n",
        "                 7.5,7.5,7.5,7.5,7.5,15,7.5,7.5,22.5,7.5,7.5,  7.5,7.5,7.5,7.5,7.5,15,7.5,7.5,22.5,7.5,7.5]\n",
        "    webServiceSimulationDescription = fromChromozomeToDescriptionFuzzy(chromosome, simulationDescription)\n",
        "    result = await fitnessFunctionAsWebservice(webServiceSimulationDescription)\n",
        "    plt.plot(result['x'], result['y'])\n",
        "    #print(result)\n",
        "    \n",
        "if _runDemos and useCluster:\n",
        "  localDemo()"
      ],
      "execution_count": 45,
      "outputs": []
    },
    {
      "cell_type": "code",
      "metadata": {
        "id": "ntFwAdzwHe90"
      },
      "source": [
        "def callResultsFLC():\n",
        "    sTime = mS()        \n",
        "    results = evalSet(fitnessFunctionAsWebservice, [fitnessFunctionDescription])\n",
        "    return results"
      ],
      "execution_count": 46,
      "outputs": []
    },
    {
      "cell_type": "markdown",
      "metadata": {
        "id": "gchBFuIHSncf"
      },
      "source": [
        "### Remote / Cluster Fitness Function Evaluation"
      ]
    },
    {
      "cell_type": "code",
      "metadata": {
        "id": "QBALnGhNStCE"
      },
      "source": [
        "def fitnessFunctionFLC_FullMultiRemote(chromosomes):\n",
        "    descriptions = []\n",
        "    for chromosome in chromosomes:\n",
        "        description = fromChromozomeToDescriptionFuzzy(simulationDescription, chromosome)\n",
        "        descriptions.append(description)\n",
        "\n",
        "    # Pythonic way:\n",
        "    # descriptions = [fromChromozomeToDescriptionFuzzy(simulationDescription, chromosome) for chromosome in chromosomes]\n",
        "        \n",
        "    results = evalSet(fitnessFunctionAsWebservice, descriptions)\n",
        "    return results\n",
        "\n",
        "def fitnessFunctionFLC_EnergyMultiRemote(chromosomes):\n",
        "    results = fitnessFunctionFLC_FullMultiRemote(chromosomes)\n",
        "    \n",
        "    selectedResults = []\n",
        "    for result in results:\n",
        "        selectedResults.append(result['E'])\n",
        "\n",
        "    # Pythonic way:\n",
        "    # selectedResults = [result['E'] for result in results]\n",
        "\n",
        "    return selectedResults\n",
        "\n",
        "def fitnessFunctionFLC_DistanceMultiRemote(chromosomes):\n",
        "    results = fitnessFunctionFLC_FullMultiRemote(chromosomes)\n",
        "\n",
        "    selectedResults = []\n",
        "    for result in results:\n",
        "        selectedResults.append(result['E'])\n",
        "    return selectedResults"
      ],
      "execution_count": 47,
      "outputs": []
    },
    {
      "cell_type": "markdown",
      "metadata": {
        "id": "jWxJuyY4VWx2"
      },
      "source": [
        "### Decision about Cluster Use"
      ]
    },
    {
      "cell_type": "code",
      "metadata": {
        "id": "KvzIn4p8VZ44"
      },
      "source": [
        "if useCluster:\n",
        "    # TODO, redefine for cluster use\n",
        "    fitnessFunctionFLC_EnergyMulti = fitnessFunctionFLC_EnergyMultiRemote#singleAsMultiValue(fitnessFunctionFLC_Energy)\n",
        "    fitnessFunctionFLC_DistanceMulti = fitnessFunctionFLC_DistanceMultiRemote#singleAsMultiValue(fitnessFunctionFLC_Distance)\n",
        "    fitnessFunctionFLC_FullResultsMulti = fitnessFunctionFLC_FullMultiRemote#singleAsMultiValue(fitnessFunctionFLC_FullResults)  \n",
        "    pass"
      ],
      "execution_count": 48,
      "outputs": []
    },
    {
      "cell_type": "markdown",
      "metadata": {
        "id": "imNDlhwkl3D9"
      },
      "source": [
        "## Optimization\r\n",
        "For optimization, the pymoo library has been chosen. This library allows simultaneous fitness function evaluation. Such a ability is crucial for computer cluster usage."
      ]
    },
    {
      "cell_type": "markdown",
      "metadata": {
        "id": "dDEnvApgmIIt"
      },
      "source": [
        "### Inevitable Imports"
      ]
    },
    {
      "cell_type": "code",
      "metadata": {
        "colab": {
          "base_uri": "https://localhost:8080/"
        },
        "id": "vYv2mMOxA8AK",
        "outputId": "8d5b5420-cfdf-4dbf-ca19-533808f3188c"
      },
      "source": [
        "!pip install pymoo"
      ],
      "execution_count": 49,
      "outputs": [
        {
          "output_type": "stream",
          "text": [
            "Collecting pymoo\n",
            "\u001b[?25l  Downloading https://files.pythonhosted.org/packages/07/11/0591960f255d55325e516c2babe3586385dc67c4fae074d75498f535a703/pymoo-0.4.2.1.tar.gz (3.7MB)\n",
            "\u001b[K     |████████████████████████████████| 3.7MB 12.3MB/s \n",
            "\u001b[?25hRequirement already satisfied: numpy>=1.15 in /usr/local/lib/python3.6/dist-packages (from pymoo) (1.19.5)\n",
            "Requirement already satisfied: scipy>=1.1 in /usr/local/lib/python3.6/dist-packages (from pymoo) (1.4.1)\n",
            "Requirement already satisfied: matplotlib>=3 in /usr/local/lib/python3.6/dist-packages (from pymoo) (3.2.2)\n",
            "Requirement already satisfied: autograd>=1.3 in /usr/local/lib/python3.6/dist-packages (from pymoo) (1.3)\n",
            "Collecting cma==2.7\n",
            "\u001b[?25l  Downloading https://files.pythonhosted.org/packages/b9/3b/87a4efbcfeaf3172d81ef843f0b0c34c3ba60ec884aa6777f34f68b57418/cma-2.7.0-py2.py3-none-any.whl (239kB)\n",
            "\u001b[K     |████████████████████████████████| 245kB 44.6MB/s \n",
            "\u001b[?25hRequirement already satisfied: cycler>=0.10 in /usr/local/lib/python3.6/dist-packages (from matplotlib>=3->pymoo) (0.10.0)\n",
            "Requirement already satisfied: pyparsing!=2.0.4,!=2.1.2,!=2.1.6,>=2.0.1 in /usr/local/lib/python3.6/dist-packages (from matplotlib>=3->pymoo) (2.4.7)\n",
            "Requirement already satisfied: python-dateutil>=2.1 in /usr/local/lib/python3.6/dist-packages (from matplotlib>=3->pymoo) (2.8.1)\n",
            "Requirement already satisfied: kiwisolver>=1.0.1 in /usr/local/lib/python3.6/dist-packages (from matplotlib>=3->pymoo) (1.3.1)\n",
            "Requirement already satisfied: future>=0.15.2 in /usr/local/lib/python3.6/dist-packages (from autograd>=1.3->pymoo) (0.16.0)\n",
            "Requirement already satisfied: six in /usr/local/lib/python3.6/dist-packages (from cycler>=0.10->matplotlib>=3->pymoo) (1.15.0)\n",
            "Building wheels for collected packages: pymoo\n",
            "  Building wheel for pymoo (setup.py) ... \u001b[?25l\u001b[?25hdone\n",
            "  Created wheel for pymoo: filename=pymoo-0.4.2.1-cp36-cp36m-linux_x86_64.whl size=1344721 sha256=467e2f584def2eb64700f7535fd315982ba9613765cebb5f3a41c33b588771d2\n",
            "  Stored in directory: /root/.cache/pip/wheels/24/1a/15/c95ef6c978305899c8b374fd3a36dd494a46a63b2b32c6c5c5\n",
            "Successfully built pymoo\n",
            "Installing collected packages: cma, pymoo\n",
            "Successfully installed cma-2.7.0 pymoo-0.4.2.1\n"
          ],
          "name": "stdout"
        }
      ]
    },
    {
      "cell_type": "code",
      "metadata": {
        "id": "l97DupkDl8By"
      },
      "source": [
        "import time\n",
        "from pymoo.algorithms.so_genetic_algorithm import GA\n",
        "from pymoo.factory import get_sampling, get_crossover, get_mutation\n",
        "from pymoo.model.problem import Problem\n",
        "from pymoo.optimize import minimize\n",
        "from pymoo.factory import get_termination\n",
        "from pymoo.visualization.scatter import Scatter"
      ],
      "execution_count": 50,
      "outputs": []
    },
    {
      "cell_type": "markdown",
      "metadata": {
        "id": "VyN_DjJKmL-W"
      },
      "source": [
        "### Formal Problem Description"
      ]
    },
    {
      "cell_type": "code",
      "metadata": {
        "id": "C1lN4F2QA8AL"
      },
      "source": [
        "\n",
        "# TODO, proper formating\n",
        "problemParametersSetA = [0, 0, 0, 0, 0, 0.75, 0, 0, 1.25, 0, 0,       0, 0, -3.14, 0, 0, -1,  0, 0, 1,  0, 0]\n",
        "problemParametersSetB = [0, 0, 0, 0, 0, 12,   0, 0, 18,   0, 0,       0, 0,  0,    0, 0,  12, 0, 0, 18, 0, 0]\n",
        "chromosomeFLCLow = [*problemParametersSetA, *problemParametersSetB]\n",
        "\n",
        "problemParametersSetC = [2,  2,  0.75, 2,  2,  1.25, 2,  2,  2,  2,  2,       6.28, 6.28, -1, 6.28, 6.28, 1,  6.28, 6.28, 3.14, 6.28, 6.28]\n",
        "problemParametersSetD = [30, 30, 12,   30, 30, 18,   30, 30, 30, 30, 30,      30,   30,   12, 30,   30,   18, 30,   30,   30,   30,   30]\n",
        "chromosomeFLCUp = [*problemParametersSetC, *problemParametersSetD]\n",
        "\n",
        "if useCluster:\n",
        "  runElementWiseEvaluation = False\n",
        "else:\n",
        "  runElementWiseEvaluation = True\n",
        "  \n",
        "class MyProblem(Problem):\n",
        "    def __init__(self):\n",
        "        self.SpecialCounter = 0\n",
        "        super().__init__(n_var=44,\n",
        "                         n_obj=1,\n",
        "                         n_constr=1,\n",
        "                         xl=np.array([*problemParametersSetA, *problemParametersSetB]),\n",
        "                         xu=np.array([*problemParametersSetC, *problemParametersSetD]),\n",
        "                         elementwise_evaluation=runElementWiseEvaluation)\n",
        "    def _evaluate(self, Chromosome, out, *args, **kwargs):\n",
        "        if useCluster:\n",
        "           results = fitnessFunction_Multi_All(Chromosome)\n",
        "           f1 = np.array([result['E'] for result in results])      \n",
        "           #f2 = np.array([result['d'] for result in results])\n",
        "           g1 = np.array([result['d'] - 50 for result in results])\n",
        "\n",
        "           out[\"F\"] = f1\n",
        "           out[\"G\"] = g1\n",
        "        else:        \n",
        "          self.SpecialCounter = self.SpecialCounter + 1\n",
        "          if self.SpecialCounter >= 99:\n",
        "              print()\n",
        "              self.SpecialCounter = 0\n",
        "          print('.', end='')\n",
        "          try:\n",
        "              if runElementWiseEvaluation:\n",
        "                  allResults = fitnessFunctionFLC_FullResults(Chromosome)\n",
        "                  f1 = energySelector(allResults) # used to evaluate the energy consumption\n",
        "                  g1 = distanceSelector(allResults) - 50 # constraint for travel distance, this value should be changed follow the given path\n",
        "              else:\n",
        "                  allResults = fitnessFunctionFLC_FullResultsMulti(Chromosome)\n",
        "                  f1 = [energySelector(result) for result in allResults] # used to evaluate the energy consumption\n",
        "                  g1 = [distanceSelector(result) - 50 for result in allResults]\n",
        "              out[\"F\"] = f1\n",
        "              out[\"G\"] = g1\n",
        "          except:\n",
        "              print(Chromosome)\n"
      ],
      "execution_count": 51,
      "outputs": []
    },
    {
      "cell_type": "markdown",
      "metadata": {
        "id": "JpLkmGLJuagm"
      },
      "source": [
        "### Optimization Problem Solution"
      ]
    },
    {
      "cell_type": "code",
      "metadata": {
        "id": "wswUSSG7ufun",
        "colab": {
          "base_uri": "https://localhost:8080/",
          "height": 1000
        },
        "outputId": "4b2fdb49-12b5-41cb-fc2f-646df86634d3"
      },
      "source": [
        "\n",
        "start_time = time.time()\n",
        "problem = MyProblem()\n",
        "\n",
        "algorithm = GA(\n",
        "    pop_size=50,\n",
        "    eliminate_duplicates=True)\n",
        "\n",
        "termination = get_termination(\"n_gen\",30) \n",
        "\n",
        "res = minimize(problem,\n",
        "               algorithm,\n",
        "               termination,\n",
        "               seed=1,\n",
        "               save_history=True,\n",
        "               verbose=True)\n",
        "\n",
        "print(\"Best solution found: \\nBest_Chromosome = %s\\nOptimal E = %s\" % (res.X, res.F))\n",
        "print(\"Time required in second = %s\" % (time.time() - start_time))\n",
        "\n",
        "Best_Chromosome = res.X\n"
      ],
      "execution_count": 52,
      "outputs": [
        {
          "output_type": "stream",
          "text": [
            "....[ 1.12206044  0.03729458  0.6004745   0.46594855  1.61421039  0.94393032\n",
            "  1.72708371  1.49424329  1.66718018  0.27291045  0.11983538  0.7620369\n",
            "  0.2797858  -2.90996256  1.41745465  4.4775708   0.11943396  0.07885156\n",
            "  0.45199848  3.06997135  3.5676709   1.27668151  7.56977234 22.31477562\n",
            "  2.34515377 17.44076782 29.10059967 17.08097281  7.19543277 14.81309143\n",
            " 25.43946862 24.86942699  4.70374184  0.55728607  2.10066431  5.83614133\n",
            " 18.18988385 17.06554311 13.90417446 29.65848463 17.39235658 22.56169407\n",
            " 16.52844657 22.36003293]\n",
            ".[ 1.33846579  0.52983912  0.04975113  0.7401684   1.25943501  0.855087\n",
            "  1.50551111  0.13307296  1.44523632  1.60950913  0.38686857  4.01581433\n",
            "  3.29492954 -1.16091094  1.65350372  0.41423565  0.47013193  4.84927803\n",
            "  5.70108355  2.99442023  0.08761588  1.4717939  18.50335071 28.47048962\n",
            " 11.40211343 16.69959565 27.46819049 15.84939725 11.70023142 14.57972001\n",
            " 25.2517258  16.48643765 27.7854428  27.56200307 11.84626839 11.55915034\n",
            "  5.21867     3.78988558 12.81047495 15.16986497  0.64574416 29.37564253\n",
            " 24.81346414  0.45056942]\n",
            ".[ 0.35239251  0.66412715  0.09824763  1.61898138  0.68947331  1.22005374\n",
            "  1.16402836  1.75766397  1.88355083  1.81078464  0.91976053  3.431058\n",
            "  5.01523055 -2.52856166  3.07879212  3.76241273 -0.96893345  3.72706324\n",
            "  2.72348747  2.72775153  1.97973736  5.60734109 17.33571646  5.52030605\n",
            "  9.45515081 18.36093531  1.61727816 14.52116208 20.3720651  27.55805334\n",
            " 18.0048243  29.30277447 11.29740944 29.21350615 18.14148303  9.9461497\n",
            " 17.24134514 18.84228595 13.71345769 17.60500022 22.50065291 28.29976604\n",
            " 22.65246565 20.94171745]\n",
            ".[ 1.72895886  0.64536199  0.50309159  0.90174787  0.7642055   0.95540567\n",
            "  0.80295917  0.63476789  1.71643953  0.86049454  1.94760416  4.2565896\n",
            "  1.2470189  -2.22685984  2.15621439  5.00917169  0.75999658  5.67612748\n",
            "  4.16188042  1.57824568  1.58486289  5.36875908 15.83143939 24.06483252\n",
            "  6.86986221 21.99427576 15.57034882 16.62530346 17.06573972 13.97129636\n",
            " 22.1122669   2.04628045 11.33772538  2.38878233 29.48451341  2.17935422\n",
            " 24.35576093 26.24884935 16.13047951 17.08483238  4.8291431  23.60256027\n",
            " 10.35516153  6.75119873]\n",
            ".[ 1.18502374  0.62453968  0.68722917  1.81927105  0.51423659  0.80544565\n",
            "  0.38592546  0.99916834  1.79643925  0.41638888  0.49606712  5.34849937\n",
            "  2.61152995 -1.82029396  1.46742335  0.64035439  0.03171403  2.9964454\n",
            "  0.95877792  2.33066534  3.41638355  4.10798254  4.3363662  22.54583451\n",
            "  2.66458968 15.58055473 23.55888085 12.13398257  9.73087379 26.18767129\n",
            " 28.13651529 16.15321778 25.99824822 28.49417974 24.79220993 10.24938533\n",
            "  2.96230205 19.53912997 16.22110193 18.30722438 23.98845785 18.41485464\n",
            " 23.10716204 21.95185802]\n",
            ".[ 0.51939679  0.5141386   0.47422749  0.69059492  1.59317736  0.97307312\n",
            "  1.56549883  1.98094357  1.47518625  0.28601166  1.80261687  3.4009929\n",
            "  6.12136953 -1.77766658  6.24177379  3.42932465  0.05285187  0.85048723\n",
            "  2.23382847  1.05610773  1.00728173  4.68260157  0.9119907  10.99629292\n",
            " 10.34815503 20.78033153 20.72826426 13.13182081 13.25712842 17.44732222\n",
            " 29.87702049  6.11718676  7.43198705  7.86519251 22.5051724   5.48370393\n",
            "  1.70788315 15.25548722 13.27176099 23.95812734  8.91994145 18.33127214\n",
            " 17.80297348 25.31521287]\n",
            ".[ 0.76203225  1.49971662  0.38335611  1.08190361  1.91886864  1.15198045\n",
            "  0.06464613  1.4187745   1.59875111  1.89509788  0.44286547  1.67721228\n",
            "  0.5116565  -2.22275571  0.68463784  3.98018086  0.60592647  4.37590712\n",
            "  4.81180747  1.73285182  5.31194731  2.69266791 24.72029611 18.79488476\n",
            "  1.72107658  2.351607    0.54997929 12.40034999 13.75751441  3.40025768\n",
            " 18.33340019 22.64584444 11.84551441 22.40815487 13.5721448   5.40104096\n",
            " 14.3421752  14.2201178  16.81898005 12.0717756  27.14058481 18.44473258\n",
            " 23.21623028  3.76924143]\n",
            ".[ 1.23702713e+00  2.07285227e-02  4.03970462e-01  6.03591324e-03\n",
            "  1.90238757e+00  1.20270102e+00  1.59193388e+00  1.83054864e+00\n",
            "  1.35916867e+00  3.15460140e-01  3.75263346e-01  3.90927427e+00\n",
            "  5.68848363e+00 -1.02149592e+00  4.46584904e+00  4.59570657e+00\n",
            "  8.18586409e-01  2.51748704e+00  1.56906227e+00  1.37114057e+00\n",
            "  7.50190276e-01  5.10319449e+00  4.40377120e+00  7.92892448e+00\n",
            "  9.82907014e+00  9.31761755e+00  2.94725235e+01  1.35998322e+01\n",
            "  1.60096003e+01  9.43401034e+00  2.89292740e+01  1.09966993e+01\n",
            "  1.30077698e+01  1.53687808e+01  2.81665943e+01  3.71388075e-01\n",
            "  2.15063599e+01  2.67305686e+01  1.21637233e+01  1.56615374e+01\n",
            "  9.77969435e+00  2.83138719e+01  1.67554965e+01  2.07068360e+01]\n",
            ".[ 9.05707000e-01  1.25661808e+00  2.17572639e-01  1.86971559e-02\n",
            "  1.15351187e+00  9.05722107e-01  1.03453520e+00  1.83281171e+00\n",
            "  1.56985609e+00  4.94792073e-01  7.42587523e-01  5.85208781e+00\n",
            "  5.88353343e+00 -1.33313391e+00  5.77889691e+00  1.43121382e+00\n",
            " -8.25035581e-01  1.42750514e+00  1.97428515e+00  1.37399898e+00\n",
            "  3.81255134e+00  2.59732269e+00  2.44905454e+01  5.55391195e+00\n",
            "  8.42251836e+00  7.21066875e+00  1.72265727e+01  1.40939256e+01\n",
            "  1.70893198e+00  6.86441013e+00  2.59692307e+01  1.49175028e+01\n",
            "  1.55704795e+01  5.24160450e+00  1.71214755e+01  1.19610411e+01\n",
            "  2.45050533e+01  1.78311787e+01  1.78559344e+01  2.70468775e+01\n",
            "  1.78682380e+01  1.83891159e+01  2.80731287e+00  1.96115145e+00]\n",
            ".[ 9.03466297e-01  7.50869666e-01  7.31512526e-01  3.35966586e-01\n",
            "  1.94557518e+00  1.13373743e+00  1.64847568e+00  1.26523163e+00\n",
            "  1.75154958e+00  9.53764667e-01  2.62727138e-02  2.21687822e+00\n",
            "  3.09021091e+00 -1.57760481e+00  2.94298599e+00  2.87250287e+00\n",
            " -7.24674518e-01  6.83812483e-02  4.76198748e+00  1.68469907e+00\n",
            "  6.18192807e+00  1.38307094e+00  1.01612408e+01  1.57168841e+01\n",
            "  9.05869748e+00  1.39157335e+01  3.74467629e+00  1.38750083e+01\n",
            "  1.51355751e+01  2.02154702e+01  2.72417995e+01  3.91007343e+00\n",
            "  6.87453940e-01  1.55724697e+01  2.42996613e+01  1.51245204e-01\n",
            "  2.01740953e+01  2.06042468e+01  1.46954805e+01  2.74436606e+01\n",
            "  1.93308325e+01  1.80628781e+01  1.45328534e+01  2.57795342e+01]\n",
            ".[ 1.66079914  1.29830839  0.50527382  1.15699916  0.54823955  1.030265\n",
            "  1.34345957  0.70485926  1.89187128  0.39007497  1.49464162  1.81870525\n",
            "  4.85945952 -2.22464212  5.07234601  2.22019894 -0.57261352  4.81854671\n",
            "  1.93827143  2.56914444  4.6752914   1.39037128  6.4233641   5.9684377\n",
            "  1.71022005 11.31247798  0.79883654 12.66552221 20.23692071 23.99329611\n",
            " 18.96635433  6.95106931  6.22876985 27.52000689 21.33943554  6.64661533\n",
            "  9.13553964 25.04562143 14.61183575 27.70368645 21.18155413 23.7363757\n",
            "  3.78630311 29.28130651]\n",
            ".[ 0.3196673   0.40520425  0.32338632  0.80840381  0.29350296  1.11465946\n",
            "  0.37749013  1.28779129  1.81572946  0.42146478  1.2019085   4.7032702\n",
            "  4.0080135  -1.86214757  1.85562875  4.59448864  0.89061688  2.67252553\n",
            "  4.91210181  1.12014182  5.24550566  1.20733011 11.85290607  9.00243138\n",
            "  0.96124373 27.13893009 11.10462533 15.18418463 14.82348798  3.96483426\n",
            " 20.47744871  2.28566427 15.237651    7.84648655 10.71184827  1.29678394\n",
            " 23.62655519  3.1975163  17.91425294  5.31483493 17.17215337 18.53814402\n",
            " 23.61348869  5.68817843]\n",
            ".[ 1.05580796e+00  1.48015509e+00  1.12448614e-01  1.10217435e+00\n",
            "  4.33234417e-01  1.12959802e+00  1.44583039e+00  3.53098069e-01\n",
            "  1.89647492e+00  3.95501990e-02  1.72047399e+00  3.50991593e+00\n",
            "  2.53222456e+00 -1.51628157e+00  4.50231413e+00  6.20040838e+00\n",
            " -4.43829903e-01  2.38242627e-02  5.86490838e+00  2.83589980e+00\n",
            "  4.57718351e+00  3.24480556e+00  2.12086874e+01  2.34158867e+01\n",
            "  4.49851132e+00  2.31096758e+01  2.25187296e+01  1.56792673e+01\n",
            "  1.20559777e+01  2.09192406e+01  1.80373543e+01  2.32468994e+01\n",
            "  2.68924981e+01  7.17947122e+00  3.62301553e+00  2.64340785e+00\n",
            "  9.06290194e+00  2.64908553e+01  1.52589986e+01  8.60134949e+00\n",
            "  4.15064069e+00  2.14817336e+01  1.84161327e+01  9.72415590e+00]\n",
            ".[ 0.91472036  0.88823421  0.62110152  0.85269631  0.69139764  1.0874858\n",
            "  0.44296411  0.93449165  1.48607427  1.2537112   1.75472095  2.81148692\n",
            "  4.92639259 -2.1620934   4.1211202   0.82796132 -0.13403699  5.71047929\n",
            "  3.80240813  2.64089762  3.16951982  3.12778932 25.28699521  2.03420803\n",
            "  6.87926726 28.28287726 15.53580145 13.16679486 25.43818177  7.54917427\n",
            " 26.40871244 16.20782821 28.46508865 18.73010107 25.13933886  0.09519451\n",
            " 29.68020168  2.33143711 13.93277708 28.38457186  0.26817307 27.87276007\n",
            " 25.83634915 13.19492443]\n",
            ".[ 0.51149039  1.60537904  0.3583965   0.26867722  1.85569799  1.19798498\n",
            "  0.9830903   1.71340499  1.56393352  1.3669298   0.79598128  3.17605987\n",
            "  1.19038469 -1.0749237   1.84767452  0.64972601 -0.7113692   0.08849961\n",
            "  4.49613899  2.20802641  4.98995205  3.18446192 23.75463119 20.87292643\n",
            "  9.33418172 12.19448607 19.433119   13.07876579  9.6545989   5.1781386\n",
            " 22.9036467   7.24256244 12.20765982 29.25667027  9.60957977 11.78989134\n",
            " 19.08918378 11.25273055 17.14490699 18.58760218  7.5609924  27.51426814\n",
            " 12.98815526 10.72533502]\n",
            ".[ 0.66055387  1.39473775  0.20148759  1.61655603  0.59057759  1.02206069\n",
            "  0.97584298  1.71071283  1.91628983  0.36876888  1.17069692  5.64072769\n",
            "  2.80161614 -1.16720183  1.75206279  3.82345977  0.36490742  1.43313201\n",
            "  0.08645998  1.89178928  5.89366628  2.15421653 23.39232886  5.24208938\n",
            "  4.10343404  4.33793163 21.50312442 16.19584574 20.65491954  7.60188103\n",
            " 26.30832146  6.81892623 12.73947348 11.15766365 10.65923735  0.69185769\n",
            " 18.94939881 21.21949808 15.68153217 19.44938268  5.09822143 19.79336159\n",
            " 15.42525131 26.25998179]\n",
            ".[ 0.36790688  0.92567824  0.32169925  0.99457837  0.32302154  0.92122032\n",
            "  0.52376081  1.68905389  1.85024918  0.85327832  1.21403092  0.91352403\n",
            "  3.20037149 -2.50453324  5.39860799  4.21763783  0.26694803  0.78343816\n",
            "  2.95529188  3.11126575  5.95531881  4.05113782  4.55174613 19.17380546\n",
            "  6.78794535 14.05997513 12.84112408 15.59561853 25.49909666 22.53363121\n",
            " 24.95232648 27.74112545  1.9421995  29.74039526  1.58983628  2.39394655\n",
            " 12.68257985  3.22526629 15.74202247  1.43977692  8.53871643 18.73244017\n",
            " 21.10557993 20.05368503]\n",
            ".[ 0.75716119  0.37638852  0.56025362  0.68075858  1.59060233  0.99395047\n",
            "  1.05133889  0.0569817   1.73317401  0.701313    0.45841005  2.7247876\n",
            "  2.40189563 -2.13465145  6.15115546  2.28829428  0.54882027  3.47138051\n",
            "  5.58374324  1.7595991   1.54185731  5.72120083  1.30602791 28.52260284\n",
            "  6.67688299 11.2908965  29.85156967 12.35017588 15.50119079  0.93291226\n",
            " 24.85410887  5.41405527 18.92877601 29.42771027 26.24707654  5.42203499\n",
            " 21.2538261  23.3240625  14.96905851 15.85600471  4.52353195 22.43279911\n",
            "  4.26663759 21.8068126 ]\n",
            ".[ 0.95402599  0.89775767  0.66449848  1.05523754  0.81818166  0.88444601\n",
            "  0.14402407  0.83627227  1.26931511  0.58230788  1.00701902  6.06605965\n",
            "  0.6869247  -1.69969214  3.13957529  4.88017688 -0.712786    0.52251256\n",
            "  2.50709284  2.70549922  1.20372364  4.82164077  8.70893991  6.50674463\n",
            "  0.20058707 11.9597718  11.43244474 15.95606962  2.12755201  4.57811961\n",
            " 18.19891059  3.41389069 19.55367828 12.07970557  9.63078943  6.69494393\n",
            " 29.80381389 25.03459542 16.19773909 27.54775767  1.1918612  18.8440013\n",
            " 14.2201887  10.47502239]\n",
            ".[ 1.87450412  0.97912992  0.40473683  1.79052073  0.89327009  1.18851719\n",
            "  0.5071635   0.54761941  1.49627104  1.09512854  0.44025735  4.21657519\n",
            "  0.89674182 -2.93862541  5.46480417  1.48753546 -0.22799198  3.58928434\n",
            "  3.30203637  1.1626911   5.48951088  5.97313168 24.37521913  8.51405505\n",
            "  6.33416155 10.18250172 16.64001932 17.84642081  9.35108753 20.06389818\n",
            " 21.91160649 23.23431798  9.774299   26.69482024 22.55123163  9.15158515\n",
            " 14.08437086  6.32293507 12.24885048  9.654864    1.11337993 26.32626494\n",
            " 20.11050096 12.91415348]\n",
            ".[ 1.53557796  1.07201699  0.02989494  0.26958624  0.3868328   0.9178319\n",
            "  0.10462589  1.21023356  1.63404577  1.23492202  0.86471119  5.32355894\n",
            "  2.85149087 -3.10703647  5.48286797  4.12094572  0.64600608  5.97715135\n",
            "  0.31972977  1.50305379  0.39779682  2.64801152 25.91487437  2.44871948\n",
            "  5.67734343  3.76629329 23.18656807 17.04853294  1.29872815 14.5932223\n",
            " 20.87293253 28.57421345 28.31677883 18.41802007 29.20462192  4.13833612\n",
            " 26.93552153 13.0378492  13.41488782 28.2248389  20.52654153 18.77893902\n",
            " 26.1127457  21.04140884]\n",
            ".[ 1.20985375  1.4647498   0.19007928  1.20097791  1.62923836  0.77705683\n",
            "  0.26102134  1.68489162  1.7137594   1.06257562  0.49658146  1.85309345\n",
            "  5.48046912 -2.2376349   0.40462201  5.63306624 -0.59323833  5.18870892\n",
            "  5.53751951  2.04164659  3.75835827  3.31123963 18.74463883 25.65125164\n",
            "  3.38567338 26.51266525 17.0307099  12.69061825  6.81003496 17.87947157\n",
            " 20.87335484  3.94246982  4.85543142 25.34617555 18.06550962 11.56280505\n",
            " 10.3703764  17.86875294 15.59391173 18.47112862  1.77531622 27.00380621\n",
            " 28.44628495 16.04037172]\n",
            ".[ 3.85112042e-01  1.50585183e+00  5.48922700e-03  6.56512207e-01\n",
            "  1.83521270e+00  1.04418367e+00  1.71038057e+00  1.20934410e+00\n",
            "  1.86693361e+00  1.75896705e+00  6.41972749e-01  7.72155965e-01\n",
            "  4.52978500e+00 -2.19765723e+00  7.95900253e-01  3.70409251e+00\n",
            " -9.27863371e-01  1.25714369e+00  4.95053147e+00  1.02588707e+00\n",
            "  1.90501082e+00  1.34241036e-01  2.99245498e+01  1.74608993e+01\n",
            "  3.52051534e+00  2.78684839e+01  1.52135827e+01  1.47281534e+01\n",
            "  1.76361452e+01  7.92412933e+00  2.16634596e+01  1.11496373e+01\n",
            "  7.33343998e+00  1.75364180e+01  2.08753840e+01  8.63366642e-01\n",
            "  2.91324996e+01  2.25921197e+01  1.68369790e+01  2.25492121e+01\n",
            "  2.40182932e+00  2.37803554e+01  1.33701887e+01  2.01741795e+01]\n",
            ".[ 0.89747452  1.4086268   0.511234    1.39429706  1.23720149  0.82549037\n",
            "  1.52160491  1.56209164  1.92807724  0.46753739  0.35335779  2.45610249\n",
            "  2.01314603 -1.39487937  3.85294265  4.772811   -0.1446698   0.62448674\n",
            "  0.72241988  1.79909126  1.21736398  5.15428801 17.98908025 20.66535777\n",
            "  5.89331954  2.64521044  7.0523291  14.76961249  5.95774509  0.76428707\n",
            " 26.75277238 21.74750242  9.91175239 25.30482378 12.85327428 10.37623374\n",
            " 19.71196274 17.43106972 13.20436493 15.88639831 26.83297255 21.65992771\n",
            " 26.12836827 27.26235819]\n",
            ".[ 0.65968913  1.36614873  0.67441571  0.15139376  1.75717573  0.84541968\n",
            "  1.69953782  1.33423758  1.5082544   0.30275114  1.27074192  5.32410891\n",
            "  5.16121407 -1.79556726  6.00557348  3.70471724 -0.60433443  2.69619694\n",
            "  2.11476487  3.12276233  2.3878852   6.23416149 15.56412752  5.16839104\n",
            "  0.89488886 11.10917081  3.70256579 15.8071123  12.41759537 29.72746898\n",
            " 29.15946748  4.47708097 11.84646788 13.84739133 16.82846265  9.36436228\n",
            " 14.61581727 12.59980656 13.57199823 27.32418417  0.66814535 27.85346278\n",
            "  5.65405199 20.57270698]\n",
            ".[ 7.10418779e-01  1.94842526e+00  9.20790971e-02  3.75139785e-01\n",
            "  1.77888495e+00  1.04170316e+00  6.18492769e-01  1.52877096e-03\n",
            "  1.42069830e+00  2.90807268e-01  4.06867649e-01  5.62890566e+00\n",
            "  5.48303270e+00 -1.64138060e+00  2.95472541e+00  5.19441409e+00\n",
            " -8.34720583e-03  2.28270893e+00  1.73078749e+00  2.97894534e+00\n",
            "  2.43029239e+00  3.09529189e+00  7.63314307e+00  2.65489956e+01\n",
            "  4.59916148e+00  8.92724146e+00  2.15278489e+01  1.31452197e+01\n",
            "  3.54577888e+00  2.51099335e+01  2.69296311e+01  1.77156164e+01\n",
            "  7.28674725e+00  1.86974144e+01  1.91506596e+01  3.93083333e+00\n",
            "  2.02468029e+00  2.64161579e+01  1.47597404e+01  2.29161815e+01\n",
            "  7.61665863e+00  2.50966462e+01  1.28638548e+01  1.14630193e+01]\n",
            ".[ 2.53426768e-01  4.88533326e-01  5.95061872e-02  6.05716609e-01\n",
            "  1.48340960e+00  1.05750786e+00  1.34482220e+00  1.67661591e-02\n",
            "  1.75878273e+00  1.00636138e+00  4.61816901e-01  1.09835008e+00\n",
            "  1.16169302e+00 -1.33328359e+00  6.17066388e+00  5.73828484e+00\n",
            " -3.05261159e-01  4.89981036e+00  3.43173483e+00  2.74718673e+00\n",
            "  3.03780525e+00  3.70489415e+00  2.36179034e+01  3.00703929e+00\n",
            "  6.44408540e+00  1.09795004e+01  1.81292053e+01  1.77528151e+01\n",
            "  1.17846883e+01  1.17891899e+01  2.74876439e+01  1.93523520e+01\n",
            "  1.18165202e+01  2.06686514e+01  1.21200483e+01  1.63335785e+00\n",
            "  1.35192981e+01  1.00325818e+01  1.33078136e+01  2.77732440e+01\n",
            "  2.06891820e+01  2.51858507e+01  2.23997242e+01  1.62591319e+01]\n",
            ".[ 1.40106615  1.86111964  0.64696252  0.33488372  0.52627805  0.78580514\n",
            "  1.95734561  0.4727682   1.74544877  0.1792614   0.42154188  3.15773713\n",
            "  0.65910904 -2.30781092  3.37856288  2.13020228  0.11180042  3.37090506\n",
            "  2.45303393  2.49001798  4.26086981  4.31626378 16.84473776 10.74239742\n",
            "  7.35734802 28.072088   17.90665575 17.87754105 13.23019861 22.18835888\n",
            " 18.45124654 22.94179917 15.54844741  0.15949599  8.31600314  6.41798679\n",
            " 23.03888635  1.59277786 15.29432066 24.02983667 19.48749165 29.17736418\n",
            "  2.24194335  8.30419388]\n",
            ".[ 1.83847501e+00  1.53001030e+00  4.49805258e-01  1.66593629e+00\n",
            "  1.79208698e+00  1.23636018e+00  1.99704101e+00  2.79298667e-01\n",
            "  1.30290653e+00  1.46933309e-01  2.94875818e-02  6.10303006e+00\n",
            "  5.95136235e-01 -1.33868319e+00  4.30288642e+00  3.06185901e+00\n",
            " -3.06610237e-01  2.22090810e+00  1.59410818e+00  2.94957846e+00\n",
            "  4.55703519e+00  1.62813979e-01  1.38456376e+01  8.43903818e+00\n",
            "  3.47594234e-01  2.65404568e+01  2.31301607e+01  1.39784105e+01\n",
            "  2.38967576e+01  9.73914967e+00  2.16945893e+01  2.78432724e+01\n",
            "  2.93074849e+01  1.57066591e+01  2.85580550e+01  1.06559579e+01\n",
            "  1.55409768e+01  1.11824641e+01  1.62621275e+01  1.36693027e+01\n",
            "  1.81563869e+01  2.98848744e+01  2.32174875e+01  1.00282921e+01]\n",
            ".[ 0.17799644  0.36981118  0.39513891  0.83420484  1.60131932  1.21660117\n",
            "  0.3557295   1.72013354  1.96804619  1.91894121  0.07572518  0.36162442\n",
            "  0.03640763 -2.47086233  0.34978603  1.84545641 -0.28796703  5.98909168\n",
            "  2.99525179  1.59543027  3.15887262  4.04028777  3.33737018 22.74184974\n",
            " 10.22334926 25.32749579 26.71520497 14.29105438 13.31415595  3.04744428\n",
            " 20.70968307 29.13961408  8.53871907 27.22188427 26.71656859 11.07005397\n",
            "  4.68448693 26.39166431 15.7919697   6.31884535 10.35347744 19.91902546\n",
            " 13.33044472  2.51324862]\n",
            ".[ 3.30636981e-01  3.94392693e-01  5.18270506e-01  1.14760574e+00\n",
            "  1.74664627e+00  8.72317033e-01  1.25921591e+00  6.88625306e-02\n",
            "  1.63714885e+00  1.72645296e+00  1.96825309e+00  6.20022853e-02\n",
            "  1.58784451e+00 -2.66096171e+00  2.98536092e-01  6.38830253e-02\n",
            " -1.96093755e-02  2.85627875e-01  1.74790066e+00  2.36954558e+00\n",
            "  1.85066602e+00  1.69343152e+00  1.77163957e+01  1.14160223e+01\n",
            "  8.43027641e+00  1.48837185e+01  1.89962780e+01  1.41203661e+01\n",
            "  8.61131838e+00  3.99621341e+00  2.92449646e+01  2.41450754e+01\n",
            "  2.81408563e+01  5.56141574e+00  2.79946729e+01  1.12290385e+01\n",
            "  8.50633541e+00  8.23902745e+00  1.53085894e+01  5.55867718e+00\n",
            "  1.32630333e+01  2.02238118e+01  2.84212775e+01  1.48147397e+01]\n",
            ".[ 1.92783553  1.28988335  0.36323683  1.93539049  0.28637956  1.06616494\n",
            "  1.32377674  0.86767965  1.29451792  0.9854452   0.93026789  5.06636997\n",
            "  1.61183102 -2.30233902  1.50828146  4.31086465  0.97976691  1.11425749\n",
            "  5.15868553  1.49431552  0.36408811  0.87176773 28.05459347 26.6562631\n",
            "  3.47112595 28.43292198 25.49791606 14.60792876 14.04148665 18.89559065\n",
            " 19.89638202  0.4434626   7.96536052  0.46330896 20.23496532  6.61762603\n",
            "  9.64944437 23.40607011 12.87471259  7.34641916  8.76941286 20.35118336\n",
            "  2.63816051 26.09928541]\n",
            ".[ 1.76377291e-01  1.36742067e+00  9.03006576e-02  2.13980063e-02\n",
            "  1.11453646e+00  1.20355453e+00  1.72091333e+00  6.76902768e-01\n",
            "  1.27036912e+00  1.60171871e+00  1.61196986e+00  5.45410537e+00\n",
            "  4.20538065e+00 -1.41135323e+00  5.63628921e+00  2.85005209e+00\n",
            "  1.15650607e-01  3.17850349e+00  4.34565892e+00  2.46142070e+00\n",
            "  3.26756963e+00  5.20277997e+00  1.51733816e+01  2.47457569e+01\n",
            "  3.38214106e+00  5.35484499e+00  2.90961171e+01  1.64516372e+01\n",
            "  7.79375080e+00  1.74370603e+01  2.94631470e+01  2.42261723e+00\n",
            "  2.50602621e+00  1.85740449e+01  6.73480437e+00  9.18220748e+00\n",
            "  1.70445763e+01  1.99856427e+01  1.26468834e+01  2.52849154e+00\n",
            "  1.87536320e+01  2.29167751e+01  2.61757572e+00  1.11319184e+01]\n",
            ".[ 1.34428882  0.3791748   0.67179683  1.89969278  1.92314508  1.11504128\n",
            "  0.81257686  1.48749839  1.46599016  0.62883444  1.21179272  3.73564\n",
            "  5.51799093 -2.59515438  4.81166293  5.90956332 -0.99793413  2.98983966\n",
            "  4.12621327  2.80471168  1.15388351  5.37668001 10.9309644  26.76821788\n",
            "  0.33254088  2.56170417 29.44231397 15.65701155 12.5289704   5.07642554\n",
            " 25.79881384  1.10925205  9.3484174   9.70437591 18.22325681  7.80997508\n",
            " 25.38163798 27.82742828 15.96274637 17.34521755 11.96146631 29.59934991\n",
            "  4.62237515 26.85260426]\n",
            ".[ 0.62202614  1.09697818  0.51154969  0.4729393   0.33547337  1.00424101\n",
            "  1.58372775  1.38482892  1.33923     1.80148443  0.95947513  5.94512955\n",
            "  3.47556368 -2.9585241   1.27146786  5.36461447  0.41185473  5.62022019\n",
            "  2.06703689  2.12992299  4.08450027  3.73214656  6.94388807 12.80464048\n",
            "  2.97733757 25.36844887 29.60032335 12.39942482 21.41784097  9.90346657\n",
            " 25.50522454  7.74388948 19.53022828 11.13441553  8.84462639 10.94115808\n",
            " 28.27496623 18.4065008  13.28680668 28.18256613 22.5136064  27.01307769\n",
            "  6.35164005 24.90469578]\n",
            ".[ 0.48019031  1.26324149  0.53305468  1.48476686  0.78052941  1.1299127\n",
            "  1.8058718   1.17484004  1.31780729  0.25795197  0.21052505  1.08472847\n",
            "  0.79398599 -1.4744361   0.2475043   1.51698686  0.7581328   6.11369845\n",
            "  3.80205021  3.08914989  0.27287568  5.95703699  9.33888247 23.96918521\n",
            "  9.72754924 25.79995775 13.75652433 17.58386635  7.73678953 28.03336478\n",
            " 25.4294356  29.56334745  0.97931598 21.75499976 16.96662706  5.90908857\n",
            "  7.77654377  9.80492055 13.49677324  6.57803731 23.98982513 24.02874007\n",
            "  2.49569666 23.30952576]\n",
            ".[ 1.06729815  1.47877557  0.38654527  0.79989185  1.97249356  0.76412131\n",
            "  1.86552782  1.86170994  1.54318903  0.42892974  1.2384266   1.11766627\n",
            "  5.04414746 -2.59658155  1.82626265  5.75195116  0.80583367  3.362192\n",
            "  5.4186288   1.7544197   6.26671327  2.72357156  8.84436035  1.24722702\n",
            " 11.87648345 13.94662893 22.03755042 15.84484574 21.69280199  1.53332711\n",
            " 29.04054486 27.80523654 16.55985081 28.91747666  8.42866611  7.22575953\n",
            " 11.8938807  18.84069695 13.80379373 24.58075154  2.09357936 18.50253084\n",
            "  1.48189154  4.51365085]\n",
            ".[ 0.79070095  1.91077998  0.08309658  1.29510597  1.05524302  0.9266212\n",
            "  0.39639846  0.44118816  1.28286613  1.42632795  1.3076804   2.7868743\n",
            "  4.51493999 -2.90465142  5.89515641  5.32309573  0.31807132  2.37905974\n",
            "  2.61603906  2.03180939  5.87358208  5.42336376 14.33771548 16.63555495\n",
            " 10.50484635 28.47793301 19.17554268 16.49112192 10.54874719 27.54084957\n",
            " 28.0410246  16.56167644 26.02881629 25.49615644 24.2523407   1.56831389\n",
            " 16.08007724 27.02349344 16.62499098 12.62139597 29.3364118  21.00927788\n",
            " 10.00830687 28.62601522]\n",
            ".[ 1.61743070e+00  1.80068001e+00  8.69219206e-03  7.59528866e-01\n",
            "  4.71043913e-01  8.97967526e-01  1.47599099e+00  1.44816969e+00\n",
            "  1.59634956e+00  7.30548922e-01  1.16938323e+00  3.35168470e+00\n",
            "  3.45763963e+00 -1.82287907e+00  2.48467115e+00  4.84639207e+00\n",
            " -4.97593633e-01  4.11817762e+00  6.03129409e+00  1.00760719e+00\n",
            "  4.54270736e+00  6.84488813e-01  1.63136247e+01  1.88074805e+01\n",
            "  2.91536551e+00  2.74153163e+01  1.86693759e+01  1.33901681e+01\n",
            "  2.31039656e+01  3.16521240e+00  2.46627038e+01  2.84868209e+00\n",
            "  1.74295222e+01  7.58940338e+00  1.94840042e+01  8.58992343e+00\n",
            "  1.57255684e+01  1.97256422e+01  1.68797631e+01  2.42253681e+01\n",
            "  1.85904598e+01  2.34132295e+01  1.22384997e+01  2.62424286e+01]\n",
            "..[ 2.91374635e-02  4.30419173e-01  8.80326902e-02  1.53484704e+00\n",
            "  1.62433172e-01  1.24920678e+00  7.79224032e-01  1.81040553e+00\n",
            "  1.39143320e+00  8.81744400e-01  1.68962364e+00  3.73829422e+00\n",
            "  2.90235285e+00 -2.04292954e+00  3.60400111e+00  2.76520462e+00\n",
            " -6.12882085e-01  7.15704982e-01  9.49711384e-01  1.11233066e+00\n",
            "  3.50848786e+00  5.32368797e+00  1.07735802e+01  2.25932618e+00\n",
            "  5.10869294e+00  1.80602352e+01  1.27621040e+01  1.68643274e+01\n",
            "  2.82565874e+01  2.60973232e+01  2.64479940e+01  1.41089677e+01\n",
            "  2.04809413e+01  4.02549317e-01  2.94743436e+01  2.06492798e+00\n",
            "  2.71878119e+01  2.42132970e+01  1.68008381e+01  8.06808173e+00\n",
            "  6.57461417e+00  2.31456083e+01  2.54811330e+01  1.35113893e+01]\n",
            ".[ 1.87084023  0.70535865  0.46454412  1.96139807  1.28692504  0.77274911\n",
            "  0.92711418  0.66950269  1.64913616  0.56949242  0.24452246  4.19685485\n",
            "  4.27893926 -1.2843219   0.83135578  5.01533554  0.65353748  4.0603336\n",
            "  1.28691108  1.55944033  2.62816001  3.40249818 14.32313867 14.02379676\n",
            " 10.07808852 26.10307096 24.50261893 17.26680851 17.13026286 28.921084\n",
            " 25.27853218 18.11843223  9.57893211 20.43612552  1.55897066  1.61455705\n",
            "  3.90726503 19.65603862 13.05199555 10.2344047   1.32934967 20.80481232\n",
            " 28.92672975 15.27418208]\n",
            ".[ 0.30214904  1.04601706  0.70763204  1.73137203  0.78413174  0.89193376\n",
            "  1.52345973  0.48096865  1.44067427  0.16817271  1.72828819  2.81280519\n",
            "  3.52801772 -1.56343855  5.00195009  2.81035111 -0.63174489  5.20444231\n",
            "  0.19466719  3.0259985   3.62342088  5.49744128 18.25696311  7.54978752\n",
            "  3.55355908 15.98767677 28.86234639 13.10697363 15.29695134 10.3136431\n",
            " 27.23670414 24.08599459 12.73679731  6.123675    2.01268381  2.38377917\n",
            "  8.1720255  17.96366754 17.23850098  3.84692817 28.74566225 26.19805013\n",
            " 22.25892707 29.48642358]\n",
            ".[ 0.83220155  1.06316693  0.50940971  1.02575029  0.59822469  0.80269234\n",
            "  0.56986429  1.5377057   1.73058703  1.60266141  1.03424106  1.45758814\n",
            "  3.9436009  -2.48942825  0.18544052  5.67291979 -0.15926086  2.6761013\n",
            "  4.6550609   3.02970099  0.45539752  1.08456283  9.67072467  7.45272739\n",
            "  5.94593978 24.73378832 25.61917245 15.57497965  7.20521201  5.59478065\n",
            " 26.92068615  7.11642173 16.18472673 22.47842361  6.84747314  2.09401425\n",
            "  1.1920706   4.42706513 17.10863344  3.13907735  6.70935137 18.3930864\n",
            " 20.29069906  6.95109424]\n",
            ".[ 0.82718344  0.27860234  0.28291297  0.84887493  0.9459299   0.96142091\n",
            "  0.20551313  1.54516053  1.3529045   0.84858475  0.54391222  1.89032988\n",
            "  4.22280245 -2.03193641  1.19374668  2.94616428 -0.32091826  4.4242424\n",
            "  1.41987787  2.80827461  3.3047223   3.14389092  7.61057421  5.58467009\n",
            "  5.66182875 29.45473253  3.98718713 13.70077459 24.01923523 19.94330696\n",
            " 21.3451009   9.4394282  12.59844763 18.08360287 21.58016302 10.287604\n",
            " 20.43334411  7.10946193 17.55432321 23.43586202  9.22144441 21.6595877\n",
            " 26.43504955  3.78235441]\n",
            ".[ 1.26692167e+00  5.55425465e-01  6.20400244e-01  7.29046895e-01\n",
            "  1.46673219e+00  8.46208945e-01  9.62891795e-01  1.60718925e+00\n",
            "  1.54774116e+00  3.23148080e-01  1.29796445e+00  4.73088606e+00\n",
            "  1.75960975e+00 -2.17408562e+00  5.65481917e+00  5.47606976e+00\n",
            "  4.14375220e-01  3.71085576e+00  5.13316066e+00  2.94235954e+00\n",
            "  1.57474747e-02  2.49459037e+00  1.68422905e+01  2.20176941e+01\n",
            "  1.04967315e+00  1.19926496e+01  8.38863538e+00  1.45410603e+01\n",
            "  1.49393590e+01  1.98004567e+01  2.39548337e+01  1.86140460e+01\n",
            "  1.74731959e+01  1.28499719e+01  1.49290941e-01  2.33419697e+00\n",
            "  9.60619963e+00  4.40934378e+00  1.55919833e+01  1.83449843e+01\n",
            "  1.50027978e+01  2.18501868e+01  1.95977416e+01  5.70850448e+00]\n",
            ".[ 1.17619629e-02  1.46988404e+00  3.32627881e-01  1.39568331e+00\n",
            "  3.70086699e-01  7.81309901e-01  7.56217174e-01  1.39199302e+00\n",
            "  1.32711378e+00  3.91668467e-01  9.07905301e-01  3.90081691e+00\n",
            "  4.71078028e+00 -2.90516705e+00  3.92263625e+00  2.43262408e+00\n",
            "  3.40180737e-01  1.27835917e+00  3.31533005e+00  1.36842787e+00\n",
            "  1.17316718e-01  3.05804755e+00  5.52533330e+00  1.91502999e+01\n",
            "  6.43889783e+00  2.32483614e+01  1.17887971e+01  1.79367128e+01\n",
            "  1.54564409e+01  1.43647020e+01  2.69933096e+01  1.71806488e+01\n",
            "  1.08739595e+01  1.46773436e+01  5.67415125e+00  4.72300097e+00\n",
            "  8.98852576e-01  1.38758718e+01  1.36468447e+01  1.58014758e+01\n",
            "  8.78163642e-01  2.46610412e+01  8.78993651e+00  1.73247204e+01]\n"
          ],
          "name": "stdout"
        },
        {
          "output_type": "error",
          "ename": "KeyError",
          "evalue": "ignored",
          "traceback": [
            "\u001b[0;31m---------------------------------------------------------------------------\u001b[0m",
            "\u001b[0;31mKeyError\u001b[0m                                  Traceback (most recent call last)",
            "\u001b[0;32m<ipython-input-52-ca5ef73129f1>\u001b[0m in \u001b[0;36m<module>\u001b[0;34m()\u001b[0m\n\u001b[1;32m     14\u001b[0m                \u001b[0mseed\u001b[0m\u001b[0;34m=\u001b[0m\u001b[0;36m1\u001b[0m\u001b[0;34m,\u001b[0m\u001b[0;34m\u001b[0m\u001b[0;34m\u001b[0m\u001b[0m\n\u001b[1;32m     15\u001b[0m                \u001b[0msave_history\u001b[0m\u001b[0;34m=\u001b[0m\u001b[0;32mTrue\u001b[0m\u001b[0;34m,\u001b[0m\u001b[0;34m\u001b[0m\u001b[0;34m\u001b[0m\u001b[0m\n\u001b[0;32m---> 16\u001b[0;31m                verbose=True)\n\u001b[0m\u001b[1;32m     17\u001b[0m \u001b[0;34m\u001b[0m\u001b[0m\n\u001b[1;32m     18\u001b[0m \u001b[0mprint\u001b[0m\u001b[0;34m(\u001b[0m\u001b[0;34m\"Best solution found: \\nBest_Chromosome = %s\\nOptimal E = %s\"\u001b[0m \u001b[0;34m%\u001b[0m \u001b[0;34m(\u001b[0m\u001b[0mres\u001b[0m\u001b[0;34m.\u001b[0m\u001b[0mX\u001b[0m\u001b[0;34m,\u001b[0m \u001b[0mres\u001b[0m\u001b[0;34m.\u001b[0m\u001b[0mF\u001b[0m\u001b[0;34m)\u001b[0m\u001b[0;34m)\u001b[0m\u001b[0;34m\u001b[0m\u001b[0;34m\u001b[0m\u001b[0m\n",
            "\u001b[0;32m/usr/local/lib/python3.6/dist-packages/pymoo/optimize.py\u001b[0m in \u001b[0;36mminimize\u001b[0;34m(problem, algorithm, termination, copy_algorithm, copy_termination, **kwargs)\u001b[0m\n\u001b[1;32m     83\u001b[0m \u001b[0;34m\u001b[0m\u001b[0m\n\u001b[1;32m     84\u001b[0m     \u001b[0;31m# actually execute the algorithm\u001b[0m\u001b[0;34m\u001b[0m\u001b[0;34m\u001b[0m\u001b[0;34m\u001b[0m\u001b[0m\n\u001b[0;32m---> 85\u001b[0;31m     \u001b[0mres\u001b[0m \u001b[0;34m=\u001b[0m \u001b[0malgorithm\u001b[0m\u001b[0;34m.\u001b[0m\u001b[0msolve\u001b[0m\u001b[0;34m(\u001b[0m\u001b[0;34m)\u001b[0m\u001b[0;34m\u001b[0m\u001b[0;34m\u001b[0m\u001b[0m\n\u001b[0m\u001b[1;32m     86\u001b[0m \u001b[0;34m\u001b[0m\u001b[0m\n\u001b[1;32m     87\u001b[0m     \u001b[0;31m# store the deep copied algorithm in the result object\u001b[0m\u001b[0;34m\u001b[0m\u001b[0;34m\u001b[0m\u001b[0;34m\u001b[0m\u001b[0m\n",
            "\u001b[0;32m/usr/local/lib/python3.6/dist-packages/pymoo/model/algorithm.py\u001b[0m in \u001b[0;36msolve\u001b[0;34m(self)\u001b[0m\n\u001b[1;32m    224\u001b[0m \u001b[0;34m\u001b[0m\u001b[0m\n\u001b[1;32m    225\u001b[0m         \u001b[0;31m# call the algorithm to solve the problem\u001b[0m\u001b[0;34m\u001b[0m\u001b[0;34m\u001b[0m\u001b[0;34m\u001b[0m\u001b[0m\n\u001b[0;32m--> 226\u001b[0;31m         \u001b[0mself\u001b[0m\u001b[0;34m.\u001b[0m\u001b[0m_solve\u001b[0m\u001b[0;34m(\u001b[0m\u001b[0mself\u001b[0m\u001b[0;34m.\u001b[0m\u001b[0mproblem\u001b[0m\u001b[0;34m)\u001b[0m\u001b[0;34m\u001b[0m\u001b[0;34m\u001b[0m\u001b[0m\n\u001b[0m\u001b[1;32m    227\u001b[0m \u001b[0;34m\u001b[0m\u001b[0m\n\u001b[1;32m    228\u001b[0m         \u001b[0;31m# create the result object based on the current iteration\u001b[0m\u001b[0;34m\u001b[0m\u001b[0;34m\u001b[0m\u001b[0;34m\u001b[0m\u001b[0m\n",
            "\u001b[0;32m/usr/local/lib/python3.6/dist-packages/pymoo/model/algorithm.py\u001b[0m in \u001b[0;36m_solve\u001b[0;34m(self, problem)\u001b[0m\n\u001b[1;32m    319\u001b[0m         \u001b[0;31m# while termination criterion not fulfilled\u001b[0m\u001b[0;34m\u001b[0m\u001b[0;34m\u001b[0m\u001b[0;34m\u001b[0m\u001b[0m\n\u001b[1;32m    320\u001b[0m         \u001b[0;32mwhile\u001b[0m \u001b[0mself\u001b[0m\u001b[0;34m.\u001b[0m\u001b[0mhas_next\u001b[0m\u001b[0;34m(\u001b[0m\u001b[0;34m)\u001b[0m\u001b[0;34m:\u001b[0m\u001b[0;34m\u001b[0m\u001b[0;34m\u001b[0m\u001b[0m\n\u001b[0;32m--> 321\u001b[0;31m             \u001b[0mself\u001b[0m\u001b[0;34m.\u001b[0m\u001b[0mnext\u001b[0m\u001b[0;34m(\u001b[0m\u001b[0;34m)\u001b[0m\u001b[0;34m\u001b[0m\u001b[0;34m\u001b[0m\u001b[0m\n\u001b[0m\u001b[1;32m    322\u001b[0m \u001b[0;34m\u001b[0m\u001b[0m\n\u001b[1;32m    323\u001b[0m     \u001b[0;31m# method that is called each iteration to call some algorithms regularly\u001b[0m\u001b[0;34m\u001b[0m\u001b[0;34m\u001b[0m\u001b[0;34m\u001b[0m\u001b[0m\n",
            "\u001b[0;32m/usr/local/lib/python3.6/dist-packages/pymoo/model/algorithm.py\u001b[0m in \u001b[0;36mnext\u001b[0;34m(self)\u001b[0m\n\u001b[1;32m    241\u001b[0m         \u001b[0;31m# call next of the implementation of the algorithm\u001b[0m\u001b[0;34m\u001b[0m\u001b[0;34m\u001b[0m\u001b[0;34m\u001b[0m\u001b[0m\n\u001b[1;32m    242\u001b[0m         \u001b[0;32mif\u001b[0m \u001b[0;32mnot\u001b[0m \u001b[0mself\u001b[0m\u001b[0;34m.\u001b[0m\u001b[0mis_initialized\u001b[0m\u001b[0;34m:\u001b[0m\u001b[0;34m\u001b[0m\u001b[0;34m\u001b[0m\u001b[0m\n\u001b[0;32m--> 243\u001b[0;31m             \u001b[0mself\u001b[0m\u001b[0;34m.\u001b[0m\u001b[0minitialize\u001b[0m\u001b[0;34m(\u001b[0m\u001b[0;34m)\u001b[0m\u001b[0;34m\u001b[0m\u001b[0;34m\u001b[0m\u001b[0m\n\u001b[0m\u001b[1;32m    244\u001b[0m             \u001b[0mself\u001b[0m\u001b[0;34m.\u001b[0m\u001b[0mis_initialized\u001b[0m \u001b[0;34m=\u001b[0m \u001b[0;32mTrue\u001b[0m\u001b[0;34m\u001b[0m\u001b[0;34m\u001b[0m\u001b[0m\n\u001b[1;32m    245\u001b[0m         \u001b[0;32melse\u001b[0m\u001b[0;34m:\u001b[0m\u001b[0;34m\u001b[0m\u001b[0;34m\u001b[0m\u001b[0m\n",
            "\u001b[0;32m/usr/local/lib/python3.6/dist-packages/pymoo/model/algorithm.py\u001b[0m in \u001b[0;36minitialize\u001b[0;34m(self)\u001b[0m\n\u001b[1;32m    213\u001b[0m \u001b[0;34m\u001b[0m\u001b[0m\n\u001b[1;32m    214\u001b[0m         \u001b[0;31m# call the initialize method of the concrete algorithm implementation\u001b[0m\u001b[0;34m\u001b[0m\u001b[0;34m\u001b[0m\u001b[0;34m\u001b[0m\u001b[0m\n\u001b[0;32m--> 215\u001b[0;31m         \u001b[0mself\u001b[0m\u001b[0;34m.\u001b[0m\u001b[0m_initialize\u001b[0m\u001b[0;34m(\u001b[0m\u001b[0;34m)\u001b[0m\u001b[0;34m\u001b[0m\u001b[0;34m\u001b[0m\u001b[0m\n\u001b[0m\u001b[1;32m    216\u001b[0m \u001b[0;34m\u001b[0m\u001b[0m\n\u001b[1;32m    217\u001b[0m     \u001b[0;32mdef\u001b[0m \u001b[0msolve\u001b[0m\u001b[0;34m(\u001b[0m\u001b[0mself\u001b[0m\u001b[0;34m)\u001b[0m\u001b[0;34m:\u001b[0m\u001b[0;34m\u001b[0m\u001b[0;34m\u001b[0m\u001b[0m\n",
            "\u001b[0;32m/usr/local/lib/python3.6/dist-packages/pymoo/algorithms/genetic_algorithm.py\u001b[0m in \u001b[0;36m_initialize\u001b[0;34m(self)\u001b[0m\n\u001b[1;32m     79\u001b[0m \u001b[0;34m\u001b[0m\u001b[0m\n\u001b[1;32m     80\u001b[0m         \u001b[0;31m# then evaluate using the objective function\u001b[0m\u001b[0;34m\u001b[0m\u001b[0;34m\u001b[0m\u001b[0;34m\u001b[0m\u001b[0m\n\u001b[0;32m---> 81\u001b[0;31m         \u001b[0mself\u001b[0m\u001b[0;34m.\u001b[0m\u001b[0mevaluator\u001b[0m\u001b[0;34m.\u001b[0m\u001b[0meval\u001b[0m\u001b[0;34m(\u001b[0m\u001b[0mself\u001b[0m\u001b[0;34m.\u001b[0m\u001b[0mproblem\u001b[0m\u001b[0;34m,\u001b[0m \u001b[0mpop\u001b[0m\u001b[0;34m,\u001b[0m \u001b[0malgorithm\u001b[0m\u001b[0;34m=\u001b[0m\u001b[0mself\u001b[0m\u001b[0;34m)\u001b[0m\u001b[0;34m\u001b[0m\u001b[0;34m\u001b[0m\u001b[0m\n\u001b[0m\u001b[1;32m     82\u001b[0m \u001b[0;34m\u001b[0m\u001b[0m\n\u001b[1;32m     83\u001b[0m         \u001b[0;31m# that call is a dummy survival to set attributes that are necessary for the mating selection\u001b[0m\u001b[0;34m\u001b[0m\u001b[0;34m\u001b[0m\u001b[0;34m\u001b[0m\u001b[0m\n",
            "\u001b[0;32m/usr/local/lib/python3.6/dist-packages/pymoo/model/evaluator.py\u001b[0m in \u001b[0;36meval\u001b[0;34m(self, problem, pop, **kwargs)\u001b[0m\n\u001b[1;32m     76\u001b[0m         \u001b[0;31m# actually evaluate all solutions using the function that can be overwritten\u001b[0m\u001b[0;34m\u001b[0m\u001b[0;34m\u001b[0m\u001b[0;34m\u001b[0m\u001b[0m\n\u001b[1;32m     77\u001b[0m         \u001b[0;32mif\u001b[0m \u001b[0mlen\u001b[0m\u001b[0;34m(\u001b[0m\u001b[0mI\u001b[0m\u001b[0;34m)\u001b[0m \u001b[0;34m>\u001b[0m \u001b[0;36m0\u001b[0m\u001b[0;34m:\u001b[0m\u001b[0;34m\u001b[0m\u001b[0;34m\u001b[0m\u001b[0m\n\u001b[0;32m---> 78\u001b[0;31m             \u001b[0mself\u001b[0m\u001b[0;34m.\u001b[0m\u001b[0m_eval\u001b[0m\u001b[0;34m(\u001b[0m\u001b[0mproblem\u001b[0m\u001b[0;34m,\u001b[0m \u001b[0mpop\u001b[0m\u001b[0;34m[\u001b[0m\u001b[0mI\u001b[0m\u001b[0;34m]\u001b[0m\u001b[0;34m,\u001b[0m \u001b[0;34m**\u001b[0m\u001b[0mkwargs\u001b[0m\u001b[0;34m)\u001b[0m\u001b[0;34m\u001b[0m\u001b[0;34m\u001b[0m\u001b[0m\n\u001b[0m\u001b[1;32m     79\u001b[0m \u001b[0;34m\u001b[0m\u001b[0m\n\u001b[1;32m     80\u001b[0m             \u001b[0;31m# set the feasibility attribute if cv exists\u001b[0m\u001b[0;34m\u001b[0m\u001b[0;34m\u001b[0m\u001b[0;34m\u001b[0m\u001b[0m\n",
            "\u001b[0;32m/usr/local/lib/python3.6/dist-packages/pymoo/model/evaluator.py\u001b[0m in \u001b[0;36m_eval\u001b[0;34m(self, problem, pop, **kwargs)\u001b[0m\n\u001b[1;32m     95\u001b[0m                                \u001b[0mreturn_values_of\u001b[0m\u001b[0;34m=\u001b[0m\u001b[0mself\u001b[0m\u001b[0;34m.\u001b[0m\u001b[0mevaluate_values_of\u001b[0m\u001b[0;34m,\u001b[0m\u001b[0;34m\u001b[0m\u001b[0;34m\u001b[0m\u001b[0m\n\u001b[1;32m     96\u001b[0m                                \u001b[0mreturn_as_dictionary\u001b[0m\u001b[0;34m=\u001b[0m\u001b[0;32mTrue\u001b[0m\u001b[0;34m,\u001b[0m\u001b[0;34m\u001b[0m\u001b[0;34m\u001b[0m\u001b[0m\n\u001b[0;32m---> 97\u001b[0;31m                                **kwargs)\n\u001b[0m\u001b[1;32m     98\u001b[0m \u001b[0;34m\u001b[0m\u001b[0m\n\u001b[1;32m     99\u001b[0m         \u001b[0;32mfor\u001b[0m \u001b[0mkey\u001b[0m\u001b[0;34m,\u001b[0m \u001b[0mval\u001b[0m \u001b[0;32min\u001b[0m \u001b[0mout\u001b[0m\u001b[0;34m.\u001b[0m\u001b[0mitems\u001b[0m\u001b[0;34m(\u001b[0m\u001b[0;34m)\u001b[0m\u001b[0;34m:\u001b[0m\u001b[0;34m\u001b[0m\u001b[0;34m\u001b[0m\u001b[0m\n",
            "\u001b[0;32m/usr/local/lib/python3.6/dist-packages/pymoo/model/problem.py\u001b[0m in \u001b[0;36mevaluate\u001b[0;34m(self, X, return_values_of, return_as_dictionary, *args, **kwargs)\u001b[0m\n\u001b[1;32m    282\u001b[0m         \u001b[0;31m# calculate the output array - either elementwise or not. also consider the gradient\u001b[0m\u001b[0;34m\u001b[0m\u001b[0;34m\u001b[0m\u001b[0;34m\u001b[0m\u001b[0m\n\u001b[1;32m    283\u001b[0m         \u001b[0;32mif\u001b[0m \u001b[0mself\u001b[0m\u001b[0;34m.\u001b[0m\u001b[0melementwise_evaluation\u001b[0m\u001b[0;34m:\u001b[0m\u001b[0;34m\u001b[0m\u001b[0;34m\u001b[0m\u001b[0m\n\u001b[0;32m--> 284\u001b[0;31m             \u001b[0mout\u001b[0m \u001b[0;34m=\u001b[0m \u001b[0mself\u001b[0m\u001b[0;34m.\u001b[0m\u001b[0m_evaluate_elementwise\u001b[0m\u001b[0;34m(\u001b[0m\u001b[0mX\u001b[0m\u001b[0;34m,\u001b[0m \u001b[0mcalc_gradient\u001b[0m\u001b[0;34m,\u001b[0m \u001b[0mout\u001b[0m\u001b[0;34m,\u001b[0m \u001b[0;34m*\u001b[0m\u001b[0margs\u001b[0m\u001b[0;34m,\u001b[0m \u001b[0;34m**\u001b[0m\u001b[0mkwargs\u001b[0m\u001b[0;34m)\u001b[0m\u001b[0;34m\u001b[0m\u001b[0;34m\u001b[0m\u001b[0m\n\u001b[0m\u001b[1;32m    285\u001b[0m         \u001b[0;32melse\u001b[0m\u001b[0;34m:\u001b[0m\u001b[0;34m\u001b[0m\u001b[0;34m\u001b[0m\u001b[0m\n\u001b[1;32m    286\u001b[0m             \u001b[0mout\u001b[0m \u001b[0;34m=\u001b[0m \u001b[0mself\u001b[0m\u001b[0;34m.\u001b[0m\u001b[0m_evaluate_batch\u001b[0m\u001b[0;34m(\u001b[0m\u001b[0mX\u001b[0m\u001b[0;34m,\u001b[0m \u001b[0mcalc_gradient\u001b[0m\u001b[0;34m,\u001b[0m \u001b[0mout\u001b[0m\u001b[0;34m,\u001b[0m \u001b[0;34m*\u001b[0m\u001b[0margs\u001b[0m\u001b[0;34m,\u001b[0m \u001b[0;34m**\u001b[0m\u001b[0mkwargs\u001b[0m\u001b[0;34m)\u001b[0m\u001b[0;34m\u001b[0m\u001b[0;34m\u001b[0m\u001b[0m\n",
            "\u001b[0;32m/usr/local/lib/python3.6/dist-packages/pymoo/model/problem.py\u001b[0m in \u001b[0;36m_evaluate_elementwise\u001b[0;34m(self, X, calc_gradient, out, *args, **kwargs)\u001b[0m\n\u001b[1;32m    452\u001b[0m         \u001b[0;31m# stack all the single outputs together\u001b[0m\u001b[0;34m\u001b[0m\u001b[0;34m\u001b[0m\u001b[0;34m\u001b[0m\u001b[0m\n\u001b[1;32m    453\u001b[0m         \u001b[0;32mfor\u001b[0m \u001b[0mkey\u001b[0m \u001b[0;32min\u001b[0m \u001b[0mret\u001b[0m\u001b[0;34m[\u001b[0m\u001b[0;36m0\u001b[0m\u001b[0;34m]\u001b[0m\u001b[0;34m.\u001b[0m\u001b[0mkeys\u001b[0m\u001b[0;34m(\u001b[0m\u001b[0;34m)\u001b[0m\u001b[0;34m:\u001b[0m\u001b[0;34m\u001b[0m\u001b[0;34m\u001b[0m\u001b[0m\n\u001b[0;32m--> 454\u001b[0;31m             \u001b[0mout\u001b[0m\u001b[0;34m[\u001b[0m\u001b[0mkey\u001b[0m\u001b[0;34m]\u001b[0m \u001b[0;34m=\u001b[0m \u001b[0manp\u001b[0m\u001b[0;34m.\u001b[0m\u001b[0mrow_stack\u001b[0m\u001b[0;34m(\u001b[0m\u001b[0;34m[\u001b[0m\u001b[0mret\u001b[0m\u001b[0;34m[\u001b[0m\u001b[0mi\u001b[0m\u001b[0;34m]\u001b[0m\u001b[0;34m[\u001b[0m\u001b[0mkey\u001b[0m\u001b[0;34m]\u001b[0m \u001b[0;32mfor\u001b[0m \u001b[0mi\u001b[0m \u001b[0;32min\u001b[0m \u001b[0mrange\u001b[0m\u001b[0;34m(\u001b[0m\u001b[0mlen\u001b[0m\u001b[0;34m(\u001b[0m\u001b[0mret\u001b[0m\u001b[0;34m)\u001b[0m\u001b[0;34m)\u001b[0m\u001b[0;34m]\u001b[0m\u001b[0;34m)\u001b[0m\u001b[0;34m\u001b[0m\u001b[0;34m\u001b[0m\u001b[0m\n\u001b[0m\u001b[1;32m    455\u001b[0m \u001b[0;34m\u001b[0m\u001b[0m\n\u001b[1;32m    456\u001b[0m         \u001b[0;32mreturn\u001b[0m \u001b[0mout\u001b[0m\u001b[0;34m\u001b[0m\u001b[0;34m\u001b[0m\u001b[0m\n",
            "\u001b[0;32m/usr/local/lib/python3.6/dist-packages/pymoo/model/problem.py\u001b[0m in \u001b[0;36m<listcomp>\u001b[0;34m(.0)\u001b[0m\n\u001b[1;32m    452\u001b[0m         \u001b[0;31m# stack all the single outputs together\u001b[0m\u001b[0;34m\u001b[0m\u001b[0;34m\u001b[0m\u001b[0;34m\u001b[0m\u001b[0m\n\u001b[1;32m    453\u001b[0m         \u001b[0;32mfor\u001b[0m \u001b[0mkey\u001b[0m \u001b[0;32min\u001b[0m \u001b[0mret\u001b[0m\u001b[0;34m[\u001b[0m\u001b[0;36m0\u001b[0m\u001b[0;34m]\u001b[0m\u001b[0;34m.\u001b[0m\u001b[0mkeys\u001b[0m\u001b[0;34m(\u001b[0m\u001b[0;34m)\u001b[0m\u001b[0;34m:\u001b[0m\u001b[0;34m\u001b[0m\u001b[0;34m\u001b[0m\u001b[0m\n\u001b[0;32m--> 454\u001b[0;31m             \u001b[0mout\u001b[0m\u001b[0;34m[\u001b[0m\u001b[0mkey\u001b[0m\u001b[0;34m]\u001b[0m \u001b[0;34m=\u001b[0m \u001b[0manp\u001b[0m\u001b[0;34m.\u001b[0m\u001b[0mrow_stack\u001b[0m\u001b[0;34m(\u001b[0m\u001b[0;34m[\u001b[0m\u001b[0mret\u001b[0m\u001b[0;34m[\u001b[0m\u001b[0mi\u001b[0m\u001b[0;34m]\u001b[0m\u001b[0;34m[\u001b[0m\u001b[0mkey\u001b[0m\u001b[0;34m]\u001b[0m \u001b[0;32mfor\u001b[0m \u001b[0mi\u001b[0m \u001b[0;32min\u001b[0m \u001b[0mrange\u001b[0m\u001b[0;34m(\u001b[0m\u001b[0mlen\u001b[0m\u001b[0;34m(\u001b[0m\u001b[0mret\u001b[0m\u001b[0;34m)\u001b[0m\u001b[0;34m)\u001b[0m\u001b[0;34m]\u001b[0m\u001b[0;34m)\u001b[0m\u001b[0;34m\u001b[0m\u001b[0;34m\u001b[0m\u001b[0m\n\u001b[0m\u001b[1;32m    455\u001b[0m \u001b[0;34m\u001b[0m\u001b[0m\n\u001b[1;32m    456\u001b[0m         \u001b[0;32mreturn\u001b[0m \u001b[0mout\u001b[0m\u001b[0;34m\u001b[0m\u001b[0;34m\u001b[0m\u001b[0m\n",
            "\u001b[0;31mKeyError\u001b[0m: 'F'"
          ]
        }
      ]
    },
    {
      "cell_type": "markdown",
      "metadata": {
        "id": "eCg3vQ__EVC6"
      },
      "source": [
        "## Results Analysis"
      ]
    },
    {
      "cell_type": "markdown",
      "metadata": {
        "id": "xz1_PautrAGt"
      },
      "source": [
        "#### Plotting the optimal value over generation"
      ]
    },
    {
      "cell_type": "code",
      "metadata": {
        "id": "C08AXQkzq-iR"
      },
      "source": [
        "plt.rcParams[\"figure.figsize\"] = (15, 10)\r\n",
        "plt.rcParams[\"font.size\"] = \"14\"\r\n",
        "\r\n",
        "ret = [np.min(e.pop.get(\"F\")) for e in res.history]\r\n",
        "\r\n",
        "plt.plot(np.arange(len(ret)), ret)\r\n",
        "plt.title(\"Convergence\")\r\n",
        "plt.xlabel(\"Generation\")\r\n",
        "plt.ylabel(\"Optimal value\")\r\n",
        "plt.legend()\r\n",
        "plt.show()"
      ],
      "execution_count": null,
      "outputs": []
    },
    {
      "cell_type": "markdown",
      "metadata": {
        "id": "o5Gu-VvdrTP5"
      },
      "source": [
        "#### Plotting all simulation results in figures"
      ]
    },
    {
      "cell_type": "code",
      "metadata": {
        "id": "6xjIuXH8KOPt"
      },
      "source": [
        "selectx = lambda item: item['y'][0]       # x position\r\n",
        "selecty = lambda item: item['y'][1]       # y position\r\n",
        "selectt = lambda item: item['time']       # time\r\n",
        "selectv = lambda item: item['dy'][3]      # velocity\r\n",
        "selectomega = lambda item: item['dy'][2]  # omega = theta_dot\r\n",
        "selecte = lambda item: item['TotalEnergy']# total energy\r\n",
        "selects = lambda item: item['y'][3]       # displacement\r\n",
        "selectors = {\r\n",
        "    'time': selectt,\r\n",
        "    'x': selectx, \r\n",
        "    'y': selecty, \r\n",
        "    'd': selects, \r\n",
        "    'v': selectv, \r\n",
        "    'omega': selectomega,\r\n",
        "    'E': selecte}"
      ],
      "execution_count": null,
      "outputs": []
    },
    {
      "cell_type": "code",
      "metadata": {
        "id": "ly-2Ue2c33mV"
      },
      "source": [
        "simulationDescription = {\r\n",
        "    'fuzzyDescription': {\r\n",
        "        'inputs': {\r\n",
        "            'distance' : {\r\n",
        "                'S': list(np.arange(0, 2, 0.02)),\r\n",
        "                'M': {'VC': [0, 0, 0.5], 'C': [0, 0.5, 1], 'M': [0.5, 1, 1.5], 'F': [1, 1.5, 2], 'VF': [1.5, 2, 2]}\r\n",
        "            },\r\n",
        "            'angle' : {\r\n",
        "                'S': list(np.arange(-3.14, 3.14, 0.0628)),\r\n",
        "                'M': {'BN': [-3.14, -3.14, -1.57], 'N': [-3.14, -1.57, 0], 'Z': [-1.57, 0, 1.57], 'P': [0, 1.57, 3.14], 'BP': [1.57, 3.14, 3.14]}\r\n",
        "            }\r\n",
        "        },\r\n",
        "        'outputs': {\r\n",
        "            'omegaR': {\r\n",
        "                'S': list(np.arange(0, 30, 0.3)),\r\n",
        "                'rules': {\r\n",
        "                    'VC': {'BN': 'VSR', 'N': 'SR', 'Z': 'VSR', 'P': 'BR', 'BP': 'VBR'},\r\n",
        "                    'C': {'BN': 'VSR', 'N': 'SR', 'Z': 'SR', 'P': 'BR', 'BP': 'VBR'},\r\n",
        "                    'M': {'BN': 'VSR', 'N': 'SR', 'Z': 'MBR', 'P': 'BR', 'BP': 'VBR'},\r\n",
        "                    'F': {'BN': 'VSR', 'N': 'SR', 'Z': 'BR', 'P': 'BR', 'BP': 'VBR'},\r\n",
        "                    'VF': {'BN': 'VSR', 'N': 'SR', 'Z': 'VBR', 'P': 'BR', 'BP': 'VBR'}\r\n",
        "                },\r\n",
        "                'mode': 'centroid',\r\n",
        "                'M': {'VSR': [0, 0, 7.5], 'SR': [0, 7.5, 15], 'MBR': [7.5, 15, 22.5], 'BR': [15, 22.5, 30], 'VBR': [22.5, 30, 30]}\r\n",
        "            },\r\n",
        "            'omegaL': {\r\n",
        "                'S': list(np.arange(0, 30, 0.3)),\r\n",
        "                'rules': {\r\n",
        "                    'VC': {'BN': 'VBL', 'N': 'BL', 'Z': 'VSL', 'P': 'SL', 'BP': 'VSL'},\r\n",
        "                    'C': {'BN': 'VBL', 'N': 'BL', 'Z': 'SL', 'P': 'SL', 'BP': 'VSL'},\r\n",
        "                    'M': {'BN': 'VBL', 'N': 'BL', 'Z': 'MBL', 'P': 'SL', 'BP': 'VSL'},\r\n",
        "                    'F': {'BN': 'VBL', 'N': 'BL', 'Z': 'BL', 'P': 'SL', 'BP': 'VSL'},\r\n",
        "                    'VF': {'BN': 'VBL', 'N': 'BL', 'Z': 'VBL', 'P': 'SL', 'BP': 'VSL'} \r\n",
        "                },\r\n",
        "                'mode': 'centroid',\r\n",
        "                'M': {'VSL': [0, 0, 7.5], 'SL': [0, 7.5, 15], 'MBL': [7.5, 15, 22.5], 'BL': [15, 22.5, 30], 'VBL': [22.5, 30, 30]}\r\n",
        "            }\r\n",
        "        }\r\n",
        "    },\r\n",
        "\r\n",
        "    'robotState0': {\r\n",
        "        'x': 0,\r\n",
        "        'y': 0,\r\n",
        "        'theta': -3.14 / 4\r\n",
        "    },\r\n",
        "\r\n",
        "    'path': [\r\n",
        "        [0, 0, 0],  #X, Y, orientation\r\n",
        "        [10, 0, 0], #X, Y, orientation\r\n",
        "        [10, 10, 0], #X, Y, orientation\r\n",
        "        [20, 10, 0], #X, Y, orientation\r\n",
        "        [20, 20, 0]\r\n",
        "    ],\r\n",
        "\r\n",
        "    'robotParams': {\r\n",
        "        'r': 0.0925,\r\n",
        "        'b': 0.37,\r\n",
        "        'm': 9,\r\n",
        "        'I': 0.16245,\r\n",
        "        #'motorParams': None,\r\n",
        "        'motorParams': {\r\n",
        "            'J': 0.01,\r\n",
        "            'B': 0.1,\r\n",
        "\r\n",
        "            'Kt': 0.01,\r\n",
        "            'Ke': 0.01,\r\n",
        "            'K': 0.01,\r\n",
        "\r\n",
        "            'Ra': 0.1,\r\n",
        "            'La': 0.01\r\n",
        "        }\r\n",
        "    },\r\n",
        "    \r\n",
        "    'controllerParams': {\r\n",
        "        'omega_ri': 0, 'vri': 2.0,'lowVelocityLimit': 0.2, \r\n",
        "        'highVelocityLimit': 2.0, 'lowOmegaLimit': -0.75, 'highOmegaLimit': 0.75\r\n",
        "    },\r\n",
        "\r\n",
        "    'simulationParams': {\r\n",
        "        't0': 0,\r\n",
        "        't_bound': 100,\r\n",
        "        'max_step': 0.05\r\n",
        "    }\r\n",
        "}"
      ],
      "execution_count": null,
      "outputs": []
    },
    {
      "cell_type": "code",
      "metadata": {
        "id": "0Qt34WOgrp7t"
      },
      "source": [
        "# Using your \"Best_Chromosome\" here to get results of optimal FLC. Remove it when finishing.\r\n",
        "'''\r\n",
        "Best_Chromosome =   [ 6.25274547e-01,  1.46647608e+00,  6.86479953e-02,  7.69877079e-01,\r\n",
        "  2.94688604e-01,  8.19958472e-01,  7.66707542e-01,  2.31057847e-01,\r\n",
        "  1.59275880e+00,  3.06765667e-01,  1.08979472e-01,  2.25867752e-01,\r\n",
        "  5.40214093e+00, -2.87811158e+00,  3.22315196e+00,  5.24697559e+00,\r\n",
        " -2.18191651e-02,  2.35114506e-02,  2.37028827e+00,  2.63219711e+00,\r\n",
        "  1.72352860e+00,  3.34837286e+00,  1.62099565e+01,  2.21134886e+01,\r\n",
        "  4.85720052e+00,  9.09170634e+00,  2.50933254e+01,  1.59830928e+01,\r\n",
        "  1.19996097e+01,  2.32625286e+01,  1.83066876e+01,  1.54975010e+01,\r\n",
        "  2.16241707e+01,  5.66692106e+00,  7.15430642e-01,  2.90220848e+00,\r\n",
        "  2.01089591e+01,  2.01269324e+01,  1.45705542e+01,  6.76602702e+00,\r\n",
        "  4.15947254e+00,  2.87483747e+01,  1.40295382e+01,  8.99477345e+00]\r\n",
        "'''"
      ],
      "execution_count": null,
      "outputs": []
    },
    {
      "cell_type": "markdown",
      "metadata": {
        "id": "HQknbRLPebF2"
      },
      "source": [
        "#### Path for simulation"
      ]
    },
    {
      "cell_type": "code",
      "metadata": {
        "id": "688UzTq-eeTu"
      },
      "source": [
        "path = [\r\n",
        "        [0, 0, 0],  #X, Y, orientation\r\n",
        "        [10, 0, 0], #X, Y, orientation\r\n",
        "        [10, 10, 0], #X, Y, orientation\r\n",
        "        [20, 10, 0], #X, Y, orientation\r\n",
        "        [20, 20, 0]\r\n",
        "    ]"
      ],
      "execution_count": null,
      "outputs": []
    },
    {
      "cell_type": "code",
      "metadata": {
        "id": "u9MGFRkX3h-p"
      },
      "source": [
        "\r\n",
        "pathX = [point[0] for point in path]\r\n",
        "pathY = [point[1] for point in path]\r\n",
        "\r\n",
        "# FLCChromosome use to get values of original FLC\r\n",
        "FLCChromosome = [1,1,1,1,1,2,1,1,3,1,1,  1.57,1.57,-1.57,1.57,1.57,0,1.57,1.57,1.57,1.57,1.57,  \r\n",
        "                 7.5,7.5,7.5,7.5,7.5,15,7.5,7.5,22.5,7.5,7.5,  7.5,7.5,7.5,7.5,7.5,15,7.5,7.5,22.5,7.5,7.5]\r\n",
        "\r\n",
        "#!!!!!!!!!!!!!!!!!!!!!!!!!!!!!!!!!!!!!!!!!!!!!!!\r\n",
        "#!!!!!!!!!!!!!!!!!!!!!!!!!!!!!!!!!!!!!!!!!!!!!!!\r\n",
        "#!!!!!!!!!!!!!!!!!!!!!!!!!!!!!!!!!!!!!!!!!!!!!!!\r\n",
        "FuzzyOriginalChromosome = Best_Chromosome # Using for the optimal FLC (GA_FLC)\r\n",
        "#!!!!!!!!!!!!!!!!!!!!!!!!!!!!!!!!!!!!!!!!!!!!!!!\r\n",
        "#!!!!!!!!!!!!!!!!!!!!!!!!!!!!!!!!!!!!!!!!!!!!!!!\r\n",
        "#!!!!!!!!!!!!!!!!!!!!!!!!!!!!!!!!!!!!!!!!!!!!!!!\r\n",
        "\r\n",
        "\r\n",
        "# simulationDescription updated to path\r\n",
        "simulationDescription = fromPathToDescription(path, simulationDescription)\r\n",
        "simulationDescription['simulationParams']['t_bound'] = 40\r\n",
        "\r\n",
        "# descriptions for simulations\r\n",
        "FuzzyOriginalSimDescription = fromChromozomeToDescriptionFuzzy(FLCChromosome, simulationDescription)\r\n",
        "FLCSimDescription = fromChromozomeToDescriptionFuzzy(FuzzyOriginalChromosome, simulationDescription)\r\n",
        "RobinDescription = fromChromozomeToDescriptionRobins([1, 1], simulationDescription)\r\n",
        "CircleDescription = fromChromozomeToDescriptionCircle([4], simulationDescription)\r\n",
        "\r\n",
        "FLCFullResults = runSimulation(FLCSimDescription, createFuzzyController, selectors=selectors)\r\n",
        "FuzzyOriginal = runSimulation(FuzzyOriginalSimDescription, createFuzzyController, selectors=selectors)\r\n",
        "RobinFullResults = runSimulation(RobinDescription, createController_By_RobinsMathew, selectors=selectors)\r\n",
        "CircleFullResults = runSimulation(CircleDescription, createCircleControllerWithGain, selectors=selectors)\r\n"
      ],
      "execution_count": null,
      "outputs": []
    },
    {
      "cell_type": "code",
      "metadata": {
        "id": "9DoYCxZYKfne"
      },
      "source": [
        "plt.rcParams[\"figure.figsize\"] = (20, 20)\r\n",
        "plt.rcParams[\"font.size\"] = \"14\"\r\n",
        "\r\n",
        "def multiPlot(xs, ys, styles, labels):\r\n",
        "    for x, y, style, label in zip(xs, ys, styles, labels):\r\n",
        "        plt.plot(x, y, style, label=label, lw=2)\r\n",
        "\r\n",
        "#--plot the path--------------------------------------------------------------\r\n",
        "plt.subplot(3,2,1)\r\n",
        "plt.grid(which = 'both') \r\n",
        "p = plt.axis('equal')\r\n",
        "\r\n",
        "multiPlot(\r\n",
        "    [pathX, CircleFullResults['x'], RobinFullResults['x'], FLCFullResults['x'], FuzzyOriginal['x']],\r\n",
        "    [pathY, CircleFullResults['y'], RobinFullResults['y'], FLCFullResults['y'], FuzzyOriginal['y']],\r\n",
        "    ['k-.', 'm--', 'b-', 'g-', 'r-'],\r\n",
        "    ['Planned path', 'Circle controller', 'Mathew controller', 'GA_FLC controller', 'FLC controller']\r\n",
        "    )\r\n",
        "\r\n",
        "plt.legend(loc = 'best')\r\n",
        "plt.xlabel('$x[m]$')\r\n",
        "plt.ylabel('$y[m]$')\r\n",
        "\r\n",
        "#--plot the travel distance----------------------------------------------------\r\n",
        "plt.subplot(3, 2, 2)\r\n",
        "plt.grid(which = 'both') \r\n",
        "multiPlot(\r\n",
        "    [CircleFullResults['time'], RobinFullResults['time'], FLCFullResults['time'], FuzzyOriginal['time']],\r\n",
        "    [CircleFullResults['d'], RobinFullResults['d'], FLCFullResults['d'], FuzzyOriginal['d']],\r\n",
        "    ['m--', 'b-', 'g-', 'r-'],\r\n",
        "    ['Circle controller', 'Mathew controller', 'GA_FLC controller', 'FLC controller']\r\n",
        "    )\r\n",
        "plt.legend(loc = 'best')\r\n",
        "plt.xlabel('$Time[s]$')\r\n",
        "plt.ylabel('$s[m]$')\r\n",
        "\r\n",
        "\r\n",
        "#---plot the velocity----------------------------------------------------------\r\n",
        "plt.subplot(3, 2, 3)\r\n",
        "plt.grid(which = 'both') \r\n",
        "multiPlot(\r\n",
        "    [CircleFullResults['time'], RobinFullResults['time'], FLCFullResults['time'], FuzzyOriginal['time']],\r\n",
        "    [CircleFullResults['v'], RobinFullResults['v'], FLCFullResults['v'], FuzzyOriginal['v']],\r\n",
        "    ['m--', 'b-', 'g-', 'r-'],\r\n",
        "    ['Circle controller', 'Mathew controller', 'GA_FLC controller', 'FLC controller']\r\n",
        "    )\r\n",
        "plt.legend(loc = 'best')\r\n",
        "plt.xlabel('$Time[s]$')\r\n",
        "plt.ylabel('$Velocity[ms^{-1}]$')\r\n",
        "\r\n",
        "#--plot the omega-------------------------------------------------------------\r\n",
        "plt.subplot(3, 2, 4)\r\n",
        "plt.grid(which = 'both') \r\n",
        "multiPlot(\r\n",
        "    [CircleFullResults['time'], RobinFullResults['time'], FLCFullResults['time'], FuzzyOriginal['time']],\r\n",
        "    [CircleFullResults['omega'], RobinFullResults['omega'], FLCFullResults['omega'], FuzzyOriginal['omega']],\r\n",
        "    ['m--', 'b-', 'g-', 'r-'],\r\n",
        "    ['Circle controller', 'Mathew controller', 'GA_FLC controller', 'FLC controller']\r\n",
        "    )\r\n",
        "plt.legend(loc = 'best')\r\n",
        "plt.xlabel('$Time[s]$')\r\n",
        "plt.ylabel('$\\omega[rads^{-1}]$')\r\n",
        "\r\n",
        "#--plot the total energy consumption------------------------------------------\r\n",
        "plt.subplot(3, 2, 5)\r\n",
        "plt.grid(which = 'both') \r\n",
        "multiPlot(\r\n",
        "    [CircleFullResults['time'], RobinFullResults['time'], FLCFullResults['time'], FuzzyOriginal['time']],\r\n",
        "    [CircleFullResults['E'], RobinFullResults['E'], FLCFullResults['E'], FuzzyOriginal['E']],\r\n",
        "    ['m--', 'b-', 'g-', 'r-'],\r\n",
        "    ['Circle controller', 'Mathew controller', 'GA_FLC controller', 'FLC controller']\r\n",
        "    )\r\n",
        "plt.legend(loc = 'best')\r\n",
        "plt.xlabel('$Time[s]$')\r\n",
        "plt.ylabel('$E[J]$')\r\n"
      ],
      "execution_count": null,
      "outputs": []
    },
    {
      "cell_type": "markdown",
      "metadata": {
        "id": "ypgv1j5gsiB_"
      },
      "source": [
        "#### Text results"
      ]
    },
    {
      "cell_type": "code",
      "metadata": {
        "id": "o7j7F3841mpt"
      },
      "source": [
        "print(\"**********Energy Consumption**********\")\r\n",
        "print('E_Cir=',CircleFullResults['E'][-1])\r\n",
        "print('E_Robins=',RobinFullResults['E'][-1])\r\n",
        "print('E_FLC=',FuzzyOriginal['E'][-1])\r\n",
        "print('E_GA_opt=',FLCFullResults['E'][-1])\r\n",
        "print(\"************Travel Distance************\")\r\n",
        "print('s_Cir=',CircleFullResults['d'][-1])\r\n",
        "print('s_Robins=',RobinFullResults['d'][-1])\r\n",
        "print('s_FLC=',FuzzyOriginal['d'][-1])\r\n",
        "print('s_GA_opt=',FLCFullResults['d'][-1])"
      ],
      "execution_count": null,
      "outputs": []
    },
    {
      "cell_type": "markdown",
      "metadata": {
        "id": "VGHWpjwRtBpB"
      },
      "source": [
        "#### Ploting all membership functions"
      ]
    },
    {
      "cell_type": "code",
      "metadata": {
        "id": "D_nQVWWosxzY"
      },
      "source": [
        "Chromosome = Best_Chromosome\r\n",
        "omega = np.array(simulationDescription['fuzzyDescription']['outputs']['omegaR']['S'])\r\n",
        "distance = np.array(simulationDescription['fuzzyDescription']['inputs']['distance']['S'])\r\n",
        "angle = np.array(simulationDescription['fuzzyDescription']['inputs']['angle']['S'])\r\n",
        "\r\n",
        "# Membership functions for inputs\r\n",
        "# Before tuning\r\n",
        "VC = fuzz.trimf(distance, [0,0,0.5])\r\n",
        "C = fuzz.trimf(distance, [0,0.5,1])\r\n",
        "M = fuzz.trimf(distance, [0.5,1,1.5])\r\n",
        "F = fuzz.trimf(distance, [1,1.5,2])\r\n",
        "VF = fuzz.trimf(distance, [1.5,2,2])\r\n",
        "\r\n",
        "BN = fuzz.trimf(angle, [-3.14,-3.14,-1.57])\r\n",
        "N = fuzz.trimf(angle, [-3.14,-1.57,0])\r\n",
        "Z = fuzz.trimf(angle, [-1.57,0,1.57])\r\n",
        "P = fuzz.trimf(angle, [0,1.57,3.14])\r\n",
        "BP = fuzz.trimf(angle, [1.57,3.14,3.14])\r\n",
        "# After tuning\r\n",
        "VC1 = fuzz.trimf(distance, [0, 0, Chromosome[0]])\r\n",
        "C1 = fuzz.trimf(distance, [Chromosome[2]-Chromosome[1], Chromosome[2], Chromosome[2]+Chromosome[3]])\r\n",
        "M1 = fuzz.trimf(distance, [Chromosome[5]-Chromosome[4], Chromosome[5], Chromosome[5]+Chromosome[6]])\r\n",
        "F1 = fuzz.trimf(distance, [Chromosome[8]-Chromosome[7],Chromosome[8], Chromosome[8]+Chromosome[9]])\r\n",
        "VF1 = fuzz.trimf(distance, [2-Chromosome[10], 2, 2])\r\n",
        "\r\n",
        "BN1 = fuzz.trimf(angle, [-3.14, -3.14, -3.14+Chromosome[11]])\r\n",
        "N1 = fuzz.trimf(angle, [Chromosome[13]-Chromosome[12], Chromosome[13], Chromosome[13]+Chromosome[14]])\r\n",
        "Z1 = fuzz.trimf(angle, [Chromosome[16]-Chromosome[15], Chromosome[16], Chromosome[16]+Chromosome[17]])\r\n",
        "P1 = fuzz.trimf(angle, [Chromosome[19]-Chromosome[18], Chromosome[19], Chromosome[19]+Chromosome[20]])\r\n",
        "BP1 = fuzz.trimf(angle, [3.14-Chromosome[21], 3.14, 3.14])\r\n",
        "\r\n",
        "# Membership functions for outputs\r\n",
        "# Before tuning\r\n",
        "VS_R = fuzz.trimf(omega, [0, 0, 7.5])\r\n",
        "S_R = fuzz.trimf(omega, [0, 7.5, 15])\r\n",
        "MB_R = fuzz.trimf(omega, [7.5, 15, 22.5])\r\n",
        "B_R = fuzz.trimf(omega, [15, 22.5, 30])\r\n",
        "VB_R = fuzz.trimf(omega, [22.5, 30, 30])\r\n",
        "\r\n",
        "# After tuning\r\n",
        "VS_R1 = fuzz.trimf(omega, [0, 0, Chromosome[22]])\r\n",
        "S_R1 = fuzz.trimf(omega, [Chromosome[24]-Chromosome[23], Chromosome[24], Chromosome[24]+Chromosome[25]])\r\n",
        "MB_R1 = fuzz.trimf(omega, [Chromosome[27]-Chromosome[26], Chromosome[27], Chromosome[27]+Chromosome[28]])\r\n",
        "B_R1 = fuzz.trimf(omega, [Chromosome[30]-Chromosome[29], Chromosome[30], Chromosome[30]+Chromosome[31]])\r\n",
        "VB_R1 = fuzz.trimf(omega, [30-Chromosome[32], 30, 30])\r\n",
        "\r\n",
        "VS_L = fuzz.trimf(omega, [0, 0, Chromosome[33]])\r\n",
        "S_L = fuzz.trimf(omega, [Chromosome[35]-Chromosome[34], Chromosome[35], Chromosome[35]+Chromosome[36]])\r\n",
        "MB_L = fuzz.trimf(omega, [Chromosome[38]-Chromosome[37], Chromosome[38], Chromosome[38]+Chromosome[39]])\r\n",
        "B_L = fuzz.trimf(omega, [Chromosome[41]-Chromosome[40], Chromosome[41], Chromosome[41]+Chromosome[42]])\r\n",
        "VB_L = fuzz.trimf(omega, [30-Chromosome[43], 30, 30])\r\n",
        "\r\n",
        "#--------------Plot----------------------------------------\r\n",
        "plt.rcParams[\"figure.figsize\"] = (30, 20)\r\n",
        "plt.rcParams[\"font.size\"] = \"14\"\r\n",
        "\r\n",
        "def plotMember(range, val, lab,i,title):\r\n",
        "  plt.subplot(4,2,i)\r\n",
        "  plt.tight_layout() \r\n",
        "  plt.plot(range, val[0], 'b', linewidth=2.5, label=lab[0])\r\n",
        "  plt.plot(range, val[1], 'g', linewidth=2.5, label=lab[1])\r\n",
        "  plt.plot(range, val[2], 'r', linewidth=2.5, label=lab[2])\r\n",
        "  plt.plot(range, val[3], 'y', linewidth=2.5, label=lab[3])\r\n",
        "  plt.plot(range, val[4], 'c', linewidth=2.5, label=lab[4])\r\n",
        "  plt.title(title[0])\r\n",
        "  plt.ylabel('Membership')\r\n",
        "  plt.xlabel(title[1])\r\n",
        "  plt.legend(loc = 'best')\r\n",
        "  return\r\n",
        "\r\n",
        "#----Input_1: Distance member ship before tuning------------\r\n",
        "val = [VC,C,M,F,VF]\r\n",
        "lab = ['Very close', 'Close', 'Medium', 'Far', 'Very far']\r\n",
        "title = ['Input_1: Distance membership before tuning', '$Distance[m]$']\r\n",
        "plotMember(distance, val, lab,1,title)\r\n",
        "\r\n",
        "#----Input_1: Distance member ship after tuning------------\r\n",
        "val = [VC1,C1,M1,F1,VF1]\r\n",
        "lab = ['Very close', 'Close', 'Medium', 'Far', 'Very far']\r\n",
        "title = ['Input_1: Distance membership after tuning', '$Distance[m]$']\r\n",
        "plotMember(distance, val, lab, 2, title)\r\n",
        "\r\n",
        "#----Input_2: Angle member ship before tuning------------\r\n",
        "val = [BN,N,Z,P,BP]\r\n",
        "lab = ['Big negative', 'Negative', 'Zero', 'Positive', 'Big positive']\r\n",
        "title = ['Input_2: Angle membership before tuning', '$Angle[rad]$']\r\n",
        "plotMember(angle, val, lab, 3, title)\r\n",
        "\r\n",
        "#----Input_2: Angle member ship after tuning------------\r\n",
        "val = [BN1,N1,Z1,P1,BP1]\r\n",
        "lab = ['Big negative', 'Negative', 'Zero', 'Positive', 'Big positive']\r\n",
        "title = ['Input_2: Angle membership after tuning', '$Angle[rad]$']\r\n",
        "plotMember(angle, val, lab, 4, title)\r\n",
        "\r\n",
        "#----output_1:  Omega_R member ship before tuning------------\r\n",
        "val = [VS_R, S_R, MB_R, B_R, VB_R]\r\n",
        "lab = ['Very small', 'Small', 'Medium', 'Big', 'Very big']\r\n",
        "title = ['Output_1: Omega_R membership before tuning', '$OmegaR[rads^{-1}]$']\r\n",
        "plotMember(omega, val, lab, 5, title)\r\n",
        "\r\n",
        "#----output_1:  Omega_R member ship after tuning------------\r\n",
        "val = [VS_R1, S_R1, MB_R1, B_R1, VB_R1]\r\n",
        "lab = ['Very small', 'Small', 'Medium', 'Big', 'Very big']\r\n",
        "title = ['Output_1: Omega_R membership after tuning', '$OmegaR[rads^{-1}]$']\r\n",
        "plotMember(omega, val, lab, 6, title)\r\n",
        "\r\n",
        "#----output_2:  Omega_L member ship before tuning------------\r\n",
        "val = [VS_R, S_R, MB_R, B_R, VB_R]\r\n",
        "lab = ['Very small', 'Small', 'Medium', 'Big', 'Very big']\r\n",
        "title = ['Output_2: Omega_L membership before tuning', '$OmegaL[rads^{-1}]$']\r\n",
        "plotMember(omega, val, lab, 7, title)\r\n",
        "\r\n",
        "#----output_2:  Omega_L member ship after tuning------------\r\n",
        "val = [VS_L, S_L, MB_L, B_L, VB_L]\r\n",
        "lab = ['Very small', 'Small', 'Medium', 'Big', 'Very big']\r\n",
        "title = ['Output_2: Omega_L membership after tuning', '$OmegaL[rads^{-1}]$']\r\n",
        "plotMember(omega, val, lab, 8, title)\r\n"
      ],
      "execution_count": null,
      "outputs": []
    }
  ]
}