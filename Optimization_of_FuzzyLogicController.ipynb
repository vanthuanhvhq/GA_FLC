{
  "nbformat": 4,
  "nbformat_minor": 0,
  "metadata": {
    "colab": {
      "name": "Optimization_of_FuzzyLogicController.ipynb",
      "provenance": [],
      "collapsed_sections": [],
      "toc_visible": true,
      "include_colab_link": true
    },
    "kernelspec": {
      "name": "python3",
      "display_name": "Python 3"
    }
  },
  "cells": [
    {
      "cell_type": "markdown",
      "metadata": {
        "id": "view-in-github",
        "colab_type": "text"
      },
      "source": [
        "<a href=\"https://colab.research.google.com/github/vanthuanhvhq/GA_FLC/blob/main/Optimization_of_FuzzyLogicController.ipynb\" target=\"_parent\"><img src=\"https://colab.research.google.com/assets/colab-badge.svg\" alt=\"Open In Colab\"/></a>"
      ]
    },
    {
      "cell_type": "markdown",
      "metadata": {
        "id": "uvJRbyp9Pypn"
      },
      "source": [
        "#Fuzzy Controller Optimization"
      ]
    },
    {
      "cell_type": "markdown",
      "metadata": {
        "id": "98kHeWojVeXU"
      },
      "source": [
        "## Cluster Query"
      ]
    },
    {
      "cell_type": "markdown",
      "metadata": {
        "id": "xNNfnobNWKVH"
      },
      "source": [
        "This task could use for its solution a computer cluster. As it is optional, use it only when you are running it. In this case you must set the option ```useCluster``` to ```True``` and set proper value in ```url``` variable."
      ]
    },
    {
      "cell_type": "code",
      "metadata": {
        "id": "PuzSUxD3VlbQ"
      },
      "source": [
        "useCluster = False\r\n",
        "url = 'https://ourserver/api/evaluator/FFFF'\r\n",
        "\r\n",
        "if useCluster:\r\n",
        "    url = input('Enter full / https include / cluster URL: \\t')"
      ],
      "execution_count": 47,
      "outputs": []
    },
    {
      "cell_type": "code",
      "metadata": {
        "colab": {
          "base_uri": "https://localhost:8080/"
        },
        "id": "mASMUWRdPdPe",
        "outputId": "797908a0-98ea-4e0b-d208-81c19ee5145a"
      },
      "source": [
        "!pip install scikit-fuzzy"
      ],
      "execution_count": 48,
      "outputs": [
        {
          "output_type": "stream",
          "text": [
            "Requirement already satisfied: scikit-fuzzy in /usr/local/lib/python3.6/dist-packages (0.4.2)\n",
            "Requirement already satisfied: numpy>=1.6.0 in /usr/local/lib/python3.6/dist-packages (from scikit-fuzzy) (1.19.5)\n",
            "Requirement already satisfied: networkx>=1.9.0 in /usr/local/lib/python3.6/dist-packages (from scikit-fuzzy) (2.5)\n",
            "Requirement already satisfied: scipy>=0.9.0 in /usr/local/lib/python3.6/dist-packages (from scikit-fuzzy) (1.4.1)\n",
            "Requirement already satisfied: decorator>=4.3.0 in /usr/local/lib/python3.6/dist-packages (from networkx>=1.9.0->scikit-fuzzy) (4.4.2)\n"
          ],
          "name": "stdout"
        }
      ]
    },
    {
      "cell_type": "code",
      "metadata": {
        "id": "pIacmIg4P74F"
      },
      "source": [
        "import numpy as np\r\n",
        "import math\r\n",
        "import random\r\n",
        "from math import *\r\n",
        "import scipy.integrate as integrate\r\n",
        "import matplotlib.pyplot as plt\r\n",
        "import pandas as pd\r\n",
        "%matplotlib inline\r\n",
        "import skfuzzy as fuzz"
      ],
      "execution_count": 49,
      "outputs": []
    },
    {
      "cell_type": "markdown",
      "metadata": {
        "id": "JIjdIInIQAom"
      },
      "source": [
        "##Robot parameters"
      ]
    },
    {
      "cell_type": "code",
      "metadata": {
        "id": "_XbYHJqSQC0G"
      },
      "source": [
        "robotState0 = {\r\n",
        "    'x': 0,\r\n",
        "    'y': 0,\r\n",
        "    'theta': -3.14 / 4\r\n",
        "}\r\n",
        "\r\n",
        "robotParams = {\r\n",
        "    'r': 0.0925,\r\n",
        "    'b': 0.37,\r\n",
        "    'm': 9,\r\n",
        "    'I': 0.16245,\r\n",
        "}"
      ],
      "execution_count": 50,
      "outputs": []
    },
    {
      "cell_type": "markdown",
      "metadata": {
        "id": "cohw6gngQsed"
      },
      "source": [
        "##Robot models"
      ]
    },
    {
      "cell_type": "markdown",
      "metadata": {
        "id": "2yRYd1GMQfiV"
      },
      "source": [
        "###Kinematic model"
      ]
    },
    {
      "cell_type": "code",
      "metadata": {
        "id": "HBiby1TwQhSW"
      },
      "source": [
        "from math import sin, cos\r\n",
        "def createRobot(params):\r\n",
        "    m = params['m']\r\n",
        "    I = params['I']\r\n",
        "\r\n",
        "    def robot(t, currentState, controller):\r\n",
        "        # ask controller for velocity and omega\r\n",
        "        velocity, omega = controller(t, currentState)\r\n",
        "\r\n",
        "        currentTheta = currentState[2]\r\n",
        "        cosTheta = cos(currentTheta)\r\n",
        "        sinTheta = sin(currentTheta)\r\n",
        "\r\n",
        "        x_dot = velocity * cosTheta\r\n",
        "        y_dot = velocity * sinTheta\r\n",
        "        theta_dot = omega\r\n",
        "\r\n",
        "        E = 0.5 * (m * velocity * velocity + I * omega * omega)\r\n",
        "\r\n",
        "        return [x_dot, y_dot, theta_dot, velocity, omega, E] # velocity, omega, E are returned for easy evaluation they are not needed for computation\r\n",
        "    return robot\r\n",
        "\r\n",
        "robot = createRobot(robotParams)"
      ],
      "execution_count": 51,
      "outputs": []
    },
    {
      "cell_type": "markdown",
      "metadata": {
        "id": "LcttHseUQnsV"
      },
      "source": [
        "###Dynamic Model"
      ]
    },
    {
      "cell_type": "markdown",
      "metadata": {
        "id": "RTSVOZrXVGur"
      },
      "source": [
        "Dynamic model extends kinematic model with differential equations describing the motors."
      ]
    },
    {
      "cell_type": "code",
      "metadata": {
        "id": "hTApKdxhQxCd"
      },
      "source": [
        "# example of motor parameters,\r\n",
        "motorParams = {\r\n",
        "    'J': 0.01,\r\n",
        "    'B': 0.1,\r\n",
        "    \r\n",
        "    'Kt': 0.01,\r\n",
        "    'Ke': 0.01,\r\n",
        "    'K': 0.01,\r\n",
        "    \r\n",
        "    'Ra': 0.1,\r\n",
        "    'La': 0.01\r\n",
        "}\r\n",
        "\r\n",
        "#//////////////////////////////////////////////////////////////////////////////\r\n",
        "def createFilter2ndOrder(b1, b0, a1, a0):\r\n",
        "    def filter2ndOrder(t, u, currentState):\r\n",
        "        x0 = currentState[0]\r\n",
        "        x1 = currentState[1]\r\n",
        "        dx0 = b0 * u + a0 * x0 + x1\r\n",
        "        dx1 = b1 * u + a1 * x0\r\n",
        "        return [dx0, dx1]\r\n",
        "    return filter2ndOrder\r\n",
        "\r\n",
        "def createMotorModel(motorParams=None):\r\n",
        "    if motorParams is None:\r\n",
        "        return None\r\n",
        "    \r\n",
        "    K = motorParams['K']\r\n",
        "    J = motorParams['J']\r\n",
        "    La = motorParams['La']\r\n",
        "    Ra = motorParams['Ra']\r\n",
        "    B = motorParams['B']\r\n",
        "    \r\n",
        "    b1 = K / (La * J)\r\n",
        "    b0 = 0\r\n",
        "    a1 = -(Ra * B + K * K) / (La * J)\r\n",
        "    a0 = -(Ra * J + La * B) / (La * J)\r\n",
        "    return createFilter2ndOrder(b1, b0, a1, a0)\r\n",
        "    \r\n",
        "\r\n",
        "def createRobotModelWithDynamic(params, motorModel = None):\r\n",
        "    \"\"\"\r\n",
        "    function returns standard ODE model usable in many libraries (scipy)\r\n",
        "    \"\"\"\r\n",
        "    # motorAsFilter = createFilter2ndOrder(b1, b0, a1, a0)\r\n",
        "    m = params['m']\r\n",
        "    I = params['I']\r\n",
        "    b = params['b']\r\n",
        "\r\n",
        "    motorAsFilter = motorModel\r\n",
        "    def robotWithDynamic(t, currentState, controller):\r\n",
        "        # ask controller for velocity and omega\r\n",
        "        velocity, omega = controller(t, currentState)\r\n",
        "\r\n",
        "        delta = omega * b / 2\r\n",
        "        vL = velocity - delta\r\n",
        "        vR = velocity + delta\r\n",
        "        vLState = currentState[6:8]\r\n",
        "        vRState = currentState[8:10]\r\n",
        "        vLStateD = motorAsFilter(t, vL, vLState)\r\n",
        "        vRStateD = motorAsFilter(t, vR, vRState)\r\n",
        "        vLFiltered = vLState[0]\r\n",
        "        vRFiltered = vRState[0]\r\n",
        "\r\n",
        "        velocity = (vRFiltered + vLFiltered) / 2\r\n",
        "        delta = (vRFiltered - vLFiltered) / 2\r\n",
        "        omega = 2 * delta / b\r\n",
        "\r\n",
        "        currentTheta = currentState[2]\r\n",
        "        cosTheta = cos(currentTheta)\r\n",
        "        sinTheta = sin(currentTheta)\r\n",
        "\r\n",
        "        x_dot = velocity * cosTheta\r\n",
        "        y_dot = velocity * sinTheta\r\n",
        "        theta_dot = omega\r\n",
        "\r\n",
        "        E = 0.5*(m*(velocity)*(velocity) + I*(omega)*(omega))\r\n",
        "\r\n",
        "        return [x_dot, y_dot, theta_dot, velocity, omega, E, *vLStateD, *vRStateD] #velocity, omega, E are returned for easy evaluation they are not needed for computation\r\n",
        "\r\n",
        "    def robot(t, currentState, controller):\r\n",
        "        \"\"\"\r\n",
        "        This closure is result of parent function\r\n",
        "        \"\"\"\r\n",
        "        # ask controller for velocity and omega\r\n",
        "        velocity, omega = controller(t, currentState)\r\n",
        "\r\n",
        "        currentTheta = currentState[2]\r\n",
        "        cosTheta = cos(currentTheta)\r\n",
        "        sinTheta = sin(currentTheta)\r\n",
        "\r\n",
        "        x_dot = velocity * cosTheta\r\n",
        "        y_dot = velocity * sinTheta\r\n",
        "        theta_dot = omega\r\n",
        "\r\n",
        "        E = 0.5 * (m * velocity * velocity + I * omega * omega)\r\n",
        "\r\n",
        "        return [x_dot, y_dot, theta_dot, velocity, omega, E] #velocity, omega, E are returned for easy evaluation they are not needed for computation\r\n",
        "\r\n",
        "    if motorModel is None:\r\n",
        "        return robot\r\n",
        "    else:\r\n",
        "        return robotWithDynamic\r\n",
        "    pass\r\n",
        "  \r\n",
        "motorModel = createMotorModel(motorParams)    \r\n",
        "robotWithDynamic = createRobotModelWithDynamic(robotParams, motorModel)\r\n",
        "robot = robotWithDynamic # If you delete / comment this line, only the Kinematic model is taken into account."
      ],
      "execution_count": 52,
      "outputs": []
    },
    {
      "cell_type": "markdown",
      "metadata": {
        "id": "qeDuH06YQ72V"
      },
      "source": [
        "##Solver"
      ]
    },
    {
      "cell_type": "code",
      "metadata": {
        "id": "zS1KbpA1Q9Iz"
      },
      "source": [
        "# selectors are defined for extration of data from results computed by ODE solver\r\n",
        "selectx = lambda item: item['y'][0]       # x position\r\n",
        "selecty = lambda item: item['y'][1]       # y position\r\n",
        "selectt = lambda item: item['time']       # time\r\n",
        "selectv = lambda item: item['dy'][3]      # velocity\r\n",
        "selectomega = lambda item: item['dy'][2]  # omega = theta_dot\r\n",
        "selecte = lambda item: item['TotalEnergy']# total energy\r\n",
        "selects = lambda item: item['y'][3]       # displacement\r\n",
        "selectors = {\r\n",
        "    'time': selectt,\r\n",
        "    'x': selectx, \r\n",
        "    'y': selecty, \r\n",
        "    'd': selects, \r\n",
        "    'v': selectv, \r\n",
        "    'omega': selectomega,\r\n",
        "    'E': selecte}\r\n",
        "\r\n",
        "#          yIndex=0, yIndex=1, yIndex=2, yIndex=3, yIndex=4, yIndex=5, yIndex=6,\r\n",
        "def compute(model, state0, t0 = 0.0, t_bound = 10, max_step = 0.05):\r\n",
        "    \"\"\"\r\n",
        "    This function returns a generator containing the sequence of resuls. \r\n",
        "    In this particular case it will return a sequence of robot states.\r\n",
        "    \"\"\"\r\n",
        "    solver = integrate.RK45(fun = model, t0 = t0, y0 = state0, t_bound = t_bound, max_step = max_step)\r\n",
        "    cnt = 0\r\n",
        "    lastEnergy = 0\r\n",
        "    totalEnergy = 0\r\n",
        "\r\n",
        "    #names = ['t', 'x', 'y', 'θ', 's', 'θ2', 'IE', \"x'\", \"y'\", 'ω', 'v', 'ω2', 'E']\r\n",
        "    while True:\r\n",
        "        message = solver.step()\r\n",
        "        #currentItem = [solver.t, *solver.y, *model(solver.t, solver.y)]\r\n",
        "        currentItem = {'time': solver.t, 'y': solver.y, 'dy': model(solver.t, solver.y)}\r\n",
        "        #t, 'solver.y': x, y, theta, s, theta, intE 'model': x', y', theta', velocity, omega, E\r\n",
        "        #0,             0, 1,   2,   3,   4,     5,          0,  1,   2,        3,      4,    5  \r\n",
        "        # Energy calculation / energy sumation\r\n",
        "        currentEnergy = currentItem['dy'][5] #currentNamed['E']\r\n",
        "        deltaEnergy = currentEnergy - lastEnergy\r\n",
        "\r\n",
        "        if deltaEnergy > 0:\r\n",
        "            totalEnergy = totalEnergy + deltaEnergy\r\n",
        "\r\n",
        "        lastEnergy = currentEnergy\r\n",
        "        currentItem['TotalEnergy'] = totalEnergy\r\n",
        "\r\n",
        "        yield currentItem\r\n",
        "        if (not(solver.status == 'running')):\r\n",
        "            break\r\n",
        "    return"
      ],
      "execution_count": 53,
      "outputs": []
    },
    {
      "cell_type": "markdown",
      "metadata": {
        "id": "gflyq5JpRDFz"
      },
      "source": [
        "##Path Controller"
      ]
    },
    {
      "cell_type": "markdown",
      "metadata": {
        "id": "KOPFQ_KXWjsO"
      },
      "source": [
        "Path Controller transforms a controller navigating robot towards a fixed distance to controller able switch the destination immediately after reaching point defined by a path."
      ]
    },
    {
      "cell_type": "code",
      "metadata": {
        "id": "F5UAQCG2RGED"
      },
      "source": [
        "def controllerForPath(controller, path):\r\n",
        "    destinationX, destinationY, destinationOrietation = next(path)\r\n",
        "    destinationState = [destinationX, destinationY, destinationOrietation]\r\n",
        "    lastReached = False\r\n",
        "    #print('Destination set to', destinationState)\r\n",
        "    def result(t, currentState):\r\n",
        "        \"\"\"\r\n",
        "        This closure is result of parent function and acts as a controller - mediator,\r\n",
        "        which commands the given controller.\r\n",
        "        \"\"\"\r\n",
        "        nonlocal destinationX # use parent variable\r\n",
        "        nonlocal destinationY # use parent variable\r\n",
        "        nonlocal destinationState # use parent variable\r\n",
        "        nonlocal lastReached # use parent variable\r\n",
        "\r\n",
        "        currentX = currentState[0]\r\n",
        "        currentY = currentState[1]\r\n",
        "        deltaX = destinationX - currentX\r\n",
        "        deltaY = destinationY - currentY\r\n",
        "        if (lastReached == False):\r\n",
        "          # last point in path was not reached\r\n",
        "          if (deltaX * deltaX + deltaY * deltaY < 1e-2):\r\n",
        "            # robot is close enought to currentDestination\r\n",
        "            try:\r\n",
        "                # try to get another point on path\r\n",
        "                destinationX, destinationY, destinationOrietation = next(path)\r\n",
        "                destinationState = [destinationX, destinationY, destinationOrietation]\r\n",
        "                #print('Destination set to', destinationState, 'while in state', currentState)\r\n",
        "            except StopIteration:\r\n",
        "              # there are no other points\r\n",
        "              lastReached = True\r\n",
        "        if (lastReached):\r\n",
        "            return (0, 0)\r\n",
        "        else:\r\n",
        "            return controller(t, currentState, destinationState)\r\n",
        "    return result"
      ],
      "execution_count": 54,
      "outputs": []
    },
    {
      "cell_type": "markdown",
      "metadata": {
        "id": "u54IFUmmRa4t"
      },
      "source": [
        "##Model Creator"
      ]
    },
    {
      "cell_type": "markdown",
      "metadata": {
        "id": "TLcXw1FGXUjG"
      },
      "source": [
        "Model creator is function which packs all subsystems into one described by standard ODE function. Standard methods for ODE problems could be applied on such result / function."
      ]
    },
    {
      "cell_type": "code",
      "metadata": {
        "id": "9u5kFlvsscte"
      },
      "source": [
        "def robotModelCreator(controllerCreator, path, **kwargs):\r\n",
        "    controller_ = controllerCreator(**kwargs)\r\n",
        "    savedController = controllerForPath(controller_, path)\r\n",
        "    def resultRMC(t, currentState):\r\n",
        "        return robot(t, currentState, savedController)\r\n",
        "    return resultRMC"
      ],
      "execution_count": 55,
      "outputs": []
    },
    {
      "cell_type": "markdown",
      "metadata": {
        "id": "ynlf_rVJ0GSN"
      },
      "source": [
        "## Computation"
      ]
    },
    {
      "cell_type": "markdown",
      "metadata": {
        "id": "1lnJrDYEXxzL"
      },
      "source": [
        "Simple compute allows to fully define parameters at first and then use it on model. Such approach is usefull in case when different models (controllers) are used for same task. In this case this function simplify comparison of different controllers."
      ]
    },
    {
      "cell_type": "code",
      "metadata": {
        "id": "LMkk08sURfBd"
      },
      "source": [
        "def simpleCompute(computefunc, state0, t0 = 0, t_bound = 200, max_step = 0.05):\r\n",
        "    def resultSC(model):\r\n",
        "        return computefunc(\r\n",
        "          model, state0 = state0, t0 = t0, t_bound = t_bound, max_step = max_step)\r\n",
        "    return resultSC"
      ],
      "execution_count": 56,
      "outputs": []
    },
    {
      "cell_type": "markdown",
      "metadata": {
        "id": "zza31ciKii6l"
      },
      "source": [
        "## Controllers"
      ]
    },
    {
      "cell_type": "markdown",
      "metadata": {
        "id": "nI8SHWQxWeed"
      },
      "source": [
        "All controllers have to have same signature (parameter list)\r\n",
        "\r\n",
        "```python\r\n",
        "def controller(t, currentState, destinationState)\r\n",
        "```\r\n",
        "\r\n",
        "thus a creator taking special controller parameters must be defined. Such a creator should accept all special parameters and return controller with standard signature."
      ]
    },
    {
      "cell_type": "markdown",
      "metadata": {
        "id": "861HkupvimCa"
      },
      "source": [
        "### Circle Controller"
      ]
    },
    {
      "cell_type": "code",
      "metadata": {
        "id": "xFcvft74ik9D"
      },
      "source": [
        "def createCircleControllerWithGain(gain, omega_ri, vri, lowVelocityLimit, highVelocityLimit, lowOmegaLimit, highOmegaLimit):\r\n",
        "    def controller(t, currentState, destinationState):\r\n",
        "        currentX = currentState[0]\r\n",
        "        currentY = currentState[1]\r\n",
        "        currentTheta = currentState[2]\r\n",
        "\r\n",
        "        destinationX = destinationState[0]\r\n",
        "        destinationY = destinationState[1]\r\n",
        "\r\n",
        "        cosTheta = cos(currentTheta)\r\n",
        "        sinTheta = sin(currentTheta)\r\n",
        "\r\n",
        "        deltaX = destinationX - currentX\r\n",
        "        deltaY = destinationY - currentY\r\n",
        "\r\n",
        "        velocity = vri\r\n",
        "        omega = -2 * gain * vri * (deltaX * sinTheta - deltaY * cosTheta) / (deltaX * deltaX + deltaY * deltaY)\r\n",
        "    \r\n",
        "        if velocity > highVelocityLimit:\r\n",
        "           velocity = highVelocityLimit\r\n",
        "        if (velocity < lowVelocityLimit):\r\n",
        "           velocity = lowVelocityLimit\r\n",
        "        if omega > highOmegaLimit:\r\n",
        "           omega = highOmegaLimit\r\n",
        "        if (omega < lowOmegaLimit):\r\n",
        "           omega = lowOmegaLimit\r\n",
        "\r\n",
        "        return velocity, omega\r\n",
        "    return controller"
      ],
      "execution_count": 57,
      "outputs": []
    },
    {
      "cell_type": "markdown",
      "metadata": {
        "id": "4YQkNzcHNia4"
      },
      "source": [
        "#### Full Example of Use"
      ]
    },
    {
      "cell_type": "code",
      "metadata": {
        "colab": {
          "base_uri": "https://localhost:8080/",
          "height": 412
        },
        "id": "lbuEfz_YNXco",
        "outputId": "a9320cd0-e84f-484a-fff9-f74b39be57f4"
      },
      "source": [
        "pathForSimulation = iter([\r\n",
        "        [0, 0, 0],  #X, Y, orientation\r\n",
        "        [10, 0, 0], #X, Y, orientation\r\n",
        "        [10, 10, 0], #X, Y, orientation\r\n",
        "        [0, 10, 0], #X, Y, orientation\r\n",
        "        [0, 0, 0]\r\n",
        "    ])\r\n",
        "\r\n",
        "robotState0 = {\r\n",
        "        'x': 0,\r\n",
        "        'y': 0,\r\n",
        "        'theta': -3.14 / 4\r\n",
        "    }\r\n",
        "\r\n",
        "t0 = 0\r\n",
        "t_bound = 100\r\n",
        "max_step = 0.05\r\n",
        "\r\n",
        "state0 = None\r\n",
        "if robot == robotWithDynamic:\r\n",
        "    state0 = np.array([robotState0['x'], robotState0['y'], robotState0['theta'], 0, 0, 0, 0, 0, 0, 0]) # x0=0, y0=0, theta\r\n",
        "else:\r\n",
        "    state0 = np.array([robotState0['x'], robotState0['y'], robotState0['theta'], 0, 0, 0]) # x0=0, y0=0,theta\r\n",
        "\r\n",
        "solverfunc = simpleCompute(\r\n",
        "    compute, state0 = state0, \r\n",
        "    t0 = t0, t_bound = t_bound, max_step = max_step)    \r\n",
        "\r\n",
        "controllerParams = {\r\n",
        "    'gain': 4, \r\n",
        "    'omega_ri': 0, \r\n",
        "    'vri': 2.0, \r\n",
        "    'lowVelocityLimit': 0.2, \r\n",
        "    'highVelocityLimit': 2.0, \r\n",
        "    'lowOmegaLimit': -0.75, \r\n",
        "    'highOmegaLimit': 0.75\r\n",
        "    }\r\n",
        "\r\n",
        "fullRobot = robotModelCreator(createCircleControllerWithGain, pathForSimulation, **controllerParams)      \r\n",
        "state1 = fullRobot(0, state0)\r\n",
        "robotStates = solverfunc(fullRobot)\r\n",
        "\r\n",
        "results = {}\r\n",
        "for key, selector in selectors.items():\r\n",
        "  print(key)\r\n",
        "  results[key] = []\r\n",
        "\r\n",
        "for currentState in robotStates: # readout all states from current moving robot\r\n",
        "  for key, selector in selectors.items():\r\n",
        "    results[key].append(selector(currentState))\r\n",
        "\r\n",
        "plt.plot(results['x'], results['y'])"
      ],
      "execution_count": 58,
      "outputs": [
        {
          "output_type": "stream",
          "text": [
            "time\n",
            "x\n",
            "y\n",
            "d\n",
            "v\n",
            "omega\n",
            "E\n"
          ],
          "name": "stdout"
        },
        {
          "output_type": "execute_result",
          "data": {
            "text/plain": [
              "[<matplotlib.lines.Line2D at 0x7fd5f65d72e8>]"
            ]
          },
          "metadata": {
            "tags": []
          },
          "execution_count": 58
        },
        {
          "output_type": "display_data",
          "data": {
            "image/png": "[encoded data removed]",
            "text/plain": [
              "<Figure size 432x288 with 1 Axes>"
            ]
          },
          "metadata": {
            "tags": [],
            "needs_background": "light"
          }
        }
      ]
    },
    {
      "cell_type": "markdown",
      "metadata": {
        "id": "P7NQdsBwXaSN"
      },
      "source": [
        "### Robins"
      ]
    },
    {
      "cell_type": "code",
      "metadata": {
        "id": "YfaZ3nQ6Xha3"
      },
      "source": [
        "def createController_By_RobinsMathew(k0, k1, omega_ri, vri, lowVelocityLimit, highVelocityLimit, lowOmegaLimit, highOmegaLimit):\r\n",
        "    def controller(t, currentState, destinationState):\r\n",
        "        currentX = currentState[0]\r\n",
        "        currentY = currentState[1]\r\n",
        "        currentTheta = currentState[2]\r\n",
        "\r\n",
        "        destinationX = destinationState[0]\r\n",
        "        destinationY = destinationState[1]\r\n",
        "\r\n",
        "        cosTheta = cos(currentTheta)\r\n",
        "        sinTheta = sin(currentTheta)\r\n",
        "    \r\n",
        "        deltaX = destinationX - currentX\r\n",
        "        deltaY = destinationY - currentY\r\n",
        "        theta_destination = atan2(deltaY, deltaX)\r\n",
        "        theta_error = theta_destination - currentTheta\r\n",
        "\r\n",
        "        Te = math.sin(theta_destination)*deltaX - math.cos(theta_destination)*deltaY\r\n",
        "    \r\n",
        "        velocity = vri*math.cos(theta_error)\r\n",
        "        omega = omega_ri + k0*vri*Te + k1*vri*math.sin(theta_error)\r\n",
        "\r\n",
        "        if velocity > highVelocityLimit:\r\n",
        "            velocity = highVelocityLimit\r\n",
        "        if (velocity < lowVelocityLimit):\r\n",
        "            velocity = lowVelocityLimit\r\n",
        "        if omega > highOmegaLimit:\r\n",
        "            omega = highOmegaLimit\r\n",
        "        if (omega < lowOmegaLimit):\r\n",
        "            omega = lowOmegaLimit\r\n",
        "      \r\n",
        "        return velocity, omega\r\n",
        "    return controller"
      ],
      "execution_count": 59,
      "outputs": []
    },
    {
      "cell_type": "markdown",
      "metadata": {
        "id": "Z_y4r-tii6ZJ"
      },
      "source": [
        "### Fuzzy Logic Controller"
      ]
    },
    {
      "cell_type": "markdown",
      "metadata": {
        "id": "xiTGujK_jEsD"
      },
      "source": [
        "**Helper Functions**"
      ]
    },
    {
      "cell_type": "code",
      "metadata": {
        "id": "EAa9L5PtjE99"
      },
      "source": [
        "def createFuzzyfier(space, categories, trimf = fuzz.trimf, membership = fuzz.interp_membership):\r\n",
        "  fuzzyInput = {}\r\n",
        "  for key, value in categories.items():\r\n",
        "    fuzzyInput[key] = trimf(space, value)\r\n",
        "  def result(variable):\r\n",
        "    output = {}\r\n",
        "    for key, value in fuzzyInput.items():\r\n",
        "      output[key] = membership(space, value, variable)\r\n",
        "    if output[key] ==0:\r\n",
        "      output[key] = 1e-5\r\n",
        "    else:\r\n",
        "      output[key] = output[key] \r\n",
        "    return output\r\n",
        "  return result\r\n",
        "\r\n",
        "def createInferenceSystem(inputAfuzzyfier, inputBfuzzyfier, outputSpace, outputDict, rulesDict, trimf = fuzz.trimf):\r\n",
        "  fuzzyResults = {}\r\n",
        "  for keyA, outerValue in rulesDict.items():\r\n",
        "    if not(keyA in fuzzyResults):\r\n",
        "      fuzzyResults[keyA] = {}\r\n",
        "    for keyB, innerValue in outerValue.items():\r\n",
        "      fuzzyResults[keyA][keyB] = trimf(outputSpace, outputDict[innerValue]) #innerValue==outputDict[keyA][keyB]\r\n",
        "  def result(valueA, valueB):\r\n",
        "    fuzzyVariableA = inputAfuzzyfier(valueA)\r\n",
        "    fuzzyVariableB = inputBfuzzyfier(valueB)\r\n",
        "    fuzzyResult = None\r\n",
        "    for keyA, outerValue in rulesDict.items():\r\n",
        "      for keyB, resultValue in outerValue.items():\r\n",
        "        currentResult = np.fmin(fuzzyResults[keyA][keyB],\r\n",
        "            np.fmin(fuzzyVariableA[keyA], fuzzyVariableB[keyB]))\r\n",
        "        if fuzzyResult is None:\r\n",
        "          fuzzyResult = currentResult\r\n",
        "        else:\r\n",
        "          fuzzyResult = np.fmax(currentResult, fuzzyResult)\r\n",
        "    return fuzzyResult\r\n",
        "  return result\r\n",
        "\r\n",
        "def createDefuzzyfier(outputSpace, *defuzzArgs, defuzz=fuzz.defuzz, **defuzzKwargs):\r\n",
        "  def result(value):\r\n",
        "    return defuzz(outputSpace, value, *defuzzArgs, **defuzzKwargs)\r\n",
        "  return result\r\n",
        "  \r\n",
        "def createFullFuzzySystem(inferenceSystem, defuzzyfier):\r\n",
        "  def system(inputA, inputB):\r\n",
        "    return defuzzyfier(inferenceSystem(inputA, inputB))\r\n",
        "  return system"
      ],
      "execution_count": 60,
      "outputs": []
    },
    {
      "cell_type": "markdown",
      "metadata": {
        "id": "ND5QnGTCjggB"
      },
      "source": [
        "**Controller**"
      ]
    },
    {
      "cell_type": "code",
      "metadata": {
        "id": "ECXYHByGi-fu"
      },
      "source": [
        "def createFuzzyController(fuzzyDescription, r, b, omega_ri, vri, lowVelocityLimit, highVelocityLimit, lowOmegaLimit, highOmegaLimit):\r\n",
        "    inputsDistance = fuzzyDescription['inputs']['distance']['M']\r\n",
        "    inputsSpaceDistance = np.array(fuzzyDescription['inputs']['distance']['S'])\r\n",
        "    \r\n",
        "    inputsAngle = fuzzyDescription['inputs']['angle']['M']\r\n",
        "    inputsSpaceAngle = np.array(fuzzyDescription['inputs']['angle']['S'])\r\n",
        "    \r\n",
        "    outputsOmegaR = fuzzyDescription['outputs']['omegaR']['M']\r\n",
        "    outputSpaceOmegaR = np.array(fuzzyDescription['outputs']['omegaR']['S'])\r\n",
        "    outputRulesOmegaR = fuzzyDescription['outputs']['omegaR']['rules']\r\n",
        "    \r\n",
        "    outputsOmegaL = fuzzyDescription['outputs']['omegaL']['M']\r\n",
        "    outputSpaceOmegaL = np.array(fuzzyDescription['outputs']['omegaL']['S'])\r\n",
        "    outputRulesOmegaL = fuzzyDescription['outputs']['omegaL']['rules']\r\n",
        "\r\n",
        "\r\n",
        "    inputsDistanceFuzzyfier = createFuzzyfier(inputsSpaceDistance, inputsDistance)\r\n",
        "    inputsAngleFuzzyfier = createFuzzyfier(inputsSpaceAngle, inputsAngle)\r\n",
        "\r\n",
        "    inferenceSystem_R = createInferenceSystem(inputsDistanceFuzzyfier, inputsAngleFuzzyfier, outputSpaceOmegaR, outputsOmegaR, outputRulesOmegaR)\r\n",
        "    outputDefuzzyfier_R = createDefuzzyfier(outputSpaceOmegaL, mode='centroid')\r\n",
        "\r\n",
        "    inferenceSystem_L = createInferenceSystem(inputsDistanceFuzzyfier, inputsAngleFuzzyfier, outputSpaceOmegaL, outputsOmegaL, outputRulesOmegaL)\r\n",
        "    outputDefuzzyfier_L = createDefuzzyfier(outputSpaceOmegaL, mode='centroid')\r\n",
        "\r\n",
        "    fullSystem_R = createFullFuzzySystem(inferenceSystem_R, outputDefuzzyfier_R)\r\n",
        "    fullSystem_L = createFullFuzzySystem(inferenceSystem_L, outputDefuzzyfier_L)\r\n",
        "    \r\n",
        "    def controller(t, currentState, destinationState):\r\n",
        "        currentX = currentState[0]\r\n",
        "        currentY = currentState[1]\r\n",
        "        currentTheta = currentState[2]\r\n",
        "\r\n",
        "        destinationX = destinationState[0]\r\n",
        "        destinationY = destinationState[1]\r\n",
        "\r\n",
        "        cosTheta = cos(currentTheta)\r\n",
        "        sinTheta = sin(currentTheta)\r\n",
        "        \r\n",
        "        deltaX = destinationX - currentX\r\n",
        "        deltaY = destinationY - currentY\r\n",
        "        theta_destination = atan2(deltaY, deltaX)\r\n",
        "        THETA_ERROR = theta_destination - currentTheta\r\n",
        "        DISTANCE_ERROR = sqrt(deltaX * deltaX + deltaY * deltaY)\r\n",
        "        \r\n",
        "        if (THETA_ERROR > pi):\r\n",
        "          THETA_ERROR -= 2*pi\r\n",
        "        if (THETA_ERROR < -pi):\r\n",
        "          THETA_ERROR += 2*pi\r\n",
        "      \r\n",
        "        omega_R = fullSystem_R(DISTANCE_ERROR, THETA_ERROR)\r\n",
        "        omega_L = fullSystem_L(DISTANCE_ERROR, THETA_ERROR)\r\n",
        "\r\n",
        "        velocity = r * (omega_R + omega_L) / 2\r\n",
        "        omega = r * (omega_R - omega_L) / b\r\n",
        "\r\n",
        "        if velocity > highVelocityLimit:\r\n",
        "            velocity = highVelocityLimit\r\n",
        "        if (velocity < lowVelocityLimit):\r\n",
        "            velocity = lowVelocityLimit\r\n",
        "        if omega > highOmegaLimit:\r\n",
        "            omega = highOmegaLimit\r\n",
        "        if (omega < lowOmegaLimit):\r\n",
        "            omega = lowOmegaLimit\r\n",
        "\r\n",
        "        return velocity, omega\r\n",
        "    return controller"
      ],
      "execution_count": 61,
      "outputs": []
    },
    {
      "cell_type": "markdown",
      "metadata": {
        "id": "4Uj-sMX-SQEt"
      },
      "source": [
        "## Binding a Fitness Function Used for GA"
      ]
    },
    {
      "cell_type": "markdown",
      "metadata": {
        "id": "gWqGZGj9SVWL"
      },
      "source": [
        "###Full Description of Simulation"
      ]
    },
    {
      "cell_type": "markdown",
      "metadata": {
        "id": "Z_8pVr2PYUdB"
      },
      "source": [
        "In next part the full description of simulation is stored in a single structured JSON document / variable. If this document is mutated, the slighly different condition for simulation are defined. Set of mutated documents and results of described simulations might be compared and thus proper results can be selected. This process creates a basement for optimization techniques."
      ]
    },
    {
      "cell_type": "code",
      "metadata": {
        "id": "MWlyUlyOSYws"
      },
      "source": [
        "\r\n",
        "fitnessFunctionDescription = {\r\n",
        "    'fuzzyDescription': {\r\n",
        "        'inputs': {\r\n",
        "            'distance' : {\r\n",
        "                'S': list(np.arange(0, 2, 0.02)),\r\n",
        "                'M': {'VC': [0, 0, 0.5], 'C': [0, 0.5, 1], 'M': [0.5, 1, 1.5], 'F': [1, 1.5, 2], 'VF': [1.5, 2, 2]}\r\n",
        "            },\r\n",
        "            'angle' : {\r\n",
        "                'S': list(np.arange(-3.14, 3.14, 0.0628)),\r\n",
        "                'M': {'BN': [-3.14, -3.14, -1.57], 'N': [-3.14, -1.57, 0], 'Z': [-1.57, 0, 1.57], 'P': [0, 1.57, 3.14], 'BP': [1.57, 3.14, 3.14]}\r\n",
        "            }\r\n",
        "        },\r\n",
        "        'outputs': {\r\n",
        "            'omegaR': {\r\n",
        "                'S': list(np.arange(0, 30, 0.3)),\r\n",
        "                'rules': {\r\n",
        "                    'VC': {'BN': 'VSR', 'N': 'SR', 'Z': 'VSR', 'P': 'BR', 'BP': 'VBR'},\r\n",
        "                    'C': {'BN': 'VSR', 'N': 'SR', 'Z': 'SR', 'P': 'BR', 'BP': 'VBR'},\r\n",
        "                    'M': {'BN': 'VSR', 'N': 'SR', 'Z': 'MBR', 'P': 'BR', 'BP': 'VBR'},\r\n",
        "                    'F': {'BN': 'VSR', 'N': 'SR', 'Z': 'BR', 'P': 'BR', 'BP': 'VBR'},\r\n",
        "                    'VF': {'BN': 'VSR', 'N': 'SR', 'Z': 'VBR', 'P': 'BR', 'BP': 'VBR'}\r\n",
        "                },\r\n",
        "                'mode': 'centroid',\r\n",
        "                'M': {'VSR': [0, 0, 7.5], 'SR': [0, 7.5, 15], 'MBR': [7.5, 15, 22.5], 'BR': [15, 22.5, 30], 'VBR': [22.5, 30, 30]}\r\n",
        "            },\r\n",
        "            'omegaL': {\r\n",
        "                'S': list(np.arange(0, 30, 0.3)),\r\n",
        "                'rules': {\r\n",
        "                    'VC': {'BN': 'VBL', 'N': 'BL', 'Z': 'VSL', 'P': 'SL', 'BP': 'VSL'},\r\n",
        "                    'C': {'BN': 'VBL', 'N': 'BL', 'Z': 'SL', 'P': 'SL', 'BP': 'VSL'},\r\n",
        "                    'M': {'BN': 'VBL', 'N': 'BL', 'Z': 'MBL', 'P': 'SL', 'BP': 'VSL'},\r\n",
        "                    'F': {'BN': 'VBL', 'N': 'BL', 'Z': 'BL', 'P': 'SL', 'BP': 'VSL'},\r\n",
        "                    'VF': {'BN': 'VBL', 'N': 'BL', 'Z': 'VBL', 'P': 'SL', 'BP': 'VSL'} \r\n",
        "                },\r\n",
        "                'mode': 'centroid',\r\n",
        "                'M': {'VSL': [0, 0, 7.5], 'SL': [0, 7.5, 15], 'MBL': [7.5, 15, 22.5], 'BL': [15, 22.5, 30], 'VBL': [22.5, 30, 30]}\r\n",
        "            }\r\n",
        "        }\r\n",
        "    },    \r\n",
        "    \r\n",
        "    'robotState0': {\r\n",
        "        'x': 0,\r\n",
        "        'y': 0,\r\n",
        "        'theta': -3.14 / 4\r\n",
        "    },\r\n",
        "\r\n",
        "    'path': [\r\n",
        "        [0, 0, 0],  #X, Y, orientation\r\n",
        "        [10, 0, 0], #X, Y, orientation\r\n",
        "        [10, 10, 0], #X, Y, orientation\r\n",
        "        [0, 10, 0], #X, Y, orientation\r\n",
        "        [0, 0, 0]\r\n",
        "    ],\r\n",
        "\r\n",
        "    'robotParams': {\r\n",
        "        'r': 0.0925,\r\n",
        "        'b': 0.37,\r\n",
        "        'm': 9,\r\n",
        "        'I': 0.16245,\r\n",
        "        #'motorParams': None,\r\n",
        "        'motorParams': {\r\n",
        "            'J': 0.01,\r\n",
        "            'B': 0.1,\r\n",
        "\r\n",
        "            'Kt': 0.01,\r\n",
        "            'Ke': 0.01,\r\n",
        "            'K': 0.01,\r\n",
        "\r\n",
        "            'Ra': 0.1,\r\n",
        "            'La': 0.01\r\n",
        "        }\r\n",
        "    },\r\n",
        "    \r\n",
        "    'controllerParams': {\r\n",
        "        'omega_ri': 0, 'vri': 2.0,'lowVelocityLimit': 0.2, \r\n",
        "        'highVelocityLimit': 2.0, 'lowOmegaLimit': -0.75, 'highOmegaLimit': 0.75\r\n",
        "    },\r\n",
        "\r\n",
        "    'simulationParams': {\r\n",
        "        't0': 0,\r\n",
        "        't_bound': 100,\r\n",
        "        'max_step': 0.05\r\n",
        "    }\r\n",
        "}"
      ],
      "execution_count": 62,
      "outputs": []
    },
    {
      "cell_type": "markdown",
      "metadata": {
        "id": "Pu4SrMbShjVu"
      },
      "source": [
        "### Run Any Simulation"
      ]
    },
    {
      "cell_type": "code",
      "metadata": {
        "id": "HeQ5PRiyhnMA"
      },
      "source": [
        "def runSimulation(fitnessFunctionDescription, controllerCreator, selectors=selectors):\r\n",
        "  \r\n",
        "    pathForSimulation = iter(fitnessFunctionDescription['path'])\r\n",
        "\r\n",
        "    t0 = fitnessFunctionDescription['simulationParams']['t0']\r\n",
        "    t_bound = fitnessFunctionDescription['simulationParams']['t_bound']\r\n",
        "    max_step = fitnessFunctionDescription['simulationParams']['max_step']\r\n",
        "\r\n",
        "    state0 = None\r\n",
        "    robotState0 = fitnessFunctionDescription['robotState0']\r\n",
        "    if robot == robotWithDynamic:\r\n",
        "        state0 = np.array([robotState0['x'], robotState0['y'], robotState0['theta'], 0, 0, 0, 0, 0, 0, 0]) # x0=0, y0=0, theta\r\n",
        "    else:\r\n",
        "        state0 = np.array([robotState0['x'], robotState0['y'], robotState0['theta'], 0, 0, 0]) # x0=0, y0=0,theta\r\n",
        "\r\n",
        "    solverfunc = simpleCompute(\r\n",
        "        compute, state0 = state0, \r\n",
        "        t0 = t0, t_bound = t_bound, max_step = max_step)\r\n",
        "\r\n",
        "    controllerParams = fitnessFunctionDescription['controllerParams']\r\n",
        "    completeRobot = robotModelCreator(controllerCreator, pathForSimulation, **controllerParams)      \r\n",
        "    robotStates = solverfunc(completeRobot)\r\n",
        "\r\n",
        "    results = {}\r\n",
        "    for key, selector in selectors.items():\r\n",
        "        results[key] = []\r\n",
        "\r\n",
        "    for currentState in robotStates: # readout all states from current moving robot\r\n",
        "        for key, selector in selectors.items():\r\n",
        "           results[key].append(selector(currentState))\r\n",
        "\r\n",
        "    return results"
      ],
      "execution_count": 63,
      "outputs": []
    },
    {
      "cell_type": "code",
      "metadata": {
        "id": "JY2A8MLKUngq"
      },
      "source": [
        "def fromChromozomeToDescriptionCircle(chromozome, description):\r\n",
        "    result = {**description}\r\n",
        "    result['controllerParams']['gain'] = chromozome[0]\r\n",
        "    return result"
      ],
      "execution_count": 64,
      "outputs": []
    },
    {
      "cell_type": "code",
      "metadata": {
        "colab": {
          "base_uri": "https://localhost:8080/",
          "height": 322
        },
        "id": "vgN4SKRAU4ZC",
        "outputId": "88284845-1ba3-4f46-d39e-77d77b644621"
      },
      "source": [
        "description = fromChromozomeToDescriptionCircle([4], fitnessFunctionDescription)\r\n",
        "print(description)\r\n",
        "results = runSimulation(description, createCircleControllerWithGain, selectors)\r\n",
        "plt.plot(results['x'], results['y'])"
      ],
      "execution_count": 65,
      "outputs": [
        {
          "output_type": "stream",
          "text": [
            "{'fuzzyDescription': {'inputs': {'distance': {'S': [0.0, 0.02, 0.04, 0.06, 0.08, 0.1, 0.12, 0.14, 0.16, 0.18, 0.2, 0.22, 0.24, 0.26, 0.28, 0.3, 0.32, 0.34, 0.36, 0.38, 0.4, 0.42, 0.44, 0.46, 0.48, 0.5, 0.52, 0.54, 0.56, 0.58, 0.6, 0.62, 0.64, 0.66, 0.68, 0.7000000000000001, 0.72, 0.74, 0.76, 0.78, 0.8, 0.8200000000000001, 0.84, 0.86, 0.88, 0.9, 0.92, 0.9400000000000001, 0.96, 0.98, 1.0, 1.02, 1.04, 1.06, 1.08, 1.1, 1.12, 1.1400000000000001, 1.16, 1.18, 1.2, 1.22, 1.24, 1.26, 1.28, 1.3, 1.32, 1.34, 1.36, 1.3800000000000001, 1.4000000000000001, 1.42, 1.44, 1.46, 1.48, 1.5, 1.52, 1.54, 1.56, 1.58, 1.6, 1.62, 1.6400000000000001, 1.6600000000000001, 1.68, 1.7, 1.72, 1.74, 1.76, 1.78, 1.8, 1.82, 1.84, 1.86, 1.8800000000000001, 1.9000000000000001, 1.92, 1.94, 1.96, 1.98], 'M': {'VC': [0, 0, 0.5], 'C': [0, 0.5, 1], 'M': [0.5, 1, 1.5], 'F': [1, 1.5, 2], 'VF': [1.5, 2, 2]}}, 'angle': {'S': [-3.14, -3.0772, -3.0143999999999997, -2.9515999999999996, -2.8887999999999994, -2.825999999999999, -2.763199999999999, -2.700399999999999, -2.6375999999999986, -2.5747999999999984, -2.5119999999999982, -2.449199999999998, -2.386399999999998, -2.3235999999999977, -2.2607999999999975, -2.1979999999999973, -2.135199999999997, -2.072399999999997, -2.0095999999999967, -1.9467999999999965, -1.8839999999999963, -1.8211999999999962, -1.758399999999996, -1.6955999999999958, -1.6327999999999956, -1.5699999999999954, -1.5071999999999952, -1.444399999999995, -1.3815999999999948, -1.3187999999999946, -1.2559999999999945, -1.1931999999999943, -1.130399999999994, -1.0675999999999939, -1.0047999999999937, -0.9419999999999935, -0.8791999999999933, -0.8163999999999931, -0.7535999999999929, -0.6907999999999928, -0.6279999999999926, -0.5651999999999924, -0.5023999999999922, -0.439599999999992, -0.3767999999999918, -0.3139999999999916, -0.25119999999999143, -0.18839999999999124, -0.12559999999999105, -0.06279999999999086, 9.325873406851315e-15, 0.06280000000000951, 0.1256000000000097, 0.1884000000000099, 0.2512000000000101, 0.31400000000001027, 0.37680000000001046, 0.43960000000001065, 0.5024000000000108, 0.565200000000011, 0.6280000000000112, 0.6908000000000114, 0.7536000000000116, 0.8164000000000118, 0.879200000000012, 0.9420000000000122, 1.0048000000000123, 1.0676000000000125, 1.1304000000000127, 1.193200000000013, 1.256000000000013, 1.3188000000000133, 1.3816000000000135, 1.4444000000000137, 1.5072000000000139, 1.570000000000014, 1.6328000000000142, 1.6956000000000144, 1.7584000000000146, 1.8212000000000148, 1.884000000000015, 1.9468000000000152, 2.0096000000000154, 2.0724000000000156, 2.1352000000000158, 2.198000000000016, 2.260800000000016, 2.3236000000000163, 2.3864000000000165, 2.4492000000000167, 2.512000000000017, 2.574800000000017, 2.6376000000000173, 2.7004000000000175, 2.7632000000000176, 2.826000000000018, 2.888800000000018, 2.951600000000018, 3.0144000000000184, 3.0772000000000186, 3.1400000000000188], 'M': {'BN': [-3.14, -3.14, -1.57], 'N': [-3.14, -1.57, 0], 'Z': [-1.57, 0, 1.57], 'P': [0, 1.57, 3.14], 'BP': [1.57, 3.14, 3.14]}}}, 'outputs': {'omegaR': {'S': [0.0, 0.3, 0.6, 0.8999999999999999, 1.2, 1.5, 1.7999999999999998, 2.1, 2.4, 2.6999999999999997, 3.0, 3.3, 3.5999999999999996, 3.9, 4.2, 4.5, 4.8, 5.1, 5.3999999999999995, 5.7, 6.0, 6.3, 6.6, 6.8999999999999995, 7.199999999999999, 7.5, 7.8, 8.1, 8.4, 8.7, 9.0, 9.299999999999999, 9.6, 9.9, 10.2, 10.5, 10.799999999999999, 11.1, 11.4, 11.7, 12.0, 12.299999999999999, 12.6, 12.9, 13.2, 13.5, 13.799999999999999, 14.1, 14.399999999999999, 14.7, 15.0, 15.299999999999999, 15.6, 15.899999999999999, 16.2, 16.5, 16.8, 17.099999999999998, 17.4, 17.7, 18.0, 18.3, 18.599999999999998, 18.9, 19.2, 19.5, 19.8, 20.099999999999998, 20.4, 20.7, 21.0, 21.3, 21.599999999999998, 21.9, 22.2, 22.5, 22.8, 23.099999999999998, 23.4, 23.7, 24.0, 24.3, 24.599999999999998, 24.9, 25.2, 25.5, 25.8, 26.099999999999998, 26.4, 26.7, 27.0, 27.3, 27.599999999999998, 27.9, 28.2, 28.5, 28.799999999999997, 29.099999999999998, 29.4, 29.7], 'rules': {'VC': {'BN': 'VSR', 'N': 'SR', 'Z': 'VSR', 'P': 'BR', 'BP': 'VBR'}, 'C': {'BN': 'VSR', 'N': 'SR', 'Z': 'SR', 'P': 'BR', 'BP': 'VBR'}, 'M': {'BN': 'VSR', 'N': 'SR', 'Z': 'MBR', 'P': 'BR', 'BP': 'VBR'}, 'F': {'BN': 'VSR', 'N': 'SR', 'Z': 'BR', 'P': 'BR', 'BP': 'VBR'}, 'VF': {'BN': 'VSR', 'N': 'SR', 'Z': 'VBR', 'P': 'BR', 'BP': 'VBR'}}, 'mode': 'centroid', 'M': {'VSR': [0, 0, 7.5], 'SR': [0, 7.5, 15], 'MBR': [7.5, 15, 22.5], 'BR': [15, 22.5, 30], 'VBR': [22.5, 30, 30]}}, 'omegaL': {'S': [0.0, 0.3, 0.6, 0.8999999999999999, 1.2, 1.5, 1.7999999999999998, 2.1, 2.4, 2.6999999999999997, 3.0, 3.3, 3.5999999999999996, 3.9, 4.2, 4.5, 4.8, 5.1, 5.3999999999999995, 5.7, 6.0, 6.3, 6.6, 6.8999999999999995, 7.199999999999999, 7.5, 7.8, 8.1, 8.4, 8.7, 9.0, 9.299999999999999, 9.6, 9.9, 10.2, 10.5, 10.799999999999999, 11.1, 11.4, 11.7, 12.0, 12.299999999999999, 12.6, 12.9, 13.2, 13.5, 13.799999999999999, 14.1, 14.399999999999999, 14.7, 15.0, 15.299999999999999, 15.6, 15.899999999999999, 16.2, 16.5, 16.8, 17.099999999999998, 17.4, 17.7, 18.0, 18.3, 18.599999999999998, 18.9, 19.2, 19.5, 19.8, 20.099999999999998, 20.4, 20.7, 21.0, 21.3, 21.599999999999998, 21.9, 22.2, 22.5, 22.8, 23.099999999999998, 23.4, 23.7, 24.0, 24.3, 24.599999999999998, 24.9, 25.2, 25.5, 25.8, 26.099999999999998, 26.4, 26.7, 27.0, 27.3, 27.599999999999998, 27.9, 28.2, 28.5, 28.799999999999997, 29.099999999999998, 29.4, 29.7], 'rules': {'VC': {'BN': 'VBL', 'N': 'BL', 'Z': 'VSL', 'P': 'SL', 'BP': 'VSL'}, 'C': {'BN': 'VBL', 'N': 'BL', 'Z': 'SL', 'P': 'SL', 'BP': 'VSL'}, 'M': {'BN': 'VBL', 'N': 'BL', 'Z': 'MBL', 'P': 'SL', 'BP': 'VSL'}, 'F': {'BN': 'VBL', 'N': 'BL', 'Z': 'BL', 'P': 'SL', 'BP': 'VSL'}, 'VF': {'BN': 'VBL', 'N': 'BL', 'Z': 'VBL', 'P': 'SL', 'BP': 'VSL'}}, 'mode': 'centroid', 'M': {'VSL': [0, 0, 7.5], 'SL': [0, 7.5, 15], 'MBL': [7.5, 15, 22.5], 'BL': [15, 22.5, 30], 'VBL': [22.5, 30, 30]}}}}, 'robotState0': {'x': 0, 'y': 0, 'theta': -0.785}, 'path': [[0, 0, 0], [10, 0, 0], [10, 10, 0], [0, 10, 0], [0, 0, 0]], 'robotParams': {'r': 0.0925, 'b': 0.37, 'm': 9, 'I': 0.16245, 'motorParams': {'J': 0.01, 'B': 0.1, 'Kt': 0.01, 'Ke': 0.01, 'K': 0.01, 'Ra': 0.1, 'La': 0.01}}, 'controllerParams': {'omega_ri': 0, 'vri': 2.0, 'lowVelocityLimit': 0.2, 'highVelocityLimit': 2.0, 'lowOmegaLimit': -0.75, 'highOmegaLimit': 0.75, 'gain': 4}, 'simulationParams': {'t0': 0, 't_bound': 100, 'max_step': 0.05}}\n"
          ],
          "name": "stdout"
        },
        {
          "output_type": "execute_result",
          "data": {
            "text/plain": [
              "[<matplotlib.lines.Line2D at 0x7fd5f64dbf98>]"
            ]
          },
          "metadata": {
            "tags": []
          },
          "execution_count": 65
        },
        {
          "output_type": "display_data",
          "data": {
            "image/png": "[encoded data removed]",
            "text/plain": [
              "<Figure size 432x288 with 1 Axes>"
            ]
          },
          "metadata": {
            "tags": [],
            "needs_background": "light"
          }
        }
      ]
    },
    {
      "cell_type": "markdown",
      "metadata": {
        "id": "wmPAPhoVYawE"
      },
      "source": [
        "## Chromozome Mapping Functions"
      ]
    },
    {
      "cell_type": "markdown",
      "metadata": {
        "id": "zhXB2hfGnI9Y"
      },
      "source": [
        "These functions change standard simulation description into description based on information stored in chromosome. Also these functions could be named as a chromosome information decoder."
      ]
    },
    {
      "cell_type": "markdown",
      "metadata": {
        "id": "ckJma0JxYg_O"
      },
      "source": [
        "### Circle Controller"
      ]
    },
    {
      "cell_type": "code",
      "metadata": {
        "id": "8L6R8GdXYj91"
      },
      "source": [
        "def fromChromozomeToDescriptionCircle(chromozome, description):\r\n",
        "    result = {**description}\r\n",
        "    result['controllerParams']['gain'] = chromozome[0]\r\n",
        "    return result"
      ],
      "execution_count": 66,
      "outputs": []
    },
    {
      "cell_type": "markdown",
      "metadata": {
        "id": "l-4tBv9VYmHn"
      },
      "source": [
        "### Robins Controller"
      ]
    },
    {
      "cell_type": "code",
      "metadata": {
        "id": "4AL6Rx2KYfwQ"
      },
      "source": [
        "def fromChromozomeToDescriptionRobins(chromozome, description):\r\n",
        "    result = {**description}\r\n",
        "    result['controllerParams']['k0'] = chromozome[0]\r\n",
        "    result['controllerParams']['k1'] = chromozome[1]\r\n",
        "    return result"
      ],
      "execution_count": 67,
      "outputs": []
    },
    {
      "cell_type": "markdown",
      "metadata": {
        "id": "Cm7bo0diYxvH"
      },
      "source": [
        "### Fuzzy Logic Controller"
      ]
    },
    {
      "cell_type": "code",
      "metadata": {
        "id": "xGuoa_ISY1jP"
      },
      "source": [
        "def fromChromozomeToDescriptionFuzzy(chromozome, description):\r\n",
        "    CH = chromozome # just for simplicity\r\n",
        "    result = {**description}\r\n",
        "\r\n",
        "    fuzzyDescription = {\r\n",
        "        'inputs': {\r\n",
        "            'distance' : {\r\n",
        "                'S': list(np.arange(0, 2, 0.02)),\r\n",
        "                'M': {'VC': [0, 0, 0.5], 'C': [0, 0.5, 1], 'M': [0.5, 1, 1.5], 'F': [1, 1.5, 2], 'VF': [1.5, 2, 2]}\r\n",
        "            },\r\n",
        "            'angle' : {\r\n",
        "                'S': list(np.arange(-3.14, 3.14, 0.0628)),\r\n",
        "                'M': {'BN': [-3.14, -3.14, -1.57], 'N': [-3.14, -1.57, 0], 'Z': [-1.57, 0, 1.57], 'P': [0, 1.57, 3.14], 'BP': [1.57, 3.14, 3.14]}\r\n",
        "            }\r\n",
        "        },\r\n",
        "        'outputs': {\r\n",
        "            'omegaR': {\r\n",
        "                'S': list(np.arange(0, 30, 0.3)),\r\n",
        "                'rules': {\r\n",
        "                    'VC': {'BN': 'VSR', 'N': 'SR', 'Z': 'VSR', 'P': 'BR', 'BP': 'VBR'},\r\n",
        "                    'C': {'BN': 'VSR', 'N': 'SR', 'Z': 'SR', 'P': 'BR', 'BP': 'VBR'},\r\n",
        "                    'M': {'BN': 'VSR', 'N': 'SR', 'Z': 'MBR', 'P': 'BR', 'BP': 'VBR'},\r\n",
        "                    'F': {'BN': 'VSR', 'N': 'SR', 'Z': 'BR', 'P': 'BR', 'BP': 'VBR'},\r\n",
        "                    'VF': {'BN': 'VSR', 'N': 'SR', 'Z': 'VBR', 'P': 'BR', 'BP': 'VBR'}\r\n",
        "                },\r\n",
        "                'mode': 'centroid',\r\n",
        "                'M': {'VSR': [0, 0, 7.5], 'SR': [0, 7.5, 15], 'MBR': [7.5, 15, 22.5], 'BR': [15, 22.5, 30], 'VBR': [22.5, 30, 30]}\r\n",
        "            },\r\n",
        "            'omegaL': {\r\n",
        "                'S': list(np.arange(0, 30, 0.3)),\r\n",
        "                'rules': {\r\n",
        "                    'VC': {'BN': 'VBL', 'N': 'BL', 'Z': 'VSL', 'P': 'SL', 'BP': 'VSL'},\r\n",
        "                    'C': {'BN': 'VBL', 'N': 'BL', 'Z': 'SL', 'P': 'SL', 'BP': 'VSL'},\r\n",
        "                    'M': {'BN': 'VBL', 'N': 'BL', 'Z': 'MBL', 'P': 'SL', 'BP': 'VSL'},\r\n",
        "                    'F': {'BN': 'VBL', 'N': 'BL', 'Z': 'BL', 'P': 'SL', 'BP': 'VSL'},\r\n",
        "                    'VF': {'BN': 'VBL', 'N': 'BL', 'Z': 'VBL', 'P': 'SL', 'BP': 'VSL'} \r\n",
        "                },\r\n",
        "                'mode': 'centroid',\r\n",
        "                'M': {'VSL': [0, 0, 7.5], 'SL': [0, 7.5, 15], 'MBL': [7.5, 15, 22.5], 'BL': [15, 22.5, 30], 'VBL': [22.5, 30, 30]}\r\n",
        "            }\r\n",
        "        }\r\n",
        "    }     \r\n",
        "\r\n",
        "    distance_Member = {'VC': [0, 0, CH[0]], \r\n",
        "                       'C': [CH[2] - CH[1], CH[2], CH[2] + CH[3]],\r\n",
        "                       'M': [CH[5] - CH[4], CH[5], CH[5] + CH[6]],\r\n",
        "                       'F': [CH[8] - CH[7], CH[8], CH[8] + CH[9]], \r\n",
        "                       'VF': [2 - CH[10], 2, 2]}\r\n",
        "    fuzzyDescription['inputs']['distance']['M'] = distance_Member\r\n",
        "\r\n",
        "    angle_Member = {'BN': [-3.14, -3.14, -3.14+CH[11]], \r\n",
        "                    'N': [CH[13] - CH[12], CH[13], CH[13] + CH[14]],\r\n",
        "                    'Z': [CH[16] - CH[15], CH[16], CH[16] + CH[17]], \r\n",
        "                    'P': [CH[19] - CH[18], CH[19], CH[19] + CH[20]], \r\n",
        "                    'BP': [3.14 - CH[21], 3.14, 3.14]}    \r\n",
        "    fuzzyDescription['inputs']['angle']['M'] = angle_Member\r\n",
        "\r\n",
        "    omegaR_Member =  {'VSR': [0, 0, CH[22]], \r\n",
        "                      'SR': [CH[24] - CH[23], CH[24], CH[24] + CH[25]],\r\n",
        "                      'MBR': [CH[27] - CH[26], CH[27], CH[27] + CH[28]], \r\n",
        "                      'BR': [CH[30] - CH[29], CH[30], CH[30] + CH[31]], \r\n",
        "                      'VBR': [30 - CH[32], 30, 30]}\r\n",
        "    fuzzyDescription['outputs']['omegaR']['M'] = omegaR_Member\r\n",
        "\r\n",
        "    omegaL_Member =  {'VSL': [0, 0, CH[33]], \r\n",
        "                      'SL': [CH[35] - CH[34], CH[35], CH[35] + CH[36]],\r\n",
        "                      'MBL': [CH[38] - CH[37], CH[38], CH[38] + CH[39]], \r\n",
        "                      'BL': [CH[41] - CH[40], CH[41], CH[41] + CH[42]], \r\n",
        "                      'VBL': [30 - CH[43], 30, 30]}\r\n",
        "    fuzzyDescription['outputs']['omegaL']['M'] = omegaL_Member\r\n",
        "\r\n",
        "    result['controllerParams']['fuzzyDescription'] = fuzzyDescription\r\n",
        "    return result"
      ],
      "execution_count": 68,
      "outputs": []
    },
    {
      "cell_type": "markdown",
      "metadata": {
        "id": "Z6JfWpThhVjo"
      },
      "source": [
        "## Fitness Functions (Based on Chromozomes)"
      ]
    },
    {
      "cell_type": "markdown",
      "metadata": {
        "id": "KwB4GtLZlTIx"
      },
      "source": [
        "### Helper Functions"
      ]
    },
    {
      "cell_type": "code",
      "metadata": {
        "id": "3QgaKb7jbC4u"
      },
      "source": [
        "def createFitnessFunction(baseDescription, mapperFunction, controllerCreator, resultSelector=lambda item: item):\r\n",
        "    def fitnessFunction(chromozome):\r\n",
        "        freshDescription = mapperFunction(chromozome, baseDescription)\r\n",
        "        results = runSimulation(freshDescription, controllerCreator, selectors=selectors)\r\n",
        "        result = resultSelector(results)\r\n",
        "        return result\r\n",
        "    return fitnessFunction"
      ],
      "execution_count": 82,
      "outputs": []
    },
    {
      "cell_type": "code",
      "metadata": {
        "id": "kyqW0vFMj43X"
      },
      "source": [
        "def energySelector(results):\r\n",
        "    return results['E'][-1]"
      ],
      "execution_count": 70,
      "outputs": []
    },
    {
      "cell_type": "code",
      "metadata": {
        "id": "UF4CM8sMj_lu"
      },
      "source": [
        "def distanceSelector(results):\r\n",
        "    return results['d'][-1]"
      ],
      "execution_count": 71,
      "outputs": []
    },
    {
      "cell_type": "markdown",
      "metadata": {
        "id": "efIGekNSlWAF"
      },
      "source": [
        "### Simulation Description"
      ]
    },
    {
      "cell_type": "markdown",
      "metadata": {
        "id": "fpZYVPYIli8p"
      },
      "source": [
        "From this point simulations depend on ```simulationDescription``` defined in next code. Thus if any change is needed this is best place for it."
      ]
    },
    {
      "cell_type": "code",
      "metadata": {
        "id": "7gGSqqPXicpc"
      },
      "source": [
        "simulationDescription = {\r\n",
        "    'robotState0': {\r\n",
        "        'x': 0,\r\n",
        "        'y': 0,\r\n",
        "        'theta': -3.14 / 4\r\n",
        "    },\r\n",
        "\r\n",
        "    'path': [\r\n",
        "        [0, 0, 0],  #X, Y, orientation\r\n",
        "        [10, 0, 0], #X, Y, orientation\r\n",
        "        [10, 10, 0], #X, Y, orientation\r\n",
        "        [0, 10, 0], #X, Y, orientation\r\n",
        "        [0, 0, 0]\r\n",
        "    ],\r\n",
        "\r\n",
        "    'robotParams': {\r\n",
        "        'r': 0.0925,\r\n",
        "        'b': 0.37,\r\n",
        "        'm': 9,\r\n",
        "        'I': 0.16245,\r\n",
        "        #'motorParams': None,\r\n",
        "        'motorParams': {\r\n",
        "            'J': 0.01,\r\n",
        "            'B': 0.1,\r\n",
        "\r\n",
        "            'Kt': 0.01,\r\n",
        "            'Ke': 0.01,\r\n",
        "            'K': 0.01,\r\n",
        "\r\n",
        "            'Ra': 0.1,\r\n",
        "            'La': 0.01\r\n",
        "        }\r\n",
        "    },\r\n",
        "    \r\n",
        "    'controllerParams': {\r\n",
        "        'omega_ri': 0, 'vri': 2.0,'lowVelocityLimit': 0.2, \r\n",
        "        'highVelocityLimit': 2.0, 'lowOmegaLimit': -0.75, 'highOmegaLimit': 0.75\r\n",
        "    },\r\n",
        "\r\n",
        "    'simulationParams': {\r\n",
        "        't0': 0,\r\n",
        "        't_bound': 100,\r\n",
        "        'max_step': 0.05\r\n",
        "    }\r\n",
        "}"
      ],
      "execution_count": 72,
      "outputs": []
    },
    {
      "cell_type": "markdown",
      "metadata": {
        "id": "NCcjm8hgc8D1"
      },
      "source": [
        "### Fuzzy Logic Controller"
      ]
    },
    {
      "cell_type": "code",
      "metadata": {
        "id": "3Q45mv7wiN6z"
      },
      "source": [
        "fitnessFunctionFLC_Energy = createFitnessFunction(simulationDescription, fromChromozomeToDescriptionFuzzy, createFuzzyController, energySelector)\r\n",
        "fitnessFunctionFLC_Distance = createFitnessFunction(simulationDescription, fromChromozomeToDescriptionFuzzy, createFuzzyController, distanceSelector)\r\n",
        "fitnessFunctionFLC_FullResults = createFitnessFunction(simulationDescription, fromChromozomeToDescriptionFuzzy, createFuzzyController)"
      ],
      "execution_count": 83,
      "outputs": []
    },
    {
      "cell_type": "markdown",
      "metadata": {
        "id": "C76b7EWsmLL6"
      },
      "source": [
        "**Multivalue Functions**"
      ]
    },
    {
      "cell_type": "code",
      "metadata": {
        "id": "fSDyVicrmP05"
      },
      "source": [
        "def singleAsMultiValue(singleFunction):\r\n",
        "    def resultFunction(chromosomes):\r\n",
        "        results = []\r\n",
        "        for chromosome in chromosomes:\r\n",
        "            results.append(singleFunction(chromosome))\r\n",
        "        return results\r\n",
        "    return resultFunction\r\n",
        "\r\n",
        "fitnessFunctionFLC_EnergyMulti = singleAsMultiValue(fitnessFunctionFLC_Energy)\r\n",
        "fitnessFunctionFLC_DistanceMulti = singleAsMultiValue(fitnessFunctionFLC_Distance)\r\n",
        "fitnessFunctionFLC_FullResultsMulti = singleAsMultiValue(fitnessFunctionFLC_FullResults)"
      ],
      "execution_count": 87,
      "outputs": []
    },
    {
      "cell_type": "markdown",
      "metadata": {
        "id": "LEwb12LLbATd"
      },
      "source": [
        "### Circle"
      ]
    },
    {
      "cell_type": "code",
      "metadata": {
        "id": "cXNm1OIdhU-5"
      },
      "source": [
        "fitnessFunctionCircle_Energy = createFitnessFunction(simulationDescription, fromChromozomeToDescriptionCircle, createCircleControllerWithGain, energySelector)\r\n",
        "fitnessFunctionCircle_Distance = createFitnessFunction(simulationDescription, fromChromozomeToDescriptionCircle, createCircleControllerWithGain, distanceSelector)\r\n",
        "fitnessFunctionCircle_FullResults = createFitnessFunction(simulationDescription, fromChromozomeToDescriptionCircle, createCircleControllerWithGain)"
      ],
      "execution_count": 88,
      "outputs": []
    },
    {
      "cell_type": "markdown",
      "metadata": {
        "id": "kliCxgHxiKxH"
      },
      "source": [
        "**Multivalue Functions**"
      ]
    },
    {
      "cell_type": "code",
      "metadata": {
        "id": "KQ0BFNAciOJy"
      },
      "source": [
        "fitnessFunctionCircle_EnergyMulti = singleAsMultiValue(fitnessFunctionCircle_Energy)\r\n",
        "fitnessFunctionCircle_DistanceMulti = singleAsMultiValue(fitnessFunctionCircle_Distance)\r\n",
        "fitnessFunctionCircle_FullResultsMulti = singleAsMultiValue(fitnessFunctionCircle_FullResults)"
      ],
      "execution_count": 89,
      "outputs": []
    },
    {
      "cell_type": "markdown",
      "metadata": {
        "id": "G-zTw2gzXU3z"
      },
      "source": [
        "**Demonstration**"
      ]
    },
    {
      "cell_type": "code",
      "metadata": {
        "colab": {
          "base_uri": "https://localhost:8080/",
          "height": 283
        },
        "id": "MVv0GSxkXXU0",
        "outputId": "62dda687-71f7-40a7-8a58-58a96699a750"
      },
      "source": [
        "results = fitnessFunctionCircle_FullResults([4])\r\n",
        "#print(results)\r\n",
        "plt.plot(results['x'], results['y'])"
      ],
      "execution_count": 86,
      "outputs": [
        {
          "output_type": "execute_result",
          "data": {
            "text/plain": [
              "[<matplotlib.lines.Line2D at 0x7fd5f64b7160>]"
            ]
          },
          "metadata": {
            "tags": []
          },
          "execution_count": 86
        },
        {
          "output_type": "display_data",
          "data": {
            "image/png": "[encoded data removed]",
            "text/plain": [
              "<Figure size 432x288 with 1 Axes>"
            ]
          },
          "metadata": {
            "tags": [],
            "needs_background": "light"
          }
        }
      ]
    },
    {
      "cell_type": "code",
      "metadata": {
        "colab": {
          "base_uri": "https://localhost:8080/",
          "height": 283
        },
        "id": "XAbkgsLNjXXy",
        "outputId": "2df556a4-0337-40f9-fd5b-8056adcdbaca"
      },
      "source": [
        "results = fitnessFunctionCircle_FullResultsMulti([[2], [16]])\r\n",
        "plt.plot(results[0]['x'], results[0]['y'])\r\n",
        "plt.plot(results[1]['x'], results[1]['y'])"
      ],
      "execution_count": 91,
      "outputs": [
        {
          "output_type": "execute_result",
          "data": {
            "text/plain": [
              "[<matplotlib.lines.Line2D at 0x7fd5f6685da0>]"
            ]
          },
          "metadata": {
            "tags": []
          },
          "execution_count": 91
        },
        {
          "output_type": "display_data",
          "data": {
            "image/png": "[encoded data removed]",
            "text/plain": [
              "<Figure size 432x288 with 1 Axes>"
            ]
          },
          "metadata": {
            "tags": [],
            "needs_background": "light"
          }
        }
      ]
    },
    {
      "cell_type": "markdown",
      "metadata": {
        "id": "lOYiEMd5lHwv"
      },
      "source": [
        "### Robins"
      ]
    },
    {
      "cell_type": "code",
      "metadata": {
        "id": "dimRqUwAlJnI"
      },
      "source": [
        "fitnessFunctionRobins_Energy = createFitnessFunction(simulationDescription, fromChromozomeToDescriptionCircle, createCircleControllerWithGain, energySelector)\r\n",
        "fitnessFunctionRobins_Distance = createFitnessFunction(simulationDescription, fromChromozomeToDescriptionCircle, createCircleControllerWithGain, distanceSelector)\r\n",
        "fitnessFunctionRobins_FullResults = createFitnessFunction(simulationDescription, fromChromozomeToDescriptionCircle, createCircleControllerWithGain)"
      ],
      "execution_count": null,
      "outputs": []
    },
    {
      "cell_type": "markdown",
      "metadata": {
        "id": "Ab2qFZx6j5_P"
      },
      "source": [
        "**Multivalue Functions**"
      ]
    },
    {
      "cell_type": "code",
      "metadata": {
        "id": "sCKga8bXj-Bb"
      },
      "source": [
        "fitnessFunctionRobins_EnergyMulti = singleAsMultiValue(fitnessFunctionRobins_Energy)\r\n",
        "fitnessFunctionRobins_DistanceMulti = singleAsMultiValue(fitnessFunctionRobins_Distance)\r\n",
        "fitnessFunctionRobins_FullResultsMulti = singleAsMultiValue(fitnessFunctionRobins_FullResults)"
      ],
      "execution_count": null,
      "outputs": []
    },
    {
      "cell_type": "markdown",
      "metadata": {
        "id": "Q_Hkrz5zl8GQ"
      },
      "source": [
        "## Computer Cluster Help"
      ]
    },
    {
      "cell_type": "markdown",
      "metadata": {
        "id": "UrV8gGOLME7f"
      },
      "source": [
        "Multivalue fitness function is function which takes an array of chromozomes and returns array containing the fitness values for all chromozomes. Body of a such function could be implemented as a parallel process which decrease time needed for evaluation.\r\n",
        "\r\n",
        "Parallel process might be implemented in different ways. One of them, and probably the best one, is usage of distributed evaluation with help of computer cluster. Computer cluster creation is well-documented process with standard steps, thus, a scientist who want to use this technique must just define single environment, environment for evaluation of single fitness function. \r\n",
        "\r\n",
        "As an envelope around this environment the web service might be used. However, this leads to asynchronous execution. As the optimization libraries for Python are synchronous, the connection between asynchronous and synchronous sides must be created."
      ]
    },
    {
      "cell_type": "markdown",
      "metadata": {
        "id": "7witZAKHSm0-"
      },
      "source": [
        "###Async as Sync"
      ]
    },
    {
      "cell_type": "markdown",
      "metadata": {
        "id": "eOjYeP0QZAdB"
      },
      "source": [
        "For ability to evaluate set of simulations in parallel async functions should be used and maintaned. For optimization algorithms this must be callable for synchronous environment and thus a conversion from async to sync must be done."
      ]
    },
    {
      "cell_type": "code",
      "metadata": {
        "id": "KVj2C_6RSoE2"
      },
      "source": [
        "import asyncio\r\n",
        "import threading\r\n",
        "#----------------------------------------\r\n",
        "# upgraded from https://stackoverflow.com/questions/49330905/how-to-run-a-coroutine-and-wait-it-result-from-a-sync-func-when-the-loop-is-runn\r\n",
        "#----------------------------------------\r\n",
        "\r\n",
        "def evalSet(asyncTask, values):\r\n",
        "    loop = asyncio.new_event_loop() # construct a new event loop\r\n",
        "\r\n",
        "    def run_forever_safe(loop):\r\n",
        "        loop.run_forever()\r\n",
        "        # for Python 3.7 and newer\r\n",
        "        # loop_tasks_all = asyncio.all_tasks(loop=loop)\r\n",
        "        # for Python 3.6\r\n",
        "        loop_tasks_all = asyncio.Task.all_tasks(loop=loop)\r\n",
        "\r\n",
        "        for task in loop_tasks_all: \r\n",
        "            task.cancel()\r\n",
        "\r\n",
        "        for task in loop_tasks_all:\r\n",
        "            if not (task.done() or task.cancelled()):\r\n",
        "                try:\r\n",
        "                    # wait for task cancellations\r\n",
        "                    loop.run_until_complete(task)\r\n",
        "                except asyncio.CancelledError: pass\r\n",
        "\r\n",
        "        loop.close()\r\n",
        "    \r\n",
        "    def stop_loop(loop):\r\n",
        "        ''' stops an event loop '''\r\n",
        "        loop.stop()\r\n",
        "        #print (\".:) LOOP STOPPED:\", loop.is_running())\r\n",
        "        \r\n",
        "    def await_sync(task):\r\n",
        "        ''' synchronously waits for a task '''\r\n",
        "        while not task.done(): \r\n",
        "            pass\r\n",
        "        #print(\".: AWAITED TASK DONE\")\r\n",
        "        return task.result()\r\n",
        "    \r\n",
        "    #-- closures for running and stopping the event-loop\r\n",
        "    run_loop_forever = lambda: run_forever_safe(loop)\r\n",
        "    close_loop_safe = lambda: loop.call_soon_threadsafe(stop_loop, loop)\r\n",
        "    \r\n",
        "    #-- make dedicated thread for running the event loop\r\n",
        "    thread = threading.Thread(target=run_loop_forever)\r\n",
        "\r\n",
        "    #-- add some tasks along with my particular task\r\n",
        "    evaluationTasks = [asyncio.run_coroutine_threadsafe(asyncTask(value), loop=loop) for value in values]\r\n",
        "\r\n",
        "    #-- begin the thread to run the event-loop\r\n",
        "    thread.start()\r\n",
        "\r\n",
        "    #-- _synchronously_ wait for the result of my task\r\n",
        "    results = [await_sync(task) for task in evaluationTasks]\r\n",
        "\r\n",
        "    # close the loop gracefully when everything is finished\r\n",
        "    close_loop_safe()\r\n",
        "    thread.join()\r\n",
        "    return results\r\n",
        "#----------------------------------------"
      ],
      "execution_count": null,
      "outputs": []
    },
    {
      "cell_type": "markdown",
      "metadata": {
        "id": "VcEp1g5vSvk8"
      },
      "source": [
        "### Webservice Usage"
      ]
    },
    {
      "cell_type": "code",
      "metadata": {
        "colab": {
          "base_uri": "https://localhost:8080/"
        },
        "id": "bx7zSJkeTptg",
        "outputId": "3e0a4c63-837c-459d-81f7-3ac176ddbd1c"
      },
      "source": [
        "!pip install aiohttp"
      ],
      "execution_count": null,
      "outputs": [
        {
          "output_type": "stream",
          "text": [
            "Collecting aiohttp\n",
            "\u001b[?25l  Downloading https://files.pythonhosted.org/packages/ad/e6/d4b6235d776c9b33f853e603efede5aac5a34f71ca9d3877adb30492eb4e/aiohttp-3.7.3-cp36-cp36m-manylinux2014_x86_64.whl (1.3MB)\n",
            "\u001b[K     |████████████████████████████████| 1.3MB 5.8MB/s \n",
            "\u001b[?25hCollecting yarl<2.0,>=1.0\n",
            "\u001b[?25l  Downloading https://files.pythonhosted.org/packages/da/08/52b26b44bce7b818b410aee37c5e424c9ea420c557bca97dc2adac29b151/yarl-1.6.3-cp36-cp36m-manylinux2014_x86_64.whl (293kB)\n",
            "\u001b[K     |████████████████████████████████| 296kB 45.8MB/s \n",
            "\u001b[?25hRequirement already satisfied: typing-extensions>=3.6.5 in /usr/local/lib/python3.6/dist-packages (from aiohttp) (3.7.4.3)\n",
            "Requirement already satisfied: attrs>=17.3.0 in /usr/local/lib/python3.6/dist-packages (from aiohttp) (20.3.0)\n",
            "Collecting async-timeout<4.0,>=3.0\n",
            "  Downloading https://files.pythonhosted.org/packages/e1/1e/5a4441be21b0726c4464f3f23c8b19628372f606755a9d2e46c187e65ec4/async_timeout-3.0.1-py3-none-any.whl\n",
            "Collecting multidict<7.0,>=4.5\n",
            "\u001b[?25l  Downloading https://files.pythonhosted.org/packages/a1/35/b22524d6b9cacfb4c5eff413a069bbc17c6ea628e54da5c6c989998ced5f/multidict-5.1.0-cp36-cp36m-manylinux2014_x86_64.whl (141kB)\n",
            "\u001b[K     |████████████████████████████████| 143kB 36.2MB/s \n",
            "\u001b[?25hRequirement already satisfied: chardet<4.0,>=2.0 in /usr/local/lib/python3.6/dist-packages (from aiohttp) (3.0.4)\n",
            "Collecting idna-ssl>=1.0; python_version < \"3.7\"\n",
            "  Downloading https://files.pythonhosted.org/packages/46/03/07c4894aae38b0de52b52586b24bf189bb83e4ddabfe2e2c8f2419eec6f4/idna-ssl-1.1.0.tar.gz\n",
            "Requirement already satisfied: idna>=2.0 in /usr/local/lib/python3.6/dist-packages (from yarl<2.0,>=1.0->aiohttp) (2.10)\n",
            "Building wheels for collected packages: idna-ssl\n",
            "  Building wheel for idna-ssl (setup.py) ... \u001b[?25l\u001b[?25hdone\n",
            "  Created wheel for idna-ssl: filename=idna_ssl-1.1.0-cp36-none-any.whl size=3163 sha256=28419b582c7aa4951591303689a26a607b9eb203d0ff3b0577b2793d092e65ba\n",
            "  Stored in directory: /root/.cache/pip/wheels/d3/00/b3/32d613e19e08a739751dd6bf998cfed277728f8b2127ad4eb7\n",
            "Successfully built idna-ssl\n",
            "Installing collected packages: multidict, yarl, async-timeout, idna-ssl, aiohttp\n",
            "Successfully installed aiohttp-3.7.3 async-timeout-3.0.1 idna-ssl-1.1.0 multidict-5.1.0 yarl-1.6.3\n"
          ],
          "name": "stdout"
        }
      ]
    },
    {
      "cell_type": "code",
      "metadata": {
        "id": "q5VTH7O5SxqN"
      },
      "source": [
        "import time\r\n",
        "def mS(start = 0):\r\n",
        "    return int(round(time.time() * 1000)) - start"
      ],
      "execution_count": null,
      "outputs": []
    },
    {
      "cell_type": "markdown",
      "metadata": {
        "id": "bm2qPPFtZs98"
      },
      "source": [
        "This part encapsules a remote fitness function evaluator. Parameter describes fully the simulation thus a remote evaluator does not make any conversion, just run the described simulation and returns the results.\r\n",
        "\r\n",
        "This function is crucial in use of computer cluster. Also this is a point where the evaluation could be redirected to proper sources."
      ]
    },
    {
      "cell_type": "code",
      "metadata": {
        "id": "RuUrMNTaBsHV"
      },
      "source": [
        "import aiohttp\r\n",
        "import asyncio\r\n",
        "\r\n",
        "url = 'https://ourserver/api/evaluator/FFFF' # you must replace our URL address (which was unable to run) with your one.\r\n",
        "async def fitnessFunction(value):\r\n",
        "    #async with aiohttp.ClientSession() as session:\r\n",
        "    async with aiohttp.ClientSession(connector=aiohttp.TCPConnector(ssl=False)) as session:\r\n",
        "        response = await session.post(url, json=value, headers = {'content-type': 'application/x-json'})\r\n",
        "        json_body = await response.json()\r\n",
        "    return json_body"
      ],
      "execution_count": null,
      "outputs": []
    },
    {
      "cell_type": "code",
      "metadata": {
        "id": "ntFwAdzwHe90"
      },
      "source": [
        "def callResultsFLC():\r\n",
        "    sTime = mS()        \r\n",
        "    results = evalSet(fitnessFunction, [fitnessFunctionDescription])\r\n",
        "    return results"
      ],
      "execution_count": null,
      "outputs": []
    },
    {
      "cell_type": "markdown",
      "metadata": {
        "id": "gchBFuIHSncf"
      },
      "source": [
        "### Remote / Cluster Fitness Function Evaluation"
      ]
    },
    {
      "cell_type": "code",
      "metadata": {
        "id": "QBALnGhNStCE"
      },
      "source": [
        "def fitnessFunctionFLC_EnergyMultiRemote(chromosomes):\r\n",
        "    descriptions = []\r\n",
        "    for chromosome in chromosomes:\r\n",
        "        description = fromChromozomeToDescriptionFuzzy(simulationDescription, chromosome)\r\n",
        "        descriptions.append(description)\r\n",
        "    \r\n",
        "    results = evalSet(fitnessFunction, descriptions)\r\n",
        "    selectedResults = []\r\n",
        "    for result in results:\r\n",
        "        selectedResults.append(result['E'])\r\n",
        "    return selectedResults\r\n",
        "\r\n",
        "def fitnessFunctionFLC_DistanceMultiRemote(chromosomes):\r\n",
        "    descriptions = []\r\n",
        "    for chromosome in chromosomes:\r\n",
        "        description = fromChromozomeToDescriptionFuzzy(simulationDescription, chromosome)\r\n",
        "        descriptions.append(description)\r\n",
        "    \r\n",
        "    results = evalSet(fitnessFunction, descriptions)\r\n",
        "    selectedResults = []\r\n",
        "    for result in results:\r\n",
        "        selectedResults.append(result['E'])\r\n",
        "    return selectedResults"
      ],
      "execution_count": null,
      "outputs": []
    },
    {
      "cell_type": "markdown",
      "metadata": {
        "id": "jWxJuyY4VWx2"
      },
      "source": [
        "### Decision about Cluster Use"
      ]
    },
    {
      "cell_type": "code",
      "metadata": {
        "id": "KvzIn4p8VZ44"
      },
      "source": [
        "if useCluster:\r\n",
        "    # TODO, redefine for cluster use\r\n",
        "    fitnessFunctionFLC_EnergyMulti = singleAsMultiValue(fitnessFunctionFLC_Energy)\r\n",
        "    fitnessFunctionFLC_DistanceMulti = singleAsMultiValue(fitnessFunctionFLC_Distance)\r\n",
        "    fitnessFunctionFLC_FullResultsMulti = singleAsMultiValue(fitnessFunctionFLC_FullResults)  \r\n",
        "    pass"
      ],
      "execution_count": null,
      "outputs": []
    },
    {
      "cell_type": "markdown",
      "metadata": {
        "id": "imNDlhwkl3D9"
      },
      "source": [
        "## Optimization"
      ]
    },
    {
      "cell_type": "markdown",
      "metadata": {
        "id": "viy533aFl5fc"
      },
      "source": [
        "### Problem Description"
      ]
    },
    {
      "cell_type": "markdown",
      "metadata": {
        "id": "dDEnvApgmIIt"
      },
      "source": [
        "### Inevitable Imports"
      ]
    },
    {
      "cell_type": "code",
      "metadata": {
        "id": "l97DupkDl8By"
      },
      "source": [
        "import time\r\n",
        "from pymoo.algorithms.nsga2 import NSGA2\r\n",
        "from pymoo.factory import get_sampling, get_crossover, get_mutation\r\n",
        "from pymoo.model.problem import Problem\r\n",
        "from pymoo.optimize import minimize\r\n",
        "from pymoo.factory import get_termination\r\n",
        "from pymoo.visualization.scatter import Scatter"
      ],
      "execution_count": null,
      "outputs": []
    },
    {
      "cell_type": "markdown",
      "metadata": {
        "id": "VyN_DjJKmL-W"
      },
      "source": [
        "### Formal Problem Description"
      ]
    },
    {
      "cell_type": "code",
      "metadata": {
        "id": "HmwEZLUkmMyY"
      },
      "source": [
        "# TODO, proper formating\r\n",
        "problemParametersSetA = [0,0,0,   0,0,0.75,0,0,1.25,0,0,      0,   0,-3.14,    0,   0,-1,   0,   0,    1,   0]\r\n",
        "problemParametersSetB = [0,   0, 0, 0, 0, 0,12, 0, 0,18, 0, 0,  0, 0, 0, 0, 0,12, 0, 0,18, 0, 0]\r\n",
        "class MyProblem(Problem):\r\n",
        "    def __init__(self):\r\n",
        "        super().__init__(n_var=44,\r\n",
        "                         n_obj=1,\r\n",
        "                         n_constr=1,\r\n",
        "                         xl=np.array([*problemParametersSetA, *problemParametersSetB]),\r\n",
        "                         xu=np.array([2,2,0.75,2,2,1.25,2,2,2,   2,2,   6.28,6.28,   -1, 6.28,6.28, 1,6.28,6.28, 3.14,6.28,6.28,  30,30,12,30,30,18,30,30,30,30,30, 30,30,12,30,30,18,30,30,30,30,30]),\r\n",
        "                         elementwise_evaluation=False)\r\n",
        "    def _evaluate(self, Chromosome, out, *args, **kwargs):         \r\n",
        "        f1 = fitnessFunctionFLC_EnergyMulti(Chromosome) # used to evaluate the energy consumption\r\n",
        "        #f2 = distance_fitnessFuntion_for_GA(Chromosome) # used to evaluate the travel distance\r\n",
        "        g1 = fitnessFunctionFLC_DistanceMulti(Chromosome) - 50 # is constraint used for tracking the path, because when s > 50 the Robot will loss the path.\r\n",
        "        out[\"F\"] = f1\r\n",
        "        out[\"G\"] = g1"
      ],
      "execution_count": null,
      "outputs": []
    },
    {
      "cell_type": "markdown",
      "metadata": {
        "id": "JpLkmGLJuagm"
      },
      "source": [
        "### Optimization Problem Solution"
      ]
    },
    {
      "cell_type": "code",
      "metadata": {
        "id": "wswUSSG7ufun"
      },
      "source": [
        "start_time = time.time()\r\n",
        "problem = MyProblem()\r\n",
        "algorithm = NSGA2(pop_size=50)\r\n",
        "\r\n",
        "'''\r\n",
        "algorithm = NSGA2(\r\n",
        "    pop_size=50,\r\n",
        "    n_offsprings=10,\r\n",
        "    sampling=get_sampling(\"real_random\"),\r\n",
        "    crossover=get_crossover(\"real_sbx\", prob=0.9, eta=15),\r\n",
        "    mutation=get_mutation(\"real_pm\", eta=20),\r\n",
        "    eliminate_duplicates=True\r\n",
        ")\r\n",
        "'''\r\n",
        "termination = get_termination(\"n_gen\", 5)\r\n",
        "\r\n",
        "res = minimize(problem,\r\n",
        "               algorithm,\r\n",
        "               termination,\r\n",
        "               seed=1,\r\n",
        "               save_history=True,\r\n",
        "               verbose=True)\r\n",
        "\r\n",
        "print(\"Best solution found: \\nBest_Chromosome = %s\\nOptimal E = %s\" % (res.X, res.F))\r\n",
        "print(\"Time required in second = %s\" % (time.time() - start_time))\r\n",
        "\r\n",
        "if  1 < len(res.X) < 30:\r\n",
        "  Best_Chromosome = res.X[0]\r\n",
        "else:\r\n",
        "  Best_Chromosome = res.X"
      ],
      "execution_count": null,
      "outputs": []
    },
    {
      "cell_type": "markdown",
      "metadata": {
        "id": "cQIASJHYl9Vb"
      },
      "source": [
        "# Rest of Document"
      ]
    },
    {
      "cell_type": "markdown",
      "metadata": {
        "id": "DVqrU_B1aeai"
      },
      "source": [
        "### Mapping from Chromozome to Simulation Description"
      ]
    },
    {
      "cell_type": "markdown",
      "metadata": {
        "id": "wQSSl5LFao0e"
      },
      "source": [
        "This function changes standard simulation description into description based on informations stored in chromosome. Also this function could be named as a chromosome information decoder."
      ]
    },
    {
      "cell_type": "code",
      "metadata": {
        "id": "xzPJuqnzBs91"
      },
      "source": [
        "def update_fitnessFunctionDescription(fitnessFunctionDescription, Chromosome):\r\n",
        "    CH = Chromosome # just for simplicity\r\n",
        "    result = {**fitnessFunctionDescription}\r\n",
        "\r\n",
        "    distance_Member = {'VC': [0, 0, CH[0]], \r\n",
        "                       'C': [CH[2]-CH[1], CH[2], CH[2]+CH[3]],\r\n",
        "                       'M': [CH[5]-CH[4], CH[5], CH[5]+CH[6]],\r\n",
        "                       'F': [CH[8]-CH[7], CH[8], CH[8]+CH[9]], \r\n",
        "                       'VF': [2-CH[10], 2, 2]}\r\n",
        "    result['fuzzyDescription']['inputs']['distance']['M'] = distance_Member\r\n",
        "\r\n",
        "    angle_Member = {'BN': [-3.14, -3.14, -3.14+CH[11]], \r\n",
        "                    'N': [CH[13]-CH[12], CH[13], CH[13]+CH[14]],\r\n",
        "                    'Z': [CH[16]-CH[15], CH[16], CH[16]+CH[17]], \r\n",
        "                    'P': [CH[19]-CH[18], CH[19], CH[19]+CH[20]], \r\n",
        "                    'BP': [3.14-CH[21], 3.14, 3.14]}    \r\n",
        "    result['fuzzyDescription']['inputs']['angle']['M'] = angle_Member\r\n",
        "\r\n",
        "    omegaR_Member =  {'VSR': [0, 0, CH[22]], \r\n",
        "                      'SR': [CH[24]-CH[23], CH[24], CH[24]+CH[25]],\r\n",
        "                      'MBR': [CH[27]-CH[26], CH[27], CH[27]+CH[28]], \r\n",
        "                      'BR': [CH[30]-CH[29], CH[30], CH[30]+CH[31]], \r\n",
        "                      'VBR': [30-CH[32], 30, 30]}\r\n",
        "    result['fuzzyDescription']['outputs']['omegaR']['M'] = omegaR_Member\r\n",
        "\r\n",
        "    omegaL_Member =  {'VSL': [0, 0, CH[33]], \r\n",
        "                      'SL': [CH[35]-CH[34], CH[35], CH[35]+CH[36]],\r\n",
        "                      'MBL': [CH[38]-CH[37], CH[38], CH[38]+CH[39]], \r\n",
        "                      'BL': [CH[41]-CH[40], CH[41], CH[41]+CH[42]], \r\n",
        "                      'VBL': [30-CH[43], 30, 30]}\r\n",
        "    result['fuzzyDescription']['outputs']['omegaL']['M'] = omegaL_Member\r\n",
        "    return result"
      ],
      "execution_count": null,
      "outputs": []
    },
    {
      "cell_type": "markdown",
      "metadata": {
        "id": "qbKjHLMMEKyV"
      },
      "source": [
        "### Fitness Used For GA / Mapping from Simulation Result to Fitness Function Result"
      ]
    },
    {
      "cell_type": "markdown",
      "metadata": {
        "id": "pVRGR64wb_7g"
      },
      "source": [
        "This functions take a simulation result which is complex document and extract the proper part."
      ]
    },
    {
      "cell_type": "code",
      "metadata": {
        "colab": {
          "base_uri": "https://localhost:8080/",
          "height": 54
        },
        "id": "UBUnl_IvB1kd",
        "outputId": "7916f8e9-25ec-4540-926f-c4c875328051"
      },
      "source": [
        "def energy_fitnessFuntion_for_GA(Chromosome):\r\n",
        "    New_fitnessFunctionDescription = update_fitnessFunctionDescription(fitnessFunctionDescription, Chromosome)\r\n",
        "    sTime = mS()        \r\n",
        "    results = evalSet(fitnessFunction, [New_fitnessFunctionDescription])\r\n",
        "    result = results[0]['E']\r\n",
        "    return result\r\n",
        "'''\r\n",
        "# example\r\n",
        "Chromosome1 = [1,1,1,1,1,2,1,1,3,1,1,  1.57,1.57,-1.57,1.57,1.57,0,1.57,1.57,1.57,1.57,1.57,  7.5,7.5,7.5,7.5,7.5,15,7.5,7.5,22.5,7.5,7.5,  7.5,7.5,7.5,7.5,7.5,15,7.5,7.5,22.5,7.5,7.5]\r\n",
        "value = energy_fitnessFuntion_for_GA(Chromosome1)\r\n",
        "print(value)\r\n",
        "'''"
      ],
      "execution_count": null,
      "outputs": [
        {
          "output_type": "execute_result",
          "data": {
            "application/vnd.google.colaboratory.intrinsic+json": {
              "type": "string"
            },
            "text/plain": [
              "'\\n# example\\nChromosome1 = [1,1,1,1,1,2,1,1,3,1,1,  1.57,1.57,-1.57,1.57,1.57,0,1.57,1.57,1.57,1.57,1.57,  7.5,7.5,7.5,7.5,7.5,15,7.5,7.5,22.5,7.5,7.5,  7.5,7.5,7.5,7.5,7.5,15,7.5,7.5,22.5,7.5,7.5]\\nvalue = energy_fitnessFuntion_for_GA(Chromosome1)\\nprint(value)\\n'"
            ]
          },
          "metadata": {
            "tags": []
          },
          "execution_count": 17
        }
      ]
    },
    {
      "cell_type": "code",
      "metadata": {
        "colab": {
          "base_uri": "https://localhost:8080/",
          "height": 54
        },
        "id": "n_CqwFxnIqdz",
        "outputId": "37c9d716-1c1d-4d0e-8845-d1a932f14b2a"
      },
      "source": [
        "def distance_fitnessFuntion_for_GA(Chromosome):\r\n",
        "    New_fitnessFunctionDescription = update_fitnessFunctionDescription(fitnessFunctionDescription, Chromosome)\r\n",
        "    sTime = mS()        \r\n",
        "    results = evalSet(fitnessFunction, [New_fitnessFunctionDescription])\r\n",
        "    result = results[0]['d']\r\n",
        "    return result\r\n",
        "''' \r\n",
        "# example\r\n",
        "Chromosome1 = [1,1,1,1,1,2,1,1,3,1,1,  1.57,1.57,-1.57,1.57,1.57,0,1.57,1.57,1.57,1.57,1.57,  7.5,7.5,7.5,7.5,7.5,15,7.5,7.5,22.5,7.5,7.5,  7.5,7.5,7.5,7.5,7.5,15,7.5,7.5,22.5,7.5,7.5]\r\n",
        "value = distance_fitnessFuntion_for_GA(Chromosome1)\r\n",
        "print(value)\r\n",
        "'''"
      ],
      "execution_count": null,
      "outputs": [
        {
          "output_type": "execute_result",
          "data": {
            "application/vnd.google.colaboratory.intrinsic+json": {
              "type": "string"
            },
            "text/plain": [
              "' \\n# example\\nChromosome1 = [1,1,1,1,1,2,1,1,3,1,1,  1.57,1.57,-1.57,1.57,1.57,0,1.57,1.57,1.57,1.57,1.57,  7.5,7.5,7.5,7.5,7.5,15,7.5,7.5,22.5,7.5,7.5,  7.5,7.5,7.5,7.5,7.5,15,7.5,7.5,22.5,7.5,7.5]\\nvalue = distance_fitnessFuntion_for_GA(Chromosome1)\\nprint(value)\\n'"
            ]
          },
          "metadata": {
            "tags": []
          },
          "execution_count": 18
        }
      ]
    },
    {
      "cell_type": "markdown",
      "metadata": {
        "id": "C_sDdXUoTIj-"
      },
      "source": [
        "##Implementation of the Genetic Algorithms to improve the FLC"
      ]
    },
    {
      "cell_type": "markdown",
      "metadata": {
        "id": "A3sdVCp6cPsg"
      },
      "source": [
        "For optimization pymoo library has been chosen. This library allows simultaneous fitness function evaluation. Such a ability is crucial for computer cluster usage."
      ]
    },
    {
      "cell_type": "code",
      "metadata": {
        "colab": {
          "base_uri": "https://localhost:8080/"
        },
        "id": "6jcFym_Zfs-5",
        "outputId": "ce31de4e-2461-43a6-977d-63b8da967e90"
      },
      "source": [
        "!pip install pymoo"
      ],
      "execution_count": null,
      "outputs": [
        {
          "output_type": "stream",
          "text": [
            "Collecting pymoo\n",
            "\u001b[?25l  Downloading https://files.pythonhosted.org/packages/07/11/0591960f255d55325e516c2babe3586385dc67c4fae074d75498f535a703/pymoo-0.4.2.1.tar.gz (3.7MB)\n",
            "\u001b[K     |████████████████████████████████| 3.7MB 5.7MB/s \n",
            "\u001b[?25hRequirement already satisfied: numpy>=1.15 in /usr/local/lib/python3.6/dist-packages (from pymoo) (1.19.5)\n",
            "Requirement already satisfied: scipy>=1.1 in /usr/local/lib/python3.6/dist-packages (from pymoo) (1.4.1)\n",
            "Requirement already satisfied: matplotlib>=3 in /usr/local/lib/python3.6/dist-packages (from pymoo) (3.2.2)\n",
            "Requirement already satisfied: autograd>=1.3 in /usr/local/lib/python3.6/dist-packages (from pymoo) (1.3)\n",
            "Collecting cma==2.7\n",
            "\u001b[?25l  Downloading https://files.pythonhosted.org/packages/b9/3b/87a4efbcfeaf3172d81ef843f0b0c34c3ba60ec884aa6777f34f68b57418/cma-2.7.0-py2.py3-none-any.whl (239kB)\n",
            "\u001b[K     |████████████████████████████████| 245kB 39.3MB/s \n",
            "\u001b[?25hRequirement already satisfied: pyparsing!=2.0.4,!=2.1.2,!=2.1.6,>=2.0.1 in /usr/local/lib/python3.6/dist-packages (from matplotlib>=3->pymoo) (2.4.7)\n",
            "Requirement already satisfied: python-dateutil>=2.1 in /usr/local/lib/python3.6/dist-packages (from matplotlib>=3->pymoo) (2.8.1)\n",
            "Requirement already satisfied: cycler>=0.10 in /usr/local/lib/python3.6/dist-packages (from matplotlib>=3->pymoo) (0.10.0)\n",
            "Requirement already satisfied: kiwisolver>=1.0.1 in /usr/local/lib/python3.6/dist-packages (from matplotlib>=3->pymoo) (1.3.1)\n",
            "Requirement already satisfied: future>=0.15.2 in /usr/local/lib/python3.6/dist-packages (from autograd>=1.3->pymoo) (0.16.0)\n",
            "Requirement already satisfied: six>=1.5 in /usr/local/lib/python3.6/dist-packages (from python-dateutil>=2.1->matplotlib>=3->pymoo) (1.15.0)\n",
            "Building wheels for collected packages: pymoo\n",
            "  Building wheel for pymoo (setup.py) ... \u001b[?25l\u001b[?25hdone\n",
            "  Created wheel for pymoo: filename=pymoo-0.4.2.1-cp36-cp36m-linux_x86_64.whl size=1344738 sha256=1de0117c2be9c24980a097f91a2c6e7f366375a02dfd0a6d6a877a9f9cd1c333\n",
            "  Stored in directory: /root/.cache/pip/wheels/24/1a/15/c95ef6c978305899c8b374fd3a36dd494a46a63b2b32c6c5c5\n",
            "Successfully built pymoo\n",
            "Installing collected packages: cma, pymoo\n",
            "Successfully installed cma-2.7.0 pymoo-0.4.2.1\n"
          ],
          "name": "stdout"
        }
      ]
    },
    {
      "cell_type": "markdown",
      "metadata": {
        "id": "HKJR2Haccrgd"
      },
      "source": [
        "### Inevitable Imports"
      ]
    },
    {
      "cell_type": "code",
      "metadata": {
        "id": "CP78vfHlcw-W"
      },
      "source": [
        "import time\r\n",
        "from pymoo.algorithms.nsga2 import NSGA2\r\n",
        "from pymoo.factory import get_sampling, get_crossover, get_mutation\r\n",
        "from pymoo.model.problem import Problem\r\n",
        "from pymoo.optimize import minimize\r\n",
        "from pymoo.factory import get_termination\r\n",
        "from pymoo.visualization.scatter import Scatter\r\n"
      ],
      "execution_count": null,
      "outputs": []
    },
    {
      "cell_type": "markdown",
      "metadata": {
        "id": "Wc5hnteBczQg"
      },
      "source": [
        "### Formal Problem Definition"
      ]
    },
    {
      "cell_type": "code",
      "metadata": {
        "id": "fxyqrUfTc3Ve"
      },
      "source": [
        "# TODO, proper formating\r\n",
        "problemParametersSetA = [0,0,0,   0,0,0.75,0,0,1.25,0,0,      0,   0,-3.14,    0,   0,-1,   0,   0,    1,   0]\r\n",
        "problemParametersSetB = [0,   0, 0, 0, 0, 0,12, 0, 0,18, 0, 0,  0, 0, 0, 0, 0,12, 0, 0,18, 0, 0]\r\n",
        "class MyProblem(Problem):\r\n",
        "    def __init__(self):\r\n",
        "        super().__init__(n_var=44,\r\n",
        "                         n_obj=1,\r\n",
        "                         n_constr=1,\r\n",
        "                         xl=np.array([*problemParametersSetA, *problemParametersSetB]),\r\n",
        "                         xu=np.array([2,2,0.75,2,2,1.25,2,2,2,   2,2,   6.28,6.28,   -1, 6.28,6.28, 1,6.28,6.28, 3.14,6.28,6.28,  30,30,12,30,30,18,30,30,30,30,30, 30,30,12,30,30,18,30,30,30,30,30]),\r\n",
        "                         elementwise_evaluation=True)\r\n",
        "    def _evaluate(self, Chromosome, out, *args, **kwargs):         \r\n",
        "        f1 = energy_fitnessFuntion_for_GA(Chromosome) # used to evaluate the energy consumption\r\n",
        "        #f2 = distance_fitnessFuntion_for_GA(Chromosome) # used to evaluate the travel distance\r\n",
        "        g1 = distance_fitnessFuntion_for_GA(Chromosome) - 50 # is constraint used for tracking the path, because when s > 50 the Robot will loss the path.\r\n",
        "        out[\"F\"] = f1\r\n",
        "        out[\"G\"] = g1"
      ],
      "execution_count": null,
      "outputs": []
    },
    {
      "cell_type": "markdown",
      "metadata": {
        "id": "eq06syESc9Sc"
      },
      "source": [
        "### Optimization Execution"
      ]
    },
    {
      "cell_type": "code",
      "metadata": {
        "id": "unArQe8OeOYq",
        "colab": {
          "base_uri": "https://localhost:8080/"
        },
        "outputId": "c477b55e-ba8b-4469-8e6f-249f1c23f897"
      },
      "source": [
        "\r\n",
        "start_time = time.time()\r\n",
        "problem = MyProblem()\r\n",
        "algorithm = NSGA2(pop_size=50)\r\n",
        "\r\n",
        "'''\r\n",
        "algorithm = NSGA2(\r\n",
        "    pop_size=50,\r\n",
        "    n_offsprings=10,\r\n",
        "    sampling=get_sampling(\"real_random\"),\r\n",
        "    crossover=get_crossover(\"real_sbx\", prob=0.9, eta=15),\r\n",
        "    mutation=get_mutation(\"real_pm\", eta=20),\r\n",
        "    eliminate_duplicates=True\r\n",
        ")\r\n",
        "'''\r\n",
        "\r\n",
        "termination = get_termination(\"n_gen\", 5)\r\n",
        "\r\n",
        "res = minimize(problem,\r\n",
        "               algorithm,\r\n",
        "               termination,\r\n",
        "               seed=1,\r\n",
        "               save_history=True,\r\n",
        "               verbose=True)\r\n",
        "\r\n",
        "print(\"Best solution found: \\nBest_Chromosome = %s\\nOptimal E = %s\" % (res.X, res.F))\r\n",
        "print(\"Time required in second = %s\" % (time.time() - start_time))\r\n",
        "\r\n",
        "if  1 < len(res.X) < 30:\r\n",
        "  Best_Chromosome = res.X[0]\r\n",
        "else:\r\n",
        "  Best_Chromosome = res.X\r\n"
      ],
      "execution_count": null,
      "outputs": [
        {
          "output_type": "stream",
          "text": [
            "=====================================================================================\n",
            "n_gen |  n_eval |   cv (min)   |   cv (avg)   |  n_nds  |     eps      |  indicator  \n",
            "=====================================================================================\n",
            "    1 |      50 |  2.31379E+01 |  3.33232E+01 |       1 |            - |            -\n",
            "    2 |     100 |  0.00000E+00 |  2.92612E+01 |       1 |  1.44778E+01 |        ideal\n",
            "    3 |     150 |  0.00000E+00 |  2.70500E+01 |       1 |  2.32419E+02 |        ideal\n",
            "    4 |     200 |  0.00000E+00 |  2.29545E+01 |       1 |  7.465316752 |        ideal\n",
            "    5 |     250 |  0.00000E+00 |  1.61929E+01 |       1 |  0.00000E+00 |            f\n",
            "    6 |     300 |  0.00000E+00 |  1.07379E+01 |       1 |  0.00000E+00 |            f\n",
            "    7 |     350 |  0.00000E+00 |  7.331219118 |       1 |  0.00000E+00 |            f\n",
            "    8 |     400 |  0.00000E+00 |  4.567273896 |       1 |  0.00000E+00 |            f\n",
            "    9 |     450 |  0.00000E+00 |  2.416005416 |       1 |  0.00000E+00 |            f\n",
            "   10 |     500 |  0.00000E+00 |  0.381619526 |       1 |  4.387694003 |        ideal\n",
            "   11 |     550 |  0.00000E+00 |  0.00000E+00 |       1 |  0.00000E+00 |            f\n",
            "   12 |     600 |  0.00000E+00 |  0.00000E+00 |       1 |  0.00000E+00 |            f\n",
            "   13 |     650 |  0.00000E+00 |  0.00000E+00 |       1 |  0.00000E+00 |            f\n",
            "   14 |     700 |  0.00000E+00 |  0.00000E+00 |       1 |  0.00000E+00 |            f\n",
            "   15 |     750 |  0.00000E+00 |  0.00000E+00 |       1 |  0.103566980 |        ideal\n",
            "   16 |     800 |  0.00000E+00 |  0.00000E+00 |       1 |  2.49459E+27 |            f\n",
            "   17 |     850 |  0.00000E+00 |  0.00000E+00 |       1 |  0.00000E+00 |            f\n",
            "   18 |     900 |  0.00000E+00 |  0.00000E+00 |       1 |  0.105492237 |        ideal\n",
            "   19 |     950 |  0.00000E+00 |  0.00000E+00 |       1 |  0.00000E+00 |            f\n",
            "   20 |    1000 |  0.00000E+00 |  0.00000E+00 |       1 |  0.067179798 |        ideal\n",
            "   21 |    1050 |  0.00000E+00 |  0.00000E+00 |       1 |  0.017498309 |        ideal\n",
            "   22 |    1100 |  0.00000E+00 |  0.00000E+00 |       1 |  0.005977088 |        ideal\n",
            "   23 |    1150 |  0.00000E+00 |  0.00000E+00 |       1 |  0.019569255 |        ideal\n",
            "   24 |    1200 |  0.00000E+00 |  0.00000E+00 |       1 |  0.019893620 |        ideal\n",
            "   25 |    1250 |  0.00000E+00 |  0.00000E+00 |       1 |  0.00000E+00 |            f\n",
            "   26 |    1300 |  0.00000E+00 |  0.00000E+00 |       1 |  0.00000E+00 |            f\n",
            "   27 |    1350 |  0.00000E+00 |  0.00000E+00 |       1 |  0.003911646 |        ideal\n",
            "   28 |    1400 |  0.00000E+00 |  0.00000E+00 |       1 |  0.005213060 |        ideal\n",
            "   29 |    1450 |  0.00000E+00 |  0.00000E+00 |       1 |  0.00000E+00 |            f\n",
            "   30 |    1500 |  0.00000E+00 |  0.00000E+00 |       1 |  2.36681E+26 |            f\n",
            "   31 |    1550 |  0.00000E+00 |  0.00000E+00 |       1 |  0.004873898 |        ideal\n",
            "   32 |    1600 |  0.00000E+00 |  0.00000E+00 |       1 |  0.007455621 |        ideal\n",
            "   33 |    1650 |  0.00000E+00 |  0.00000E+00 |       1 |  0.007777198 |        ideal\n",
            "   34 |    1700 |  0.00000E+00 |  0.00000E+00 |       1 |  0.00000E+00 |            f\n",
            "   35 |    1750 |  0.00000E+00 |  0.00000E+00 |       1 |  0.003270547 |        ideal\n",
            "   36 |    1800 |  0.00000E+00 |  0.00000E+00 |       1 |  0.00000E+00 |            f\n",
            "   37 |    1850 |  0.00000E+00 |  0.00000E+00 |       1 |  0.003920115 |        ideal\n",
            "   38 |    1900 |  0.00000E+00 |  0.00000E+00 |       1 |  0.00000E+00 |            f\n",
            "   39 |    1950 |  0.00000E+00 |  0.00000E+00 |       1 |  8.21459E+25 |            f\n",
            "   40 |    2000 |  0.00000E+00 |  0.00000E+00 |       1 |  3.75624E+26 |            f\n",
            "   41 |    2050 |  0.00000E+00 |  0.00000E+00 |       1 |  1.91133E+27 |            f\n",
            "   42 |    2100 |  0.00000E+00 |  0.00000E+00 |       1 |  0.011927049 |        ideal\n",
            "   43 |    2150 |  0.00000E+00 |  0.00000E+00 |       1 |  0.00000E+00 |            f\n",
            "   44 |    2200 |  0.00000E+00 |  0.00000E+00 |       1 |  1.02761E+26 |            f\n",
            "   45 |    2250 |  0.00000E+00 |  0.00000E+00 |       1 |  5.66797E+26 |            f\n",
            "   46 |    2300 |  0.00000E+00 |  0.00000E+00 |       1 |  4.65148E+26 |            f\n",
            "   47 |    2350 |  0.00000E+00 |  0.00000E+00 |       1 |  2.46059E+27 |            f\n",
            "   48 |    2400 |  0.00000E+00 |  0.00000E+00 |       1 |  0.00000E+00 |            f\n",
            "   49 |    2450 |  0.00000E+00 |  0.00000E+00 |       1 |  0.00000E+00 |            f\n",
            "   50 |    2500 |  0.00000E+00 |  0.00000E+00 |       1 |  0.003310577 |        ideal\n",
            "   51 |    2550 |  0.00000E+00 |  0.00000E+00 |       1 |  0.00000E+00 |            f\n",
            "   52 |    2600 |  0.00000E+00 |  0.00000E+00 |       1 |  7.64934E+26 |            f\n",
            "   53 |    2650 |  0.00000E+00 |  0.00000E+00 |       1 |  1.49752E+27 |            f\n",
            "   54 |    2700 |  0.00000E+00 |  0.00000E+00 |       1 |  2.57068E+25 |            f\n",
            "   55 |    2750 |  0.00000E+00 |  0.00000E+00 |       1 |  9.62028E+26 |            f\n",
            "   56 |    2800 |  0.00000E+00 |  0.00000E+00 |       1 |  0.00000E+00 |            f\n",
            "   57 |    2850 |  0.00000E+00 |  0.00000E+00 |       1 |  1.97294E+27 |            f\n",
            "   58 |    2900 |  0.00000E+00 |  0.00000E+00 |       1 |  0.00000E+00 |            f\n",
            "   59 |    2950 |  0.00000E+00 |  0.00000E+00 |       1 |  2.24327E+27 |            f\n",
            "   60 |    3000 |  0.00000E+00 |  0.00000E+00 |       1 |  4.06222E+26 |            f\n",
            "   61 |    3050 |  0.00000E+00 |  0.00000E+00 |       1 |  2.35574E+27 |            f\n",
            "   62 |    3100 |  0.00000E+00 |  0.00000E+00 |       1 |  2.33141E+26 |            f\n",
            "   63 |    3150 |  0.00000E+00 |  0.00000E+00 |       1 |  0.00000E+00 |            f\n",
            "   64 |    3200 |  0.00000E+00 |  0.00000E+00 |       1 |  1.24991E+27 |            f\n",
            "   65 |    3250 |  0.00000E+00 |  0.00000E+00 |       1 |  1.89500E+27 |            f\n",
            "   66 |    3300 |  0.00000E+00 |  0.00000E+00 |       1 |  2.45589E+27 |            f\n",
            "   67 |    3350 |  0.00000E+00 |  0.00000E+00 |       1 |  1.50489E+27 |            f\n",
            "   68 |    3400 |  0.00000E+00 |  0.00000E+00 |       1 |  2.09669E+27 |            f\n",
            "   69 |    3450 |  0.00000E+00 |  0.00000E+00 |       1 |  5.22766E+26 |            f\n",
            "   70 |    3500 |  0.00000E+00 |  0.00000E+00 |       1 |  6.06055E+26 |            f\n",
            "   71 |    3550 |  0.00000E+00 |  0.00000E+00 |       1 |  0.006209353 |        ideal\n",
            "   72 |    3600 |  0.00000E+00 |  0.00000E+00 |       1 |  9.23652E+26 |            f\n",
            "   73 |    3650 |  0.00000E+00 |  0.00000E+00 |       1 |  7.70443E+26 |            f\n",
            "   74 |    3700 |  0.00000E+00 |  0.00000E+00 |       1 |  6.49794E+23 |            f\n",
            "   75 |    3750 |  0.00000E+00 |  0.00000E+00 |       1 |  9.56937E+26 |            f\n"
          ],
          "name": "stdout"
        }
      ]
    },
    {
      "cell_type": "markdown",
      "metadata": {
        "id": "Xo1nNs_o9Rzw"
      },
      "source": [
        "## Visualizations of all results"
      ]
    },
    {
      "cell_type": "markdown",
      "metadata": {
        "id": "UbuD1yHufilz"
      },
      "source": [
        "### Circle controller [1]"
      ]
    },
    {
      "cell_type": "code",
      "metadata": {
        "id": "kL4KMCn7f_ug"
      },
      "source": [
        "def createCircleControllerWithGain(ChromosomeCir,omega_ri, vri, lowVelocityLimit, highVelocityLimit, lowOmegaLimit, highOmegaLimit):\r\n",
        "  def controller(t, currentState, destinationState):\r\n",
        "    currentX = currentState[0]\r\n",
        "    currentY = currentState[1]\r\n",
        "    currentTheta = currentState[2]\r\n",
        "\r\n",
        "    destinationX = destinationState[0]\r\n",
        "    destinationY = destinationState[1]\r\n",
        "\r\n",
        "    cosTheta = cos(currentTheta)\r\n",
        "    sinTheta = sin(currentTheta)\r\n",
        "\r\n",
        "    deltaX = destinationX - currentX\r\n",
        "    deltaY = destinationY - currentY\r\n",
        "\r\n",
        "    velocity = vri\r\n",
        "    omega = -2 * ChromosomeCir[0] * vri * (deltaX * sinTheta - deltaY * cosTheta) / (deltaX * deltaX + deltaY * deltaY)\r\n",
        "    \r\n",
        "    if velocity > highVelocityLimit:\r\n",
        "      velocity = highVelocityLimit\r\n",
        "    if (velocity < lowVelocityLimit):\r\n",
        "      velocity = lowVelocityLimit\r\n",
        "    if omega > highOmegaLimit:\r\n",
        "      omega = highOmegaLimit\r\n",
        "    if (omega < lowOmegaLimit):\r\n",
        "      omega = lowOmegaLimit\r\n",
        "\r\n",
        "    return velocity, omega\r\n",
        "  return controller"
      ],
      "execution_count": null,
      "outputs": []
    },
    {
      "cell_type": "markdown",
      "metadata": {
        "id": "jfp5mDZ1fo9a"
      },
      "source": [
        "### Robins Mathew based controller [1]\r\n"
      ]
    },
    {
      "cell_type": "code",
      "metadata": {
        "id": "XazVeX8ggGKh"
      },
      "source": [
        "def createController_By_RobinsMathew(chromosomeRM,omega_ri, vri, lowVelocityLimit, highVelocityLimit, lowOmegaLimit, highOmegaLimit):\r\n",
        "                                     \r\n",
        "  def controller(t, currentState, destinationState):\r\n",
        "    currentX = currentState[0]\r\n",
        "    currentY = currentState[1]\r\n",
        "    currentTheta = currentState[2]\r\n",
        "\r\n",
        "    destinationX = destinationState[0]\r\n",
        "    destinationY = destinationState[1]\r\n",
        "\r\n",
        "    cosTheta = cos(currentTheta)\r\n",
        "    sinTheta = sin(currentTheta)\r\n",
        "    \r\n",
        "    deltaX = destinationX - currentX\r\n",
        "    deltaY = destinationY - currentY\r\n",
        "    theta_destination = atan2(deltaY, deltaX)\r\n",
        "    theta_error = theta_destination - currentTheta\r\n",
        "\r\n",
        "    Te = math.sin(theta_destination)*deltaX - math.cos(theta_destination)*deltaY\r\n",
        "    \r\n",
        "    velocity = vri*math.cos(theta_error)\r\n",
        "    omega = omega_ri + chromosomeRM[0]*vri*Te + chromosomeRM[1]*vri*math.sin(theta_error)\r\n",
        "\r\n",
        "    if velocity > highVelocityLimit:\r\n",
        "      velocity = highVelocityLimit\r\n",
        "    if (velocity < lowVelocityLimit):\r\n",
        "      velocity = lowVelocityLimit\r\n",
        "    if omega > highOmegaLimit:\r\n",
        "      omega = highOmegaLimit\r\n",
        "    if (omega < lowOmegaLimit):\r\n",
        "      omega = lowOmegaLimit\r\n",
        "      \r\n",
        "    return velocity, omega\r\n",
        "  return controller"
      ],
      "execution_count": null,
      "outputs": []
    },
    {
      "cell_type": "markdown",
      "metadata": {
        "id": "KjHtF3lcf4eh"
      },
      "source": [
        "### Fuzzy logic controller"
      ]
    },
    {
      "cell_type": "markdown",
      "metadata": {
        "id": "ax23-e_dgn_z"
      },
      "source": [
        "## TODO, this function reads out info from optimization results directly.\r\n",
        "This must be done with parameter."
      ]
    },
    {
      "cell_type": "code",
      "metadata": {
        "id": "rK6GSSLRa0n4"
      },
      "source": [
        "def createFuzzyfier(space, categories, trimf = fuzz.trimf, membership = fuzz.interp_membership):\r\n",
        "  fuzzyInput = {}\r\n",
        "  for key, value in categories.items():\r\n",
        "    fuzzyInput[key] = trimf(space, value)\r\n",
        "  def result(variable):\r\n",
        "    output = {}\r\n",
        "    for key, value in fuzzyInput.items():\r\n",
        "      output[key] = membership(space, value, variable)\r\n",
        "    if output[key] ==0:\r\n",
        "      output[key] = 1e-5\r\n",
        "    else:\r\n",
        "      output[key] = output[key] \r\n",
        "    return output\r\n",
        "  return result\r\n",
        "\r\n",
        "def createInferenceSystem(inputAfuzzyfier, inputBfuzzyfier, outputSpace, outputDict, rulesDict, trimf = fuzz.trimf):\r\n",
        "  fuzzyResults = {}\r\n",
        "  for keyA, outerValue in rulesDict.items():\r\n",
        "    if not(keyA in fuzzyResults):\r\n",
        "      fuzzyResults[keyA] = {}\r\n",
        "    for keyB, innerValue in outerValue.items():\r\n",
        "      fuzzyResults[keyA][keyB] = trimf(outputSpace, outputDict[innerValue]) #innerValue==outputDict[keyA][keyB]\r\n",
        "  def result(valueA, valueB):\r\n",
        "    fuzzyVariableA = inputAfuzzyfier(valueA)\r\n",
        "    fuzzyVariableB = inputBfuzzyfier(valueB)\r\n",
        "    fuzzyResult = None\r\n",
        "    for keyA, outerValue in rulesDict.items():\r\n",
        "      for keyB, resultValue in outerValue.items():\r\n",
        "        currentResult = np.fmin(fuzzyResults[keyA][keyB],\r\n",
        "            np.fmin(fuzzyVariableA[keyA], fuzzyVariableB[keyB]))\r\n",
        "        if fuzzyResult is None:\r\n",
        "          fuzzyResult = currentResult\r\n",
        "        else:\r\n",
        "          fuzzyResult = np.fmax(currentResult, fuzzyResult)\r\n",
        "    return fuzzyResult\r\n",
        "  return result\r\n",
        "\r\n",
        "def createDefuzzyfier(outputSpace, *defuzzArgs, defuzz=fuzz.defuzz, **defuzzKwargs):\r\n",
        "  def result(value):\r\n",
        "    return defuzz(outputSpace, value, *defuzzArgs, **defuzzKwargs)\r\n",
        "  return result\r\n",
        "  \r\n",
        "def createFullFuzzySystem(inferenceSystem, defuzzyfier):\r\n",
        "  def system(inputA, inputB):\r\n",
        "    return defuzzyfier(inferenceSystem(inputA, inputB))\r\n",
        "  return system"
      ],
      "execution_count": null,
      "outputs": []
    },
    {
      "cell_type": "code",
      "metadata": {
        "id": "RA7N37vuJnxV"
      },
      "source": [
        "def Fuzzy_control(fuzzyDescription, r, b, omega_ri, vri, lowVelocityLimit, highVelocityLimit, lowOmegaLimit, highOmegaLimit):\r\n",
        "    inputsDistance = fuzzyDescription['inputs']['distance']['M']\r\n",
        "    inputsSpaceDistance = np.array(fuzzyDescription['inputs']['distance']['S'])\r\n",
        "    \r\n",
        "    inputsAngle = fuzzyDescription['inputs']['angle']['M']\r\n",
        "    inputsSpaceAngle = np.array(fuzzyDescription['inputs']['angle']['S'])\r\n",
        "    \r\n",
        "    outputsOmegaR = fuzzyDescription['outputs']['omegaR']['M']\r\n",
        "    outputSpaceOmegaR = np.array(fuzzyDescription['outputs']['omegaR']['S'])\r\n",
        "    outputRulesOmegaR = fuzzyDescription['outputs']['omegaR']['rules']\r\n",
        "    \r\n",
        "    outputsOmegaL = fuzzyDescription['outputs']['omegaL']['M']\r\n",
        "    outputSpaceOmegaL = np.array(fuzzyDescription['outputs']['omegaL']['S'])\r\n",
        "    outputRulesOmegaL = fuzzyDescription['outputs']['omegaL']['rules']\r\n",
        "\r\n",
        "\r\n",
        "    inputsDistanceFuzzyfier = createFuzzyfier(inputsSpaceDistance, inputsDistance)\r\n",
        "    inputsAngleFuzzyfier = createFuzzyfier(inputsSpaceAngle, inputsAngle)\r\n",
        "\r\n",
        "    inferenceSystem_R = createInferenceSystem(inputsDistanceFuzzyfier, inputsAngleFuzzyfier, outputSpaceOmegaR, outputsOmegaR, outputRulesOmegaR)\r\n",
        "    outputDefuzzyfier_R = createDefuzzyfier(outputSpaceOmegaL, mode='centroid')\r\n",
        "\r\n",
        "    inferenceSystem_L = createInferenceSystem(inputsDistanceFuzzyfier, inputsAngleFuzzyfier, outputSpaceOmegaL, outputsOmegaL, outputRulesOmegaL)\r\n",
        "    outputDefuzzyfier_L = createDefuzzyfier(outputSpaceOmegaL, mode='centroid')\r\n",
        "\r\n",
        "    fullSystem_R = createFullFuzzySystem(inferenceSystem_R, outputDefuzzyfier_R)\r\n",
        "    fullSystem_L = createFullFuzzySystem(inferenceSystem_L, outputDefuzzyfier_L)\r\n",
        "    \r\n",
        "    def controller(t, currentState, destinationState):\r\n",
        "        currentX = currentState[0]\r\n",
        "        currentY = currentState[1]\r\n",
        "        currentTheta = currentState[2]\r\n",
        "\r\n",
        "        destinationX = destinationState[0]\r\n",
        "        destinationY = destinationState[1]\r\n",
        "\r\n",
        "        cosTheta = cos(currentTheta)\r\n",
        "        sinTheta = sin(currentTheta)\r\n",
        "        \r\n",
        "        deltaX = destinationX - currentX\r\n",
        "        deltaY = destinationY - currentY\r\n",
        "        theta_destination = atan2(deltaY, deltaX)\r\n",
        "        THETA_ERROR = theta_destination - currentTheta\r\n",
        "        DISTANCE_ERROR = sqrt(deltaX * deltaX + deltaY * deltaY)\r\n",
        "        \r\n",
        "        if (THETA_ERROR > pi):\r\n",
        "          THETA_ERROR -= 2*pi\r\n",
        "        if (THETA_ERROR < -pi):\r\n",
        "          THETA_ERROR += 2*pi\r\n",
        "      \r\n",
        "        omega_R = fullSystem_R(DISTANCE_ERROR, THETA_ERROR)\r\n",
        "        omega_L = fullSystem_L(DISTANCE_ERROR, THETA_ERROR)\r\n",
        "\r\n",
        "        velocity = r * (omega_R + omega_L) / 2\r\n",
        "        omega = r * (omega_R - omega_L) / b\r\n",
        "\r\n",
        "        if velocity > highVelocityLimit:\r\n",
        "            velocity = highVelocityLimit\r\n",
        "        if (velocity < lowVelocityLimit):\r\n",
        "            velocity = lowVelocityLimit\r\n",
        "        if omega > highOmegaLimit:\r\n",
        "            omega = highOmegaLimit\r\n",
        "        if (omega < lowOmegaLimit):\r\n",
        "            omega = lowOmegaLimit\r\n",
        "\r\n",
        "        return velocity, omega\r\n",
        "    return controller"
      ],
      "execution_count": null,
      "outputs": []
    },
    {
      "cell_type": "markdown",
      "metadata": {
        "id": "gE6IuUcul5wR"
      },
      "source": [
        "### Colecting results to plot"
      ]
    },
    {
      "cell_type": "markdown",
      "metadata": {
        "id": "UoVWU9BmsWPk"
      },
      "source": [
        "### Supportive Functions"
      ]
    },
    {
      "cell_type": "markdown",
      "metadata": {
        "id": "afSA4aUJsg8q"
      },
      "source": [
        "#### Run Simulation - Core Function"
      ]
    },
    {
      "cell_type": "code",
      "metadata": {
        "id": "mrO0g0Z2sa_I"
      },
      "source": [
        "def runSimulation(robot, solverfunc):\r\n",
        "  \r\n",
        "  robotStates = solverfunc(robot)\r\n",
        "  velocitys = []\r\n",
        "  omegas = []\r\n",
        "  timeStep = []\r\n",
        "  x_axis = []\r\n",
        "  y_axis = []\r\n",
        "  s = []\r\n",
        "  E = []\r\n",
        "  for currentState in robotStates: # readout all states from current moving robot\r\n",
        "    velocity = currentState['dy'][3]\r\n",
        "    velocitys.append(velocity)\r\n",
        "    omega = currentState['dy'][4]\r\n",
        "    omegas.append(omega)\r\n",
        "    time = currentState['time']\r\n",
        "    timeStep.append(time)\r\n",
        "    x = currentState['y'][0]\r\n",
        "    x_axis.append(x)\r\n",
        "    y = currentState['y'][1]\r\n",
        "    y_axis.append(y)\r\n",
        "    s_step = currentState['y'][3]\r\n",
        "    s.append(s_step)\r\n",
        "    E_step = currentState['TotalEnergy']       \r\n",
        "    E.append(E_step)\r\n",
        "  return velocitys, omegas, timeStep, x_axis, y_axis, s, E"
      ],
      "execution_count": null,
      "outputs": []
    },
    {
      "cell_type": "markdown",
      "metadata": {
        "id": "c6YB7mCUs4AB"
      },
      "source": [
        "### General Form of Simulation"
      ]
    },
    {
      "cell_type": "markdown",
      "metadata": {
        "id": "iO3U97HKVSia"
      },
      "source": [
        "#### One Level Full Function"
      ]
    },
    {
      "cell_type": "code",
      "metadata": {
        "id": "bYtzri-hVb68"
      },
      "source": [
        "def runSimulation(fitnessFunctionDescription, controllerCreator, selectors=selectors):\r\n",
        "  \r\n",
        "  pathForSimulation = iter(fitnessFunctionDescription['path'])\r\n",
        "  t0 = 0\r\n",
        "  t_bound = 100\r\n",
        "  max_step = 0.05\r\n",
        "  state0 = None\r\n",
        "  robotState0 = fitnessFunctionDescription['robotState0']\r\n",
        "  if robot == robotWithDynamic:\r\n",
        "    state0 = np.array([robotState0['x'], robotState0['y'], robotState0['theta'], 0, 0, 0, 0, 0, 0, 0]) # x0=0, y0=0, theta\r\n",
        "  else:\r\n",
        "    state0 = np.array([robotState0['x'], robotState0['y'], robotState0['theta'], 0, 0, 0]) # x0=0, y0=0,theta\r\n",
        "\r\n",
        "  solverfunc = simpleCompute(\r\n",
        "      compute, state0 = state0, \r\n",
        "      t0 = t0, t_bound = t_bound, max_step = max_step)\r\n",
        "\r\n",
        "  controllerParams = fitnessFunctionDescription['controllerParams']\r\n",
        "  robot = robotModelCreator(createController_Fuzzy, pathForSimulation, **controllerParams)      \r\n",
        "  robotStates = solverfunc(robot)\r\n",
        "\r\n",
        "  results = {}\r\n",
        "  for key, selector in selectors.items():\r\n",
        "    results[key] = []\r\n",
        "\r\n",
        "  for currentState in robotStates: # readout all states from current moving robot\r\n",
        "    for key, selector in selectors.items():\r\n",
        "      results[key].append(selector(currentState))\r\n",
        "\r\n",
        "  return results"
      ],
      "execution_count": null,
      "outputs": []
    },
    {
      "cell_type": "code",
      "metadata": {
        "id": "8_6luzgMZmzS"
      },
      "source": [
        "def fitnessFuncExample(chromosome, chromosomeDecoder, controllerCreator):\r\n",
        "  description = chromosomeDecoder(chromosome)\r\n",
        "  result = runSimulation(description, controllerCreator)\r\n",
        "  return result"
      ],
      "execution_count": null,
      "outputs": []
    },
    {
      "cell_type": "code",
      "metadata": {
        "id": "PkYF3IQqaEg3"
      },
      "source": [
        "def fitnessSpecial(chromosome):\r\n",
        "  return fitnessFuncExample(chromosome, REALTRANSFORM, REALCONTROLLERCREATOR)"
      ],
      "execution_count": null,
      "outputs": []
    },
    {
      "cell_type": "markdown",
      "metadata": {
        "id": "cpKnpd-dVXMg"
      },
      "source": [
        "#### Special Function"
      ]
    },
    {
      "cell_type": "code",
      "metadata": {
        "id": "kU8sShpUs8hG"
      },
      "source": [
        "def controllerUsingGenes_FLC(controllerCreator, fitnessFunctionDescription):\r\n",
        "  pathForSimulation = iter(fitnessFunctionDescription['path'])\r\n",
        "  t0 = 0\r\n",
        "  t_bound = 100\r\n",
        "  max_step = 0.05\r\n",
        "  state0 = None\r\n",
        "  if robot == robotWithDynamic:\r\n",
        "    state0 = np.array([robotState0['x'], robotState0['y'], robotState0['theta'], 0, 0, 0, 0, 0, 0, 0]) # x0=0, y0=0, theta\r\n",
        "  else:\r\n",
        "    state0 = np.array([robotState0['x'], robotState0['y'], robotState0['theta'], 0, 0, 0]) # x0=0, y0=0,theta\r\n",
        "\r\n",
        "   solverfunc = simpleCompute(\r\n",
        "      compute, state0 = state0, \r\n",
        "      t0 = t0, t_bound = t_bound, max_step = max_step)\r\n",
        "\r\n",
        "  #--------------------for Fuzzy and GA_FLC-------------------------------------------------  \r\n",
        "  def controllerForGenes_Fuzzy(chromosomeToDesriptionFunc):\r\n",
        "    def transformGeneIntoControllerParams(chromosome_Fuzzy):    \r\n",
        "      controllerParams_Fuzzy = {'Chromosome':chromosome_Fuzzy, **fitnessFunctionDescription['controllerParams']}     \r\n",
        "      return controllerParams_Fuzzy\r\n",
        "\r\n",
        "    createController_Fuzzy = controllerCreator # !!!!\r\n",
        "\r\n",
        "    def createRobot():\r\n",
        "      controllerParams_Fuzzy = chromosomeToDesriptionFunc()\r\n",
        "      robot = robotModelCreator(createController_Fuzzy, pathForSimulation, **controllerParams_Fuzzy)      \r\n",
        "      return robot\r\n",
        "\r\n",
        "    robot = createRobot()\r\n",
        "    velocitys, omegas, timeStep, x_axis, y_axis, s, E = runSimulation(robot, solverfunc)\r\n",
        "\r\n",
        "    return velocitys, omegas, timeStep, x_axis, y_axis, s, E\r\n",
        "  return controllerForGenes_Fuzzy\r\n"
      ],
      "execution_count": null,
      "outputs": []
    },
    {
      "cell_type": "code",
      "metadata": {
        "id": "exddnrH6t1h-"
      },
      "source": [
        "#-------call function to get results for FLC only---------------------------------------------\r\n",
        "controllerForGenes_Fuzzy = controllerUsingGenes_FLC(Fuzzy_control, fitnessFunctionDescription)\r\n",
        "chromosome_Fuzzy =[0.5,0.5,0.5,0.5,0.5,1,0.5,0.5,1.5,0.5,0.5,  1.57,1.57,-1.57,1.57,1.57,0,1.57,1.57,1.57,1.57,1.57,  \r\n",
        "                   7.5,7.5,7.5,7.5,7.5,15,7.5,7.5,22.5,7.5,7.5,  7.5,7.5,7.5,7.5,7.5,15,7.5,7.5,22.5,7.5,7.5]\r\n",
        "chromosomeToDesriptionFunc = lambda : func(fitnessFunctionDescription, chromosome)\r\n",
        "results_Fuzzy = controllerForGenes_Fuzzy(chromosomeToDesriptionFunc)\r\n",
        "#------- get results to plot ---------------------------------------------------\r\n",
        "# data for Fuzzy control\r\n",
        "velocity_Fuzzy, \r\n",
        "  omega_Fuzzy, \r\n",
        "  time_Fuzzy,\r\n",
        "  x_Fuzzy,\r\n",
        "  y_Fuzzy,\r\n",
        "  s_Fuzzy,\r\n",
        "  E_Fuzzy = results_Fuzzy\r\n",
        "  \r\n",
        "print('E_Fuzzy =',E_Fuzzy[-1])\r\n",
        "print('s_Fuzzy =',s_Fuzzy[-1])\r\n",
        "#-------call function to get results for GA_FLC---------------------------------------------\r\n",
        "controllerForGenes_Fuzzy_GA = controllerUsingGenes_FLC(Fuzzy_control, iter(fitnessFunctionDescription['path']))\r\n",
        "chromosome_Fuzzy_GA = Best_Chromosome\r\n",
        "results_Fuzzy_GA = controllerForGenes_Fuzzy_GA(chromosome_Fuzzy_GA)\r\n",
        "#------- get results to plot ---------------------------------------------------\r\n",
        "# data for Fuzzy_GA control\r\n",
        "velocity_Fuzzy_GA = results_Fuzzy_GA[0]\r\n",
        "omega_Fuzzy_GA = results_Fuzzy_GA[1]\r\n",
        "time_Fuzzy_GA = results_Fuzzy_GA[2]\r\n",
        "x_Fuzzy_GA = results_Fuzzy_GA[3]\r\n",
        "y_Fuzzy_GA = results_Fuzzy_GA[4]\r\n",
        "s_Fuzzy_GA = results_Fuzzy_GA[5]\r\n",
        "E_Fuzzy_GA = results_Fuzzy_GA[6]\r\n",
        "print('E_Fuzzy_GA =',E_Fuzzy_GA[-1])\r\n",
        "print('s_Fuzzy_GA =',s_Fuzzy_GA[-1])"
      ],
      "execution_count": null,
      "outputs": []
    },
    {
      "cell_type": "markdown",
      "metadata": {
        "id": "Lv0thyAnqShm"
      },
      "source": [
        "#### FLC"
      ]
    },
    {
      "cell_type": "code",
      "metadata": {
        "id": "uVWUYi1a-Wb1"
      },
      "source": [
        "\r\n",
        "def controllerUsingGenes_FLC(pathForSimulation):\r\n",
        "  t0 = 0\r\n",
        "  t_bound = 100\r\n",
        "  max_step = 0.05\r\n",
        "  state0 = None\r\n",
        "  if robot == robotWithDynamic:\r\n",
        "    state0 = np.array([robotState0['x'], robotState0['y'], robotState0['theta'], 0, 0, 0, 0, 0, 0, 0]) # x0=0, y0=0, theta\r\n",
        "  else:\r\n",
        "    state0 = np.array([robotState0['x'], robotState0['y'], robotState0['theta'], 0, 0, 0]) # x0=0, y0=0,theta\r\n",
        "\r\n",
        "  solverfunc = simpleCompute(\r\n",
        "      compute, state0 = state0, \r\n",
        "      t0 = t0, t_bound = t_bound, max_step = max_step)\r\n",
        " \r\n",
        "  #--------------------for Fuzzy and GA_FLC-------------------------------------------------  \r\n",
        "  def controllerForGenes_Fuzzy(chromosome_Fuzzy):\r\n",
        "    def transformGeneIntoControllerParams(chromosome_Fuzzy):    \r\n",
        "      controllerParams_Fuzzy = {'Chromosome':chromosome_Fuzzy, 'omega_ri':fitnessFunctionDescription['controllerParams']['omega_ri'],\r\n",
        "                                'vri':fitnessFunctionDescription['controllerParams']['vri'], \r\n",
        "                                'lowVelocityLimit':fitnessFunctionDescription['controllerParams']['lowVelocityLimit'], \r\n",
        "                                'highVelocityLimit':fitnessFunctionDescription['controllerParams']['highVelocityLimit'],\r\n",
        "                                'lowOmegaLimit':fitnessFunctionDescription['controllerParams']['lowOmegaLimit'],\r\n",
        "                                'highOmegaLimit':fitnessFunctionDescription['controllerParams']['highOmegaLimit']}     \r\n",
        "      return controllerParams_Fuzzy\r\n",
        "\r\n",
        "    createController_Fuzzy = Fuzzy_control\r\n",
        "\r\n",
        "    def createRobot():\r\n",
        "      controllerParams_Fuzzy = transformGeneIntoControllerParams(chromosome_Fuzzy)\r\n",
        "      robot = robotModelCreator(createController_Fuzzy, pathForSimulation, **controllerParams_Fuzzy)      \r\n",
        "      return robot\r\n",
        "\r\n",
        "    def runSimulation(robot):\r\n",
        "      robotStates = solverfunc(robot)\r\n",
        "      velocitys = []\r\n",
        "      omegas = []\r\n",
        "      timeStep = []\r\n",
        "      x_axis = []\r\n",
        "      y_axis = []\r\n",
        "      s = []\r\n",
        "      E = []\r\n",
        "      for currentState in robotStates: # readout all states from current moving robot\r\n",
        "        velocity = currentState['dy'][3]\r\n",
        "        velocitys.append(velocity)\r\n",
        "        omega = currentState['dy'][4]\r\n",
        "        omegas.append(omega)\r\n",
        "        time = currentState['time']\r\n",
        "        timeStep.append(time)\r\n",
        "        x = currentState['y'][0]\r\n",
        "        x_axis.append(x)\r\n",
        "        y = currentState['y'][1]\r\n",
        "        y_axis.append(y)\r\n",
        "        s_step = currentState['y'][3]\r\n",
        "        s.append(s_step)\r\n",
        "        E_step = currentState['TotalEnergy']       \r\n",
        "        E.append(E_step)\r\n",
        "      return velocitys, omegas, timeStep, x_axis, y_axis, s, E\r\n",
        "\r\n",
        "    robot = createRobot()\r\n",
        "    velocitys, omegas, timeStep, x_axis, y_axis, s, E = runSimulation(robot)\r\n",
        "\r\n",
        "    return velocitys, omegas, timeStep, x_axis, y_axis, s, E\r\n",
        "  return controllerForGenes_Fuzzy\r\n",
        "#-------call function to get results for FLC only---------------------------------------------\r\n",
        "controllerForGenes_Fuzzy = controllerUsingGenes_FLC(iter(fitnessFunctionDescription['path']))\r\n",
        "chromosome_Fuzzy =[0.5,0.5,0.5,0.5,0.5,1,0.5,0.5,1.5,0.5,0.5,  1.57,1.57,-1.57,1.57,1.57,0,1.57,1.57,1.57,1.57,1.57,  \r\n",
        "                   7.5,7.5,7.5,7.5,7.5,15,7.5,7.5,22.5,7.5,7.5,  7.5,7.5,7.5,7.5,7.5,15,7.5,7.5,22.5,7.5,7.5]\r\n",
        "results_Fuzzy = controllerForGenes_Fuzzy(chromosome_Fuzzy)\r\n",
        "#------- get results to plot ---------------------------------------------------\r\n",
        "# data for Fuzzy control\r\n",
        "velocity_Fuzzy = results_Fuzzy[0]\r\n",
        "omega_Fuzzy = results_Fuzzy[1]\r\n",
        "time_Fuzzy = results_Fuzzy[2]\r\n",
        "x_Fuzzy = results_Fuzzy[3]\r\n",
        "y_Fuzzy = results_Fuzzy[4]\r\n",
        "s_Fuzzy = results_Fuzzy[5]\r\n",
        "E_Fuzzy = results_Fuzzy[6]\r\n",
        "print('E_Fuzzy =',E_Fuzzy[-1])\r\n",
        "print('s_Fuzzy =',s_Fuzzy[-1])\r\n",
        "#-------call function to get results for GA_FLC---------------------------------------------\r\n",
        "controllerForGenes_Fuzzy_GA = controllerUsingGenes_FLC(iter(fitnessFunctionDescription['path']))\r\n",
        "chromosome_Fuzzy_GA = Best_Chromosome\r\n",
        "results_Fuzzy_GA = controllerForGenes_Fuzzy_GA(chromosome_Fuzzy_GA)\r\n",
        "#------- get results to plot ---------------------------------------------------\r\n",
        "# data for Fuzzy_GA control\r\n",
        "velocity_Fuzzy_GA = results_Fuzzy_GA[0]\r\n",
        "omega_Fuzzy_GA = results_Fuzzy_GA[1]\r\n",
        "time_Fuzzy_GA = results_Fuzzy_GA[2]\r\n",
        "x_Fuzzy_GA = results_Fuzzy_GA[3]\r\n",
        "y_Fuzzy_GA = results_Fuzzy_GA[4]\r\n",
        "s_Fuzzy_GA = results_Fuzzy_GA[5]\r\n",
        "E_Fuzzy_GA = results_Fuzzy_GA[6]\r\n",
        "print('E_Fuzzy_GA =',E_Fuzzy_GA[-1])\r\n",
        "print('s_Fuzzy_GA =',s_Fuzzy_GA[-1])"
      ],
      "execution_count": null,
      "outputs": []
    },
    {
      "cell_type": "markdown",
      "metadata": {
        "id": "ofkbY7NuqZY0"
      },
      "source": [
        "#### RM"
      ]
    },
    {
      "cell_type": "code",
      "metadata": {
        "id": "Dllvlspwzpg0"
      },
      "source": [
        "\r\n",
        "def controllerUsingGenes_RM(pathForSimulation):\r\n",
        "  t0 = 0\r\n",
        "  t_bound = 100\r\n",
        "  max_step = 0.05\r\n",
        "  state0 = None\r\n",
        "  if robot == robotWithDynamic:\r\n",
        "    state0 = np.array([robotState0['x'], robotState0['y'], robotState0['theta'], 0, 0, 0, 0, 0, 0, 0]) # x0=0, y0=0, theta\r\n",
        "  else:\r\n",
        "    state0 = np.array([robotState0['x'], robotState0['y'], robotState0['theta'], 0, 0, 0]) # x0=0, y0=0,theta\r\n",
        "\r\n",
        "  solverfunc = simpleCompute(\r\n",
        "      compute, state0 = state0, \r\n",
        "      t0 = t0, t_bound = t_bound, max_step = max_step) \r\n",
        "  #--------------------for Robins Mathew-------------------------------------------------  \r\n",
        "  def controllerForGenes_RM(chromosome_RM):\r\n",
        "    def transformGeneIntoControllerParams(chromosome_RM):    \r\n",
        "      controllerParams_RM = {'chromosomeRM':chromosome_RM, 'omega_ri':fitnessFunctionDescription['controllerParams']['omega_ri'],\r\n",
        "                                'vri':fitnessFunctionDescription['controllerParams']['vri'], \r\n",
        "                                'lowVelocityLimit':fitnessFunctionDescription['controllerParams']['lowVelocityLimit'], \r\n",
        "                                'highVelocityLimit':fitnessFunctionDescription['controllerParams']['highVelocityLimit'],\r\n",
        "                                'lowOmegaLimit':fitnessFunctionDescription['controllerParams']['lowOmegaLimit'],\r\n",
        "                                'highOmegaLimit':fitnessFunctionDescription['controllerParams']['highOmegaLimit']}     \r\n",
        "      return controllerParams_RM\r\n",
        "\r\n",
        "    createController_RM = createController_By_RobinsMathew\r\n",
        "\r\n",
        "    def createRobot_RM():\r\n",
        "      controllerParams_RM = transformGeneIntoControllerParams(chromosome_RM)\r\n",
        "      robot = robotModelCreator(createController_RM, pathForSimulation, **controllerParams_RM)      \r\n",
        "      return robot\r\n",
        "\r\n",
        "    def runSimulation(robot):\r\n",
        "      robotStates = solverfunc(robot)\r\n",
        "      velocitys = []\r\n",
        "      omegas = []\r\n",
        "      timeStep = []\r\n",
        "      x_axis = []\r\n",
        "      y_axis = []\r\n",
        "      s = []\r\n",
        "      E = []\r\n",
        "      for currentState in robotStates: # readout all states from current moving robot\r\n",
        "        velocity = currentState['dy'][3]\r\n",
        "        velocitys.append(velocity)\r\n",
        "        omega = currentState['dy'][4]\r\n",
        "        omegas.append(omega)\r\n",
        "        time = currentState['time']\r\n",
        "        timeStep.append(time)\r\n",
        "        x = currentState['y'][0]\r\n",
        "        x_axis.append(x)\r\n",
        "        y = currentState['y'][1]\r\n",
        "        y_axis.append(y)\r\n",
        "        s_step = currentState['y'][3]\r\n",
        "        s.append(s_step)\r\n",
        "        E_step = currentState['TotalEnergy']       \r\n",
        "        E.append(E_step)\r\n",
        "      return velocitys, omegas, timeStep, x_axis, y_axis, s, E\r\n",
        "\r\n",
        "    robot = createRobot_RM()\r\n",
        "    velocitys, omegas, timeStep, x_axis, y_axis, s, E = runSimulation(robot)\r\n",
        "\r\n",
        "    return velocitys, omegas, timeStep, x_axis, y_axis, s, E\r\n",
        "  return controllerForGenes_RM\r\n",
        "#-------call function to get result---------------------------------------------\r\n",
        "controllerForGenes_Mathew = controllerUsingGenes_RM(iter(fitnessFunctionDescription['path']))\r\n",
        "chromosome_Mathew = [1.5, 6.5]\r\n",
        "results_Mathew = controllerForGenes_Mathew(chromosome_Mathew)\r\n",
        "#------- get results to plot ---------------------------------------------------\r\n",
        "# data for RobinsMathew control\r\n",
        "velocity_Mathew = results_Mathew[0]\r\n",
        "omega_Mathew = results_Mathew[1]\r\n",
        "time_Mathew = results_Mathew[2]\r\n",
        "x_Mathew = results_Mathew[3]\r\n",
        "y_Mathew = results_Mathew[4]\r\n",
        "s_Mathew = results_Mathew[5]\r\n",
        "E_Mathew = results_Mathew[6]\r\n",
        "\r\n",
        "print('E_Mathew =', E_Mathew[-1])\r\n",
        "print('travel distance Mathew = ',s_Mathew[-1])\r\n"
      ],
      "execution_count": null,
      "outputs": []
    },
    {
      "cell_type": "markdown",
      "metadata": {
        "id": "9l2oLee2qd-Y"
      },
      "source": [
        "#### Cir"
      ]
    },
    {
      "cell_type": "code",
      "metadata": {
        "id": "Zzwunx0ZBb6Z"
      },
      "source": [
        "\r\n",
        "def controllerUsingGenes_Cir(pathForSimulation):\r\n",
        "  t0 = 0\r\n",
        "  t_bound = 100\r\n",
        "  max_step = 0.05\r\n",
        "  state0 = None\r\n",
        "  if robot == robotWithDynamic:\r\n",
        "    state0 = np.array([robotState0['x'], robotState0['y'], robotState0['theta'], 0, 0, 0, 0, 0, 0, 0]) # x0=0, y0=0, theta\r\n",
        "  else:\r\n",
        "    state0 = np.array([robotState0['x'], robotState0['y'], robotState0['theta'], 0, 0, 0]) # x0=0, y0=0,theta\r\n",
        "\r\n",
        "  solverfunc = simpleCompute(\r\n",
        "      compute, state0 = state0, \r\n",
        "      t0 = t0, t_bound = t_bound, max_step = max_step) \r\n",
        "  \r\n",
        "  #--------------------for Circle based controller-------------------------------------------------  \r\n",
        "  def controllerForGenes_Cir(chromosome_Cir):\r\n",
        "    def transformGeneIntoControllerParams(chromosome_Cir):    \r\n",
        "      controllerParams_Cir = {'ChromosomeCir':chromosome_Cir, 'omega_ri':fitnessFunctionDescription['controllerParams']['omega_ri'],\r\n",
        "                                'vri':fitnessFunctionDescription['controllerParams']['vri'], \r\n",
        "                                'lowVelocityLimit':fitnessFunctionDescription['controllerParams']['lowVelocityLimit'], \r\n",
        "                                'highVelocityLimit':fitnessFunctionDescription['controllerParams']['highVelocityLimit'],\r\n",
        "                                'lowOmegaLimit':fitnessFunctionDescription['controllerParams']['lowOmegaLimit'],\r\n",
        "                                'highOmegaLimit':fitnessFunctionDescription['controllerParams']['highOmegaLimit']}     \r\n",
        "      return controllerParams_Cir\r\n",
        "\r\n",
        "    createController_Cir = createCircleControllerWithGain\r\n",
        "\r\n",
        "    def createRobot_Cir():\r\n",
        "      controllerParams_Cir = transformGeneIntoControllerParams(chromosome_Cir)\r\n",
        "      robot = robotModelCreator(createController_Cir, pathForSimulation, **controllerParams_Cir)      \r\n",
        "      return robot\r\n",
        "    def runSimulation(robot):\r\n",
        "      robotStates = solverfunc(robot)\r\n",
        "      velocitys = []\r\n",
        "      omegas = []\r\n",
        "      timeStep = []\r\n",
        "      x_axis = []\r\n",
        "      y_axis = []\r\n",
        "      s = []\r\n",
        "      E = []\r\n",
        "      for currentState in robotStates: # readout all states from current moving robot\r\n",
        "        velocity = currentState['dy'][3]\r\n",
        "        velocitys.append(velocity)\r\n",
        "        omega = currentState['dy'][4]\r\n",
        "        omegas.append(omega)\r\n",
        "        time = currentState['time']\r\n",
        "        timeStep.append(time)\r\n",
        "        x = currentState['y'][0]\r\n",
        "        x_axis.append(x)\r\n",
        "        y = currentState['y'][1]\r\n",
        "        y_axis.append(y)\r\n",
        "        s_step = currentState['y'][3]\r\n",
        "        s.append(s_step)\r\n",
        "        E_step = currentState['TotalEnergy']       \r\n",
        "        E.append(E_step)\r\n",
        "      return velocitys, omegas, timeStep, x_axis, y_axis, s, E\r\n",
        "    robot = createRobot_Cir()\r\n",
        "    velocitys, omegas, timeStep, x_axis, y_axis, s, E = runSimulation(robot)\r\n",
        "    return velocitys, omegas, timeStep, x_axis, y_axis, s, E\r\n",
        "  return controllerForGenes_Cir\r\n",
        "\r\n",
        "#-------call function to get result---------------------------------------------\r\n",
        "controllerForGenes_Cir = controllerUsingGenes_Cir(iter(fitnessFunctionDescription['path']))\r\n",
        "chromosome_Cir = [4, 0]\r\n",
        "results_Cir = controllerForGenes_Cir(chromosome_Cir)\r\n",
        "#------- get results to plot ---------------------------------------------------\r\n",
        "# data for RobinsMathew control\r\n",
        "velocity_Cir = results_Cir[0]\r\n",
        "omega_Cir = results_Cir[1]\r\n",
        "time_Cir = results_Cir[2]\r\n",
        "x_Cir = results_Cir[3]\r\n",
        "y_Cir = results_Cir[4]\r\n",
        "s_Cir = results_Cir[5]\r\n",
        "E_Cir = results_Cir[6]\r\n",
        "\r\n",
        "print('E_Cir =', E_Cir[-1])\r\n",
        "print('travel distance Cir = ',s_Cir[-1])\r\n"
      ],
      "execution_count": null,
      "outputs": []
    },
    {
      "cell_type": "code",
      "metadata": {
        "id": "Kkwcd7i_0G5l"
      },
      "source": [
        "# data for path\r\n",
        "pathx = []\r\n",
        "pathy = []\r\n",
        "for x, y, orientation in fitnessFunctionDescription['path']:\r\n",
        "  pathx.append(x)\r\n",
        "  pathy.append(y)"
      ],
      "execution_count": null,
      "outputs": []
    },
    {
      "cell_type": "markdown",
      "metadata": {
        "id": "UfsmKhnlQ_Oh"
      },
      "source": [
        "### Ploting all results"
      ]
    },
    {
      "cell_type": "code",
      "metadata": {
        "id": "_b8gqV660RPV"
      },
      "source": [
        "plt.rcParams[\"figure.figsize\"] = (20, 20)\r\n",
        "plt.rcParams[\"font.size\"] = \"14\"\r\n",
        "\r\n",
        "#--plot the path--------------------------------------------------------------\r\n",
        "plt.subplot(3,2,1)\r\n",
        "plt.grid(which = 'both') \r\n",
        "p = plt.axis('equal')\r\n",
        "plt.plot(pathx, pathy, 'b-', label = 'Planned path', lw = 1)\r\n",
        "plt.plot(x_Cir, y_Cir, 'k-.', label = 'Circle controller', lw = 1)\r\n",
        "plt.plot(x_Mathew, y_Mathew, 'g--', label = 'Mathew controller', lw = 1)\r\n",
        "plt.plot(x_Fuzzy, y_Fuzzy, 'r-', label = 'Fuzzy controller', lw = 1)\r\n",
        "plt.plot(x_Fuzzy_GA, y_Fuzzy_GA, 'g-', label = 'GA_FLC controller', lw = 1)\r\n",
        "plt.legend(loc = 'best')\r\n",
        "plt.xlabel('$x[m]$')\r\n",
        "plt.ylabel('$y[m]$')\r\n",
        "\r\n",
        "def plotVal(n, t1, t2, t3, t4, val1, val2, val3, val4, lable):\r\n",
        "  plt.subplot(3,2,n)\r\n",
        "  plt.grid(which = 'both') \r\n",
        "  plt.plot(t1, val1, 'r-', label = 'Fuzzy controller', lw = 1)\r\n",
        "  plt.plot(t2, val2, 'g-', label = 'GA_FLC controller', lw = 1)\r\n",
        "  plt.plot(t3, val3, 'k-.', label = 'Circle controller', lw = 1)\r\n",
        "  plt.plot(t4, val4, 'g--', label = 'Mathew controller', lw = 1)\r\n",
        "  plt.legend(loc = 'best')\r\n",
        "  plt.xlabel('$Time[s]$')\r\n",
        "  plt.ylabel(lable)\r\n",
        "  return\r\n",
        "\r\n",
        "#--plot the travel distance----------------------------------------------------\r\n",
        "plotVal(2,time_Fuzzy,time_Fuzzy_GA,time_Cir,time_Mathew,s_Fuzzy,s_Fuzzy_GA,s_Cir,s_Mathew,'$s[m]$')\r\n",
        "\r\n",
        "#---plot the velocity----------------------------------------------------------\r\n",
        "plotVal(3,time_Fuzzy,time_Fuzzy_GA,time_Cir,time_Mathew,velocity_Fuzzy,velocity_Fuzzy_GA,velocity_Cir,velocity_Mathew,'$Velocity[ms^{-1}]$')\r\n",
        "\r\n",
        "#--plot the omega-------------------------------------------------------------\r\n",
        "plotVal(4,time_Fuzzy,time_Fuzzy_GA,time_Cir,time_Mathew,omega_Fuzzy,omega_Fuzzy_GA,omega_Cir,omega_Mathew,'$Omega[rads^{-1}]$')\r\n",
        "\r\n",
        "#--plot the total energy consumption------------------------------------------\r\n",
        "plotVal(5,time_Fuzzy,time_Fuzzy_GA,time_Cir,time_Mathew,E_Fuzzy,E_Fuzzy_GA,E_Cir,E_Mathew,'$E[J]$')"
      ],
      "execution_count": null,
      "outputs": []
    },
    {
      "cell_type": "markdown",
      "metadata": {
        "id": "Uz5g63x1RCLV"
      },
      "source": [
        "### Ploting all membership functions\r\n",
        "\r\n",
        "---\r\n",
        "\r\n"
      ]
    },
    {
      "cell_type": "code",
      "metadata": {
        "id": "KjOYr6sFw5cU"
      },
      "source": [
        "Chromosome = Best_Chromosome\r\n",
        "omega = np.array(fitnessFunctionDescription['fuzzyDescription']['outputs']['omegaR']['S'])\r\n",
        "distance = np.array(fitnessFunctionDescription['fuzzyDescription']['inputs']['distance']['S'])\r\n",
        "angle = np.array(fitnessFunctionDescription['fuzzyDescription']['inputs']['angle']['S'])\r\n",
        "\r\n",
        "# Membership functions for inputs\r\n",
        "# Before tuning\r\n",
        "VC = fuzz.trimf(distance, [0,0,0.5])\r\n",
        "C = fuzz.trimf(distance, [0,0.5,1])\r\n",
        "M = fuzz.trimf(distance, [0.5,1,1.5])\r\n",
        "F = fuzz.trimf(distance, [1,1.5,2])\r\n",
        "VF = fuzz.trimf(distance, [1.5,2,2])\r\n",
        "\r\n",
        "BN = fuzz.trimf(angle, [-3.14,-3.14,-1.57])\r\n",
        "N = fuzz.trimf(angle, [-3.14,-1.57,0])\r\n",
        "Z = fuzz.trimf(angle, [-1.57,0,1.57])\r\n",
        "P = fuzz.trimf(angle, [0,1.57,3.14])\r\n",
        "BP = fuzz.trimf(angle, [1.57,3.14,3.14])\r\n",
        "# After tuning\r\n",
        "VC1 = fuzz.trimf(distance, [0, 0, Chromosome[0]])\r\n",
        "C1 = fuzz.trimf(distance, [Chromosome[2]-Chromosome[1], Chromosome[2], Chromosome[2]+Chromosome[3]])\r\n",
        "M1 = fuzz.trimf(distance, [Chromosome[5]-Chromosome[4], Chromosome[5], Chromosome[5]+Chromosome[6]])\r\n",
        "F1 = fuzz.trimf(distance, [Chromosome[8]-Chromosome[7],Chromosome[8], Chromosome[8]+Chromosome[9]])\r\n",
        "VF1 = fuzz.trimf(distance, [2-Chromosome[10], 2, 2])\r\n",
        "\r\n",
        "BN1 = fuzz.trimf(angle, [-3.14, -3.14, -3.14+Chromosome[11]])\r\n",
        "N1 = fuzz.trimf(angle, [Chromosome[13]-Chromosome[12], Chromosome[13], Chromosome[13]+Chromosome[14]])\r\n",
        "Z1 = fuzz.trimf(angle, [Chromosome[16]-Chromosome[15], Chromosome[16], Chromosome[16]+Chromosome[17]])\r\n",
        "P1 = fuzz.trimf(angle, [Chromosome[19]-Chromosome[18], Chromosome[19], Chromosome[19]+Chromosome[20]])\r\n",
        "BP1 = fuzz.trimf(angle, [3.14-Chromosome[21], 3.14, 3.14])\r\n",
        "\r\n",
        "# Membership functions for outputs\r\n",
        "# Before tuning\r\n",
        "VS_R = fuzz.trimf(omega, [0, 0, 7.5])\r\n",
        "S_R = fuzz.trimf(omega, [0, 7.5, 15])\r\n",
        "MB_R = fuzz.trimf(omega, [7.5, 15, 22.5])\r\n",
        "B_R = fuzz.trimf(omega, [15, 22.5, 30])\r\n",
        "VB_R = fuzz.trimf(omega, [22.5, 30, 30])\r\n",
        "\r\n",
        "# After tuning\r\n",
        "VS_R1 = fuzz.trimf(omega, [0, 0, Chromosome[22]])\r\n",
        "S_R1 = fuzz.trimf(omega, [Chromosome[24]-Chromosome[23], Chromosome[24], Chromosome[24]+Chromosome[25]])\r\n",
        "MB_R1 = fuzz.trimf(omega, [Chromosome[27]-Chromosome[26], Chromosome[27], Chromosome[27]+Chromosome[28]])\r\n",
        "B_R1 = fuzz.trimf(omega, [Chromosome[30]-Chromosome[29], Chromosome[30], Chromosome[30]+Chromosome[31]])\r\n",
        "VB_R1 = fuzz.trimf(omega, [30-Chromosome[32], 30, 30])\r\n",
        "\r\n",
        "VS_L = fuzz.trimf(omega, [0, 0, Chromosome[33]])\r\n",
        "S_L = fuzz.trimf(omega, [Chromosome[35]-Chromosome[34], Chromosome[35], Chromosome[35]+Chromosome[36]])\r\n",
        "MB_L = fuzz.trimf(omega, [Chromosome[38]-Chromosome[37], Chromosome[38], Chromosome[38]+Chromosome[39]])\r\n",
        "B_L = fuzz.trimf(omega, [Chromosome[41]-Chromosome[40], Chromosome[41], Chromosome[41]+Chromosome[42]])\r\n",
        "VB_L = fuzz.trimf(omega, [30-Chromosome[43], 30, 30])\r\n",
        "\r\n",
        "#--------------Plot----------------------------------------\r\n",
        "plt.rcParams[\"figure.figsize\"] = (30, 20)\r\n",
        "plt.rcParams[\"font.size\"] = \"14\"\r\n",
        "\r\n",
        "def plotMember(range, val, lab,i,title):\r\n",
        "  plt.subplot(4,2,i)\r\n",
        "  plt.tight_layout() \r\n",
        "  plt.plot(range, val[0], 'b', linewidth=2.5, label=lab[0])\r\n",
        "  plt.plot(range, val[1], 'g', linewidth=2.5, label=lab[1])\r\n",
        "  plt.plot(range, val[2], 'r', linewidth=2.5, label=lab[2])\r\n",
        "  plt.plot(range, val[3], 'y', linewidth=2.5, label=lab[3])\r\n",
        "  plt.plot(range, val[4], 'c', linewidth=2.5, label=lab[4])\r\n",
        "  plt.title(title[0])\r\n",
        "  plt.ylabel('Membership')\r\n",
        "  plt.xlabel(title[1])\r\n",
        "  plt.legend(loc = 'best')\r\n",
        "  return\r\n",
        "\r\n",
        "#----Input_1: Distance member ship before tuning------------\r\n",
        "val = [VC,C,M,F,VF]\r\n",
        "lab = ['Very close', 'Close', 'Medium', 'Far', 'Very far']\r\n",
        "title = ['Input_1: Distance membership before tuning', '$Distance[m]$']\r\n",
        "plotMember(distance, val, lab,1,title)\r\n",
        "\r\n",
        "#----Input_1: Distance member ship after tuning------------\r\n",
        "val = [VC1,C1,M1,F1,VF1]\r\n",
        "lab = ['Very close', 'Close', 'Medium', 'Far', 'Very far']\r\n",
        "title = ['Input_1: Distance membership after tuning', '$Distance[m]$']\r\n",
        "plotMember(distance, val, lab, 2, title)\r\n",
        "\r\n",
        "#----Input_2: Angle member ship before tuning------------\r\n",
        "val = [BN,N,Z,P,BP]\r\n",
        "lab = ['Big negative', 'Negative', 'Zero', 'Positive', 'Big positive']\r\n",
        "title = ['Input_2: Angle membership before tuning', '$Angle[rad]$']\r\n",
        "plotMember(angle, val, lab, 3, title)\r\n",
        "\r\n",
        "#----Input_2: Angle member ship after tuning------------\r\n",
        "val = [BN1,N1,Z1,P1,BP1]\r\n",
        "lab = ['Big negative', 'Negative', 'Zero', 'Positive', 'Big positive']\r\n",
        "title = ['Input_2: Angle membership after tuning', '$Angle[rad]$']\r\n",
        "plotMember(angle, val, lab, 4, title)\r\n",
        "\r\n",
        "#----output_1:  Omega_R member ship before tuning------------\r\n",
        "val = [VS_R, S_R, MB_R, B_R, VB_R]\r\n",
        "lab = ['Very small', 'Small', 'Medium', 'Big', 'Very big']\r\n",
        "title = ['Output_1: Omega_R membership before tuning', '$OmegaR[rads^{-1}]$']\r\n",
        "plotMember(omega, val, lab, 5, title)\r\n",
        "\r\n",
        "#----output_1:  Omega_R member ship after tuning------------\r\n",
        "val = [VS_R1, S_R1, MB_R1, B_R1, VB_R1]\r\n",
        "lab = ['Very small', 'Small', 'Medium', 'Big', 'Very big']\r\n",
        "title = ['Output_1: Omega_R membership after tuning', '$OmegaR[rads^{-1}]$']\r\n",
        "plotMember(omega, val, lab, 6, title)\r\n",
        "\r\n",
        "#----output_2:  Omega_L member ship before tuning------------\r\n",
        "val = [VS_R, S_R, MB_R, B_R, VB_R]\r\n",
        "lab = ['Very small', 'Small', 'Medium', 'Big', 'Very big']\r\n",
        "title = ['Output_2: Omega_L membership before tuning', '$OmegaL[rads^{-1}]$']\r\n",
        "plotMember(omega, val, lab, 7, title)\r\n",
        "\r\n",
        "#----output_2:  Omega_L member ship after tuning------------\r\n",
        "val = [VS_L, S_L, MB_L, B_L, VB_L]\r\n",
        "lab = ['Very small', 'Small', 'Medium', 'Big', 'Very big']\r\n",
        "title = ['Output_2: Omega_L membership after tuning', '$OmegaL[rads^{-1}]$']\r\n",
        "plotMember(omega, val, lab, 8, title)\r\n"
      ],
      "execution_count": null,
      "outputs": []
    },
    {
      "cell_type": "code",
      "metadata": {
        "id": "8qxIvD3xKGAj"
      },
      "source": [
        "\r\n",
        "plt.rcParams[\"figure.figsize\"] = (15, 10)\r\n",
        "plt.rcParams[\"font.size\"] = \"14\"\r\n",
        "\r\n",
        "ret = [np.min(e.pop.get(\"F\")) for e in res.history]\r\n",
        "\r\n",
        "plt.plot(np.arange(len(ret)), ret)\r\n",
        "plt.title(\"Convergence\")\r\n",
        "plt.xlabel(\"Generation\")\r\n",
        "plt.ylabel(\"Optimal value\")\r\n",
        "plt.legend()\r\n",
        "plt.show()\r\n"
      ],
      "execution_count": null,
      "outputs": []
    }
  ]
}